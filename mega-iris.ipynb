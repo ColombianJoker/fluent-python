{
 "cells": [
  {
   "cell_type": "markdown",
   "id": "38691a52",
   "metadata": {},
   "source": [
    "# 150M-count Synthetic Iris Dataset — Python"
   ]
  },
  {
   "cell_type": "markdown",
   "id": "21767daa",
   "metadata": {},
   "source": [
    "## Libraries"
   ]
  },
  {
   "cell_type": "code",
   "execution_count": 10,
   "id": "67f0a230",
   "metadata": {},
   "outputs": [],
   "source": [
    "import pandas as pd\n",
    "import numpy as np\n",
    "from sklearn.datasets import load_iris"
   ]
  },
  {
   "cell_type": "markdown",
   "id": "8393b881",
   "metadata": {},
   "source": [
    "## Load the Iris dataset"
   ]
  },
  {
   "cell_type": "code",
   "execution_count": 11,
   "id": "4206a8f2",
   "metadata": {},
   "outputs": [],
   "source": [
    "iris = load_iris(as_frame=True)\n",
    "iris_df = iris.frame"
   ]
  },
  {
   "cell_type": "markdown",
   "id": "df267e71",
   "metadata": {},
   "source": [
    "## Separate data by species"
   ]
  },
  {
   "cell_type": "code",
   "execution_count": 12,
   "id": "a467d842",
   "metadata": {},
   "outputs": [],
   "source": [
    "setosa = iris_df[iris_df['target'] == 0].drop('target', axis=1)\n",
    "versicolor = iris_df[iris_df['target'] == 1].drop('target', axis=1)\n",
    "virginica = iris_df[iris_df['target'] == 2].drop('target', axis=1)\n",
    "\n",
    "def generate_synthetic_data(original_df, num_samples):\n",
    "    \"\"\"Generates synthetic data with the same statistical properties as the input DataFrame.\"\"\"\n",
    "    synthetic_data = {}\n",
    "    for col in original_df.columns:\n",
    "        mean = original_df[col].mean()\n",
    "        std = original_df[col].std()\n",
    "        synthetic_data[col] = np.random.normal(loc=mean, scale=std, size=num_samples)\n",
    "    return pd.DataFrame(synthetic_data)"
   ]
  },
  {
   "cell_type": "markdown",
   "id": "b2f138a9",
   "metadata": {},
   "source": [
    "## Generate synthetic data for each species"
   ]
  },
  {
   "cell_type": "code",
   "execution_count": 13,
   "id": "08c2938f",
   "metadata": {},
   "outputs": [],
   "source": [
    "n_samples_per_species = 50_000_000  # Distribute the 150 million samples evenly\n",
    "\n",
    "synthetic_setosa = generate_synthetic_data(setosa, n_samples_per_species)\n",
    "synthetic_versicolor = generate_synthetic_data(versicolor, n_samples_per_species)\n",
    "synthetic_virginica = generate_synthetic_data(virginica, n_samples_per_species)"
   ]
  },
  {
   "cell_type": "markdown",
   "id": "06435a9c",
   "metadata": {},
   "source": [
    "## Add the target variable back"
   ]
  },
  {
   "cell_type": "code",
   "execution_count": 14,
   "id": "8f38651e",
   "metadata": {},
   "outputs": [],
   "source": [
    "synthetic_setosa['target'] = 0\n",
    "synthetic_versicolor['target'] = 1\n",
    "synthetic_virginica['target'] = 2"
   ]
  },
  {
   "cell_type": "markdown",
   "id": "1353bde0",
   "metadata": {},
   "source": [
    "## Combine the synthetic datasets"
   ]
  },
  {
   "cell_type": "code",
   "execution_count": 15,
   "id": "2f81082c",
   "metadata": {},
   "outputs": [
    {
     "name": "stdout",
     "output_type": "stream",
     "text": [
      "Shape of the synthetic Iris dataset: (150000000, 5)\n"
     ]
    },
    {
     "data": {
      "text/html": [
       "<div>\n",
       "<style scoped>\n",
       "    .dataframe tbody tr th:only-of-type {\n",
       "        vertical-align: middle;\n",
       "    }\n",
       "\n",
       "    .dataframe tbody tr th {\n",
       "        vertical-align: top;\n",
       "    }\n",
       "\n",
       "    .dataframe thead th {\n",
       "        text-align: right;\n",
       "    }\n",
       "</style>\n",
       "<table border=\"1\" class=\"dataframe\">\n",
       "  <thead>\n",
       "    <tr style=\"text-align: right;\">\n",
       "      <th></th>\n",
       "      <th>sepal length (cm)</th>\n",
       "      <th>sepal width (cm)</th>\n",
       "      <th>petal length (cm)</th>\n",
       "      <th>petal width (cm)</th>\n",
       "      <th>target</th>\n",
       "    </tr>\n",
       "  </thead>\n",
       "  <tbody>\n",
       "    <tr>\n",
       "      <th>0</th>\n",
       "      <td>5.546403</td>\n",
       "      <td>3.420980</td>\n",
       "      <td>1.405668</td>\n",
       "      <td>0.095664</td>\n",
       "      <td>0</td>\n",
       "    </tr>\n",
       "    <tr>\n",
       "      <th>1</th>\n",
       "      <td>4.435805</td>\n",
       "      <td>3.161204</td>\n",
       "      <td>1.437168</td>\n",
       "      <td>0.261106</td>\n",
       "      <td>0</td>\n",
       "    </tr>\n",
       "    <tr>\n",
       "      <th>2</th>\n",
       "      <td>5.402873</td>\n",
       "      <td>3.180890</td>\n",
       "      <td>1.346026</td>\n",
       "      <td>0.174630</td>\n",
       "      <td>0</td>\n",
       "    </tr>\n",
       "    <tr>\n",
       "      <th>3</th>\n",
       "      <td>4.370459</td>\n",
       "      <td>3.780608</td>\n",
       "      <td>1.570134</td>\n",
       "      <td>0.154849</td>\n",
       "      <td>0</td>\n",
       "    </tr>\n",
       "    <tr>\n",
       "      <th>4</th>\n",
       "      <td>5.197340</td>\n",
       "      <td>2.911535</td>\n",
       "      <td>1.263559</td>\n",
       "      <td>0.257178</td>\n",
       "      <td>0</td>\n",
       "    </tr>\n",
       "  </tbody>\n",
       "</table>\n",
       "</div>"
      ],
      "text/plain": [
       "   sepal length (cm)  sepal width (cm)  petal length (cm)  petal width (cm)  \\\n",
       "0           5.546403          3.420980           1.405668          0.095664   \n",
       "1           4.435805          3.161204           1.437168          0.261106   \n",
       "2           5.402873          3.180890           1.346026          0.174630   \n",
       "3           4.370459          3.780608           1.570134          0.154849   \n",
       "4           5.197340          2.911535           1.263559          0.257178   \n",
       "\n",
       "   target  \n",
       "0       0  \n",
       "1       0  \n",
       "2       0  \n",
       "3       0  \n",
       "4       0  "
      ]
     },
     "execution_count": 15,
     "metadata": {},
     "output_type": "execute_result"
    }
   ],
   "source": [
    "synthetic_iris = pd.concat([synthetic_setosa, synthetic_versicolor, synthetic_virginica], ignore_index=True)\n",
    "\n",
    "print(f\"Shape of the synthetic Iris dataset: {synthetic_iris.shape}\")\n",
    "synthetic_iris.head()\n",
    "\n",
    "# You would then want to verify the statistical properties of synthetic_iris\n",
    "# against the original iris_df"
   ]
  },
  {
   "cell_type": "markdown",
   "id": "f18177e4",
   "metadata": {},
   "source": [
    "## Describe Both"
   ]
  },
  {
   "cell_type": "markdown",
   "id": "9e974b2b",
   "metadata": {},
   "source": [
    "### Original Iris Dataset"
   ]
  },
  {
   "cell_type": "code",
   "execution_count": 16,
   "id": "24998e4e",
   "metadata": {},
   "outputs": [
    {
     "data": {
      "text/html": [
       "<div>\n",
       "<style scoped>\n",
       "    .dataframe tbody tr th:only-of-type {\n",
       "        vertical-align: middle;\n",
       "    }\n",
       "\n",
       "    .dataframe tbody tr th {\n",
       "        vertical-align: top;\n",
       "    }\n",
       "\n",
       "    .dataframe thead th {\n",
       "        text-align: right;\n",
       "    }\n",
       "</style>\n",
       "<table border=\"1\" class=\"dataframe\">\n",
       "  <thead>\n",
       "    <tr style=\"text-align: right;\">\n",
       "      <th></th>\n",
       "      <th>sepal length (cm)</th>\n",
       "      <th>sepal width (cm)</th>\n",
       "      <th>petal length (cm)</th>\n",
       "      <th>petal width (cm)</th>\n",
       "      <th>target</th>\n",
       "    </tr>\n",
       "  </thead>\n",
       "  <tbody>\n",
       "    <tr>\n",
       "      <th>count</th>\n",
       "      <td>150.000000</td>\n",
       "      <td>150.000000</td>\n",
       "      <td>150.000000</td>\n",
       "      <td>150.000000</td>\n",
       "      <td>150.000000</td>\n",
       "    </tr>\n",
       "    <tr>\n",
       "      <th>mean</th>\n",
       "      <td>5.843333</td>\n",
       "      <td>3.057333</td>\n",
       "      <td>3.758000</td>\n",
       "      <td>1.199333</td>\n",
       "      <td>1.000000</td>\n",
       "    </tr>\n",
       "    <tr>\n",
       "      <th>std</th>\n",
       "      <td>0.828066</td>\n",
       "      <td>0.435866</td>\n",
       "      <td>1.765298</td>\n",
       "      <td>0.762238</td>\n",
       "      <td>0.819232</td>\n",
       "    </tr>\n",
       "    <tr>\n",
       "      <th>min</th>\n",
       "      <td>4.300000</td>\n",
       "      <td>2.000000</td>\n",
       "      <td>1.000000</td>\n",
       "      <td>0.100000</td>\n",
       "      <td>0.000000</td>\n",
       "    </tr>\n",
       "    <tr>\n",
       "      <th>25%</th>\n",
       "      <td>5.100000</td>\n",
       "      <td>2.800000</td>\n",
       "      <td>1.600000</td>\n",
       "      <td>0.300000</td>\n",
       "      <td>0.000000</td>\n",
       "    </tr>\n",
       "    <tr>\n",
       "      <th>50%</th>\n",
       "      <td>5.800000</td>\n",
       "      <td>3.000000</td>\n",
       "      <td>4.350000</td>\n",
       "      <td>1.300000</td>\n",
       "      <td>1.000000</td>\n",
       "    </tr>\n",
       "    <tr>\n",
       "      <th>75%</th>\n",
       "      <td>6.400000</td>\n",
       "      <td>3.300000</td>\n",
       "      <td>5.100000</td>\n",
       "      <td>1.800000</td>\n",
       "      <td>2.000000</td>\n",
       "    </tr>\n",
       "    <tr>\n",
       "      <th>max</th>\n",
       "      <td>7.900000</td>\n",
       "      <td>4.400000</td>\n",
       "      <td>6.900000</td>\n",
       "      <td>2.500000</td>\n",
       "      <td>2.000000</td>\n",
       "    </tr>\n",
       "  </tbody>\n",
       "</table>\n",
       "</div>"
      ],
      "text/plain": [
       "       sepal length (cm)  sepal width (cm)  petal length (cm)  \\\n",
       "count         150.000000        150.000000         150.000000   \n",
       "mean            5.843333          3.057333           3.758000   \n",
       "std             0.828066          0.435866           1.765298   \n",
       "min             4.300000          2.000000           1.000000   \n",
       "25%             5.100000          2.800000           1.600000   \n",
       "50%             5.800000          3.000000           4.350000   \n",
       "75%             6.400000          3.300000           5.100000   \n",
       "max             7.900000          4.400000           6.900000   \n",
       "\n",
       "       petal width (cm)      target  \n",
       "count        150.000000  150.000000  \n",
       "mean           1.199333    1.000000  \n",
       "std            0.762238    0.819232  \n",
       "min            0.100000    0.000000  \n",
       "25%            0.300000    0.000000  \n",
       "50%            1.300000    1.000000  \n",
       "75%            1.800000    2.000000  \n",
       "max            2.500000    2.000000  "
      ]
     },
     "execution_count": 16,
     "metadata": {},
     "output_type": "execute_result"
    }
   ],
   "source": [
    "iris_df.describe()"
   ]
  },
  {
   "cell_type": "markdown",
   "id": "386f4362",
   "metadata": {},
   "source": [
    "### Synthetic Iris Dataset"
   ]
  },
  {
   "cell_type": "code",
   "execution_count": 17,
   "id": "012d8b54",
   "metadata": {},
   "outputs": [
    {
     "data": {
      "text/html": [
       "<div>\n",
       "<style scoped>\n",
       "    .dataframe tbody tr th:only-of-type {\n",
       "        vertical-align: middle;\n",
       "    }\n",
       "\n",
       "    .dataframe tbody tr th {\n",
       "        vertical-align: top;\n",
       "    }\n",
       "\n",
       "    .dataframe thead th {\n",
       "        text-align: right;\n",
       "    }\n",
       "</style>\n",
       "<table border=\"1\" class=\"dataframe\">\n",
       "  <thead>\n",
       "    <tr style=\"text-align: right;\">\n",
       "      <th></th>\n",
       "      <th>sepal length (cm)</th>\n",
       "      <th>sepal width (cm)</th>\n",
       "      <th>petal length (cm)</th>\n",
       "      <th>petal width (cm)</th>\n",
       "      <th>target</th>\n",
       "    </tr>\n",
       "  </thead>\n",
       "  <tbody>\n",
       "    <tr>\n",
       "      <th>count</th>\n",
       "      <td>1.500000e+08</td>\n",
       "      <td>1.500000e+08</td>\n",
       "      <td>1.500000e+08</td>\n",
       "      <td>1.500000e+08</td>\n",
       "      <td>1.500000e+08</td>\n",
       "    </tr>\n",
       "    <tr>\n",
       "      <th>mean</th>\n",
       "      <td>5.843443e+00</td>\n",
       "      <td>3.057337e+00</td>\n",
       "      <td>3.758005e+00</td>\n",
       "      <td>1.199331e+00</td>\n",
       "      <td>1.000000e+00</td>\n",
       "    </tr>\n",
       "    <tr>\n",
       "      <th>std</th>\n",
       "      <td>8.285518e-01</td>\n",
       "      <td>4.370409e-01</td>\n",
       "      <td>1.760438e+00</td>\n",
       "      <td>7.602552e-01</td>\n",
       "      <td>8.164966e-01</td>\n",
       "    </tr>\n",
       "    <tr>\n",
       "      <th>min</th>\n",
       "      <td>2.398222e+00</td>\n",
       "      <td>1.013755e+00</td>\n",
       "      <td>4.833981e-01</td>\n",
       "      <td>-3.154583e-01</td>\n",
       "      <td>0.000000e+00</td>\n",
       "    </tr>\n",
       "    <tr>\n",
       "      <th>25%</th>\n",
       "      <td>5.161807e+00</td>\n",
       "      <td>2.747923e+00</td>\n",
       "      <td>1.579206e+00</td>\n",
       "      <td>3.170724e-01</td>\n",
       "      <td>0.000000e+00</td>\n",
       "    </tr>\n",
       "    <tr>\n",
       "      <th>50%</th>\n",
       "      <td>5.807490e+00</td>\n",
       "      <td>3.025529e+00</td>\n",
       "      <td>4.249221e+00</td>\n",
       "      <td>1.323341e+00</td>\n",
       "      <td>1.000000e+00</td>\n",
       "    </tr>\n",
       "    <tr>\n",
       "      <th>75%</th>\n",
       "      <td>6.446017e+00</td>\n",
       "      <td>3.342410e+00</td>\n",
       "      <td>5.215454e+00</td>\n",
       "      <td>1.844526e+00</td>\n",
       "      <td>2.000000e+00</td>\n",
       "    </tr>\n",
       "    <tr>\n",
       "      <th>max</th>\n",
       "      <td>1.009893e+01</td>\n",
       "      <td>5.517331e+00</td>\n",
       "      <td>8.595169e+00</td>\n",
       "      <td>3.638684e+00</td>\n",
       "      <td>2.000000e+00</td>\n",
       "    </tr>\n",
       "  </tbody>\n",
       "</table>\n",
       "</div>"
      ],
      "text/plain": [
       "       sepal length (cm)  sepal width (cm)  petal length (cm)  \\\n",
       "count       1.500000e+08      1.500000e+08       1.500000e+08   \n",
       "mean        5.843443e+00      3.057337e+00       3.758005e+00   \n",
       "std         8.285518e-01      4.370409e-01       1.760438e+00   \n",
       "min         2.398222e+00      1.013755e+00       4.833981e-01   \n",
       "25%         5.161807e+00      2.747923e+00       1.579206e+00   \n",
       "50%         5.807490e+00      3.025529e+00       4.249221e+00   \n",
       "75%         6.446017e+00      3.342410e+00       5.215454e+00   \n",
       "max         1.009893e+01      5.517331e+00       8.595169e+00   \n",
       "\n",
       "       petal width (cm)        target  \n",
       "count      1.500000e+08  1.500000e+08  \n",
       "mean       1.199331e+00  1.000000e+00  \n",
       "std        7.602552e-01  8.164966e-01  \n",
       "min       -3.154583e-01  0.000000e+00  \n",
       "25%        3.170724e-01  0.000000e+00  \n",
       "50%        1.323341e+00  1.000000e+00  \n",
       "75%        1.844526e+00  2.000000e+00  \n",
       "max        3.638684e+00  2.000000e+00  "
      ]
     },
     "execution_count": 17,
     "metadata": {},
     "output_type": "execute_result"
    }
   ],
   "source": [
    "synthetic_iris.describe()"
   ]
  },
  {
   "cell_type": "code",
   "execution_count": 19,
   "id": "a287357f",
   "metadata": {},
   "outputs": [
    {
     "name": "stdout",
     "output_type": "stream",
     "text": [
      "Small Iris data saved to 'iris.csv'.\n",
      "Big Iris dataset saved to 'iris-150m.csv'.\n"
     ]
    }
   ],
   "source": [
    "import os\n",
    "iris_small_file = \"iris.csv\"\n",
    "iris_big_file = \"iris-150m.csv\"\n",
    "if not os.path.exists(iris_small_file):\n",
    "    iris_df.to_csv(iris_small_file, index=False)\n",
    "    print(f\"Small Iris data saved to '{iris_small_file}'.\")\n",
    "if not os.path.exists(iris_big_file):\n",
    "    synthetic_iris.to_csv(iris_big_file, index=False)\n",
    "    print(f\"Big Iris dataset saved to '{iris_big_file}'.\")"
   ]
  },
  {
   "cell_type": "code",
   "execution_count": null,
   "id": "d81f2a02",
   "metadata": {},
   "outputs": [],
   "source": []
  },
  {
   "cell_type": "code",
   "execution_count": null,
   "id": "220719cc",
   "metadata": {},
   "outputs": [],
   "source": [
    "!ls -l iris*"
   ]
  }
 ],
 "metadata": {
  "kernelspec": {
   "display_name": "Python 3 (ipykernel)",
   "language": "python",
   "name": "python3"
  },
  "language_info": {
   "codemirror_mode": {
    "name": "ipython",
    "version": 3
   },
   "file_extension": ".py",
   "mimetype": "text/x-python",
   "name": "python",
   "nbconvert_exporter": "python",
   "pygments_lexer": "ipython3",
   "version": "3.11.6"
  }
 },
 "nbformat": 4,
 "nbformat_minor": 5
}
