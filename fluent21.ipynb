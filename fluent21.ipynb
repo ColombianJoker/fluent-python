{
 "cells": [
  {
   "cell_type": "markdown",
   "id": "ce8dd121",
   "metadata": {},
   "source": [
    "# 21. Asynchronous Programming"
   ]
  },
  {
   "cell_type": "markdown",
   "id": "4bae2b7e",
   "metadata": {},
   "source": [
    "## A Few Definitions\n",
    "\n",
    "_Native coroutine_\n",
    "\n",
    "A coroutine function defined with `async def`. You can delegate from a native coroutine to another native coroutine using the `await` keyword, similar to how classic coroutines use `yield from`. The `async def` statement always defines a native coroutine, even if the `await` keyword is not used in its body. The `await` keyword cannot be used outside of a native coroutine.\n",
    "\n",
    "_Classic coroutine_\n",
    "\n",
    "A generator function that consumes data sent to it via `my_coro.send(data)` calls, and reads that data by using `yield` in an expression. Classic coroutines can delegate to other classic coroutines using `yield from`. Classic coroutines cannot be driven by `await`, and are no longer supported by _asyncio_.\n",
    "\n",
    "_Generator-based coroutine_\n",
    "\n",
    "A generator function decorated with `@types.coroutine`—introduced in Python 3.5. That decorator makes the generator compatible with the new `await` keyword.\n",
    "\n",
    "_Asynchronous generator_\n",
    "\n"
   ]
  },
  {
   "cell_type": "markdown",
   "id": "f0850727",
   "metadata": {},
   "source": [
    "## An `asyncio` Example: Probing Domains\n",
    "\n",
    "Imagine you are about to start a new blog on Python, and you plan to register a domain using a Python keyword and the **.DEV** suffix—for example: `AWAIT.DEV`. Example following is a script using asyncio to check several domains concurrently."
   ]
  },
  {
   "cell_type": "markdown",
   "id": "bd2a70c5",
   "metadata": {},
   "source": [
    "```python\n",
    "#!/usr/bin/env python3\n",
    "\n",
    "import asyncio\n",
    "import socket\n",
    "\n",
    "from keyword import kwlist\n",
    "\n",
    "MAX_KEYWORD_LEN = 4\n",
    "\n",
    "async def probe(domain: str) -> tuple[str, bool]:\n",
    "    loop = asyncio.get_running_loop()\n",
    "    try:\n",
    "        await loop.getaddrinfo(domain, None)\n",
    "    except socket.gaierror:\n",
    "        return (domain, False)\n",
    "    return (domain, True)\n",
    "\n",
    "async def main() -> None:\n",
    "    names = (kw for kw in kwlist if len(kw) <= MAX_KEYWORD_LEN)\n",
    "    domains = (f'{name}.dev'.lower() for name in names)\n",
    "    coros = [probe(domain) for domain in domains]\n",
    "    for coro in asyncio.as_completed(coros):\n",
    "        domain, found = await coro\n",
    "        mark = '+' if found else ' '\n",
    "        print(f'{mark} {domain}')\n",
    "\n",
    "if __name__ == '__main__':\n",
    "    asyncio.run(main())\n",
    "```"
   ]
  },
  {
   "cell_type": "markdown",
   "id": "9fa5ec20",
   "metadata": {},
   "source": [
    "**Results**:\n",
    "\n",
    "```text\n",
    "→ ./blogdom.py \n",
    "  pass.dev\n",
    "  with.dev\n",
    "  if.dev\n",
    "+ and.dev\n",
    "  try.dev\n",
    "+ true.dev\n",
    "+ for.dev\n",
    "+ def.dev\n",
    "  none.dev\n",
    "+ elif.dev\n",
    "  is.dev\n",
    "  or.dev\n",
    "+ in.dev\n",
    "+ del.dev\n",
    "+ from.dev\n",
    "+ as.dev\n",
    "  else.dev\n",
    "+ not.dev\n",
    "```"
   ]
  },
  {
   "cell_type": "markdown",
   "id": "c64a9c99",
   "metadata": {},
   "source": [
    "## New Concept: Awaitable\n",
    "\n",
    "The `for` keyword works with _iterables_. The `await` keyword works with _awaitables_.\n",
    "\n",
    "As an end user of _asyncio_, these are the awaitables you will see on a daily basis:\n",
    "\n",
    "+ A _native coroutine object_, which you get by calling a _native coroutine function_\n",
    "+ An `asyncio.Task`, which you usually get by passing a coroutine object to `asyncio.create_task()`\n",
    "\n",
    "However, end-user code does not always need to await on a `Task`. We use `asyncio.create_task(one_coro())` to schedule `one_coro` for concurrent execution, without waiting for its return. If you don’t expect to cancel the task or wait for it, there is no need to keep the `Task` object returned from `create_task`. Creating the task is enough to schedule the coroutine to run.\n",
    "\n",
    "In contrast, we use `await other_coro()` to run `other_coro` right now and wait for its completion because we need its result before we can proceed. In _spinner_async.p_y, the supervisor coroutine did `res = await slow()` to execute `slow` and get its result."
   ]
  },
  {
   "cell_type": "markdown",
   "id": "0e6df3df",
   "metadata": {},
   "source": [
    "## Downloading with `asyncio` and HTTPX\n",
    "\n",
    "The _flags_asyncio.py_ script downloads a fixed set of 20 flags from _fluentpython.com_.\n",
    "\n",
    "As of Python 3.10, asyncio only supports TCP and UDP directly, and there are no asynchronous HTTP client or server packages in the standard library. I am using HTTPX in all the HTTP client examples."
   ]
  },
  {
   "cell_type": "markdown",
   "id": "4b67fe7b",
   "metadata": {},
   "source": [
    "```python\n",
    "\n",
    "#!/usr/bin/env python3\n",
    "\n",
    "\"\"\"Download flags of top 20 countries by population\n",
    "\n",
    "asyncio + aiottp version\n",
    "\n",
    "Sample run::\n",
    "\n",
    "    $ python3 flags_asyncio.py\n",
    "    EG VN IN TR RU ID US DE CN MX JP BD NG ET FR BR PH PK CD IR\n",
    "    20 flags downloaded in 1.07s\n",
    "\"\"\"\n",
    "\n",
    "import asyncio\n",
    "\n",
    "from httpx import AsyncClient  # <1>\n",
    "\n",
    "from flags import BASE_URL, save_flag, main  # <2>\n",
    "\n",
    "async def download_one(client: AsyncClient, cc: str):  # <3>\n",
    "    image = await get_flag(client, cc)\n",
    "    save_flag(image, f'{cc}.gif')\n",
    "    print(cc, end=' ', flush=True)\n",
    "    return cc\n",
    "\n",
    "async def get_flag(client: AsyncClient, cc: str) -> bytes:  # <4>\n",
    "    url = f'{BASE_URL}/{cc}/{cc}.gif'.lower()\n",
    "    resp = await client.get(url, timeout=6.1,\n",
    "                                  follow_redirects=True)  # <5>\n",
    "    return resp.read()  # <6>\n",
    "\n",
    "def download_many(cc_list: list[str]) -> int:    # <1>\n",
    "    return asyncio.run(supervisor(cc_list))      # <2>\n",
    "\n",
    "async def supervisor(cc_list: list[str]) -> int:\n",
    "    async with AsyncClient() as client:          # <3>\n",
    "        to_do = [download_one(client, cc)\n",
    "                 for cc in sorted(cc_list)]      # <4>\n",
    "        res = await asyncio.gather(*to_do)       # <5>\n",
    "\n",
    "    return len(res)                              # <6>\n",
    "\n",
    "if __name__ == '__main__':\n",
    "    main(download_many)\n",
    "\n",
    "````\n"
   ]
  },
  {
   "cell_type": "markdown",
   "id": "20da8c82",
   "metadata": {},
   "source": [
    "**Output**:\n",
    "\n",
    "```text\n",
    "╰→ ./flags_asyncio.py \n",
    "BD TR JP VN CN ID NG RU EG DE FR IN BR PK CD PH IR ET US MX \n",
    "20 downloads in 1.00s\n",
    "\n",
    "╰→ ./flags_asyncio.py \n",
    "BR NG IN TR VN BD FR CN DE ID EG RU JP PH ET US PK IR CD MX \n",
    "20 downloads in 0.86s\n",
    "````\n"
   ]
  },
  {
   "cell_type": "markdown",
   "id": "cdb53d05",
   "metadata": {},
   "source": [
    "## The Secret of Native Coroutines: Humble Generators\n",
    "\n",
    "A key difference between the classic coroutine examples we saw in _Classic Coroutines_ and _flags_asyncio.py_ is that there are no visible `.send()` calls or `yield` expressions in the latter.\n"
   ]
  },
  {
   "cell_type": "markdown",
   "id": "d523b763",
   "metadata": {},
   "source": [
    "### The All-or-Nothing Problem\n",
    "\n",
    "For peak performance with `asyncio`, we must replace every function that does I/O with an asynchronous version that is activated with `await` or `asyncio.create_task`, so that control is given back to the event loop while the function waits for I/O. If you can’t rewrite a blocking function as a coroutine, you should run it in a separate thread or process."
   ]
  },
  {
   "cell_type": "markdown",
   "id": "5750fa3a",
   "metadata": {},
   "source": [
    "## Asynchronous Context Managers"
   ]
  },
  {
   "cell_type": "markdown",
   "id": "f2e92d67",
   "metadata": {},
   "source": [
    "Consider the _asyncio_-compatible PostgreSQL driver:\n",
    "\n",
    "```python\n",
    "tr = connection.transaction()\n",
    "await tr.start()\n",
    "try:\n",
    "    await connection.execute(\"INSERT INTO mytable VALUES (1,2,3))\")\n",
    "except:\n",
    "    await tr.rollback()\n",
    "    raise\n",
    "else:\n",
    "    await tr.commit()\n",
    "```\n",
    "\n",
    "With `async with` the exampple can be written:\n",
    "```python\n",
    "async with connection.transaction():\n",
    "    await connection.execute(\"INSERT INTO mytable VALUES (1,2,3))\"\n",
    "````\n"
   ]
  },
  {
   "cell_type": "markdown",
   "id": "1a372a2e",
   "metadata": {},
   "source": [
    "## Enhancing the `asyncio` Downloader\n",
    "\n",
    "```python\n"
   ]
  }
 ],
 "metadata": {
  "kernelspec": {
   "display_name": "Python 3 (ipykernel)",
   "language": "python",
   "name": "python3"
  },
  "language_info": {
   "codemirror_mode": {
    "name": "ipython",
    "version": 3
   },
   "file_extension": ".py",
   "mimetype": "text/x-python",
   "name": "python",
   "nbconvert_exporter": "python",
   "pygments_lexer": "ipython3",
   "version": "3.11.6"
  }
 },
 "nbformat": 4,
 "nbformat_minor": 5
}
