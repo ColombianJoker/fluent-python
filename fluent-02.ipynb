{
 "cells": [
  {
   "cell_type": "markdown",
   "id": "38ee95d9",
   "metadata": {},
   "source": [
    "# Chapter 2 — An Array of Sequences"
   ]
  },
  {
   "cell_type": "code",
   "execution_count": 1,
   "id": "cbbeab46",
   "metadata": {},
   "outputs": [],
   "source": [
    "from collections import abc"
   ]
  },
  {
   "cell_type": "code",
   "execution_count": 2,
   "id": "b74ad3bc",
   "metadata": {},
   "outputs": [
    {
     "data": {
      "text/plain": [
       "True"
      ]
     },
     "execution_count": 2,
     "metadata": {},
     "output_type": "execute_result"
    }
   ],
   "source": [
    "issubclass(tuple, abc.Sequence)"
   ]
  },
  {
   "cell_type": "code",
   "execution_count": null,
   "id": "eb1b283e",
   "metadata": {},
   "outputs": [
    {
     "data": {
      "text/plain": [
       "True"
      ]
     },
     "execution_count": 3,
     "metadata": {},
     "output_type": "execute_result"
    }
   ],
   "source": [
    "issubclass(list, abc.MutableSequence)"
   ]
  },
  {
   "cell_type": "markdown",
   "id": "18548612",
   "metadata": {},
   "source": [
    "## List Comprehensions and Generator Expressions"
   ]
  },
  {
   "cell_type": "code",
   "execution_count": 4,
   "id": "222583c4",
   "metadata": {},
   "outputs": [
    {
     "data": {
      "text/plain": [
       "[36, 162, 163, 165, 8364, 164]"
      ]
     },
     "execution_count": 4,
     "metadata": {},
     "output_type": "execute_result"
    }
   ],
   "source": [
    "symbols = \"$¢£¥€¤\"\n",
    "codes = []\n",
    "\n",
    "for symbol in symbols:\n",
    "    codes.append(ord(symbol))\n",
    "  \n",
    "codes"
   ]
  },
  {
   "cell_type": "code",
   "execution_count": 5,
   "id": "3623d867",
   "metadata": {},
   "outputs": [
    {
     "data": {
      "text/plain": [
       "[36, 162, 163, 165, 8364, 164]"
      ]
     },
     "execution_count": 5,
     "metadata": {},
     "output_type": "execute_result"
    }
   ],
   "source": [
    "codes = [ord(symbol) for symbol in symbols]\n",
    "codes"
   ]
  },
  {
   "cell_type": "code",
   "execution_count": 6,
   "id": "1db47c31",
   "metadata": {},
   "outputs": [
    {
     "data": {
      "text/plain": [
       "[36, 162, 163, 165, 8364, 164]"
      ]
     },
     "execution_count": 6,
     "metadata": {},
     "output_type": "execute_result"
    }
   ],
   "source": [
    "codes = [ord(sym)                    # no need for continuator\n",
    "         for sym in symbols\n",
    "        ]\n",
    "codes"
   ]
  },
  {
   "cell_type": "code",
   "execution_count": 7,
   "id": "4a31bca4",
   "metadata": {},
   "outputs": [
    {
     "data": {
      "text/plain": [
       "'ABC'"
      ]
     },
     "execution_count": 7,
     "metadata": {},
     "output_type": "execute_result"
    }
   ],
   "source": [
    "x = \"ABC\"\n",
    "codes = [ord(x) for x in x]\n",
    "x"
   ]
  },
  {
   "cell_type": "code",
   "execution_count": 8,
   "id": "c18cea8d",
   "metadata": {},
   "outputs": [
    {
     "data": {
      "text/plain": [
       "[65, 66, 67]"
      ]
     },
     "execution_count": 8,
     "metadata": {},
     "output_type": "execute_result"
    }
   ],
   "source": [
    "codes"
   ]
  },
  {
   "cell_type": "code",
   "execution_count": 9,
   "id": "4209be00",
   "metadata": {},
   "outputs": [],
   "source": [
    "codes = [last:=ord(c) for c in x]"
   ]
  },
  {
   "cell_type": "code",
   "execution_count": 10,
   "id": "4f179a61",
   "metadata": {},
   "outputs": [
    {
     "data": {
      "text/plain": [
       "67"
      ]
     },
     "execution_count": 10,
     "metadata": {},
     "output_type": "execute_result"
    }
   ],
   "source": [
    "last"
   ]
  },
  {
   "cell_type": "code",
   "execution_count": 11,
   "id": "2a548350",
   "metadata": {},
   "outputs": [
    {
     "data": {
      "text/plain": [
       "[162, 163, 165, 8364, 164]"
      ]
     },
     "execution_count": 11,
     "metadata": {},
     "output_type": "execute_result"
    }
   ],
   "source": [
    "symbols = \"$¢£¥€¤\"\n",
    "beyond_ascii = [ord(s) for s in symbols if ord(s)>127]\n",
    "beyond_ascii"
   ]
  },
  {
   "cell_type": "code",
   "execution_count": 12,
   "id": "be434cd1",
   "metadata": {},
   "outputs": [
    {
     "data": {
      "text/plain": [
       "[162, 163, 165, 8364, 164]"
      ]
     },
     "execution_count": 12,
     "metadata": {},
     "output_type": "execute_result"
    }
   ],
   "source": [
    "beyond_ascii = list(\n",
    "    filter(\n",
    "        lambda c: c>127, map(ord, symbols)\n",
    "    )\n",
    ")\n",
    "beyond_ascii"
   ]
  },
  {
   "cell_type": "markdown",
   "id": "85877d87",
   "metadata": {},
   "source": [
    "### Cartesian Products"
   ]
  },
  {
   "cell_type": "code",
   "execution_count": 13,
   "id": "b948be71",
   "metadata": {},
   "outputs": [
    {
     "data": {
      "text/plain": [
       "[('black', 'S'),\n",
       " ('black', 'M'),\n",
       " ('black', 'L'),\n",
       " ('white', 'S'),\n",
       " ('white', 'M'),\n",
       " ('white', 'L')]"
      ]
     },
     "execution_count": 13,
     "metadata": {},
     "output_type": "execute_result"
    }
   ],
   "source": [
    "colors = ['black', 'white']\n",
    "sizes = ['S', 'M', 'L']\n",
    "tshirts = [(color, size) for color in colors for size in sizes]\n",
    "tshirts"
   ]
  },
  {
   "cell_type": "code",
   "execution_count": 14,
   "id": "dd7a2503",
   "metadata": {},
   "outputs": [
    {
     "data": {
      "text/plain": [
       "[('black', 'S'),\n",
       " ('white', 'S'),\n",
       " ('black', 'M'),\n",
       " ('white', 'M'),\n",
       " ('black', 'L'),\n",
       " ('white', 'L')]"
      ]
     },
     "execution_count": 14,
     "metadata": {},
     "output_type": "execute_result"
    }
   ],
   "source": [
    "tshirts = [(color, size) for size in sizes\n",
    "                         for color in colors\n",
    "            ]\n",
    "tshirts"
   ]
  },
  {
   "cell_type": "markdown",
   "id": "8f1b35f0",
   "metadata": {},
   "source": [
    "### Generator Expressions"
   ]
  },
  {
   "cell_type": "code",
   "execution_count": 15,
   "id": "0314a8c8",
   "metadata": {},
   "outputs": [
    {
     "data": {
      "text/plain": [
       "(36, 162, 163, 165, 8364, 164)"
      ]
     },
     "execution_count": 15,
     "metadata": {},
     "output_type": "execute_result"
    }
   ],
   "source": [
    "symbols = \"$¢£¥€¤\"\n",
    "tuple(ord(symbol) for symbol in symbols)"
   ]
  },
  {
   "cell_type": "code",
   "execution_count": 16,
   "id": "25d2135c",
   "metadata": {},
   "outputs": [],
   "source": [
    "import array"
   ]
  },
  {
   "cell_type": "code",
   "execution_count": 17,
   "id": "12b98702",
   "metadata": {},
   "outputs": [
    {
     "data": {
      "text/plain": [
       "array('I', [36, 162, 163, 165, 8364, 164])"
      ]
     },
     "execution_count": 17,
     "metadata": {},
     "output_type": "execute_result"
    }
   ],
   "source": [
    "array.array('I', (ord(symbol) for symbol in symbols))"
   ]
  },
  {
   "cell_type": "code",
   "execution_count": 18,
   "id": "ddefbe7b",
   "metadata": {},
   "outputs": [
    {
     "name": "stdout",
     "output_type": "stream",
     "text": [
      "black S\n",
      "black M\n",
      "black L\n",
      "white S\n",
      "white M\n",
      "white L\n"
     ]
    }
   ],
   "source": [
    "colors = ['black', 'white']\n",
    "sizes = ['S', 'M', 'L']\n",
    "for tshirt in (f'{c} {s}' for c in colors for s in sizes):\n",
    "    print(tshirt)"
   ]
  },
  {
   "cell_type": "markdown",
   "id": "a532fb86",
   "metadata": {},
   "source": [
    "## Tuples Are Not Just Immutable Lists"
   ]
  },
  {
   "cell_type": "markdown",
   "id": "88b57cb2",
   "metadata": {},
   "source": [
    "### Tuples as Records"
   ]
  },
  {
   "cell_type": "code",
   "execution_count": 19,
   "id": "c2d8262e",
   "metadata": {},
   "outputs": [
    {
     "name": "stdout",
     "output_type": "stream",
     "text": [
      "BRA/CE342567\n",
      "ESP/XDA205856\n",
      "USA/31195855\n",
      "USA\n",
      "BRA\n",
      "ESP\n"
     ]
    }
   ],
   "source": [
    "lax_coordinates = (33.9425, -118.408056)\n",
    "city, year, pop, chg, area = ('Tokyo', 2003, 32_450, 0.66, 8014)\n",
    "traveler_ids = [ ('USA', '31195855'), ('BRA', 'CE342567'), ('ESP', 'XDA205856') ]\n",
    "\n",
    "for passport in sorted(traveler_ids):\n",
    "    print('%s/%s' % passport)\n",
    "    \n",
    "for country, _ in traveler_ids:\n",
    "    print(country)"
   ]
  },
  {
   "cell_type": "markdown",
   "id": "dc9649e4",
   "metadata": {},
   "source": [
    "### Tuples as Immutable Lists"
   ]
  },
  {
   "cell_type": "code",
   "execution_count": 20,
   "id": "34f3974b",
   "metadata": {},
   "outputs": [
    {
     "data": {
      "text/plain": [
       "True"
      ]
     },
     "execution_count": 20,
     "metadata": {},
     "output_type": "execute_result"
    }
   ],
   "source": [
    "a = (10, 'alpha', [1,2])\n",
    "b = (10, 'alpha', [1,2])\n",
    "a == b"
   ]
  },
  {
   "cell_type": "code",
   "execution_count": 21,
   "id": "cbb04cc3",
   "metadata": {},
   "outputs": [
    {
     "data": {
      "text/plain": [
       "False"
      ]
     },
     "execution_count": 21,
     "metadata": {},
     "output_type": "execute_result"
    }
   ],
   "source": [
    "b[-1].append(99)\n",
    "a == b"
   ]
  },
  {
   "cell_type": "code",
   "execution_count": 22,
   "id": "a3c63c4a",
   "metadata": {},
   "outputs": [
    {
     "data": {
      "text/plain": [
       "(10, 'alpha', [1, 2])"
      ]
     },
     "execution_count": 22,
     "metadata": {},
     "output_type": "execute_result"
    }
   ],
   "source": [
    "a"
   ]
  },
  {
   "cell_type": "code",
   "execution_count": 23,
   "id": "f2a30897",
   "metadata": {},
   "outputs": [
    {
     "data": {
      "text/plain": [
       "(10, 'alpha', [1, 2, 99])"
      ]
     },
     "execution_count": 23,
     "metadata": {},
     "output_type": "execute_result"
    }
   ],
   "source": [
    "b"
   ]
  },
  {
   "cell_type": "code",
   "execution_count": 24,
   "id": "5e5f5d9b",
   "metadata": {},
   "outputs": [],
   "source": [
    "def fixed(o):\n",
    "    try:\n",
    "        hash(o)\n",
    "    except TypeError:\n",
    "        return False\n",
    "    return True"
   ]
  },
  {
   "cell_type": "code",
   "execution_count": 25,
   "id": "b47c0e9b",
   "metadata": {},
   "outputs": [
    {
     "data": {
      "text/plain": [
       "True"
      ]
     },
     "execution_count": 25,
     "metadata": {},
     "output_type": "execute_result"
    }
   ],
   "source": [
    "tf = (10, 'alpha', (1,2))\n",
    "tm = (10, 'alpha', [1,2])\n",
    "fixed(tf)"
   ]
  },
  {
   "cell_type": "code",
   "execution_count": 26,
   "id": "8537a73d",
   "metadata": {},
   "outputs": [
    {
     "data": {
      "text/plain": [
       "False"
      ]
     },
     "execution_count": 26,
     "metadata": {},
     "output_type": "execute_result"
    }
   ],
   "source": [
    "fixed(tm)"
   ]
  },
  {
   "cell_type": "markdown",
   "id": "a0f0f47b",
   "metadata": {},
   "source": [
    "## Unpacking Sequences and Iterables"
   ]
  },
  {
   "cell_type": "code",
   "execution_count": 27,
   "id": "7899da19",
   "metadata": {},
   "outputs": [
    {
     "data": {
      "text/plain": [
       "33.9425"
      ]
     },
     "execution_count": 27,
     "metadata": {},
     "output_type": "execute_result"
    }
   ],
   "source": [
    "lax_coordinates = (33.9425, -118.408056)\n",
    "latitude, longitude = lax_coordinates\n",
    "latitude"
   ]
  },
  {
   "cell_type": "code",
   "execution_count": 28,
   "id": "be433d1c",
   "metadata": {},
   "outputs": [
    {
     "data": {
      "text/plain": [
       "-118.408056"
      ]
     },
     "execution_count": 28,
     "metadata": {},
     "output_type": "execute_result"
    }
   ],
   "source": [
    "longitude"
   ]
  },
  {
   "cell_type": "code",
   "execution_count": 29,
   "id": "b53d5f70",
   "metadata": {},
   "outputs": [
    {
     "data": {
      "text/plain": [
       "(10, 'alpha', [1, 2])"
      ]
     },
     "execution_count": 29,
     "metadata": {},
     "output_type": "execute_result"
    }
   ],
   "source": [
    "a"
   ]
  },
  {
   "cell_type": "code",
   "execution_count": 30,
   "id": "e123786a",
   "metadata": {},
   "outputs": [
    {
     "data": {
      "text/plain": [
       "(10, 'alpha', [1, 2, 99])"
      ]
     },
     "execution_count": 30,
     "metadata": {},
     "output_type": "execute_result"
    }
   ],
   "source": [
    "b"
   ]
  },
  {
   "cell_type": "code",
   "execution_count": 31,
   "id": "46e51073",
   "metadata": {},
   "outputs": [
    {
     "data": {
      "text/plain": [
       "(10, 'alpha', [1, 2, 99])"
      ]
     },
     "execution_count": 31,
     "metadata": {},
     "output_type": "execute_result"
    }
   ],
   "source": [
    "a, b = b, a\n",
    "a"
   ]
  },
  {
   "cell_type": "code",
   "execution_count": 32,
   "id": "bbd7a7e4",
   "metadata": {},
   "outputs": [
    {
     "data": {
      "text/plain": [
       "(2, 4)"
      ]
     },
     "execution_count": 32,
     "metadata": {},
     "output_type": "execute_result"
    }
   ],
   "source": [
    "divmod(20, 8)"
   ]
  },
  {
   "cell_type": "code",
   "execution_count": 33,
   "id": "26d0d5d4",
   "metadata": {},
   "outputs": [
    {
     "data": {
      "text/plain": [
       "(2, 4)"
      ]
     },
     "execution_count": 33,
     "metadata": {},
     "output_type": "execute_result"
    }
   ],
   "source": [
    "t = (20,8)\n",
    "divmod(*t)"
   ]
  },
  {
   "cell_type": "code",
   "execution_count": 34,
   "id": "6630ffb6",
   "metadata": {},
   "outputs": [
    {
     "data": {
      "text/plain": [
       "2"
      ]
     },
     "execution_count": 34,
     "metadata": {},
     "output_type": "execute_result"
    }
   ],
   "source": [
    "quot, rema = divmod(*t)\n",
    "quot"
   ]
  },
  {
   "cell_type": "code",
   "execution_count": 35,
   "id": "2510e693",
   "metadata": {},
   "outputs": [
    {
     "data": {
      "text/plain": [
       "4"
      ]
     },
     "execution_count": 35,
     "metadata": {},
     "output_type": "execute_result"
    }
   ],
   "source": [
    "rema"
   ]
  },
  {
   "cell_type": "code",
   "execution_count": 37,
   "id": "e3c5b22f",
   "metadata": {},
   "outputs": [
    {
     "data": {
      "text/plain": [
       "'id_rsa.pub'"
      ]
     },
     "execution_count": 37,
     "metadata": {},
     "output_type": "execute_result"
    }
   ],
   "source": [
    "import os\n",
    "_, filename = os.path.split('/hjome/luciano/.ssh/id_rsa.pub')\n",
    "filename"
   ]
  },
  {
   "cell_type": "markdown",
   "id": "33fe75b8",
   "metadata": {},
   "source": [
    "### Using `*` to Grab Excess Items"
   ]
  },
  {
   "cell_type": "code",
   "execution_count": 38,
   "id": "dd6df0fe",
   "metadata": {},
   "outputs": [
    {
     "data": {
      "text/plain": [
       "0"
      ]
     },
     "execution_count": 38,
     "metadata": {},
     "output_type": "execute_result"
    }
   ],
   "source": [
    "a, b, *rest = range(5)\n",
    "a"
   ]
  },
  {
   "cell_type": "code",
   "execution_count": 39,
   "id": "94c4a0b5",
   "metadata": {},
   "outputs": [
    {
     "data": {
      "text/plain": [
       "1"
      ]
     },
     "execution_count": 39,
     "metadata": {},
     "output_type": "execute_result"
    }
   ],
   "source": [
    "b"
   ]
  },
  {
   "cell_type": "code",
   "execution_count": 40,
   "id": "d4ccf493",
   "metadata": {},
   "outputs": [
    {
     "data": {
      "text/plain": [
       "[2, 3, 4]"
      ]
     },
     "execution_count": 40,
     "metadata": {},
     "output_type": "execute_result"
    }
   ],
   "source": [
    "rest"
   ]
  },
  {
   "cell_type": "code",
   "execution_count": 41,
   "id": "3e39596d",
   "metadata": {},
   "outputs": [
    {
     "data": {
      "text/plain": [
       "(0, 1, [2, 3, 4])"
      ]
     },
     "execution_count": 41,
     "metadata": {},
     "output_type": "execute_result"
    }
   ],
   "source": [
    "a, b, rest"
   ]
  },
  {
   "cell_type": "code",
   "execution_count": 42,
   "id": "d83a59b2",
   "metadata": {},
   "outputs": [
    {
     "data": {
      "text/plain": [
       "(0, 1, [2])"
      ]
     },
     "execution_count": 42,
     "metadata": {},
     "output_type": "execute_result"
    }
   ],
   "source": [
    "a, b, *rest = range(3)\n",
    "a, b, rest"
   ]
  },
  {
   "cell_type": "code",
   "execution_count": 43,
   "id": "270cb3fd",
   "metadata": {},
   "outputs": [
    {
     "data": {
      "text/plain": [
       "(0, 1, [])"
      ]
     },
     "execution_count": 43,
     "metadata": {},
     "output_type": "execute_result"
    }
   ],
   "source": [
    "a, b, *rest = range(2)\n",
    "a, b, rest"
   ]
  },
  {
   "cell_type": "code",
   "execution_count": 44,
   "id": "520f3818",
   "metadata": {},
   "outputs": [
    {
     "data": {
      "text/plain": [
       "(0, [1, 2], 3, 4)"
      ]
     },
     "execution_count": 44,
     "metadata": {},
     "output_type": "execute_result"
    }
   ],
   "source": [
    "a, *body, c, d = range(5)\n",
    "a, body, c, d"
   ]
  },
  {
   "cell_type": "markdown",
   "id": "786d9251",
   "metadata": {},
   "source": [
    "### Unpacking with * in Function Calls and Sequence Literals"
   ]
  },
  {
   "cell_type": "code",
   "execution_count": 45,
   "id": "8dee8ab1",
   "metadata": {},
   "outputs": [],
   "source": [
    "def fun(a, b, c, d, *rest):\n",
    "    return a, b, c, d, rest"
   ]
  },
  {
   "cell_type": "code",
   "execution_count": 46,
   "id": "b4682f9c",
   "metadata": {},
   "outputs": [
    {
     "data": {
      "text/plain": [
       "(1, 2, 3, 4, (5, 6))"
      ]
     },
     "execution_count": 46,
     "metadata": {},
     "output_type": "execute_result"
    }
   ],
   "source": [
    "fun(*[1, 2,], 3, *range(4, 7))"
   ]
  },
  {
   "cell_type": "code",
   "execution_count": 47,
   "id": "f72f5488",
   "metadata": {},
   "outputs": [
    {
     "data": {
      "text/plain": [
       "(0, 1, 2, 3, 4)"
      ]
     },
     "execution_count": 47,
     "metadata": {},
     "output_type": "execute_result"
    }
   ],
   "source": [
    "*range(4), 4"
   ]
  },
  {
   "cell_type": "code",
   "execution_count": 48,
   "id": "af4b453d",
   "metadata": {},
   "outputs": [
    {
     "data": {
      "text/plain": [
       "[0, 1, 2, 3, 4]"
      ]
     },
     "execution_count": 48,
     "metadata": {},
     "output_type": "execute_result"
    }
   ],
   "source": [
    "[*range(4), 4]"
   ]
  },
  {
   "cell_type": "code",
   "execution_count": 49,
   "id": "547a9c79",
   "metadata": {},
   "outputs": [
    {
     "data": {
      "text/plain": [
       "[0, 1, 2, 3, 4, 5, 6, 7]"
      ]
     },
     "execution_count": 49,
     "metadata": {},
     "output_type": "execute_result"
    }
   ],
   "source": [
    "[*range(4), 4, *(5, 6, 7)]"
   ]
  },
  {
   "cell_type": "markdown",
   "id": "59928b50",
   "metadata": {},
   "source": [
    "### Nested Unpacking"
   ]
  },
  {
   "cell_type": "code",
   "execution_count": 50,
   "id": "8279a5cf",
   "metadata": {},
   "outputs": [],
   "source": [
    "metro_areas = [\n",
    "    ('Tokyo', 'JP', 36.933, (35.689722, 139.691667)),\n",
    "    ('Delhi NCR', 'IN', 21.935, (28.613889, 77.208889)),\n",
    "    ('Mexico City', 'MX', 20.142, (19.433333, -99.133333)),\n",
    "    ('New York-Newark', 'US', 20.104, (40.808611, -74.020386)),\n",
    "    ('São Paulo', 'BR', 19.649, (-23.547778, -46.635833)),\n",
    "]"
   ]
  },
  {
   "cell_type": "code",
   "execution_count": 51,
   "id": "6eee7b96",
   "metadata": {},
   "outputs": [],
   "source": [
    "def maine():\n",
    "    print(f'{\"\":15} | {\"latitude\":>9} | {\"longitude\":>9}')\n",
    "    for name, _, _, (lat, lon) in metro_areas:\n",
    "        if lon <= 0:\n",
    "            print(f'{name:15} | {lat:9.4f} | {lon:9.4f}')"
   ]
  },
  {
   "cell_type": "code",
   "execution_count": 53,
   "id": "fc336b8d",
   "metadata": {},
   "outputs": [
    {
     "name": "stdout",
     "output_type": "stream",
     "text": [
      "                |  latitude | longitude\n",
      "Mexico City     |   19.4333 |  -99.1333\n",
      "New York-Newark |   40.8086 |  -74.0204\n",
      "São Paulo       |  -23.5478 |  -46.6358\n"
     ]
    }
   ],
   "source": [
    "maine()"
   ]
  },
  {
   "cell_type": "markdown",
   "id": "464ec2d3",
   "metadata": {},
   "source": [
    "## Pattern Matching with Sequences\n",
    "\n",
    "### Pattern Matching Sequences in an Interpreter"
   ]
  },
  {
   "cell_type": "markdown",
   "id": "4245189f",
   "metadata": {},
   "source": [
    "## Slicing\n",
    "\n",
    "### Why Slices and Ranges Exclude the Last Item"
   ]
  },
  {
   "cell_type": "code",
   "execution_count": 54,
   "id": "30a6f980",
   "metadata": {},
   "outputs": [
    {
     "data": {
      "text/plain": [
       "[10, 20]"
      ]
     },
     "execution_count": 54,
     "metadata": {},
     "output_type": "execute_result"
    }
   ],
   "source": [
    "l = [10, 20, 30, 40, 50, 60]\n",
    "l[:2]"
   ]
  },
  {
   "cell_type": "code",
   "execution_count": 55,
   "id": "e6dfa56e",
   "metadata": {},
   "outputs": [
    {
     "data": {
      "text/plain": [
       "[30, 40, 50, 60]"
      ]
     },
     "execution_count": 55,
     "metadata": {},
     "output_type": "execute_result"
    }
   ],
   "source": [
    "l[2:]"
   ]
  },
  {
   "cell_type": "markdown",
   "id": "3b9a9799",
   "metadata": {},
   "source": [
    "### Slice Objects"
   ]
  },
  {
   "cell_type": "code",
   "execution_count": 56,
   "id": "0229e856",
   "metadata": {},
   "outputs": [
    {
     "data": {
      "text/plain": [
       "'bye'"
      ]
     },
     "execution_count": 56,
     "metadata": {},
     "output_type": "execute_result"
    }
   ],
   "source": [
    "s = 'bicycle'\n",
    "s[::3]"
   ]
  },
  {
   "cell_type": "code",
   "execution_count": 57,
   "id": "c61d5c0a",
   "metadata": {},
   "outputs": [
    {
     "data": {
      "text/plain": [
       "'elcycib'"
      ]
     },
     "execution_count": 57,
     "metadata": {},
     "output_type": "execute_result"
    }
   ],
   "source": [
    "s[::-1]"
   ]
  },
  {
   "cell_type": "code",
   "execution_count": 58,
   "id": "a81f329f",
   "metadata": {},
   "outputs": [
    {
     "data": {
      "text/plain": [
       "'eccb'"
      ]
     },
     "execution_count": 58,
     "metadata": {},
     "output_type": "execute_result"
    }
   ],
   "source": [
    "s[::-2]"
   ]
  },
  {
   "cell_type": "code",
   "execution_count": 60,
   "id": "76e2d86a",
   "metadata": {},
   "outputs": [],
   "source": [
    "import collections\n",
    "\n",
    "Card = collections.namedtuple('Card', ['rank', 'suit'])\n",
    "\n",
    "class FrenchDeck:\n",
    "  ranks = [str(n) for n in range(2,11)] + list('JQKA')\n",
    "  suits = 'spades diamonds clubs hearts'.split()\n",
    "  \n",
    "  def __init__(self):\n",
    "    self._cards = [Card(rank,suit) for suit in self.suits\n",
    "                                  for rank in self.ranks]\n",
    "    \n",
    "  def __len__(self):\n",
    "    return len(self._cards)\n",
    "\n",
    "  def __getitem__(self, position):\n",
    "    return self._cards[position]"
   ]
  },
  {
   "cell_type": "code",
   "execution_count": 62,
   "id": "01226f57",
   "metadata": {},
   "outputs": [
    {
     "data": {
      "text/plain": [
       "52"
      ]
     },
     "execution_count": 62,
     "metadata": {},
     "output_type": "execute_result"
    }
   ],
   "source": [
    "deck = FrenchDeck()\n",
    "len(deck)"
   ]
  },
  {
   "cell_type": "code",
   "execution_count": 63,
   "id": "e5d42ee0",
   "metadata": {},
   "outputs": [
    {
     "data": {
      "text/plain": [
       "[Card(rank='A', suit='spades'),\n",
       " Card(rank='A', suit='diamonds'),\n",
       " Card(rank='A', suit='clubs'),\n",
       " Card(rank='A', suit='hearts')]"
      ]
     },
     "execution_count": 63,
     "metadata": {},
     "output_type": "execute_result"
    }
   ],
   "source": [
    "deck[12::13]"
   ]
  },
  {
   "cell_type": "code",
   "execution_count": 64,
   "id": "50c6009c",
   "metadata": {},
   "outputs": [
    {
     "data": {
      "text/plain": [
       "[Card(rank='A', suit='spades'),\n",
       " Card(rank='A', suit='diamonds'),\n",
       " Card(rank='A', suit='clubs'),\n",
       " Card(rank='A', suit='hearts')]"
      ]
     },
     "execution_count": 64,
     "metadata": {},
     "output_type": "execute_result"
    }
   ],
   "source": [
    "deck[12::13]"
   ]
  },
  {
   "cell_type": "code",
   "execution_count": 67,
   "id": "412a2f37",
   "metadata": {},
   "outputs": [],
   "source": [
    "invoice = \"\"\"\n",
    "0.....6.................................40........52...55........\n",
    "1909  Pimoroni PiBrella                     $17.50    3    $52.50\n",
    "1489  6mm Tactile Switch x20                 $4.95    2     $9.90\n",
    "1510  Panavise Jr. - PV-201                 $28.00    1    $28.00\n",
    "1601  PiTFT Mini Kit 320x240                $34.95    1    $34.95\n",
    "\"\"\""
   ]
  },
  {
   "cell_type": "code",
   "execution_count": 68,
   "id": "5e216f61",
   "metadata": {},
   "outputs": [
    {
     "name": "stdout",
     "output_type": "stream",
     "text": [
      "    $17.50   Pimoroni PiBrella                 \n",
      "     $4.95   6mm Tactile Switch x20            \n",
      "    $28.00   Panavise Jr. - PV-201             \n",
      "    $34.95   PiTFT Mini Kit 320x240            \n",
      " \n"
     ]
    }
   ],
   "source": [
    "SKU = slice(0, 6)\n",
    "DESCRIPTION = slice(6, 40)\n",
    "UNIT_PRICE = slice(40, 52)\n",
    "QUANTITY = slice(52, 55)\n",
    "ITEM_TOTAL = slice(55, None)\n",
    "\n",
    "line_items = invoice.split('\\n')[2:]\n",
    "\n",
    "for item in line_items:\n",
    "    print(item[UNIT_PRICE], item[DESCRIPTION])"
   ]
  },
  {
   "cell_type": "markdown",
   "id": "5b38c4fc",
   "metadata": {},
   "source": [
    "### Multidimensional Slicing and Ellipsis\n",
    "\n",
    "The ellipsis —written with three full stops (`...`) and not `…`— is recognized as a token by the Python parser. It is an alias to the `Ellipsis` object, the single instance of the `ellipsis` class. As such it can be passed as an argument to functions and as part of a slice specification, as in `f(a, ..., z)` or `a[i:...]`. NumPy uses `...` as a shortcut when slicing arrays of many dimensions; for example, if `x` is a four dimensional array, `x[i, ...]` is a shortcut for `x[i, :, :, :,]`."
   ]
  },
  {
   "cell_type": "markdown",
   "id": "e6b3fa8c",
   "metadata": {},
   "source": [
    "### Assigning to Slices"
   ]
  },
  {
   "cell_type": "code",
   "execution_count": 74,
   "id": "d31e0d49",
   "metadata": {},
   "outputs": [
    {
     "data": {
      "text/plain": [
       "[0, 1, 2, 3, 4, 5, 6, 7, 8, 9]"
      ]
     },
     "execution_count": 74,
     "metadata": {},
     "output_type": "execute_result"
    }
   ],
   "source": [
    "l = list(range(10))\n",
    "l"
   ]
  },
  {
   "cell_type": "code",
   "execution_count": 75,
   "id": "904a34dc",
   "metadata": {},
   "outputs": [
    {
     "data": {
      "text/plain": [
       "[0, 1, 20, 30, 5, 6, 7, 8, 9]"
      ]
     },
     "execution_count": 75,
     "metadata": {},
     "output_type": "execute_result"
    }
   ],
   "source": [
    "l[2:5] = [20, 30]\n",
    "l"
   ]
  },
  {
   "cell_type": "code",
   "execution_count": 76,
   "id": "e0ffdeea",
   "metadata": {},
   "outputs": [
    {
     "data": {
      "text/plain": [
       "[0, 1, 20, 30, 5, 8, 9]"
      ]
     },
     "execution_count": 76,
     "metadata": {},
     "output_type": "execute_result"
    }
   ],
   "source": [
    "del l[5:7]\n",
    "l"
   ]
  },
  {
   "cell_type": "code",
   "execution_count": 77,
   "id": "a0cccf6e",
   "metadata": {},
   "outputs": [
    {
     "data": {
      "text/plain": [
       "[0, 1, 20, 11, 5, 22, 9]"
      ]
     },
     "execution_count": 77,
     "metadata": {},
     "output_type": "execute_result"
    }
   ],
   "source": [
    "l[3::2] = [11, 22]\n",
    "l"
   ]
  },
  {
   "cell_type": "code",
   "execution_count": 79,
   "id": "4a070a5e",
   "metadata": {},
   "outputs": [
    {
     "name": "stdout",
     "output_type": "stream",
     "text": [
      "e=TypeError('can only assign an iterable')\n"
     ]
    }
   ],
   "source": [
    "try:\n",
    "    l[2:5] = 100\n",
    "except TypeError as e:\n",
    "    print(f\"{e=}\")"
   ]
  },
  {
   "cell_type": "code",
   "execution_count": 80,
   "id": "9a213796",
   "metadata": {},
   "outputs": [
    {
     "data": {
      "text/plain": [
       "[0, 1, 100, 22, 9]"
      ]
     },
     "execution_count": 80,
     "metadata": {},
     "output_type": "execute_result"
    }
   ],
   "source": [
    "l[2:5] = [100]\n",
    "l"
   ]
  },
  {
   "cell_type": "markdown",
   "id": "ab7e8172",
   "metadata": {},
   "source": [
    "## Using `+` and `*` with Sequences"
   ]
  },
  {
   "cell_type": "code",
   "execution_count": 81,
   "id": "8b02f7e4",
   "metadata": {},
   "outputs": [
    {
     "data": {
      "text/plain": [
       "[1, 2, 3, 1, 2, 3, 1, 2, 3, 1, 2, 3, 1, 2, 3]"
      ]
     },
     "execution_count": 81,
     "metadata": {},
     "output_type": "execute_result"
    }
   ],
   "source": [
    "l = [1, 2, 3]\n",
    "l * 5"
   ]
  },
  {
   "cell_type": "code",
   "execution_count": 82,
   "id": "1af2580d",
   "metadata": {},
   "outputs": [
    {
     "data": {
      "text/plain": [
       "'abcdabcdabcdabcdabcd'"
      ]
     },
     "execution_count": 82,
     "metadata": {},
     "output_type": "execute_result"
    }
   ],
   "source": [
    "5 * 'abcd'"
   ]
  },
  {
   "cell_type": "code",
   "execution_count": 83,
   "id": "4ea640e2",
   "metadata": {},
   "outputs": [
    {
     "data": {
      "text/plain": [
       "[[], [], []]"
      ]
     },
     "execution_count": 83,
     "metadata": {},
     "output_type": "execute_result"
    }
   ],
   "source": [
    "mylist = [[]]*3\n",
    "mylist"
   ]
  },
  {
   "cell_type": "code",
   "execution_count": 84,
   "id": "1eb92a0e",
   "metadata": {},
   "outputs": [
    {
     "data": {
      "text/plain": [
       "['R', [], []]"
      ]
     },
     "execution_count": 84,
     "metadata": {},
     "output_type": "execute_result"
    }
   ],
   "source": [
    "mylist[0] = 'R'\n",
    "mylist"
   ]
  },
  {
   "cell_type": "code",
   "execution_count": 85,
   "id": "44f323d3",
   "metadata": {},
   "outputs": [
    {
     "data": {
      "text/plain": [
       "[[], [], []]"
      ]
     },
     "execution_count": 85,
     "metadata": {},
     "output_type": "execute_result"
    }
   ],
   "source": [
    "mylist = [[]]*3\n",
    "mylist"
   ]
  },
  {
   "cell_type": "code",
   "execution_count": 86,
   "id": "9d303573",
   "metadata": {},
   "outputs": [
    {
     "data": {
      "text/plain": [
       "[['R'], ['R'], ['R']]"
      ]
     },
     "execution_count": 86,
     "metadata": {},
     "output_type": "execute_result"
    }
   ],
   "source": [
    "mylist[0].append(\"R\")\n",
    "mylist"
   ]
  },
  {
   "cell_type": "markdown",
   "id": "d9fae70d",
   "metadata": {},
   "source": [
    "### Building Lists of Lists"
   ]
  },
  {
   "cell_type": "code",
   "execution_count": 87,
   "id": "16a50e56",
   "metadata": {},
   "outputs": [
    {
     "data": {
      "text/plain": [
       "[['_', '_', '_'], ['_', '_', '_'], ['_', '_', '_']]"
      ]
     },
     "execution_count": 87,
     "metadata": {},
     "output_type": "execute_result"
    }
   ],
   "source": [
    "board = [[\"_\"]*3 for i in range(3)]\n",
    "board"
   ]
  },
  {
   "cell_type": "code",
   "execution_count": 90,
   "id": "875c1c0b",
   "metadata": {},
   "outputs": [
    {
     "data": {
      "text/plain": [
       "[['_', '_', '_'], ['_', '_', '✘'], ['_', '_', '_']]"
      ]
     },
     "execution_count": 90,
     "metadata": {},
     "output_type": "execute_result"
    }
   ],
   "source": [
    "board[1][2] = '✘'\n",
    "board"
   ]
  },
  {
   "cell_type": "code",
   "execution_count": 91,
   "id": "861217ca",
   "metadata": {},
   "outputs": [
    {
     "data": {
      "text/plain": [
       "[['_', '_', '_'], ['_', '_', '_'], ['_', '_', '_']]"
      ]
     },
     "execution_count": 91,
     "metadata": {},
     "output_type": "execute_result"
    }
   ],
   "source": [
    "weird_board = [[\"_\"]*3]*3\n",
    "weird_board"
   ]
  },
  {
   "cell_type": "code",
   "execution_count": 92,
   "id": "4442c368",
   "metadata": {},
   "outputs": [
    {
     "data": {
      "text/plain": [
       "[['_', '_', 'Ø'], ['_', '_', 'Ø'], ['_', '_', 'Ø']]"
      ]
     },
     "execution_count": 92,
     "metadata": {},
     "output_type": "execute_result"
    }
   ],
   "source": [
    "weird_board[1][2] = 'Ø'\n",
    "weird_board"
   ]
  },
  {
   "cell_type": "code",
   "execution_count": null,
   "id": "962651ec",
   "metadata": {},
   "outputs": [
    {
     "data": {
      "text/plain": [
       "[[' ', ' ', ' '], [' ', ' ', ' '], [' ', ' ', ' ']]"
      ]
     },
     "execution_count": 93,
     "metadata": {},
     "output_type": "execute_result"
    }
   ],
   "source": [
    "row = [\"_\"]*3\n",
    "board = []\n",
    "for i in range(3):\n",
    "    board.append(row)\n",
    "board"
   ]
  },
  {
   "cell_type": "code",
   "execution_count": 94,
   "id": "91e581c9",
   "metadata": {},
   "outputs": [
    {
     "data": {
      "text/plain": [
       "[[' ', ' ', '✘'], [' ', ' ', '✘'], [' ', ' ', '✘']]"
      ]
     },
     "execution_count": 94,
     "metadata": {},
     "output_type": "execute_result"
    }
   ],
   "source": [
    "board[1][2] = '✘'\n",
    "board"
   ]
  },
  {
   "cell_type": "code",
   "execution_count": 95,
   "id": "7ad38ead",
   "metadata": {},
   "outputs": [
    {
     "data": {
      "text/plain": [
       "[['_', '_', '_'], ['_', '_', '_'], ['_', '_', '_']]"
      ]
     },
     "execution_count": 95,
     "metadata": {},
     "output_type": "execute_result"
    }
   ],
   "source": [
    "board = []\n",
    "for i in range(3):\n",
    "    board.append([\"_\"]*3)\n",
    "board"
   ]
  },
  {
   "cell_type": "code",
   "execution_count": 96,
   "id": "9399165c",
   "metadata": {},
   "outputs": [
    {
     "data": {
      "text/plain": [
       "[['_', '_', '_'], ['_', '_', '✘'], ['_', '_', '_']]"
      ]
     },
     "execution_count": 96,
     "metadata": {},
     "output_type": "execute_result"
    }
   ],
   "source": [
    "board[1][2] = '✘'\n",
    "board"
   ]
  },
  {
   "cell_type": "markdown",
   "id": "8b87cf20",
   "metadata": {},
   "source": [
    "### Augmented Assignment with Sequences"
   ]
  },
  {
   "cell_type": "code",
   "execution_count": 97,
   "id": "4d11d81a",
   "metadata": {},
   "outputs": [
    {
     "data": {
      "text/plain": [
       "139714185688960"
      ]
     },
     "execution_count": 97,
     "metadata": {},
     "output_type": "execute_result"
    }
   ],
   "source": [
    "l = [1, 2, 3]\n",
    "id(l)"
   ]
  },
  {
   "cell_type": "code",
   "execution_count": 98,
   "id": "e4133bea",
   "metadata": {},
   "outputs": [
    {
     "data": {
      "text/plain": [
       "[1, 2, 3, 1, 2, 3]"
      ]
     },
     "execution_count": 98,
     "metadata": {},
     "output_type": "execute_result"
    }
   ],
   "source": [
    "l *=2\n",
    "l"
   ]
  },
  {
   "cell_type": "code",
   "execution_count": 99,
   "id": "989a510b",
   "metadata": {},
   "outputs": [
    {
     "data": {
      "text/plain": [
       "139714185688960"
      ]
     },
     "execution_count": 99,
     "metadata": {},
     "output_type": "execute_result"
    }
   ],
   "source": [
    "id(l)"
   ]
  },
  {
   "cell_type": "code",
   "execution_count": 100,
   "id": "904d56e8",
   "metadata": {},
   "outputs": [
    {
     "data": {
      "text/plain": [
       "139714186376896"
      ]
     },
     "execution_count": 100,
     "metadata": {},
     "output_type": "execute_result"
    }
   ],
   "source": [
    "t = (1, 2, 3)\n",
    "id(t)"
   ]
  },
  {
   "cell_type": "code",
   "execution_count": 101,
   "id": "21addf50",
   "metadata": {},
   "outputs": [
    {
     "data": {
      "text/plain": [
       "139714172197312"
      ]
     },
     "execution_count": 101,
     "metadata": {},
     "output_type": "execute_result"
    }
   ],
   "source": [
    "t *= 2\n",
    "id(t)"
   ]
  },
  {
   "cell_type": "code",
   "execution_count": 103,
   "id": "9e7e309f",
   "metadata": {},
   "outputs": [
    {
     "name": "stdout",
     "output_type": "stream",
     "text": [
      "e=TypeError(\"'tuple' object does not support item assignment\")\n"
     ]
    }
   ],
   "source": [
    "try:\n",
    "    t = (1, 2, [30, 40])\n",
    "    t[2] += [50, 60]\n",
    "    t\n",
    "except Exception as e:\n",
    "    print(f\"{e=}\")"
   ]
  },
  {
   "cell_type": "markdown",
   "id": "583f6aaf",
   "metadata": {},
   "source": [
    "## `list.sort` Versus the `sorted` Built-In"
   ]
  },
  {
   "cell_type": "code",
   "execution_count": 104,
   "id": "80c3017b",
   "metadata": {},
   "outputs": [
    {
     "data": {
      "text/plain": [
       "['apple', 'banana', 'grape', 'raspberry']"
      ]
     },
     "execution_count": 104,
     "metadata": {},
     "output_type": "execute_result"
    }
   ],
   "source": [
    "fruits = ['grape', 'raspberry', 'apple', 'banana']\n",
    "sorted(fruits)"
   ]
  },
  {
   "cell_type": "code",
   "execution_count": 105,
   "id": "0b49f395",
   "metadata": {},
   "outputs": [
    {
     "data": {
      "text/plain": [
       "['grape', 'raspberry', 'apple', 'banana']"
      ]
     },
     "execution_count": 105,
     "metadata": {},
     "output_type": "execute_result"
    }
   ],
   "source": [
    "fruits"
   ]
  },
  {
   "cell_type": "code",
   "execution_count": 106,
   "id": "910fb723",
   "metadata": {},
   "outputs": [
    {
     "data": {
      "text/plain": [
       "['raspberry', 'grape', 'banana', 'apple']"
      ]
     },
     "execution_count": 106,
     "metadata": {},
     "output_type": "execute_result"
    }
   ],
   "source": [
    "sorted(fruits, reverse=True)"
   ]
  },
  {
   "cell_type": "code",
   "execution_count": 107,
   "id": "3adc7d64",
   "metadata": {},
   "outputs": [
    {
     "data": {
      "text/plain": [
       "['grape', 'apple', 'banana', 'raspberry']"
      ]
     },
     "execution_count": 107,
     "metadata": {},
     "output_type": "execute_result"
    }
   ],
   "source": [
    "sorted(fruits, key=len)"
   ]
  },
  {
   "cell_type": "code",
   "execution_count": 108,
   "id": "2af10458",
   "metadata": {},
   "outputs": [
    {
     "data": {
      "text/plain": [
       "['raspberry', 'banana', 'grape', 'apple']"
      ]
     },
     "execution_count": 108,
     "metadata": {},
     "output_type": "execute_result"
    }
   ],
   "source": [
    "sorted(fruits, reverse=True, key=len)"
   ]
  },
  {
   "cell_type": "code",
   "execution_count": 109,
   "id": "5b45b842",
   "metadata": {},
   "outputs": [
    {
     "data": {
      "text/plain": [
       "['grape', 'raspberry', 'apple', 'banana']"
      ]
     },
     "execution_count": 109,
     "metadata": {},
     "output_type": "execute_result"
    }
   ],
   "source": [
    "fruits"
   ]
  },
  {
   "cell_type": "code",
   "execution_count": 110,
   "id": "939eb599",
   "metadata": {},
   "outputs": [],
   "source": [
    "fruits.sort()"
   ]
  },
  {
   "cell_type": "code",
   "execution_count": 111,
   "id": "0de23cf2",
   "metadata": {},
   "outputs": [
    {
     "data": {
      "text/plain": [
       "['apple', 'banana', 'grape', 'raspberry']"
      ]
     },
     "execution_count": 111,
     "metadata": {},
     "output_type": "execute_result"
    }
   ],
   "source": [
    "fruits"
   ]
  },
  {
   "cell_type": "markdown",
   "id": "3c47d1a6",
   "metadata": {},
   "source": [
    "## When a List is **Not** the Answer"
   ]
  },
  {
   "cell_type": "markdown",
   "id": "f519ae83",
   "metadata": {},
   "source": [
    "### Arrays"
   ]
  },
  {
   "cell_type": "code",
   "execution_count": 112,
   "id": "dfac1984",
   "metadata": {},
   "outputs": [
    {
     "data": {
      "text/plain": [
       "0.3900598535304972"
      ]
     },
     "execution_count": 112,
     "metadata": {},
     "output_type": "execute_result"
    }
   ],
   "source": [
    "from array import array\n",
    "from random import random\n",
    "\n",
    "floats = array('d', (random() for i in range(10**7)))\n",
    "floats[-1]"
   ]
  },
  {
   "cell_type": "code",
   "execution_count": 113,
   "id": "be847dc7",
   "metadata": {},
   "outputs": [],
   "source": [
    "fp = open('floats.bin', 'wb')\n",
    "floats.tofile(fp)\n",
    "fp.close()"
   ]
  },
  {
   "cell_type": "code",
   "execution_count": 114,
   "id": "362c0371",
   "metadata": {},
   "outputs": [
    {
     "data": {
      "text/plain": [
       "0.3900598535304972"
      ]
     },
     "execution_count": 114,
     "metadata": {},
     "output_type": "execute_result"
    }
   ],
   "source": [
    "floats2 = array('d')\n",
    "fp = open('floats.bin', 'rb')\n",
    "floats2.fromfile(fp, 10**7)\n",
    "fp.close\n",
    "floats2[-1]"
   ]
  },
  {
   "cell_type": "code",
   "execution_count": 115,
   "id": "b9e282bb",
   "metadata": {},
   "outputs": [
    {
     "data": {
      "text/plain": [
       "True"
      ]
     },
     "execution_count": 115,
     "metadata": {},
     "output_type": "execute_result"
    }
   ],
   "source": [
    "floats == floats2"
   ]
  },
  {
   "cell_type": "code",
   "execution_count": 116,
   "id": "3ab5031e",
   "metadata": {},
   "outputs": [
    {
     "name": "stdout",
     "output_type": "stream",
     "text": [
      "total 3568040\n",
      "-rw-r--r--. 1 jovyan users     105666 Apr 10 11:43 '107 DA0101EN-Review-Introduction jupyterlite.ipynb'\n",
      "-rw-r--r--. 1 jovyan users     203842 Apr 10 12:48 '207 DA0101EN-2-Review-Data-Wrangling jupyterlite.ipynb'\n",
      "-rw-r--r--. 1 jovyan users    1606671 Apr 24 18:38 '2 DV0101EN-Exercise-Area-Plots-Histograms-and-Bar-Charts.jupyterlite.ipynb'\n",
      "-rw-r--r--. 1 jovyan users     477147 Apr 10 14:38 '307 DA0101EN-3-Review-Exploratory-Data-Analysis jupyterlite.ipynb'\n",
      "-rw-r--r--. 1 jovyan users     994635 Apr 25 09:49 '3 DV0101EN-Exercise-Pie-Charts-Box-Plots-Scatter-Plots-and-Bubble-Plots.jupyterlite.ipynb'\n",
      "-rw-r--r--. 1 jovyan users     525927 Apr 10 15:25 '407 DA0101EN-4-Review-Model-Development.ipynb'\n",
      "-rw-r--r--. 1 jovyan users    3264149 Apr 25 12:15 '4 DV0101EN-Exercise-Waffle-Charts-Word-Clouds-and-Regression-Plots-py.ipynb'\n",
      "-rw-r--r--. 1 jovyan users     465649 Apr 10 17:13 '507 DA0101EN-5-Review-Model-Evaluation-and-Refinement.ipynb'\n",
      "-rw-r--r--. 1 jovyan users    1401916 Apr 25 15:44 '5 DV0101EN-Exercise-Generating-Maps-in-Python.jupyterlite.ipynb'\n",
      "-rw-r--r--. 1 jovyan users      24681 Apr 10 11:41  auto.csv\n",
      "-rw-r--r--. 1 jovyan  1000     390524 Apr 24 15:12  Canada.xlsx\n",
      "-rw-rw----. 3 jovyan users 1180517015 Jan 11 12:26  Casos_positivos_de_COVID-19_en_Colombia.csv\n",
      "-rw-rw----. 3 jovyan users 1180517015 Jan 11 12:26  Casos_positivos_de_COVID-19_en_Colombia-d.csv\n",
      "-rw-rw----. 3 jovyan users 1180517015 Jan 11 12:26  Casos_positivos_de_COVID-19_en_Colombia-pd.csv\n",
      "-rw-r--r--. 1 jovyan users      44163 Apr 10 12:48  clean_df.csv\n",
      "drwx------. 3 jovyan  1000       4096 Jan 14 10:07  DCuentas\n",
      "-rw-r--r--. 1 jovyan users     645516 Apr 24 12:52  DV0101EN-Exercise-Introduction-to-Matplotlib-and-Line-Plots.jupyterlite.ipynb\n",
      "-rw-r--r--. 1 jovyan users    6644248 Apr 26 14:21 'EDA lab.ipynb'\n",
      "-rw-r--r--. 1 jovyan users   80000000 Apr 29 17:01  floats.bin\n",
      "drwx------. 2 root   users      16384 Jan 11 12:22  lost+found\n",
      "-rw-r--r--. 1 jovyan users       9535 Apr 12 17:32  lost_sleep.pdf\n",
      "-rw-r--r--. 1 jovyan users      13551 Apr 24 15:53  matplotlib_histogram02.png\n",
      "-rw-r--r--. 1 jovyan users      37754 Apr 10 16:39  module_5_auto.csv\n",
      "-rwx------. 1 jovyan users   14145517 Jan 11 12:25  persons_100_000.csv\n",
      "-rw-r--r--. 1 jovyan  1000     911017 Apr 24 18:13  rbl_01.ipynb\n",
      "-rw-r--r--. 1 jovyan users     113250 Apr 10 15:02 'Residual plot examples.ipynb'\n",
      "drwxrwxr-x. 2 jovyan  1000       4096 Feb 26 13:18  trans\n",
      "drwxr-xr-x. 2 jovyan  1000       4096 Mar  4 08:52  tx\n"
     ]
    }
   ],
   "source": [
    "!ls -l"
   ]
  },
  {
   "cell_type": "markdown",
   "id": "f0000cdd",
   "metadata": {},
   "source": [
    "### Memory Views"
   ]
  },
  {
   "cell_type": "code",
   "execution_count": 117,
   "id": "e6ca672f",
   "metadata": {},
   "outputs": [],
   "source": [
    "from array import array"
   ]
  },
  {
   "cell_type": "code",
   "execution_count": 118,
   "id": "a14daedb",
   "metadata": {},
   "outputs": [],
   "source": [
    "octets = array('B', range(6))"
   ]
  },
  {
   "cell_type": "code",
   "execution_count": 119,
   "id": "243efb33",
   "metadata": {},
   "outputs": [
    {
     "data": {
      "text/plain": [
       "[0, 1, 2, 3, 4, 5]"
      ]
     },
     "execution_count": 119,
     "metadata": {},
     "output_type": "execute_result"
    }
   ],
   "source": [
    "m1 = memoryview(octets)\n",
    "m1.tolist()"
   ]
  },
  {
   "cell_type": "code",
   "execution_count": 120,
   "id": "901282dd",
   "metadata": {},
   "outputs": [
    {
     "data": {
      "text/plain": [
       "[[0, 1, 2], [3, 4, 5]]"
      ]
     },
     "execution_count": 120,
     "metadata": {},
     "output_type": "execute_result"
    }
   ],
   "source": [
    "m2 = m1.cast('B', [2, 3])\n",
    "m2.tolist()"
   ]
  },
  {
   "cell_type": "code",
   "execution_count": 121,
   "id": "10dd2688",
   "metadata": {},
   "outputs": [
    {
     "data": {
      "text/plain": [
       "[[0, 1], [2, 3], [4, 5]]"
      ]
     },
     "execution_count": 121,
     "metadata": {},
     "output_type": "execute_result"
    }
   ],
   "source": [
    "m3 = m1.cast('B', [3, 2])\n",
    "m3.tolist()"
   ]
  },
  {
   "cell_type": "code",
   "execution_count": 122,
   "id": "f34d8255",
   "metadata": {},
   "outputs": [
    {
     "data": {
      "text/plain": [
       "array('B', [0, 1, 2, 33, 22, 5])"
      ]
     },
     "execution_count": 122,
     "metadata": {},
     "output_type": "execute_result"
    }
   ],
   "source": [
    "m2[1,1] = 22\n",
    "m3[1,1] = 33\n",
    "octets"
   ]
  },
  {
   "cell_type": "code",
   "execution_count": 124,
   "id": "dda7b3b0",
   "metadata": {},
   "outputs": [
    {
     "data": {
      "text/plain": [
       "5"
      ]
     },
     "execution_count": 124,
     "metadata": {},
     "output_type": "execute_result"
    }
   ],
   "source": [
    "numbers = array('h', [-2, -1, 0, 1, 2])\n",
    "memv = memoryview(numbers)\n",
    "len(memv)"
   ]
  },
  {
   "cell_type": "code",
   "execution_count": 125,
   "id": "65b131e0",
   "metadata": {},
   "outputs": [
    {
     "data": {
      "text/plain": [
       "-2"
      ]
     },
     "execution_count": 125,
     "metadata": {},
     "output_type": "execute_result"
    }
   ],
   "source": [
    "memv[0]"
   ]
  },
  {
   "cell_type": "code",
   "execution_count": 127,
   "id": "de2659a9",
   "metadata": {},
   "outputs": [
    {
     "data": {
      "text/plain": [
       "[254, 255, 255, 255, 0, 0, 1, 0, 2, 0]"
      ]
     },
     "execution_count": 127,
     "metadata": {},
     "output_type": "execute_result"
    }
   ],
   "source": [
    "memv_oct = memv.cast('B')\n",
    "memv_oct.tolist()"
   ]
  },
  {
   "cell_type": "code",
   "execution_count": 128,
   "id": "7358a1ed",
   "metadata": {},
   "outputs": [
    {
     "data": {
      "text/plain": [
       "array('h', [-2, -1, 1024, 1, 2])"
      ]
     },
     "execution_count": 128,
     "metadata": {},
     "output_type": "execute_result"
    }
   ],
   "source": [
    "memv_oct[5] = 4\n",
    "numbers"
   ]
  },
  {
   "cell_type": "markdown",
   "id": "a702b2c7",
   "metadata": {},
   "source": [
    "### NumPy"
   ]
  },
  {
   "cell_type": "code",
   "execution_count": 129,
   "id": "dfe1985b",
   "metadata": {},
   "outputs": [],
   "source": [
    "import numpy as np"
   ]
  },
  {
   "cell_type": "code",
   "execution_count": 130,
   "id": "467c0ae9",
   "metadata": {},
   "outputs": [
    {
     "data": {
      "text/plain": [
       "array([ 0,  1,  2,  3,  4,  5,  6,  7,  8,  9, 10, 11])"
      ]
     },
     "execution_count": 130,
     "metadata": {},
     "output_type": "execute_result"
    }
   ],
   "source": [
    "a = np.arange(12)\n",
    "a"
   ]
  },
  {
   "cell_type": "code",
   "execution_count": 131,
   "id": "819b9073",
   "metadata": {},
   "outputs": [
    {
     "data": {
      "text/plain": [
       "numpy.ndarray"
      ]
     },
     "execution_count": 131,
     "metadata": {},
     "output_type": "execute_result"
    }
   ],
   "source": [
    "type(a)"
   ]
  },
  {
   "cell_type": "code",
   "execution_count": 132,
   "id": "826a7168",
   "metadata": {},
   "outputs": [
    {
     "data": {
      "text/plain": [
       "(12,)"
      ]
     },
     "execution_count": 132,
     "metadata": {},
     "output_type": "execute_result"
    }
   ],
   "source": [
    "a.shape"
   ]
  },
  {
   "cell_type": "code",
   "execution_count": 133,
   "id": "e1ba41ac",
   "metadata": {},
   "outputs": [],
   "source": [
    "a.shape = 3, 4"
   ]
  },
  {
   "cell_type": "code",
   "execution_count": 134,
   "id": "c3f6a6a5",
   "metadata": {},
   "outputs": [
    {
     "data": {
      "text/plain": [
       "array([[ 0,  1,  2,  3],\n",
       "       [ 4,  5,  6,  7],\n",
       "       [ 8,  9, 10, 11]])"
      ]
     },
     "execution_count": 134,
     "metadata": {},
     "output_type": "execute_result"
    }
   ],
   "source": [
    "a "
   ]
  },
  {
   "cell_type": "code",
   "execution_count": 135,
   "id": "d25d11fc",
   "metadata": {},
   "outputs": [
    {
     "data": {
      "text/plain": [
       "array([ 8,  9, 10, 11])"
      ]
     },
     "execution_count": 135,
     "metadata": {},
     "output_type": "execute_result"
    }
   ],
   "source": [
    "a[2]"
   ]
  },
  {
   "cell_type": "code",
   "execution_count": null,
   "id": "288eaf48",
   "metadata": {},
   "outputs": [
    {
     "data": {
      "text/plain": [
       "9"
      ]
     },
     "execution_count": 136,
     "metadata": {},
     "output_type": "execute_result"
    }
   ],
   "source": [
    "a[2, 1]"
   ]
  },
  {
   "cell_type": "code",
   "execution_count": 137,
   "id": "ec5422c3",
   "metadata": {},
   "outputs": [
    {
     "data": {
      "text/plain": [
       "array([1, 5, 9])"
      ]
     },
     "execution_count": 137,
     "metadata": {},
     "output_type": "execute_result"
    }
   ],
   "source": [
    "a[:, 1]"
   ]
  },
  {
   "cell_type": "code",
   "execution_count": 138,
   "id": "afc5e05e",
   "metadata": {},
   "outputs": [
    {
     "data": {
      "text/plain": [
       "array([[ 0,  4,  8],\n",
       "       [ 1,  5,  9],\n",
       "       [ 2,  6, 10],\n",
       "       [ 3,  7, 11]])"
      ]
     },
     "execution_count": 138,
     "metadata": {},
     "output_type": "execute_result"
    }
   ],
   "source": [
    "a.transpose()"
   ]
  },
  {
   "cell_type": "code",
   "execution_count": null,
   "id": "ded3d20d",
   "metadata": {},
   "outputs": [],
   "source": [
    "import numpy as np"
   ]
  },
  {
   "cell_type": "markdown",
   "id": "a5f86bd0",
   "metadata": {},
   "source": [
    "### Deques and Other Queues"
   ]
  },
  {
   "cell_type": "code",
   "execution_count": 149,
   "id": "c0c58b45",
   "metadata": {},
   "outputs": [],
   "source": [
    "from collections import deque"
   ]
  },
  {
   "cell_type": "code",
   "execution_count": 150,
   "id": "0ba04cab",
   "metadata": {},
   "outputs": [
    {
     "data": {
      "text/plain": [
       "deque([0, 1, 2, 3, 4, 5, 6, 7, 8, 9], maxlen=10)"
      ]
     },
     "execution_count": 150,
     "metadata": {},
     "output_type": "execute_result"
    }
   ],
   "source": [
    "dq = deque(range(10), maxlen=10)\n",
    "dq"
   ]
  },
  {
   "cell_type": "code",
   "execution_count": 151,
   "id": "e04d6c7a",
   "metadata": {},
   "outputs": [
    {
     "data": {
      "text/plain": [
       "deque([7, 8, 9, 0, 1, 2, 3, 4, 5, 6], maxlen=10)"
      ]
     },
     "execution_count": 151,
     "metadata": {},
     "output_type": "execute_result"
    }
   ],
   "source": [
    "dq.rotate(3)\n",
    "dq"
   ]
  },
  {
   "cell_type": "code",
   "execution_count": 152,
   "id": "9f0cf947",
   "metadata": {},
   "outputs": [
    {
     "data": {
      "text/plain": [
       "deque([1, 2, 3, 4, 5, 6, 7, 8, 9, 0], maxlen=10)"
      ]
     },
     "execution_count": 152,
     "metadata": {},
     "output_type": "execute_result"
    }
   ],
   "source": [
    "dq.rotate(-4)\n",
    "dq"
   ]
  },
  {
   "cell_type": "code",
   "execution_count": 153,
   "id": "880484ce",
   "metadata": {},
   "outputs": [
    {
     "data": {
      "text/plain": [
       "deque([-1, 1, 2, 3, 4, 5, 6, 7, 8, 9], maxlen=10)"
      ]
     },
     "execution_count": 153,
     "metadata": {},
     "output_type": "execute_result"
    }
   ],
   "source": [
    "dq.appendleft(-1)\n",
    "dq"
   ]
  },
  {
   "cell_type": "code",
   "execution_count": 154,
   "id": "382af134",
   "metadata": {},
   "outputs": [
    {
     "data": {
      "text/plain": [
       "deque([3, 4, 5, 6, 7, 8, 9, 11, 22, 33], maxlen=10)"
      ]
     },
     "execution_count": 154,
     "metadata": {},
     "output_type": "execute_result"
    }
   ],
   "source": [
    "dq.extend([11, 22, 33,])\n",
    "dq"
   ]
  },
  {
   "cell_type": "code",
   "execution_count": 155,
   "id": "75ced29d",
   "metadata": {},
   "outputs": [
    {
     "data": {
      "text/plain": [
       "deque([40, 30, 20, 10, 3, 4, 5, 6, 7, 8], maxlen=10)"
      ]
     },
     "execution_count": 155,
     "metadata": {},
     "output_type": "execute_result"
    }
   ],
   "source": [
    "dq.extendleft([10, 20, 30, 40])\n",
    "dq"
   ]
  },
  {
   "cell_type": "code",
   "execution_count": null,
   "id": "fef0473a",
   "metadata": {},
   "outputs": [],
   "source": []
  }
 ],
 "metadata": {
  "kernelspec": {
   "display_name": "Python 3 (ipykernel)",
   "language": "python",
   "name": "python3"
  }
 },
 "nbformat": 4,
 "nbformat_minor": 5
}
