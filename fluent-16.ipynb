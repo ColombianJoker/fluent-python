{
 "cells": [
  {
   "cell_type": "markdown",
   "id": "ac22c0d0",
   "metadata": {},
   "source": [
    "# 16. Operator Overloading\n",
    "\n",
    "> There are some things that I kind of feel torn about, like operator overloading. I left out operator overloading as a fairly personal choice because I had seen too many people abuse it in C++.\n",
    ">> James Gosling, creator of Java"
   ]
  },
  {
   "cell_type": "markdown",
   "id": "92eaceed",
   "metadata": {},
   "source": [
    "## Unary Operators\n",
    "\n",
    "_The Python Language Reference_  lists three unary operators:\n",
    "\n",
    "`-`, implemented by `__neg__`\n",
    "\n",
    "`+`, implemented by `__pos__`\n",
    "\n",
    "`~`, implemented by `__invert__`\n",
    "\n"
   ]
  },
  {
   "cell_type": "markdown",
   "id": "42a4e478",
   "metadata": {},
   "source": [
    "## Overloading `+` for Vector Addition\n",
    "\n",
    "Adding two Euclidean vectors results in a new vector in which the components are the pairwise additions of the components of the operands:"
   ]
  },
  {
   "cell_type": "code",
   "execution_count": 58,
   "id": "24ada2ff",
   "metadata": {},
   "outputs": [],
   "source": [
    "from array import array\n",
    "import reprlib\n",
    "import math"
   ]
  },
  {
   "cell_type": "code",
   "execution_count": 59,
   "id": "4d868ce2",
   "metadata": {},
   "outputs": [],
   "source": [
    "class Vector:\n",
    "    typecode = 'd'\n",
    "\n",
    "    def __init__(self, components):\n",
    "        self._components = array(self.typecode, components)\n",
    "\n",
    "    def __len__(self):\n",
    "        return len(self._components)\n",
    "\n",
    "    def __iter__(self):\n",
    "        return iter(self._components)\n",
    "    \n",
    "    def __repr__(self):\n",
    "        components = reprlib.repr(self._components) \n",
    "        components = components[components.find('['):-1] \n",
    "        return f'Vector({components})'\n",
    "    \n",
    "    def __str__(self):\n",
    "        return str(tuple(self))\n",
    "\n",
    "    def __bytes__(self):\n",
    "        return (bytes([ord(self.typecode)]) +\n",
    "                bytes(self._components))\n",
    "    \n",
    "    def __eq__(self, other):\n",
    "        return tuple(self) == tuple(other)\n",
    "    \n",
    "    def __abs__(self):\n",
    "        return math.hypot(*self)\n",
    "    \n",
    "    def __bool__(self):\n",
    "        return bool(abs(self))\n",
    "    \n",
    "    @classmethod\n",
    "    def frombytes(cls, octets):\n",
    "        typecode = chr(octets[0])\n",
    "        memv = memoryview(octets[1:]).cast(typecode) \n",
    "        return cls(memv)"
   ]
  },
  {
   "cell_type": "code",
   "execution_count": 60,
   "id": "bb3c449a",
   "metadata": {},
   "outputs": [],
   "source": [
    "import itertools\n",
    "\n",
    "def __add__(self, other):\n",
    "    pairs = itertools.zip_longest(self, other, fillvalue=0.0)\n",
    "    return Vector(a + b for a, b in pairs)\n",
    "\n",
    "Vector.__add__ = __add__"
   ]
  },
  {
   "cell_type": "code",
   "execution_count": 61,
   "id": "06c56017",
   "metadata": {},
   "outputs": [
    {
     "data": {
      "text/plain": [
       "Vector([13.0, 24.0, 35.0])"
      ]
     },
     "execution_count": 61,
     "metadata": {},
     "output_type": "execute_result"
    }
   ],
   "source": [
    "v1 = Vector( [3, 4, 5] )\n",
    "v1 + (10, 20, 30)"
   ]
  },
  {
   "cell_type": "code",
   "execution_count": 62,
   "id": "7f0d8a9a",
   "metadata": {},
   "outputs": [
    {
     "data": {
      "text/plain": [
       "Vector([4.0, 6.0, 5.0])"
      ]
     },
     "execution_count": 62,
     "metadata": {},
     "output_type": "execute_result"
    }
   ],
   "source": [
    "from vector2d_v3_slots import Vector2d\n",
    "\n",
    "v2d = Vector2d(1, 2)\n",
    "v1 + v2d"
   ]
  },
  {
   "cell_type": "code",
   "execution_count": 63,
   "id": "0dc6b4de",
   "metadata": {},
   "outputs": [
    {
     "name": "stdout",
     "output_type": "stream",
     "text": [
      "e=TypeError('can only concatenate tuple (not \"Vector\") to tuple')\n"
     ]
    }
   ],
   "source": [
    "try:\n",
    "    (10, 20, 30) + v1\n",
    "except TypeError as e:\n",
    "    print(f\"{e=}\")"
   ]
  },
  {
   "cell_type": "code",
   "execution_count": 64,
   "id": "b723da3a",
   "metadata": {},
   "outputs": [],
   "source": [
    "def __radd__(self, other):\n",
    "    return self + other\n",
    "\n",
    "Vector.__radd__ = __radd__"
   ]
  },
  {
   "cell_type": "code",
   "execution_count": 65,
   "id": "1062455c",
   "metadata": {},
   "outputs": [
    {
     "name": "stdout",
     "output_type": "stream",
     "text": [
      "(10, 20, 30) + v1=Vector([13.0, 24.0, 35.0])\n"
     ]
    }
   ],
   "source": [
    "try:\n",
    "    print(f\"{(10, 20, 30) + v1=}\")\n",
    "except TypeError as e:\n",
    "    print(f\"{e=}\")"
   ]
  },
  {
   "cell_type": "code",
   "execution_count": 66,
   "id": "50031b94",
   "metadata": {},
   "outputs": [
    {
     "name": "stdout",
     "output_type": "stream",
     "text": [
      "e=TypeError(\"'int' object is not iterable\")\n"
     ]
    }
   ],
   "source": [
    "try:\n",
    "    v1 + 1\n",
    "except TypeError as e:\n",
    "    print(f\"{e=}\")"
   ]
  },
  {
   "cell_type": "code",
   "execution_count": 67,
   "id": "c7da0467",
   "metadata": {},
   "outputs": [
    {
     "name": "stdout",
     "output_type": "stream",
     "text": [
      "e=TypeError(\"unsupported operand type(s) for +: 'float' and 'str'\")\n"
     ]
    }
   ],
   "source": [
    "try:\n",
    "    v1 + 'ABC'\n",
    "except TypeError as e:\n",
    "    print(f\"{e=}\")"
   ]
  },
  {
   "cell_type": "code",
   "execution_count": 68,
   "id": "624db709",
   "metadata": {},
   "outputs": [],
   "source": [
    "def __add__(self, other):\n",
    "    try:\n",
    "        pairs = itertools.zip_longest(self, other, fillvalue=0.0)\n",
    "        return Vector(a + b for a, b in pairs)\n",
    "    except TypeError:\n",
    "        return NotImplemented\n",
    "    \n",
    "def __radd__(self, other):\n",
    "    return self + other\n",
    "\n",
    "Vector.__add__ = __add__\n",
    "Vector.__radd__ = __radd__"
   ]
  },
  {
   "cell_type": "code",
   "execution_count": 69,
   "id": "7c01b9e1",
   "metadata": {},
   "outputs": [
    {
     "name": "stdout",
     "output_type": "stream",
     "text": [
      "e=TypeError(\"unsupported operand type(s) for +: 'Vector' and 'int'\")\n"
     ]
    }
   ],
   "source": [
    "try:\n",
    "    v1 + 1\n",
    "except TypeError as e:\n",
    "    print(f\"{e=}\")"
   ]
  },
  {
   "cell_type": "code",
   "execution_count": 70,
   "id": "ca454b78",
   "metadata": {},
   "outputs": [
    {
     "name": "stdout",
     "output_type": "stream",
     "text": [
      "e=TypeError(\"unsupported operand type(s) for +: 'Vector' and 'str'\")\n"
     ]
    }
   ],
   "source": [
    "try:\n",
    "    v1 + 'ABC'\n",
    "except TypeError as e:\n",
    "    print(f\"{e=}\")"
   ]
  },
  {
   "cell_type": "markdown",
   "id": "47075823",
   "metadata": {},
   "source": [
    "## Overloading `*` for Scalar Multiplication"
   ]
  },
  {
   "cell_type": "code",
   "execution_count": 71,
   "id": "5ee945ec",
   "metadata": {},
   "outputs": [],
   "source": [
    "def __mul__(self, scalar):\n",
    "    try:\n",
    "        factor = float(scalar)\n",
    "    except TypeError:\n",
    "        return NotImplemented\n",
    "    return Vector(n * factor for n in self)\n",
    "\n",
    "def __rmul__(self, scalar):\n",
    "    return self * scalar\n",
    "\n",
    "Vector.__mul__ = __mul__\n",
    "Vector.__rmul__ = __rmul__"
   ]
  },
  {
   "cell_type": "code",
   "execution_count": 72,
   "id": "9fa3c21e",
   "metadata": {},
   "outputs": [
    {
     "data": {
      "text/plain": [
       "Vector([14.0, 28.0, 42.0])"
      ]
     },
     "execution_count": 72,
     "metadata": {},
     "output_type": "execute_result"
    }
   ],
   "source": [
    "v1 = Vector([1.0, 2.0, 3.0])\n",
    "14 * v1"
   ]
  },
  {
   "cell_type": "code",
   "execution_count": 73,
   "id": "20bad906",
   "metadata": {},
   "outputs": [
    {
     "data": {
      "text/plain": [
       "Vector([1.0, 2.0, 3.0])"
      ]
     },
     "execution_count": 73,
     "metadata": {},
     "output_type": "execute_result"
    }
   ],
   "source": [
    "v1 * True"
   ]
  },
  {
   "cell_type": "code",
   "execution_count": 74,
   "id": "104a29b9",
   "metadata": {},
   "outputs": [
    {
     "data": {
      "text/plain": [
       "Vector([0.3333333333333333, 0.6666666666666666, 1.0])"
      ]
     },
     "execution_count": 74,
     "metadata": {},
     "output_type": "execute_result"
    }
   ],
   "source": [
    "from fractions import Fraction\n",
    "v1 * Fraction(1, 3)"
   ]
  },
  {
   "cell_type": "markdown",
   "id": "27d9a98c",
   "metadata": {},
   "source": [
    "## Using `@` as an Infix Operator\n",
    "\n",
    "The `@` sign is well-known as the prefix of function decorators, but since 2015, it can also be used as an infix operator. For years, the dot product was written as `numpy.dot(a, b)` in NumPy. The function call notation makes longer formulas harder to translate from mathematical notation to Python, so the numerical computing community lobbied for \"PEP 465—A dedicated infix operator for matrix multiplication\", which was implemented in Python 3.5. Today, you can write `a @ b` to compute the dot product of two NumPy arrays."
   ]
  },
  {
   "cell_type": "code",
   "execution_count": 75,
   "id": "5d40a697",
   "metadata": {},
   "outputs": [
    {
     "name": "stdout",
     "output_type": "stream",
     "text": [
      "e=TypeError(\"unsupported operand type(s) for @: 'Vector' and 'Vector'\")\n"
     ]
    }
   ],
   "source": [
    "va = Vector([1, 2, 3 ])\n",
    "vz = Vector([5, 6, 7 ])\n",
    "try:\n",
    "    va @ vz == 38\n",
    "except TypeError as e:\n",
    "    print(f\"{e=}\")"
   ]
  },
  {
   "cell_type": "code",
   "execution_count": 76,
   "id": "b74e8788",
   "metadata": {},
   "outputs": [],
   "source": [
    "from collections import abc\n",
    "\n",
    "def __matmul__(self, other):\n",
    "    if (isinstance(other, abc.Sized) and\n",
    "        isinstance(other, abc.Iterable)):\n",
    "        if len(self) == len(other):\n",
    "            return sum(a*b for a, b in zip(self, other))\n",
    "        else:\n",
    "            raise ValueError('@ requires vectors of equal length.')\n",
    "    else:\n",
    "        return NotImplemented\n",
    "    \n",
    "def __rmatmul__(self, other):\n",
    "    return self @ other\n",
    "\n",
    "Vector.__matmul__ = __matmul__\n",
    "Vector.__rmatmul__ = __rmatmul__"
   ]
  },
  {
   "cell_type": "code",
   "execution_count": 77,
   "id": "58bd0876",
   "metadata": {},
   "outputs": [
    {
     "name": "stdout",
     "output_type": "stream",
     "text": [
      "va @ vz == 38=True\n"
     ]
    }
   ],
   "source": [
    "va = Vector([1, 2, 3 ])\n",
    "vz = Vector([5, 6, 7 ])\n",
    "try:\n",
    "    print(f\"{va @ vz == 38=}\")\n",
    "except TypeError as e:\n",
    "    print(f\"{e=}\")"
   ]
  },
  {
   "cell_type": "markdown",
   "id": "62512dd1",
   "metadata": {},
   "source": [
    "## Wrapping-Up Arithmetic Operators\n",
    "\n",
    "### _Infix operator method names_\n",
    "\n",
    "| Operator | Forward | Reverse | In-place | Description |\n",
    "| :------: | :------ | :------ | :------- | :---------- |\n",
    "| `+`  | __add__ | __radd__ | __iadd__ | Addition or concatenation |\n",
    "| `-`  | __sub__ | __rsub__ | __isub__ | Substraction | \n",
    "| `*`  | __mul__ | __rmul__ | __imul__ | Multiplication or repetition |\n",
    "| `/`  | __truediv__ | __rtruediv__ | __itruediv__ | True division | \n",
    "| `//` | __floordiv__ | __rfloordiv__ | __ifloordiv__ | Floor division |\n",
    "| `%`  | __mod__ | __rmod__ | __imod__ | Modulo |\n",
    "| `divmod()` | __divmod__ | __rdivmod__ | __idivmod__ | Returns tuple of floor division quotient and modulo |\n",
    "| `**`, `pow()` | __pow__ | __rpow__ | __ipow__ | Exponentiation | \n",
    "| `@` | __matmul__ | __rmatmul__ | __imatmul__ | Matrix multiplication | \n",
    "| `&` | __and__ |  __rand__ | __iand__ | Bitwise and | \n",
    "| `\\|` | __or__ | __ror__ | __ior__ | Bitwise or | \n",
    "| `^` | __xor__ | __rxor__ | __ixor__ | Bitwise xor |\n",
    "| `<<` | __lshift__ | __rlshift__ | __ilshift__ |  Bitwise shift left | \n",
    "| `>>` | __rshift__ | __rrshift__ | __irshift__ | Bitwise shift right | \n"
   ]
  },
  {
   "cell_type": "markdown",
   "id": "ba465746",
   "metadata": {},
   "source": [
    "### Rich Comparison Operators\n",
    "\n",
    "| Group | Infix operator | Forward method call | Reverse method call | Fallback |\n",
    "| :---- | :------------- | :------------------ | :------------------ | :------- |\n",
    "| **Equality**  | `a == b` | `a.__eq__(b)` | `b.__eq__(a)` | Return `id(a) == id(b)` |\n",
    "| | `a != b` | `a.__ne__(b)` | `b.__ne__(a)` | Return `not (a == b)` | \n",
    "| **Ordering** | `a > b` | `a.__gt__(b)` | `b.__lt__(a)` | Return `TypeError` | \n",
    "| | `a > b` | `a.__lt__(b)` | `b.__gt__(a)` | Return `TypeError` |\n",
    "| | `a >= b` | `a.__ge__(b)` | `b.__le__(a)` | Return `TypeError` |\n",
    "| | `a <= b` | `a.__le__(b)` | `b.__ge__(a)` | Return `TypeError` |"
   ]
  },
  {
   "cell_type": "code",
   "execution_count": 78,
   "id": "442b1601",
   "metadata": {},
   "outputs": [],
   "source": [
    "def __eq__(self, other):\n",
    "    return (len(self) == len(other) and\n",
    "            all(a==b for a, b in zip(self, other)))\n",
    "\n",
    "Vector.__eq__ = __eq__"
   ]
  },
  {
   "cell_type": "code",
   "execution_count": 79,
   "id": "780cd2b4",
   "metadata": {},
   "outputs": [
    {
     "data": {
      "text/plain": [
       "True"
      ]
     },
     "execution_count": 79,
     "metadata": {},
     "output_type": "execute_result"
    }
   ],
   "source": [
    "va = Vector([1.0, 2.0, 3.0])\n",
    "vb = Vector(range(1, 4))\n",
    "va == vb"
   ]
  },
  {
   "cell_type": "code",
   "execution_count": 86,
   "id": "0bcbaa05",
   "metadata": {},
   "outputs": [
    {
     "name": "stdout",
     "output_type": "stream",
     "text": [
      "vc == v2d=True\n"
     ]
    }
   ],
   "source": [
    "vc = Vector([1, 2])\n",
    "v2d = Vector2d(1,2)\n",
    "try:\n",
    "    print(f\"{vc == v2d=}\")\n",
    "except Exception as e:\n",
    "    print(f\"{e=}\")"
   ]
  },
  {
   "cell_type": "code",
   "execution_count": 87,
   "id": "c9763594",
   "metadata": {},
   "outputs": [],
   "source": [
    "def __len2d__(self):\n",
    "    return 2\n",
    "\n",
    "Vector2d.__len__ = __len2d__"
   ]
  },
  {
   "cell_type": "code",
   "execution_count": 88,
   "id": "818492c0",
   "metadata": {},
   "outputs": [
    {
     "name": "stdout",
     "output_type": "stream",
     "text": [
      "vc == v2d=True\n"
     ]
    }
   ],
   "source": [
    "vc = Vector([1, 2])\n",
    "v2d = Vector2d(1,2)\n",
    "try:\n",
    "    print(f\"{vc == v2d=}\")\n",
    "except Exception as e:\n",
    "    print(f\"{e=}\")"
   ]
  },
  {
   "cell_type": "code",
   "execution_count": 90,
   "id": "f9e2dad2",
   "metadata": {},
   "outputs": [
    {
     "data": {
      "text/plain": [
       "True"
      ]
     },
     "execution_count": 90,
     "metadata": {},
     "output_type": "execute_result"
    }
   ],
   "source": [
    "t3 = (1, 2, 3)\n",
    "va == t3"
   ]
  },
  {
   "cell_type": "code",
   "execution_count": 91,
   "id": "3ae24b14",
   "metadata": {},
   "outputs": [],
   "source": [
    "def __eq__(self, other):\n",
    "    if isinstance(other, Vector):\n",
    "        return (len(self) == len(other) and\n",
    "                all(a==b for a, b in zip(self, other)))\n",
    "    else:\n",
    "        return NotImplemented\n",
    "    \n",
    "Vector.__eq__ = __eq__"
   ]
  },
  {
   "cell_type": "code",
   "execution_count": 92,
   "id": "c052efce",
   "metadata": {},
   "outputs": [
    {
     "data": {
      "text/plain": [
       "False"
      ]
     },
     "execution_count": 92,
     "metadata": {},
     "output_type": "execute_result"
    }
   ],
   "source": [
    "t3 = (1, 2, 3)\n",
    "va == t3"
   ]
  },
  {
   "cell_type": "markdown",
   "id": "9992c244",
   "metadata": {},
   "source": [
    "## Augmented Assignment Operators"
   ]
  },
  {
   "cell_type": "code",
   "execution_count": 93,
   "id": "172c1c7e",
   "metadata": {},
   "outputs": [],
   "source": [
    "v1 = Vector([1, 2, 3])\n",
    "v1_alias = v1"
   ]
  },
  {
   "cell_type": "code",
   "execution_count": 94,
   "id": "b2a84cf5",
   "metadata": {},
   "outputs": [
    {
     "data": {
      "text/plain": [
       "140059492755088"
      ]
     },
     "execution_count": 94,
     "metadata": {},
     "output_type": "execute_result"
    }
   ],
   "source": [
    "id(v1)"
   ]
  },
  {
   "cell_type": "code",
   "execution_count": 95,
   "id": "cfa89653",
   "metadata": {},
   "outputs": [
    {
     "data": {
      "text/plain": [
       "Vector([5.0, 7.0, 9.0])"
      ]
     },
     "execution_count": 95,
     "metadata": {},
     "output_type": "execute_result"
    }
   ],
   "source": [
    "v1 += Vector( [4, 5, 6])\n",
    "v1"
   ]
  },
  {
   "cell_type": "code",
   "execution_count": 96,
   "id": "dc71d2ac",
   "metadata": {},
   "outputs": [
    {
     "data": {
      "text/plain": [
       "140059126406160"
      ]
     },
     "execution_count": 96,
     "metadata": {},
     "output_type": "execute_result"
    }
   ],
   "source": [
    "id(v1)"
   ]
  },
  {
   "cell_type": "code",
   "execution_count": 97,
   "id": "ef7e9b8f",
   "metadata": {},
   "outputs": [
    {
     "data": {
      "text/plain": [
       "Vector([1.0, 2.0, 3.0])"
      ]
     },
     "execution_count": 97,
     "metadata": {},
     "output_type": "execute_result"
    }
   ],
   "source": [
    "v1_alias"
   ]
  },
  {
   "cell_type": "code",
   "execution_count": 98,
   "id": "a1520fe1",
   "metadata": {},
   "outputs": [
    {
     "data": {
      "text/plain": [
       "Vector([55.0, 77.0, 99.0])"
      ]
     },
     "execution_count": 98,
     "metadata": {},
     "output_type": "execute_result"
    }
   ],
   "source": [
    "v1 *= 11\n",
    "v1"
   ]
  },
  {
   "cell_type": "code",
   "execution_count": 99,
   "id": "95cf7d9a",
   "metadata": {},
   "outputs": [
    {
     "data": {
      "text/plain": [
       "140059126399504"
      ]
     },
     "execution_count": 99,
     "metadata": {},
     "output_type": "execute_result"
    }
   ],
   "source": [
    "id(v1)"
   ]
  },
  {
   "cell_type": "code",
   "execution_count": null,
   "id": "84c10de3",
   "metadata": {},
   "outputs": [],
   "source": []
  }
 ],
 "metadata": {
  "kernelspec": {
   "display_name": "Python 3 (ipykernel)",
   "language": "python",
   "name": "python3"
  }
 },
 "nbformat": 4,
 "nbformat_minor": 5
}
