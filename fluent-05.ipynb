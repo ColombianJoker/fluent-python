{
 "cells": [
  {
   "cell_type": "markdown",
   "id": "632886d2",
   "metadata": {},
   "source": [
    "# Data Class Builders\n",
    "\n",
    "> Data classes are like children. They are okay as a starting point, but to participate as a grownup object, they need to take some resposibility.\n",
    ">> Martin Fowler and Kent Beck"
   ]
  },
  {
   "cell_type": "markdown",
   "id": "04cd1117",
   "metadata": {},
   "source": [
    "## Overview of Data Class Builders"
   ]
  },
  {
   "cell_type": "code",
   "execution_count": 1,
   "id": "60952793",
   "metadata": {},
   "outputs": [],
   "source": [
    "class Coordinate:\n",
    "\n",
    "    def __init__(self, lat, lon):\n",
    "        self.lat = lat\n",
    "        self.lon = lon"
   ]
  },
  {
   "cell_type": "code",
   "execution_count": 2,
   "id": "cc022934",
   "metadata": {},
   "outputs": [
    {
     "data": {
      "text/plain": [
       "<__main__.Coordinate at 0x7fbae8205dd0>"
      ]
     },
     "execution_count": 2,
     "metadata": {},
     "output_type": "execute_result"
    }
   ],
   "source": [
    "moscow = Coordinate(55.76, 37.62)\n",
    "moscow"
   ]
  },
  {
   "cell_type": "code",
   "execution_count": 3,
   "id": "6f388fa4",
   "metadata": {},
   "outputs": [
    {
     "data": {
      "text/plain": [
       "False"
      ]
     },
     "execution_count": 3,
     "metadata": {},
     "output_type": "execute_result"
    }
   ],
   "source": [
    "location = Coordinate(55.76, 37.62)\n",
    "location == moscow"
   ]
  },
  {
   "cell_type": "code",
   "execution_count": 4,
   "id": "2a334a4e",
   "metadata": {},
   "outputs": [
    {
     "data": {
      "text/plain": [
       "True"
      ]
     },
     "execution_count": 4,
     "metadata": {},
     "output_type": "execute_result"
    }
   ],
   "source": [
    "(location.lat, location.lon) == (moscow.lat, moscow.lon)"
   ]
  },
  {
   "cell_type": "code",
   "execution_count": 5,
   "id": "7d57f020",
   "metadata": {},
   "outputs": [
    {
     "data": {
      "text/plain": [
       "True"
      ]
     },
     "execution_count": 5,
     "metadata": {},
     "output_type": "execute_result"
    }
   ],
   "source": [
    "from collections import namedtuple\n",
    "Coordinate = namedtuple('Coordinate', 'lat lon')\n",
    "issubclass(Coordinate, tuple)"
   ]
  },
  {
   "cell_type": "code",
   "execution_count": 6,
   "id": "3af66778",
   "metadata": {},
   "outputs": [
    {
     "data": {
      "text/plain": [
       "Coordinate(lat=55.756, lon=37.617)"
      ]
     },
     "execution_count": 6,
     "metadata": {},
     "output_type": "execute_result"
    }
   ],
   "source": [
    "moscow = Coordinate(55.756, 37.617)\n",
    "moscow"
   ]
  },
  {
   "cell_type": "code",
   "execution_count": 7,
   "id": "f51a1b16",
   "metadata": {},
   "outputs": [
    {
     "data": {
      "text/plain": [
       "True"
      ]
     },
     "execution_count": 7,
     "metadata": {},
     "output_type": "execute_result"
    }
   ],
   "source": [
    "moscow == Coordinate(lat=55.756, lon=37.617)"
   ]
  },
  {
   "cell_type": "code",
   "execution_count": 8,
   "id": "fbe8fee9",
   "metadata": {},
   "outputs": [
    {
     "data": {
      "text/plain": [
       "True"
      ]
     },
     "execution_count": 8,
     "metadata": {},
     "output_type": "execute_result"
    }
   ],
   "source": [
    "import typing\n",
    "Coordinate = typing.NamedTuple('Coordinate',\n",
    "                               [('lat', float), ('lon', float)]\n",
    ")\n",
    "issubclass(Coordinate, tuple)"
   ]
  },
  {
   "cell_type": "code",
   "execution_count": 9,
   "id": "16ae5ca4",
   "metadata": {},
   "outputs": [
    {
     "data": {
      "text/plain": [
       "{'lat': float, 'lon': float}"
      ]
     },
     "execution_count": 9,
     "metadata": {},
     "output_type": "execute_result"
    }
   ],
   "source": [
    "typing.get_type_hints(Coordinate)"
   ]
  },
  {
   "cell_type": "code",
   "execution_count": 12,
   "id": "0c37062a",
   "metadata": {},
   "outputs": [],
   "source": [
    "from typing import NamedTuple\n",
    "\n",
    "class Coordinate(NamedTuple):\n",
    "    lat: float\n",
    "    lon: float\n",
    "\n",
    "    def __str__(self):\n",
    "        ns = 'N' if self.lat >= 0 else 'S'\n",
    "        we = 'E' if self.lon >= 0 else 'W'\n",
    "        return f'{abs(self.lat):.1f}°{ns}, {abs(self.lon):.1f}°{we}'"
   ]
  },
  {
   "cell_type": "code",
   "execution_count": 18,
   "id": "1d771d70",
   "metadata": {},
   "outputs": [
    {
     "data": {
      "text/plain": [
       "True"
      ]
     },
     "execution_count": 18,
     "metadata": {},
     "output_type": "execute_result"
    }
   ],
   "source": [
    "issubclass(Coordinate, tuple)"
   ]
  },
  {
   "cell_type": "code",
   "execution_count": 19,
   "id": "f2553c21",
   "metadata": {},
   "outputs": [],
   "source": [
    "from dataclasses import dataclass\n",
    "\n",
    "@dataclass(frozen=True)\n",
    "class Coordinate:\n",
    "    lat: float\n",
    "    lon: float\n",
    "\n",
    "    def __str__(self):\n",
    "        ns = 'N' if self.lat >= 0 else 'S'\n",
    "        we = 'E' if self.lon >= 0 else 'W'\n",
    "        return f'{abs(self.lat):.1f}°{ns}, {abs(self.lon):.1f}°{we}'    "
   ]
  },
  {
   "cell_type": "markdown",
   "id": "1779a0c6",
   "metadata": {},
   "source": [
    "## Classic Named Tuples\n",
    "\n",
    "The `collections.namedtuple` function is a factory that builds subclasses of `tuple` enhanced with field names, a class name, and an informative `__repr__`. Classes built with `namedtuple` can be used anywhere where tuples are needed, and in fact many functions of the Python standard library that are used to return tuples now return named tuples for convenience, without affecting the user’s code at all."
   ]
  },
  {
   "cell_type": "code",
   "execution_count": 20,
   "id": "2453aa9f",
   "metadata": {},
   "outputs": [
    {
     "data": {
      "text/plain": [
       "City(name='Tokyo', country='JP', population=36.933, coordinates=(35.689722, 139.691667))"
      ]
     },
     "execution_count": 20,
     "metadata": {},
     "output_type": "execute_result"
    }
   ],
   "source": [
    "from collections import namedtuple\n",
    "\n",
    "City = namedtuple('City', 'name country population coordinates')\n",
    "tokyo = City('Tokyo', 'JP', 36.933, (35.689722, 139.691667))\n",
    "tokyo"
   ]
  },
  {
   "cell_type": "code",
   "execution_count": 21,
   "id": "59624d89",
   "metadata": {},
   "outputs": [
    {
     "data": {
      "text/plain": [
       "36.933"
      ]
     },
     "execution_count": 21,
     "metadata": {},
     "output_type": "execute_result"
    }
   ],
   "source": [
    "tokyo.population"
   ]
  },
  {
   "cell_type": "code",
   "execution_count": 22,
   "id": "459f760d",
   "metadata": {},
   "outputs": [
    {
     "data": {
      "text/plain": [
       "(35.689722, 139.691667)"
      ]
     },
     "execution_count": 22,
     "metadata": {},
     "output_type": "execute_result"
    }
   ],
   "source": [
    "tokyo.coordinates"
   ]
  },
  {
   "cell_type": "code",
   "execution_count": 23,
   "id": "3be3e7e9",
   "metadata": {},
   "outputs": [
    {
     "data": {
      "text/plain": [
       "'JP'"
      ]
     },
     "execution_count": 23,
     "metadata": {},
     "output_type": "execute_result"
    }
   ],
   "source": [
    "tokyo[1]"
   ]
  },
  {
   "cell_type": "code",
   "execution_count": 24,
   "id": "a2a67cba",
   "metadata": {},
   "outputs": [
    {
     "data": {
      "text/plain": [
       "('name', 'country', 'population', 'coordinates')"
      ]
     },
     "execution_count": 24,
     "metadata": {},
     "output_type": "execute_result"
    }
   ],
   "source": [
    "City._fields"
   ]
  },
  {
   "cell_type": "code",
   "execution_count": 25,
   "id": "137cbc5b",
   "metadata": {},
   "outputs": [
    {
     "data": {
      "text/plain": [
       "{'name': 'Delhi NCR',\n",
       " 'country': 'IN',\n",
       " 'population': 21.935,\n",
       " 'coordinates': Coordinate(lat=28.613889, lon=77.208889)}"
      ]
     },
     "execution_count": 25,
     "metadata": {},
     "output_type": "execute_result"
    }
   ],
   "source": [
    "Coordinate = namedtuple('Coordinate', 'lat lon')\n",
    "delhi_data = ('Delhi NCR', 'IN', 21.935, Coordinate(28.613889, 77.208889))\n",
    "delhi = City._make(delhi_data)\n",
    "delhi._asdict()"
   ]
  },
  {
   "cell_type": "code",
   "execution_count": 26,
   "id": "f5bd260a",
   "metadata": {},
   "outputs": [
    {
     "data": {
      "text/plain": [
       "'{\"name\": \"Delhi NCR\", \"country\": \"IN\", \"population\": 21.935, \"coordinates\": [28.613889, 77.208889]}'"
      ]
     },
     "execution_count": 26,
     "metadata": {},
     "output_type": "execute_result"
    }
   ],
   "source": [
    "import json\n",
    "json.dumps(delhi._asdict())"
   ]
  },
  {
   "cell_type": "code",
   "execution_count": 27,
   "id": "441aa634",
   "metadata": {},
   "outputs": [
    {
     "data": {
      "text/plain": [
       "Coordinate(lat=0, lon=0, reference='WGS84')"
      ]
     },
     "execution_count": 27,
     "metadata": {},
     "output_type": "execute_result"
    }
   ],
   "source": [
    "Coordinate = namedtuple('Coordinate', 'lat lon reference', defaults=['WGS84'])\n",
    "Coordinate(0, 0)"
   ]
  },
  {
   "cell_type": "code",
   "execution_count": 28,
   "id": "b9c1acb2",
   "metadata": {},
   "outputs": [
    {
     "data": {
      "text/plain": [
       "{'reference': 'WGS84'}"
      ]
     },
     "execution_count": 28,
     "metadata": {},
     "output_type": "execute_result"
    }
   ],
   "source": [
    "Coordinate._field_defaults"
   ]
  },
  {
   "cell_type": "markdown",
   "id": "043b19ba",
   "metadata": {},
   "source": [
    "## Typed Named Tuples\n",
    "\n",
    "The `Coordinate` class with a default field from before can be written using `typing.NamedTuple` as shown:"
   ]
  },
  {
   "cell_type": "code",
   "execution_count": 29,
   "id": "315e339a",
   "metadata": {},
   "outputs": [],
   "source": [
    "from typing import NamedTuple\n",
    "\n",
    "class Coordinate(NamedTuple):\n",
    "    lat: float\n",
    "    lon: float\n",
    "    reference: str = 'WGS84'"
   ]
  },
  {
   "cell_type": "markdown",
   "id": "ea479e7d",
   "metadata": {},
   "source": [
    "### No Runtime Effect\n",
    "\n",
    "Think about Python type hints as “documentation that can be verified by IDEs and type checkers.”"
   ]
  },
  {
   "cell_type": "code",
   "execution_count": 30,
   "id": "e4f55070",
   "metadata": {},
   "outputs": [
    {
     "name": "stdout",
     "output_type": "stream",
     "text": [
      "Coordinate(lat='Ni!', lon=None)\n"
     ]
    }
   ],
   "source": [
    "import typing\n",
    "\n",
    "class Coordinate(typing.NamedTuple):\n",
    "    lat: float\n",
    "    lon: float\n",
    "\n",
    "trash = Coordinate('Ni!', None)\n",
    "print(trash)"
   ]
  },
  {
   "cell_type": "code",
   "execution_count": 31,
   "id": "3358a5a7",
   "metadata": {},
   "outputs": [],
   "source": [
    "class DemoPlainClass:\n",
    "    a: int\n",
    "    b: float = 1.1\n",
    "    c = 'spam'"
   ]
  },
  {
   "cell_type": "code",
   "execution_count": 32,
   "id": "22ad971e",
   "metadata": {},
   "outputs": [
    {
     "data": {
      "text/plain": [
       "{'a': int, 'b': float}"
      ]
     },
     "execution_count": 32,
     "metadata": {},
     "output_type": "execute_result"
    }
   ],
   "source": [
    "DemoPlainClass.__annotations__"
   ]
  },
  {
   "cell_type": "code",
   "execution_count": 37,
   "id": "b982e763",
   "metadata": {},
   "outputs": [
    {
     "name": "stdout",
     "output_type": "stream",
     "text": [
      "e=AttributeError(\"type object 'DemoPlainClass' has no attribute 'a'\")\n"
     ]
    }
   ],
   "source": [
    "try:\n",
    "   print(f\"{DemoPlainClass.a=}\")\n",
    "except Exception as e:\n",
    "    print(f\"{e=}\")"
   ]
  },
  {
   "cell_type": "code",
   "execution_count": 36,
   "id": "73354be1",
   "metadata": {},
   "outputs": [
    {
     "name": "stdout",
     "output_type": "stream",
     "text": [
      "DemoPlainClass.b=1.1\n"
     ]
    }
   ],
   "source": [
    "try:\n",
    "    print(f\"{DemoPlainClass.b=}\")\n",
    "except Exception as e:\n",
    "    print(f\"{e=}\")"
   ]
  },
  {
   "cell_type": "code",
   "execution_count": 38,
   "id": "f1e43c98",
   "metadata": {},
   "outputs": [
    {
     "name": "stdout",
     "output_type": "stream",
     "text": [
      "DemoPlainClass.c='spam'\n"
     ]
    }
   ],
   "source": [
    "try:\n",
    "    print(f\"{DemoPlainClass.c=}\")\n",
    "except Exception as e:\n",
    "    print(f\"{e=}\")"
   ]
  },
  {
   "cell_type": "code",
   "execution_count": 39,
   "id": "baa1199f",
   "metadata": {},
   "outputs": [],
   "source": [
    "import typing\n",
    "\n",
    "class DemoNTClass(typing.NamedTuple):\n",
    "    a: int\n",
    "    b: float = 1.1\n",
    "    c = 'spam'"
   ]
  },
  {
   "cell_type": "code",
   "execution_count": 40,
   "id": "a9f2e451",
   "metadata": {},
   "outputs": [
    {
     "data": {
      "text/plain": [
       "{'a': int, 'b': float}"
      ]
     },
     "execution_count": 40,
     "metadata": {},
     "output_type": "execute_result"
    }
   ],
   "source": [
    "DemoNTClass.__annotations__"
   ]
  },
  {
   "cell_type": "code",
   "execution_count": 41,
   "id": "054ee188",
   "metadata": {},
   "outputs": [
    {
     "data": {
      "text/plain": [
       "_tuplegetter(0, 'Alias for field number 0')"
      ]
     },
     "execution_count": 41,
     "metadata": {},
     "output_type": "execute_result"
    }
   ],
   "source": [
    "DemoNTClass.a"
   ]
  },
  {
   "cell_type": "code",
   "execution_count": 42,
   "id": "6e99441e",
   "metadata": {},
   "outputs": [
    {
     "data": {
      "text/plain": [
       "_tuplegetter(1, 'Alias for field number 1')"
      ]
     },
     "execution_count": 42,
     "metadata": {},
     "output_type": "execute_result"
    }
   ],
   "source": [
    "DemoNTClass.b"
   ]
  },
  {
   "cell_type": "code",
   "execution_count": 43,
   "id": "0f9051e1",
   "metadata": {},
   "outputs": [
    {
     "data": {
      "text/plain": [
       "'spam'"
      ]
     },
     "execution_count": 43,
     "metadata": {},
     "output_type": "execute_result"
    }
   ],
   "source": [
    "DemoNTClass.c"
   ]
  },
  {
   "cell_type": "code",
   "execution_count": 44,
   "id": "de52a9b1",
   "metadata": {},
   "outputs": [
    {
     "data": {
      "text/plain": [
       "'DemoNTClass(a, b)'"
      ]
     },
     "execution_count": 44,
     "metadata": {},
     "output_type": "execute_result"
    }
   ],
   "source": [
    "DemoNTClass.__doc__"
   ]
  },
  {
   "cell_type": "code",
   "execution_count": 45,
   "id": "08fc4160",
   "metadata": {},
   "outputs": [
    {
     "data": {
      "text/plain": [
       "8"
      ]
     },
     "execution_count": 45,
     "metadata": {},
     "output_type": "execute_result"
    }
   ],
   "source": [
    "nt = DemoNTClass(8)\n",
    "nt.a"
   ]
  },
  {
   "cell_type": "code",
   "execution_count": 46,
   "id": "6737b639",
   "metadata": {},
   "outputs": [
    {
     "data": {
      "text/plain": [
       "1.1"
      ]
     },
     "execution_count": 46,
     "metadata": {},
     "output_type": "execute_result"
    }
   ],
   "source": [
    "nt.b"
   ]
  },
  {
   "cell_type": "code",
   "execution_count": 47,
   "id": "421a4b71",
   "metadata": {},
   "outputs": [
    {
     "data": {
      "text/plain": [
       "'spam'"
      ]
     },
     "execution_count": 47,
     "metadata": {},
     "output_type": "execute_result"
    }
   ],
   "source": [
    "nt.c"
   ]
  },
  {
   "cell_type": "code",
   "execution_count": 50,
   "id": "b7c3c325",
   "metadata": {},
   "outputs": [
    {
     "name": "stdout",
     "output_type": "stream",
     "text": [
      "e=AttributeError(\"can't set attribute\")\n"
     ]
    }
   ],
   "source": [
    "try:\n",
    "    nt.a += 1\n",
    "except Exception as e:\n",
    "    print(f\"{e=}\")"
   ]
  },
  {
   "cell_type": "code",
   "execution_count": 51,
   "id": "ee45bd7d",
   "metadata": {},
   "outputs": [
    {
     "name": "stdout",
     "output_type": "stream",
     "text": [
      "e=AttributeError(\"can't set attribute\")\n"
     ]
    }
   ],
   "source": [
    "try:\n",
    "    nt.b += 1\n",
    "except Exception as e:\n",
    "    print(f\"{e=}\")"
   ]
  },
  {
   "cell_type": "code",
   "execution_count": 53,
   "id": "64e8882f",
   "metadata": {},
   "outputs": [
    {
     "name": "stdout",
     "output_type": "stream",
     "text": [
      "e=AttributeError(\"'DemoNTClass' object attribute 'c' is read-only\")\n"
     ]
    }
   ],
   "source": [
    "try:\n",
    "    nt.c += \"1\"\n",
    "except Exception as e:\n",
    "    print(f\"{e=}\")"
   ]
  },
  {
   "cell_type": "code",
   "execution_count": 54,
   "id": "859dc834",
   "metadata": {},
   "outputs": [],
   "source": [
    "from dataclasses import dataclass\n",
    "\n",
    "@dataclass\n",
    "class DemoDataClass:\n",
    "    a: int\n",
    "    b: float = 1.1\n",
    "    c = 'spam'"
   ]
  },
  {
   "cell_type": "code",
   "execution_count": 55,
   "id": "21a38c70",
   "metadata": {},
   "outputs": [
    {
     "data": {
      "text/plain": [
       "{'a': int, 'b': float}"
      ]
     },
     "execution_count": 55,
     "metadata": {},
     "output_type": "execute_result"
    }
   ],
   "source": [
    "DemoDataClass.__annotations__"
   ]
  },
  {
   "cell_type": "code",
   "execution_count": 56,
   "id": "cedcd5af",
   "metadata": {},
   "outputs": [
    {
     "data": {
      "text/plain": [
       "'DemoDataClass(a: int, b: float = 1.1)'"
      ]
     },
     "execution_count": 56,
     "metadata": {},
     "output_type": "execute_result"
    }
   ],
   "source": [
    "DemoDataClass.__doc__"
   ]
  },
  {
   "cell_type": "code",
   "execution_count": 58,
   "id": "b5e5c26b",
   "metadata": {},
   "outputs": [
    {
     "name": "stdout",
     "output_type": "stream",
     "text": [
      "e=AttributeError(\"type object 'DemoDataClass' has no attribute 'a'\")\n"
     ]
    }
   ],
   "source": [
    "try:\n",
    "    print(f\"{DemoDataClass.a=}\")\n",
    "except Exception as e:\n",
    "    print(f\"{e=}\")"
   ]
  },
  {
   "cell_type": "code",
   "execution_count": 59,
   "id": "3f3d4347",
   "metadata": {},
   "outputs": [
    {
     "name": "stdout",
     "output_type": "stream",
     "text": [
      "DemoDataClass.b=1.1\n"
     ]
    }
   ],
   "source": [
    "try:\n",
    "    print(f\"{DemoDataClass.b=}\")\n",
    "except Exception as e:\n",
    "    print(f\"{e=}\")"
   ]
  },
  {
   "cell_type": "code",
   "execution_count": 60,
   "id": "557ea2fa",
   "metadata": {},
   "outputs": [
    {
     "name": "stdout",
     "output_type": "stream",
     "text": [
      "DemoDataClass.c='spam'\n"
     ]
    }
   ],
   "source": [
    "try:\n",
    "    print(f\"{DemoDataClass.c=}\")\n",
    "except Exception as e:\n",
    "    print(f\"{e=}\")"
   ]
  },
  {
   "cell_type": "code",
   "execution_count": 61,
   "id": "3c4ec530",
   "metadata": {},
   "outputs": [
    {
     "data": {
      "text/plain": [
       "9"
      ]
     },
     "execution_count": 61,
     "metadata": {},
     "output_type": "execute_result"
    }
   ],
   "source": [
    "dc = DemoDataClass(9)\n",
    "dc.a"
   ]
  },
  {
   "cell_type": "code",
   "execution_count": 62,
   "id": "6d5eabdb",
   "metadata": {},
   "outputs": [
    {
     "data": {
      "text/plain": [
       "1.1"
      ]
     },
     "execution_count": 62,
     "metadata": {},
     "output_type": "execute_result"
    }
   ],
   "source": [
    "dc.b"
   ]
  },
  {
   "cell_type": "code",
   "execution_count": 63,
   "id": "497de8e2",
   "metadata": {},
   "outputs": [
    {
     "data": {
      "text/plain": [
       "'spam'"
      ]
     },
     "execution_count": 63,
     "metadata": {},
     "output_type": "execute_result"
    }
   ],
   "source": [
    "dc.c"
   ]
  },
  {
   "cell_type": "code",
   "execution_count": 64,
   "id": "92969944",
   "metadata": {},
   "outputs": [],
   "source": [
    "dc.a = 10"
   ]
  },
  {
   "cell_type": "code",
   "execution_count": 65,
   "id": "b173ead0",
   "metadata": {},
   "outputs": [],
   "source": [
    "dc.b = 'oops'"
   ]
  },
  {
   "cell_type": "code",
   "execution_count": 67,
   "id": "a9adf8e4",
   "metadata": {},
   "outputs": [],
   "source": [
    "dc.c = 'whatever'\n",
    "dc.z = 'secret stash'"
   ]
  },
  {
   "cell_type": "markdown",
   "id": "67a5cbc5",
   "metadata": {},
   "source": [
    "## More About @dataclass"
   ]
  },
  {
   "cell_type": "markdown",
   "id": "9e94a290",
   "metadata": {},
   "source": [
    "### Field Options"
   ]
  },
  {
   "cell_type": "code",
   "execution_count": 70,
   "id": "24e69c95",
   "metadata": {},
   "outputs": [],
   "source": [
    "from dataclasses import dataclass, field\n",
    "\n",
    "@dataclass\n",
    "class ClubMember:\n",
    "    name: str\n",
    "    guests: list[str] = field(default_factory=list)\n",
    "    athlete: bool = field(default=False, repr=False)"
   ]
  },
  {
   "cell_type": "markdown",
   "id": "5d21574e",
   "metadata": {},
   "source": [
    "### Post-init Processing\n",
    "\n",
    "The `__init__` method generated by `@dataclass` only takes the arguments passed and assigns them—or their default values, if missing—to the instance attributes that are instance fields. But you may need to do more than that to initialize the instance. If that’s the case, you can provide a `__post_init__` method. When that method exists, @dataclass will add code to the generated `__init__` to call `__post_init__` as the last step."
   ]
  },
  {
   "cell_type": "code",
   "execution_count": 72,
   "id": "754f8804",
   "metadata": {},
   "outputs": [],
   "source": [
    "\"\"\"\n",
    "``HackerClubMember`` objects accept an optional ``handle`` argument::\n",
    "\n",
    "     >>> anna = HackerClubMember('Anna Ravenscroft', handle='AnnaRaven')\n",
    "     >>> anna\n",
    "     HackerClubMember(name='Anna Ravenscroft', guests=[], handle='AnnaRaven')\n",
    "\n",
    "If ``handle`` is omitted, it's set to the first part of the member's name::\n",
    "\n",
    "    >>> leo = HackerClubMember('Leo Rochael')\n",
    "    >>> leo\n",
    "    HackerClubMember(name='Leo Rochael', guests=[], handle='Leo')\n",
    "    \n",
    "Members must have a unique handle. The following ``leo2`` will not be created,\n",
    "because its ``handle`` would be 'Leo', which was taken by ``leo``::\n",
    "\n",
    "    >>> leo2 = HackerClubMember('Leo DaVinci')\n",
    "    Traceback (most recent call last):\n",
    "    ValueError: handle 'Leo' already exists.\n",
    "    \n",
    "To fix, ``leo2`` must be created with an explicit ``handle``::\n",
    "\n",
    "    >>> leo2 = HackerClubMember('Leo DaVinci', handle='Neo')\n",
    "    >>> leo2\n",
    "    HackerClubMember(name='Leo DaVinci', guests=[], handle='Neo') \n",
    "\"\"\"\n",
    "\n",
    "from dataclasses import dataclass\n",
    "\n",
    "@dataclass\n",
    "class HackerClubMember(ClubMember):\n",
    "    all_handles = set()\n",
    "    handle: str = ''\n",
    "    \n",
    "    def __post_init__(self):\n",
    "        cls = self.__class__\n",
    "        if self.handle == '':\n",
    "            self.handle = self.name.split()[0]\n",
    "        if self.handle in cls.all_handles:\n",
    "            msg = f'handle {self.handle} already exists.'\n",
    "            raise ValueError(msg)\n",
    "        cls.all_handles.add(self.handle)"
   ]
  },
  {
   "cell_type": "markdown",
   "id": "34c38406",
   "metadata": {},
   "source": [
    "### @dataclass Example: Dublin Core Resource Record"
   ]
  },
  {
   "cell_type": "code",
   "execution_count": 86,
   "id": "82d1d588",
   "metadata": {},
   "outputs": [],
   "source": [
    "from dataclasses import dataclass, field, fields\n",
    "from typing import Optional\n",
    "from enum import Enum, auto\n",
    "from datetime import date\n",
    "\n",
    "class ResourceType(Enum):\n",
    "    BOOK = auto()\n",
    "    EBOOK = auto()\n",
    "    VIDEO = auto()\n",
    "\n",
    "@dataclass    \n",
    "class Resource:\n",
    "    \"\"\"Media resource description.\"\"\"\n",
    "    identifier: str\n",
    "    title: str = '<untitled>'\n",
    "    creators: list[str] = field(default_factory=list)\n",
    "    date: Optional[date] = None\n",
    "    type: ResourceType = ResourceType.BOOK\n",
    "    description: str = ''\n",
    "    language: str = ''\n",
    "    subjects: list[str] = field(default_factory=list)\n",
    "    \n",
    "    def __repr__(self):\n",
    "        cls = self.__class__\n",
    "        cls_name = cls.__name__\n",
    "        indent = ' '*4\n",
    "        res = [f'{cls_name}(']\n",
    "        for f in fields(cls):\n",
    "            value = getattr(self, f.name)\n",
    "            res.append(f\"{indent}{f.name} = {value!r},\")\n",
    "        res.append(')')\n",
    "        return '\\n'.join(res)"
   ]
  },
  {
   "cell_type": "code",
   "execution_count": 87,
   "id": "7ada96a3",
   "metadata": {},
   "outputs": [
    {
     "data": {
      "text/plain": [
       "Resource(\n",
       "    identifier = '978-0-13-475759-9',\n",
       "    title = 'Refactoring, 2nd Edition',\n",
       "    creators = ['Martin Fowler', 'Kent Beck'],\n",
       "    date = datetime.date(2018, 11, 19),\n",
       "    type = <ResourceType.BOOK: 1>,\n",
       "    description = 'Improving the design of existing code',\n",
       "    language = 'EN',\n",
       "    subjects = ['computer programming', 'OOP'],\n",
       ")"
      ]
     },
     "execution_count": 87,
     "metadata": {},
     "output_type": "execute_result"
    }
   ],
   "source": [
    "description = 'Improving the design of existing code'\n",
    "book = Resource('978-0-13-475759-9', 'Refactoring, 2nd Edition',\n",
    "                ['Martin Fowler', 'Kent Beck'], date(2018, 11, 19),\n",
    "                ResourceType.BOOK, description, 'EN',\n",
    "                ['computer programming', 'OOP']\n",
    "                )\n",
    "book"
   ]
  },
  {
   "cell_type": "markdown",
   "id": "1fd1ac4f",
   "metadata": {},
   "source": [
    "## Pattern Matching Class Instances\n",
    "\n",
    "Class patterns are designed to match class instances by type and—optionally—by attributes. The subject of a class pattern can be any class instance, not only instances of data classes."
   ]
  },
  {
   "cell_type": "markdown",
   "id": "b5a5c187",
   "metadata": {},
   "source": [
    "### Keyword Class Patterns"
   ]
  },
  {
   "cell_type": "code",
   "execution_count": 88,
   "id": "b29a4013",
   "metadata": {},
   "outputs": [],
   "source": [
    "import typing\n",
    "\n",
    "class City(typing.NamedTuple):\n",
    "    continent: str\n",
    "    name: str\n",
    "    country: str\n",
    "\n",
    "cities = [\n",
    "     City('Asia', 'Tokyo', 'JP'),\n",
    "     City('Asia', 'Delhi', 'IN'),\n",
    "     City('North America', 'Mexico City', 'MX'),\n",
    "     City('North America', 'New York', 'US'),\n",
    "     City('South America', 'São Paulo', 'BR'),\n",
    "]\n",
    "\n",
    "def match_asian_cities():\n",
    "    results = []\n",
    "    for city in cities:\n",
    "        match city:\n",
    "            case City(continent='Asia'):\n",
    "                results.append(city)\n",
    "    return results"
   ]
  },
  {
   "cell_type": "code",
   "execution_count": 89,
   "id": "47165182",
   "metadata": {},
   "outputs": [
    {
     "data": {
      "text/plain": [
       "[City(continent='Asia', name='Tokyo', country='JP'),\n",
       " City(continent='Asia', name='Delhi', country='IN')]"
      ]
     },
     "execution_count": 89,
     "metadata": {},
     "output_type": "execute_result"
    }
   ],
   "source": [
    "match_asian_cities()"
   ]
  },
  {
   "cell_type": "code",
   "execution_count": 92,
   "id": "5cfb7b3f",
   "metadata": {},
   "outputs": [],
   "source": [
    "def match_asian_countries():\n",
    "    results = []\n",
    "    for city in cities:\n",
    "        match city:\n",
    "            case City(continent='Asia', country=cc):\n",
    "                results.append(cc)\n",
    "    return results"
   ]
  },
  {
   "cell_type": "code",
   "execution_count": 93,
   "id": "752c9920",
   "metadata": {},
   "outputs": [
    {
     "data": {
      "text/plain": [
       "['JP', 'IN']"
      ]
     },
     "execution_count": 93,
     "metadata": {},
     "output_type": "execute_result"
    }
   ],
   "source": [
    "match_asian_countries()"
   ]
  },
  {
   "cell_type": "markdown",
   "id": "6f82f9cd",
   "metadata": {},
   "source": [
    "### Positional Class Patterns"
   ]
  },
  {
   "cell_type": "code",
   "execution_count": 94,
   "id": "3e580a47",
   "metadata": {},
   "outputs": [],
   "source": [
    "def match_asian_cities_pos():\n",
    "    results = []\n",
    "    for city in cities:\n",
    "        match city:\n",
    "            case City('Asia'):\n",
    "                results.append(city)\n",
    "    return results"
   ]
  },
  {
   "cell_type": "code",
   "execution_count": 95,
   "id": "b5d45697",
   "metadata": {},
   "outputs": [
    {
     "data": {
      "text/plain": [
       "[City(continent='Asia', name='Tokyo', country='JP'),\n",
       " City(continent='Asia', name='Delhi', country='IN')]"
      ]
     },
     "execution_count": 95,
     "metadata": {},
     "output_type": "execute_result"
    }
   ],
   "source": [
    "match_asian_cities_pos()"
   ]
  },
  {
   "cell_type": "code",
   "execution_count": 96,
   "id": "24fa3c1f",
   "metadata": {},
   "outputs": [],
   "source": [
    "def match_asian_countries_pos():\n",
    "    results = []\n",
    "    for city in cities:\n",
    "        match city:\n",
    "            case City('Asia', _, country):\n",
    "                results.append(country)\n",
    "    return results"
   ]
  },
  {
   "cell_type": "code",
   "execution_count": 97,
   "id": "30ffd8c3",
   "metadata": {},
   "outputs": [
    {
     "data": {
      "text/plain": [
       "['JP', 'IN']"
      ]
     },
     "execution_count": 97,
     "metadata": {},
     "output_type": "execute_result"
    }
   ],
   "source": [
    "match_asian_countries_pos()"
   ]
  },
  {
   "cell_type": "code",
   "execution_count": 99,
   "id": "b2dea49e",
   "metadata": {},
   "outputs": [
    {
     "data": {
      "text/plain": [
       "('continent', 'name', 'country')"
      ]
     },
     "execution_count": 99,
     "metadata": {},
     "output_type": "execute_result"
    }
   ],
   "source": [
    "City.__match_args__"
   ]
  },
  {
   "cell_type": "code",
   "execution_count": null,
   "id": "615bdd28",
   "metadata": {},
   "outputs": [],
   "source": []
  }
 ],
 "metadata": {
  "kernelspec": {
   "display_name": "Python 3 (ipykernel)",
   "language": "python",
   "name": "python3"
  },
  "language_info": {
   "codemirror_mode": {
    "name": "ipython",
    "version": 3
   },
   "file_extension": ".py",
   "mimetype": "text/x-python",
   "name": "python",
   "nbconvert_exporter": "python",
   "pygments_lexer": "ipython3",
   "version": "3.11.6"
  }
 },
 "nbformat": 4,
 "nbformat_minor": 5
}
