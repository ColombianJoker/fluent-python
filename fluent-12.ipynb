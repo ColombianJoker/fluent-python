{
 "cells": [
  {
   "cell_type": "markdown",
   "id": "4ee619fe",
   "metadata": {},
   "source": [
    "# 12. Special Methods for Sequences\n",
    "\n",
    "> Don’t check whether it is-a duck: check whether it quacks-like-a duck, walks-like-a duck, etc., etc., depending on exactly what subset of duck-like behavior you need to play your language-games with. \n",
    ">\n",
    "> Alex Martelli"
   ]
  },
  {
   "cell_type": "markdown",
   "id": "9c2d7d15",
   "metadata": {},
   "source": [
    "## Vector Take #1: Vector2d Compatible\n",
    "\n",
    "The first version of `Vector` should be as compatible as possible with our earlier `Vector2d` class.\n",
    "\n",
    "However, by design, the Vector constructor is not compatible with the Vector2d constructor. We could make `Vector(3, 4)` and `Vector(3, 4, 5)` work, by taking arbitrary arguments with *args in `__init__`, but the best practice for a sequence con‐ structor is to take the data as an iterable argument in the constructor, like all built-in sequence types do."
   ]
  },
  {
   "cell_type": "code",
   "execution_count": 1,
   "id": "4e0cfb63",
   "metadata": {},
   "outputs": [],
   "source": [
    "from array import array\n",
    "import reprlib\n",
    "import math"
   ]
  },
  {
   "cell_type": "code",
   "execution_count": 2,
   "id": "d3803b99",
   "metadata": {},
   "outputs": [],
   "source": [
    "class Vector:\n",
    "    typecode = 'd'\n",
    "\n",
    "    def __init__(self, components):\n",
    "        self._components = array(self.typecode, components)\n",
    "\n",
    "    def __iter__(self):\n",
    "        return iter(self._components)\n",
    "    \n",
    "    def __repr__(self):\n",
    "        components = reprlib.repr(self._components) \n",
    "        components = components[components.find('['):-1] \n",
    "        return f'Vector({components})'\n",
    "    \n",
    "    def __str__(self):\n",
    "        return str(tuple(self))\n",
    "\n",
    "    def __bytes__(self):\n",
    "        return (bytes([ord(self.typecode)]) +\n",
    "                bytes(self._components))\n",
    "    \n",
    "    def __eq__(self, other):\n",
    "        return tuple(self) == tuple(other)\n",
    "    \n",
    "    def __abs__(self):\n",
    "        return math.hypot(*self)\n",
    "    \n",
    "    def __bool__(self):\n",
    "        return bool(abs(self))\n",
    "    \n",
    "    @classmethod\n",
    "    def frombytes(cls, octets):\n",
    "        typecode = chr(octets[0])\n",
    "        memv = memoryview(octets[1:]).cast(typecode) \n",
    "        return cls(memv)"
   ]
  },
  {
   "cell_type": "code",
   "execution_count": 3,
   "id": "716ea575",
   "metadata": {},
   "outputs": [
    {
     "data": {
      "text/plain": [
       "Vector([3.1, 4.2])"
      ]
     },
     "execution_count": 3,
     "metadata": {},
     "output_type": "execute_result"
    }
   ],
   "source": [
    "Vector([3.1, 4.2])"
   ]
  },
  {
   "cell_type": "code",
   "execution_count": 4,
   "id": "ada19091",
   "metadata": {},
   "outputs": [
    {
     "data": {
      "text/plain": [
       "Vector([3.0, 4.0, 5.0])"
      ]
     },
     "execution_count": 4,
     "metadata": {},
     "output_type": "execute_result"
    }
   ],
   "source": [
    "Vector((3, 4, 5))"
   ]
  },
  {
   "cell_type": "code",
   "execution_count": 5,
   "id": "478910f3",
   "metadata": {},
   "outputs": [
    {
     "data": {
      "text/plain": [
       "Vector([0.0, 1.0, 2.0, 3.0, 4.0, ...])"
      ]
     },
     "execution_count": 5,
     "metadata": {},
     "output_type": "execute_result"
    }
   ],
   "source": [
    "Vector(range(10))"
   ]
  },
  {
   "cell_type": "markdown",
   "id": "6a979c4a",
   "metadata": {},
   "source": [
    "## Protocols and Duck Typing\n",
    "\n",
    "As early as Chapter 1, we saw that you don’t need to inherit from any special class to create a fully functional sequence type in Python; you just need to implement the methods that fulfill the sequence protocol. But what kind of protocol are we talking about?\n",
    "\n",
    "In the context of object-oriented programming, a protocol is an informal interface, defined only in documentation and not in code. For example, the sequence protocol in Python entails just the `__len__` and `__getitem__` methods. Any class `Spam` that implements those methods with the standard signature and semantics can be used anywhere a sequence is expected. Whether `Spam` is a subclass of this or that is irrelevant; all that matters is that it provides the necessary methods."
   ]
  },
  {
   "cell_type": "code",
   "execution_count": 6,
   "id": "87aac298",
   "metadata": {},
   "outputs": [],
   "source": [
    "def __len__(self):\n",
    "    return len(self._components)\n",
    "\n",
    "def __getitem__(self, index):\n",
    "    return self._components[index]\n",
    "\n",
    "Vector.__len__ = __len__\n",
    "Vector.__getitem__ = __getitem__"
   ]
  },
  {
   "cell_type": "code",
   "execution_count": 7,
   "id": "31c9bcba",
   "metadata": {},
   "outputs": [
    {
     "data": {
      "text/plain": [
       "3"
      ]
     },
     "execution_count": 7,
     "metadata": {},
     "output_type": "execute_result"
    }
   ],
   "source": [
    "v1 = Vector([3, 4, 5])\n",
    "len(v1)"
   ]
  },
  {
   "cell_type": "code",
   "execution_count": 8,
   "id": "00546d7a",
   "metadata": {},
   "outputs": [
    {
     "data": {
      "text/plain": [
       "(3.0, 5.0)"
      ]
     },
     "execution_count": 8,
     "metadata": {},
     "output_type": "execute_result"
    }
   ],
   "source": [
    "v1[0], v1[-1]"
   ]
  },
  {
   "cell_type": "code",
   "execution_count": 10,
   "id": "71a8e8c2",
   "metadata": {},
   "outputs": [
    {
     "data": {
      "text/plain": [
       "array('d', [1.0, 2.0, 3.0])"
      ]
     },
     "execution_count": 10,
     "metadata": {},
     "output_type": "execute_result"
    }
   ],
   "source": [
    "v7 = Vector(range(7))\n",
    "v7[1:4]"
   ]
  },
  {
   "cell_type": "markdown",
   "id": "a6be5722",
   "metadata": {},
   "source": [
    "### How Slicing Works"
   ]
  },
  {
   "cell_type": "code",
   "execution_count": 11,
   "id": "7fe6cd2a",
   "metadata": {},
   "outputs": [],
   "source": [
    "class MySeq:\n",
    "    def __getitem__(self, index):\n",
    "        return index"
   ]
  },
  {
   "cell_type": "code",
   "execution_count": 12,
   "id": "2e73fcdb",
   "metadata": {},
   "outputs": [
    {
     "data": {
      "text/plain": [
       "1"
      ]
     },
     "execution_count": 12,
     "metadata": {},
     "output_type": "execute_result"
    }
   ],
   "source": [
    "s = MySeq()\n",
    "s[1]"
   ]
  },
  {
   "cell_type": "code",
   "execution_count": 13,
   "id": "0cf5ccdd",
   "metadata": {},
   "outputs": [
    {
     "data": {
      "text/plain": [
       "slice(1, 4, None)"
      ]
     },
     "execution_count": 13,
     "metadata": {},
     "output_type": "execute_result"
    }
   ],
   "source": [
    "s[1:4]"
   ]
  },
  {
   "cell_type": "code",
   "execution_count": 14,
   "id": "945e7412",
   "metadata": {},
   "outputs": [
    {
     "data": {
      "text/plain": [
       "slice(1, 4, 2)"
      ]
     },
     "execution_count": 14,
     "metadata": {},
     "output_type": "execute_result"
    }
   ],
   "source": [
    "s[1:4:2]"
   ]
  },
  {
   "cell_type": "code",
   "execution_count": 15,
   "id": "141bbb31",
   "metadata": {},
   "outputs": [
    {
     "data": {
      "text/plain": [
       "(slice(1, 4, 2), 9)"
      ]
     },
     "execution_count": 15,
     "metadata": {},
     "output_type": "execute_result"
    }
   ],
   "source": [
    "s[1:4:2, 9]"
   ]
  },
  {
   "cell_type": "code",
   "execution_count": 16,
   "id": "e07eb476",
   "metadata": {},
   "outputs": [
    {
     "data": {
      "text/plain": [
       "(slice(1, 4, 2), slice(7, 9, None))"
      ]
     },
     "execution_count": 16,
     "metadata": {},
     "output_type": "execute_result"
    }
   ],
   "source": [
    "s[1:4:2, 7:9]"
   ]
  },
  {
   "cell_type": "code",
   "execution_count": 17,
   "id": "6a6b71f0",
   "metadata": {},
   "outputs": [
    {
     "data": {
      "text/plain": [
       "slice"
      ]
     },
     "execution_count": 17,
     "metadata": {},
     "output_type": "execute_result"
    }
   ],
   "source": [
    "slice"
   ]
  },
  {
   "cell_type": "code",
   "execution_count": 18,
   "id": "1c9cda44",
   "metadata": {},
   "outputs": [
    {
     "data": {
      "text/plain": [
       "['__class__',\n",
       " '__delattr__',\n",
       " '__dir__',\n",
       " '__doc__',\n",
       " '__eq__',\n",
       " '__format__',\n",
       " '__ge__',\n",
       " '__getattribute__',\n",
       " '__getstate__',\n",
       " '__gt__',\n",
       " '__hash__',\n",
       " '__init__',\n",
       " '__init_subclass__',\n",
       " '__le__',\n",
       " '__lt__',\n",
       " '__ne__',\n",
       " '__new__',\n",
       " '__reduce__',\n",
       " '__reduce_ex__',\n",
       " '__repr__',\n",
       " '__setattr__',\n",
       " '__sizeof__',\n",
       " '__str__',\n",
       " '__subclasshook__',\n",
       " 'indices',\n",
       " 'start',\n",
       " 'step',\n",
       " 'stop']"
      ]
     },
     "execution_count": 18,
     "metadata": {},
     "output_type": "execute_result"
    }
   ],
   "source": [
    "dir(slice)"
   ]
  },
  {
   "cell_type": "code",
   "execution_count": 19,
   "id": "14bba630",
   "metadata": {},
   "outputs": [
    {
     "name": "stdout",
     "output_type": "stream",
     "text": [
      "Help on method_descriptor:\n",
      "\n",
      "indices(...)\n",
      "    S.indices(len) -> (start, stop, stride)\n",
      "    \n",
      "    Assuming a sequence of length len, calculate the start and stop\n",
      "    indices, and the stride length of the extended slice described by\n",
      "    S. Out of bounds indices are clipped in a manner consistent with the\n",
      "    handling of normal slices.\n",
      "\n"
     ]
    }
   ],
   "source": [
    "help(slice.indices)"
   ]
  },
  {
   "cell_type": "code",
   "execution_count": 20,
   "id": "f3c32706",
   "metadata": {},
   "outputs": [
    {
     "data": {
      "text/plain": [
       "(0, 5, 2)"
      ]
     },
     "execution_count": 20,
     "metadata": {},
     "output_type": "execute_result"
    }
   ],
   "source": [
    "slice(None, 10, 2).indices(5)"
   ]
  },
  {
   "cell_type": "code",
   "execution_count": 21,
   "id": "fedb03ef",
   "metadata": {},
   "outputs": [
    {
     "data": {
      "text/plain": [
       "(2, 5, 1)"
      ]
     },
     "execution_count": 21,
     "metadata": {},
     "output_type": "execute_result"
    }
   ],
   "source": [
    "slice(-3, None, None).indices(5)"
   ]
  },
  {
   "cell_type": "code",
   "execution_count": 22,
   "id": "ba89019c",
   "metadata": {},
   "outputs": [
    {
     "data": {
      "text/plain": [
       "'ACE'"
      ]
     },
     "execution_count": 22,
     "metadata": {},
     "output_type": "execute_result"
    }
   ],
   "source": [
    "'ABCDE'[:10:2]"
   ]
  },
  {
   "cell_type": "code",
   "execution_count": 23,
   "id": "ebd4e9c6",
   "metadata": {},
   "outputs": [
    {
     "data": {
      "text/plain": [
       "'ACE'"
      ]
     },
     "execution_count": 23,
     "metadata": {},
     "output_type": "execute_result"
    }
   ],
   "source": [
    "'ABCDE'[0:5:2]"
   ]
  },
  {
   "cell_type": "code",
   "execution_count": 24,
   "id": "1d96831e",
   "metadata": {},
   "outputs": [
    {
     "data": {
      "text/plain": [
       "'CDE'"
      ]
     },
     "execution_count": 24,
     "metadata": {},
     "output_type": "execute_result"
    }
   ],
   "source": [
    "'ABCDE'[-3:]"
   ]
  },
  {
   "cell_type": "code",
   "execution_count": 25,
   "id": "f61a8cb7",
   "metadata": {},
   "outputs": [
    {
     "data": {
      "text/plain": [
       "'CDE'"
      ]
     },
     "execution_count": 25,
     "metadata": {},
     "output_type": "execute_result"
    }
   ],
   "source": [
    "'ABCDE'[2:5:1]"
   ]
  },
  {
   "cell_type": "markdown",
   "id": "ca67b8e2",
   "metadata": {},
   "source": [
    "### A Slice-Aware __getitem__"
   ]
  },
  {
   "cell_type": "code",
   "execution_count": 29,
   "id": "f15f5c51",
   "metadata": {},
   "outputs": [],
   "source": [
    "import operator \n",
    "\n",
    "def __len__(self):\n",
    "    return len(self._components)\n",
    "\n",
    "def __getitem__(self, key):\n",
    "    if isinstance(key, slice):\n",
    "        cls = type(self)\n",
    "        return cls(self._components[key])\n",
    "    index = operator.index(key)\n",
    "    return self._components[index]"
   ]
  },
  {
   "cell_type": "code",
   "execution_count": 30,
   "id": "64d86b28",
   "metadata": {},
   "outputs": [],
   "source": [
    "Vector.__len__ = __len__\n",
    "Vector.__getitem__ = __getitem__"
   ]
  },
  {
   "cell_type": "code",
   "execution_count": 31,
   "id": "8fd7934a",
   "metadata": {},
   "outputs": [
    {
     "data": {
      "text/plain": [
       "6.0"
      ]
     },
     "execution_count": 31,
     "metadata": {},
     "output_type": "execute_result"
    }
   ],
   "source": [
    "v7 = Vector(range(7))\n",
    "v7[-1]"
   ]
  },
  {
   "cell_type": "code",
   "execution_count": 32,
   "id": "1340ebcf",
   "metadata": {},
   "outputs": [
    {
     "data": {
      "text/plain": [
       "Vector([1.0, 2.0, 3.0])"
      ]
     },
     "execution_count": 32,
     "metadata": {},
     "output_type": "execute_result"
    }
   ],
   "source": [
    "v7[1:4]"
   ]
  },
  {
   "cell_type": "code",
   "execution_count": 33,
   "id": "baaed8af",
   "metadata": {},
   "outputs": [
    {
     "data": {
      "text/plain": [
       "Vector([6.0])"
      ]
     },
     "execution_count": 33,
     "metadata": {},
     "output_type": "execute_result"
    }
   ],
   "source": [
    "v7[-1:]"
   ]
  },
  {
   "cell_type": "code",
   "execution_count": 34,
   "id": "fcde774b",
   "metadata": {},
   "outputs": [
    {
     "name": "stdout",
     "output_type": "stream",
     "text": [
      "e=TypeError(\"'tuple' object cannot be interpreted as an integer\")\n"
     ]
    }
   ],
   "source": [
    "try:\n",
    "    print(f\"{v7[1,2]=}\")\n",
    "except Exception as e:\n",
    "    print(f\"{e=}\")"
   ]
  },
  {
   "cell_type": "markdown",
   "id": "55f5da63",
   "metadata": {},
   "source": [
    "## Vector Take #3: Dynamic Attribute Access\n",
    "\n",
    "In the evolution from `Vector2d` to `Vector`, we lost the ability to access vector compo‐ nents by name (e.g., `v.x`, `v.y`). We are now dealing with vectors that may have a large number of components. Still, it may be convenient to access the first few components with shortcut letters such as `x`, `y`, `z` instead of `v[0]`, `v[1]`, and `v[2]`."
   ]
  },
  {
   "cell_type": "code",
   "execution_count": 35,
   "id": "94bc66dc",
   "metadata": {},
   "outputs": [],
   "source": [
    "Vector.__match_args__ = ('x', 'y', 'z', 't')\n",
    "\n",
    "def __getattr__(self, name):\n",
    "    cls = type(self)\n",
    "    try:\n",
    "        pos = cls.__match_args__.index(name)\n",
    "    except ValueError:\n",
    "        pos = -1\n",
    "    if 0<=pos<len(self._components):\n",
    "        return self._components[pos]\n",
    "    msg = f'{cls.__name__!r} object has no attribute {name!r}'\n",
    "    raise AttributeError(msg)\n",
    "\n",
    "Vector.__getattr__ = __getattr__"
   ]
  },
  {
   "cell_type": "markdown",
   "id": "078582ba",
   "metadata": {},
   "source": []
  },
  {
   "cell_type": "code",
   "execution_count": 36,
   "id": "5b98e733",
   "metadata": {},
   "outputs": [
    {
     "data": {
      "text/plain": [
       "0.0"
      ]
     },
     "execution_count": 36,
     "metadata": {},
     "output_type": "execute_result"
    }
   ],
   "source": [
    "v = Vector(range(10))\n",
    "v.x"
   ]
  },
  {
   "cell_type": "code",
   "execution_count": 37,
   "id": "b401b4db",
   "metadata": {},
   "outputs": [
    {
     "data": {
      "text/plain": [
       "(1.0, 2.0, 3.0)"
      ]
     },
     "execution_count": 37,
     "metadata": {},
     "output_type": "execute_result"
    }
   ],
   "source": [
    "v.y, v.z, v.t"
   ]
  },
  {
   "cell_type": "code",
   "execution_count": 38,
   "id": "46e5432f",
   "metadata": {},
   "outputs": [
    {
     "data": {
      "text/plain": [
       "Vector([0.0, 1.0, 2.0, 3.0, 4.0])"
      ]
     },
     "execution_count": 38,
     "metadata": {},
     "output_type": "execute_result"
    }
   ],
   "source": [
    "v = Vector(range(5))\n",
    "v"
   ]
  },
  {
   "cell_type": "code",
   "execution_count": 39,
   "id": "8f4639bf",
   "metadata": {},
   "outputs": [
    {
     "data": {
      "text/plain": [
       "0.0"
      ]
     },
     "execution_count": 39,
     "metadata": {},
     "output_type": "execute_result"
    }
   ],
   "source": [
    "v.x"
   ]
  },
  {
   "cell_type": "code",
   "execution_count": 40,
   "id": "6748bda7",
   "metadata": {},
   "outputs": [
    {
     "data": {
      "text/plain": [
       "10"
      ]
     },
     "execution_count": 40,
     "metadata": {},
     "output_type": "execute_result"
    }
   ],
   "source": [
    "v.x = 10\n",
    "v.x"
   ]
  },
  {
   "cell_type": "code",
   "execution_count": 41,
   "id": "82863f98",
   "metadata": {},
   "outputs": [
    {
     "data": {
      "text/plain": [
       "Vector([0.0, 1.0, 2.0, 3.0, 4.0])"
      ]
     },
     "execution_count": 41,
     "metadata": {},
     "output_type": "execute_result"
    }
   ],
   "source": [
    "v"
   ]
  },
  {
   "cell_type": "code",
   "execution_count": null,
   "id": "1532507f",
   "metadata": {},
   "outputs": [],
   "source": [
    "def __setattr__(self, name, value):\n",
    "    cls = type(self)\n",
    "    if len(name) == 1:\n",
    "        if name in cls.__match_args__:\n",
    "            error = 'readonly attribute {attr_name!r}'\n",
    "        elif name.islower():\n",
    "            error = \"can't set attributes 'a' to 'z' in {cls_name!r}\"\n",
    "        else:\n",
    "            error = ''\n",
    "\n",
    "        if error:\n",
    "            msg = error.format(cls_name=cls.__name__, attr_name=name)\n",
    "            raise AttributeError(msg)\n",
    "    # super().__setattr__(name, value)\n",
    "    super(Vector, self).__setattr__(name, value)\n",
    "\n",
    "Vector.__setattr__ = __setattr__"
   ]
  },
  {
   "cell_type": "code",
   "execution_count": 48,
   "id": "c6acf8f5",
   "metadata": {},
   "outputs": [
    {
     "data": {
      "text/plain": [
       "0.0"
      ]
     },
     "execution_count": 48,
     "metadata": {},
     "output_type": "execute_result"
    }
   ],
   "source": [
    "v = Vector(range(10))\n",
    "v.x"
   ]
  },
  {
   "cell_type": "code",
   "execution_count": 49,
   "id": "5d6280ba",
   "metadata": {},
   "outputs": [
    {
     "data": {
      "text/plain": [
       "(1.0, 2.0, 3.0)"
      ]
     },
     "execution_count": 49,
     "metadata": {},
     "output_type": "execute_result"
    }
   ],
   "source": [
    "v.y, v.z, v.t"
   ]
  },
  {
   "cell_type": "code",
   "execution_count": 51,
   "id": "a601c12e",
   "metadata": {},
   "outputs": [
    {
     "data": {
      "text/plain": [
       "Vector([0.0, 1.0, 2.0, 3.0, 4.0])"
      ]
     },
     "execution_count": 51,
     "metadata": {},
     "output_type": "execute_result"
    }
   ],
   "source": [
    "v = Vector(range(5))\n",
    "v"
   ]
  },
  {
   "cell_type": "code",
   "execution_count": 52,
   "id": "8ad42e2f",
   "metadata": {},
   "outputs": [
    {
     "data": {
      "text/plain": [
       "0.0"
      ]
     },
     "execution_count": 52,
     "metadata": {},
     "output_type": "execute_result"
    }
   ],
   "source": [
    "v.x"
   ]
  },
  {
   "cell_type": "code",
   "execution_count": 54,
   "id": "7129ebd7",
   "metadata": {},
   "outputs": [
    {
     "name": "stdout",
     "output_type": "stream",
     "text": [
      "e=AttributeError(\"readonly attribute 'x'\")\n"
     ]
    }
   ],
   "source": [
    "try:\n",
    "    v.x = 10\n",
    "    v.x\n",
    "except Exception as e:\n",
    "    print(f\"{e=}\")"
   ]
  },
  {
   "cell_type": "markdown",
   "id": "f2eee105",
   "metadata": {},
   "source": [
    "##  Vector Take #4: Hashing and a Faster `==`\n",
    "\n",
    "Once more we get to implement a `__hash__` method. Together with the existing `__eq__`, this will make `Vector` instances hashable."
   ]
  },
  {
   "cell_type": "code",
   "execution_count": 57,
   "id": "4ce52724",
   "metadata": {},
   "outputs": [],
   "source": [
    "import functools\n",
    "import operator\n",
    "\n",
    "def __eq__(self, other):\n",
    "    return tuple(self) == tuple(other)\n",
    "\n",
    "def __hash__(self):\n",
    "    hashes = map(hash, self._components)\n",
    "    return functools.reduce(operator.xor, hashes, 0)\n",
    "\n",
    "Vector.__eq__ = __eq__\n",
    "Vector.__hash__ = __hash__"
   ]
  },
  {
   "cell_type": "code",
   "execution_count": 58,
   "id": "eb52c2b9",
   "metadata": {},
   "outputs": [],
   "source": [
    "def __eq__(self, other):\n",
    "    if len(self) != len(other):\n",
    "        return False\n",
    "    for a, b in zip(self, other):\n",
    "        if a!=b:\n",
    "            return False\n",
    "    return True"
   ]
  },
  {
   "cell_type": "code",
   "execution_count": 59,
   "id": "caadbeb3",
   "metadata": {},
   "outputs": [],
   "source": [
    "Vector.__eq__ = __eq__"
   ]
  },
  {
   "cell_type": "code",
   "execution_count": 60,
   "id": "cbb109bf",
   "metadata": {},
   "outputs": [
    {
     "data": {
      "text/plain": [
       "<zip at 0x7f0ee4c694c0>"
      ]
     },
     "execution_count": 60,
     "metadata": {},
     "output_type": "execute_result"
    }
   ],
   "source": [
    "zip(range(3), 'ABC')"
   ]
  },
  {
   "cell_type": "code",
   "execution_count": 61,
   "id": "9c69c3f7",
   "metadata": {},
   "outputs": [
    {
     "data": {
      "text/plain": [
       "[(0, 'A'), (1, 'B'), (2, 'C')]"
      ]
     },
     "execution_count": 61,
     "metadata": {},
     "output_type": "execute_result"
    }
   ],
   "source": [
    "list(zip(range(3), 'ABC'))"
   ]
  },
  {
   "cell_type": "code",
   "execution_count": 62,
   "id": "70c2d372",
   "metadata": {},
   "outputs": [
    {
     "data": {
      "text/plain": [
       "[(0, 'A', 0.0), (1, 'B', 1.1), (2, 'C', 2.2)]"
      ]
     },
     "execution_count": 62,
     "metadata": {},
     "output_type": "execute_result"
    }
   ],
   "source": [
    "list(zip(range(3), 'ABC', [0.0, 1.1, 2.2, 3.3]))"
   ]
  },
  {
   "cell_type": "code",
   "execution_count": 63,
   "id": "398b1a8e",
   "metadata": {},
   "outputs": [],
   "source": [
    "from itertools import zip_longest"
   ]
  },
  {
   "cell_type": "code",
   "execution_count": 64,
   "id": "b9434b51",
   "metadata": {},
   "outputs": [
    {
     "data": {
      "text/plain": [
       "[(0, 'A', 0.0), (1, 'B', 1.1), (2, 'C', 2.2), (-1, -1, 3.3)]"
      ]
     },
     "execution_count": 64,
     "metadata": {},
     "output_type": "execute_result"
    }
   ],
   "source": [
    "list(zip_longest(range(3), 'ABC', [0.0, 1.1, 2.2, 3.3], fillvalue=-1))"
   ]
  },
  {
   "cell_type": "markdown",
   "id": "33e4c850",
   "metadata": {},
   "source": [
    "## Vector Take #5: Formatting\n",
    "\n",
    "The `__format__` method of Vector will resemble that of `Vector2d`, but instead of providing a custom display in polar coordinates, `Vector` will use spherical coordi‐nates—also known as “hyperspherical” coordinates, because now we support _n_ dimensions, and spheres are “hyperspheres” in 4D and beyond.6 Accordingly, we’ll change the custom format suffix from `'p'` to `'h'`."
   ]
  },
  {
   "cell_type": "code",
   "execution_count": 65,
   "id": "22df6294",
   "metadata": {},
   "outputs": [],
   "source": [
    "def angle(self, n):\n",
    "    r = math.hypot(*self[n:])\n",
    "    a = math.atan2(r, self[n-1])\n",
    "    if (n == len(self) - 1) and (self[-1] < 0):\n",
    "        return math.pi * 2 - a\n",
    "    else:\n",
    "        return a\n",
    "\n",
    "def angles(self):\n",
    "    return (self.angle(n) for n in range(1, len(self)))\n",
    "\n",
    "def __format__(self, fmt_spec=''):\n",
    "    if fmt_spec.endswith('h'): # hyperspherical coordinates\n",
    "        fmt_spec = fmt_spec[:-1]\n",
    "        coords = itertools.chain([abs(self)],\n",
    "                                 self.angles())\n",
    "        outer_fmt = '<{}>'\n",
    "    else:\n",
    "        coords = self\n",
    "        outer_fmt = '({})'\n",
    "    components = (format(c, fmt_spec) for c in coords)\n",
    "    return outer_fmt.format(', '.join(components))\n",
    "\n",
    "@classmethod\n",
    "def frombytes(cls, octets):\n",
    "    typecode = chr(octets[0])\n",
    "    memv = memoryview(octets[1:]).cast(typecode) \n",
    "    return cls(memv)\n",
    "\n",
    "Vector.angle = angle\n",
    "Vector.angles = angles\n",
    "Vector.__format__ = __format__\n",
    "Vector.frombytes = frombytes"
   ]
  },
  {
   "cell_type": "code",
   "execution_count": 66,
   "id": "46942c4a",
   "metadata": {},
   "outputs": [
    {
     "data": {
      "text/plain": [
       "Vector([3.1, 4.2])"
      ]
     },
     "execution_count": 66,
     "metadata": {},
     "output_type": "execute_result"
    }
   ],
   "source": [
    "Vector([3.1, 4.2])"
   ]
  },
  {
   "cell_type": "code",
   "execution_count": 67,
   "id": "6921f606",
   "metadata": {},
   "outputs": [
    {
     "data": {
      "text/plain": [
       "Vector([3.0, 4.0, 5.0])"
      ]
     },
     "execution_count": 67,
     "metadata": {},
     "output_type": "execute_result"
    }
   ],
   "source": [
    "Vector((3, 4, 5))"
   ]
  },
  {
   "cell_type": "code",
   "execution_count": 68,
   "id": "a0ce572f",
   "metadata": {},
   "outputs": [
    {
     "data": {
      "text/plain": [
       "Vector([0.0, 1.0, 2.0, 3.0, 4.0, ...])"
      ]
     },
     "execution_count": 68,
     "metadata": {},
     "output_type": "execute_result"
    }
   ],
   "source": [
    "Vector(range(10))"
   ]
  },
  {
   "cell_type": "code",
   "execution_count": 69,
   "id": "2a9788c4",
   "metadata": {},
   "outputs": [],
   "source": [
    "v1 = Vector([3, 4])"
   ]
  },
  {
   "cell_type": "code",
   "execution_count": 71,
   "id": "f6eab08a",
   "metadata": {},
   "outputs": [
    {
     "data": {
      "text/plain": [
       "(3.0, 4.0)"
      ]
     },
     "execution_count": 71,
     "metadata": {},
     "output_type": "execute_result"
    }
   ],
   "source": [
    "x, y = v1\n",
    "x, y"
   ]
  },
  {
   "cell_type": "code",
   "execution_count": 72,
   "id": "ade00281",
   "metadata": {},
   "outputs": [
    {
     "data": {
      "text/plain": [
       "Vector([3.0, 4.0])"
      ]
     },
     "execution_count": 72,
     "metadata": {},
     "output_type": "execute_result"
    }
   ],
   "source": [
    "v1"
   ]
  },
  {
   "cell_type": "code",
   "execution_count": 74,
   "id": "854e1c1f",
   "metadata": {},
   "outputs": [
    {
     "data": {
      "text/plain": [
       "True"
      ]
     },
     "execution_count": 74,
     "metadata": {},
     "output_type": "execute_result"
    }
   ],
   "source": [
    "v1_clone = eval(repr(v1))\n",
    "v1 == v1_clone"
   ]
  },
  {
   "cell_type": "code",
   "execution_count": 75,
   "id": "89889761",
   "metadata": {},
   "outputs": [
    {
     "name": "stdout",
     "output_type": "stream",
     "text": [
      "(3.0, 4.0)\n"
     ]
    }
   ],
   "source": [
    "print(v1)"
   ]
  },
  {
   "cell_type": "code",
   "execution_count": 76,
   "id": "1a7f5027",
   "metadata": {},
   "outputs": [
    {
     "data": {
      "text/plain": [
       "b'd\\x00\\x00\\x00\\x00\\x00\\x00\\x08@\\x00\\x00\\x00\\x00\\x00\\x00\\x10@'"
      ]
     },
     "execution_count": 76,
     "metadata": {},
     "output_type": "execute_result"
    }
   ],
   "source": [
    "octets = bytes(v1)\n",
    "octets"
   ]
  },
  {
   "cell_type": "code",
   "execution_count": 77,
   "id": "715d3072",
   "metadata": {},
   "outputs": [
    {
     "data": {
      "text/plain": [
       "5.0"
      ]
     },
     "execution_count": 77,
     "metadata": {},
     "output_type": "execute_result"
    }
   ],
   "source": [
    "abs(v1)"
   ]
  },
  {
   "cell_type": "code",
   "execution_count": 78,
   "id": "2d61b40b",
   "metadata": {},
   "outputs": [
    {
     "data": {
      "text/plain": [
       "(True, False)"
      ]
     },
     "execution_count": 78,
     "metadata": {},
     "output_type": "execute_result"
    }
   ],
   "source": [
    "bool(v1), bool(Vector([0, 0]))"
   ]
  },
  {
   "cell_type": "code",
   "execution_count": 80,
   "id": "288bf3c4",
   "metadata": {},
   "outputs": [
    {
     "data": {
      "text/plain": [
       "Vector([3.0, 4.0])"
      ]
     },
     "execution_count": 80,
     "metadata": {},
     "output_type": "execute_result"
    }
   ],
   "source": [
    "v1_clone = Vector.frombytes(bytes(v1))\n",
    "v1_clone"
   ]
  },
  {
   "cell_type": "code",
   "execution_count": 81,
   "id": "71211958",
   "metadata": {},
   "outputs": [
    {
     "data": {
      "text/plain": [
       "True"
      ]
     },
     "execution_count": 81,
     "metadata": {},
     "output_type": "execute_result"
    }
   ],
   "source": [
    "v1 == v1_clone"
   ]
  },
  {
   "cell_type": "code",
   "execution_count": 83,
   "id": "b2de17ef",
   "metadata": {},
   "outputs": [
    {
     "data": {
      "text/plain": [
       "(3.0, 4.0, 5.0)"
      ]
     },
     "execution_count": 83,
     "metadata": {},
     "output_type": "execute_result"
    }
   ],
   "source": [
    "v1 = Vector([3, 4, 5])\n",
    "x, y, z = v1\n",
    "x, y, z"
   ]
  },
  {
   "cell_type": "code",
   "execution_count": 84,
   "id": "ecef1a5a",
   "metadata": {},
   "outputs": [
    {
     "data": {
      "text/plain": [
       "Vector([3.0, 4.0, 5.0])"
      ]
     },
     "execution_count": 84,
     "metadata": {},
     "output_type": "execute_result"
    }
   ],
   "source": [
    "v1"
   ]
  },
  {
   "cell_type": "code",
   "execution_count": 85,
   "id": "65bd1b69",
   "metadata": {},
   "outputs": [
    {
     "data": {
      "text/plain": [
       "True"
      ]
     },
     "execution_count": 85,
     "metadata": {},
     "output_type": "execute_result"
    }
   ],
   "source": [
    "v1_clone = eval(repr(v1))\n",
    "v1 == v1_clone"
   ]
  },
  {
   "cell_type": "code",
   "execution_count": 86,
   "id": "4bf2b0bf",
   "metadata": {},
   "outputs": [
    {
     "name": "stdout",
     "output_type": "stream",
     "text": [
      "(3.0, 4.0, 5.0)\n"
     ]
    }
   ],
   "source": [
    "print(v1)"
   ]
  },
  {
   "cell_type": "code",
   "execution_count": 87,
   "id": "6b27267a",
   "metadata": {},
   "outputs": [
    {
     "data": {
      "text/plain": [
       "7.0710678118654755"
      ]
     },
     "execution_count": 87,
     "metadata": {},
     "output_type": "execute_result"
    }
   ],
   "source": [
    "abs(v1)"
   ]
  },
  {
   "cell_type": "code",
   "execution_count": 88,
   "id": "67c63152",
   "metadata": {},
   "outputs": [
    {
     "data": {
      "text/plain": [
       "(True, False)"
      ]
     },
     "execution_count": 88,
     "metadata": {},
     "output_type": "execute_result"
    }
   ],
   "source": [
    "bool(v1), bool(Vector([0, 0, 0]))"
   ]
  },
  {
   "cell_type": "code",
   "execution_count": 89,
   "id": "64864fa0",
   "metadata": {},
   "outputs": [
    {
     "data": {
      "text/plain": [
       "Vector([0.0, 1.0, 2.0, 3.0, 4.0, ...])"
      ]
     },
     "execution_count": 89,
     "metadata": {},
     "output_type": "execute_result"
    }
   ],
   "source": [
    "v7 = Vector(range(7))\n",
    "v7"
   ]
  },
  {
   "cell_type": "code",
   "execution_count": 90,
   "id": "b084dc65",
   "metadata": {},
   "outputs": [
    {
     "data": {
      "text/plain": [
       "9.539392014169456"
      ]
     },
     "execution_count": 90,
     "metadata": {},
     "output_type": "execute_result"
    }
   ],
   "source": [
    "abs(v7)  # doctest:+ELLIPSIS"
   ]
  },
  {
   "cell_type": "code",
   "execution_count": 92,
   "id": "8ad1ff62",
   "metadata": {},
   "outputs": [
    {
     "data": {
      "text/plain": [
       "Vector([3.0, 4.0, 5.0])"
      ]
     },
     "execution_count": 92,
     "metadata": {},
     "output_type": "execute_result"
    }
   ],
   "source": [
    "v1 = Vector([3, 4, 5])\n",
    "v1_clone = Vector.frombytes(bytes(v1))\n",
    "v1_clone"
   ]
  },
  {
   "cell_type": "code",
   "execution_count": 93,
   "id": "6256578d",
   "metadata": {},
   "outputs": [
    {
     "data": {
      "text/plain": [
       "True"
      ]
     },
     "execution_count": 93,
     "metadata": {},
     "output_type": "execute_result"
    }
   ],
   "source": [
    "v1 == v1_clone"
   ]
  },
  {
   "cell_type": "code",
   "execution_count": 94,
   "id": "b33c51c3",
   "metadata": {},
   "outputs": [
    {
     "data": {
      "text/plain": [
       "3"
      ]
     },
     "execution_count": 94,
     "metadata": {},
     "output_type": "execute_result"
    }
   ],
   "source": [
    "v1 = Vector([3, 4, 5])\n",
    "len(v1)"
   ]
  },
  {
   "cell_type": "code",
   "execution_count": 95,
   "id": "c00c9c17",
   "metadata": {},
   "outputs": [
    {
     "data": {
      "text/plain": [
       "(3.0, 5.0, 5.0)"
      ]
     },
     "execution_count": 95,
     "metadata": {},
     "output_type": "execute_result"
    }
   ],
   "source": [
    "v1[0], v1[len(v1)-1], v1[-1]"
   ]
  },
  {
   "cell_type": "code",
   "execution_count": 96,
   "id": "91524fc5",
   "metadata": {},
   "outputs": [
    {
     "data": {
      "text/plain": [
       "6.0"
      ]
     },
     "execution_count": 96,
     "metadata": {},
     "output_type": "execute_result"
    }
   ],
   "source": [
    "v7 = Vector(range(7))\n",
    "v7[-1]"
   ]
  },
  {
   "cell_type": "code",
   "execution_count": 97,
   "id": "f8e5c7ee",
   "metadata": {},
   "outputs": [
    {
     "data": {
      "text/plain": [
       "Vector([1.0, 2.0, 3.0])"
      ]
     },
     "execution_count": 97,
     "metadata": {},
     "output_type": "execute_result"
    }
   ],
   "source": [
    "v7[1:4]"
   ]
  },
  {
   "cell_type": "code",
   "execution_count": 98,
   "id": "c22e20d3",
   "metadata": {},
   "outputs": [
    {
     "data": {
      "text/plain": [
       "Vector([6.0])"
      ]
     },
     "execution_count": 98,
     "metadata": {},
     "output_type": "execute_result"
    }
   ],
   "source": [
    "v7[-1:]"
   ]
  },
  {
   "cell_type": "code",
   "execution_count": 99,
   "id": "86b7e4c4",
   "metadata": {},
   "outputs": [
    {
     "name": "stdout",
     "output_type": "stream",
     "text": [
      "e=TypeError(\"'tuple' object cannot be interpreted as an integer\")\n"
     ]
    }
   ],
   "source": [
    "try:\n",
    "    print(f\"{v7[1,2]=}\")\n",
    "except Exception as e:\n",
    "    print(f\"{e=}\")"
   ]
  },
  {
   "cell_type": "code",
   "execution_count": 100,
   "id": "2ff6ff15",
   "metadata": {},
   "outputs": [
    {
     "data": {
      "text/plain": [
       "0.0"
      ]
     },
     "execution_count": 100,
     "metadata": {},
     "output_type": "execute_result"
    }
   ],
   "source": [
    "v7 = Vector(range(10))\n",
    "v7.x"
   ]
  },
  {
   "cell_type": "code",
   "execution_count": 101,
   "id": "239366a9",
   "metadata": {},
   "outputs": [
    {
     "data": {
      "text/plain": [
       "(1.0, 2.0, 3.0)"
      ]
     },
     "execution_count": 101,
     "metadata": {},
     "output_type": "execute_result"
    }
   ],
   "source": [
    "v7.y, v7.z, v7.t"
   ]
  },
  {
   "cell_type": "code",
   "execution_count": 102,
   "id": "4cc94365",
   "metadata": {},
   "outputs": [
    {
     "name": "stdout",
     "output_type": "stream",
     "text": [
      "e=AttributeError(\"'Vector' object has no attribute 'k'\")\n"
     ]
    }
   ],
   "source": [
    "try:\n",
    "    print(f\"{v7.k=}\")\n",
    "except Exception as e:\n",
    "    print(f\"{e=}\")"
   ]
  },
  {
   "cell_type": "code",
   "execution_count": 103,
   "id": "285ae88e",
   "metadata": {},
   "outputs": [
    {
     "name": "stdout",
     "output_type": "stream",
     "text": [
      "e=AttributeError(\"'Vector' object has no attribute 't'\")\n"
     ]
    }
   ],
   "source": [
    "try:\n",
    "    v3 = Vector(range(3))\n",
    "    print(f\"{v3.t=}\")\n",
    "except Exception as e:\n",
    "    print(f\"{e=}\") "
   ]
  },
  {
   "cell_type": "code",
   "execution_count": 104,
   "id": "f7764c70",
   "metadata": {},
   "outputs": [
    {
     "name": "stdout",
     "output_type": "stream",
     "text": [
      "e=AttributeError(\"'Vector' object has no attribute 'spam'\")\n"
     ]
    }
   ],
   "source": [
    "try:\n",
    "    v3 = Vector(range(3))\n",
    "    print(f\"{v3.spam=}\")\n",
    "except Exception as e:\n",
    "    print(f\"{e=}\") "
   ]
  },
  {
   "cell_type": "code",
   "execution_count": 105,
   "id": "64e34c56",
   "metadata": {},
   "outputs": [
    {
     "data": {
      "text/plain": [
       "(7, 2, 1)"
      ]
     },
     "execution_count": 105,
     "metadata": {},
     "output_type": "execute_result"
    }
   ],
   "source": [
    "v1 = Vector([3, 4])\n",
    "v2 = Vector([3.1, 4.2])\n",
    "v3 = Vector([3, 4, 5])\n",
    "v6 = Vector(range(6))\n",
    "\n",
    "hash(v1), hash(v3), hash(v6)"
   ]
  },
  {
   "cell_type": "code",
   "execution_count": 106,
   "id": "bf9540b2",
   "metadata": {},
   "outputs": [
    {
     "data": {
      "text/plain": [
       "True"
      ]
     },
     "execution_count": 106,
     "metadata": {},
     "output_type": "execute_result"
    }
   ],
   "source": [
    "import sys\n",
    "hash(v2) == (384307168202284039 if sys.maxsize > 2**32 else 357915986)"
   ]
  },
  {
   "cell_type": "code",
   "execution_count": 107,
   "id": "02f51aa1",
   "metadata": {},
   "outputs": [
    {
     "data": {
      "text/plain": [
       "'(3.0, 4.0)'"
      ]
     },
     "execution_count": 107,
     "metadata": {},
     "output_type": "execute_result"
    }
   ],
   "source": [
    "v1 = Vector([3, 4])\n",
    "format(v1)"
   ]
  },
  {
   "cell_type": "code",
   "execution_count": 108,
   "id": "927c3621",
   "metadata": {},
   "outputs": [
    {
     "data": {
      "text/plain": [
       "'(3.00, 4.00)'"
      ]
     },
     "execution_count": 108,
     "metadata": {},
     "output_type": "execute_result"
    }
   ],
   "source": [
    "format(v1, '.2f')"
   ]
  },
  {
   "cell_type": "code",
   "execution_count": 109,
   "id": "fe96d8ee",
   "metadata": {},
   "outputs": [
    {
     "data": {
      "text/plain": [
       "'(3.000e+00, 4.000e+00)'"
      ]
     },
     "execution_count": 109,
     "metadata": {},
     "output_type": "execute_result"
    }
   ],
   "source": [
    "format(v1, '.3e')"
   ]
  },
  {
   "cell_type": "code",
   "execution_count": 110,
   "id": "dd1208fc",
   "metadata": {},
   "outputs": [
    {
     "data": {
      "text/plain": [
       "'(3.0, 4.0, 5.0)'"
      ]
     },
     "execution_count": 110,
     "metadata": {},
     "output_type": "execute_result"
    }
   ],
   "source": [
    "v3 = Vector([3, 4, 5])\n",
    "format(v3)"
   ]
  },
  {
   "cell_type": "code",
   "execution_count": 111,
   "id": "dc416e40",
   "metadata": {},
   "outputs": [
    {
     "data": {
      "text/plain": [
       "'(0.0, 1.0, 2.0, 3.0, 4.0, 5.0, 6.0)'"
      ]
     },
     "execution_count": 111,
     "metadata": {},
     "output_type": "execute_result"
    }
   ],
   "source": [
    "format(Vector(range(7)))"
   ]
  },
  {
   "cell_type": "code",
   "execution_count": 113,
   "id": "b7c7ba34",
   "metadata": {},
   "outputs": [
    {
     "data": {
      "text/plain": [
       "'<1.4142135623730951, 0.7853981633974483>'"
      ]
     },
     "execution_count": 113,
     "metadata": {},
     "output_type": "execute_result"
    }
   ],
   "source": [
    "import itertools\n",
    "\n",
    "format(Vector([1, 1]), 'h')  # doctest:+ELLIPSIS"
   ]
  },
  {
   "cell_type": "code",
   "execution_count": 114,
   "id": "a9501b40",
   "metadata": {},
   "outputs": [
    {
     "data": {
      "text/plain": [
       "'<1.414e+00, 7.854e-01>'"
      ]
     },
     "execution_count": 114,
     "metadata": {},
     "output_type": "execute_result"
    }
   ],
   "source": [
    "format(Vector([1, 1]), '.3eh')"
   ]
  },
  {
   "cell_type": "code",
   "execution_count": 115,
   "id": "bceb2322",
   "metadata": {},
   "outputs": [
    {
     "data": {
      "text/plain": [
       "'<1.41421, 0.78540>'"
      ]
     },
     "execution_count": 115,
     "metadata": {},
     "output_type": "execute_result"
    }
   ],
   "source": [
    "format(Vector([1, 1]), '0.5fh')"
   ]
  },
  {
   "cell_type": "code",
   "execution_count": 116,
   "id": "0b968cfd",
   "metadata": {},
   "outputs": [
    {
     "data": {
      "text/plain": [
       "'<1.7320508075688772, 0.9553166181245093, 0.7853981633974483>'"
      ]
     },
     "execution_count": 116,
     "metadata": {},
     "output_type": "execute_result"
    }
   ],
   "source": [
    "format(Vector([1, 1, 1]), 'h')  # doctest:+ELLIPSIS"
   ]
  },
  {
   "cell_type": "code",
   "execution_count": 117,
   "id": "9ebd395c",
   "metadata": {},
   "outputs": [
    {
     "data": {
      "text/plain": [
       "'<3.464e+00, 9.553e-01, 7.854e-01>'"
      ]
     },
     "execution_count": 117,
     "metadata": {},
     "output_type": "execute_result"
    }
   ],
   "source": [
    "format(Vector([2, 2, 2]), '.3eh')"
   ]
  },
  {
   "cell_type": "code",
   "execution_count": 118,
   "id": "2894f50b",
   "metadata": {},
   "outputs": [
    {
     "data": {
      "text/plain": [
       "'<0.00000, 0.00000, 0.00000>'"
      ]
     },
     "execution_count": 118,
     "metadata": {},
     "output_type": "execute_result"
    }
   ],
   "source": [
    "format(Vector([0, 0, 0]), '0.5fh')"
   ]
  },
  {
   "cell_type": "code",
   "execution_count": 119,
   "id": "df9e6765",
   "metadata": {},
   "outputs": [
    {
     "data": {
      "text/plain": [
       "'<2.0, 2.0943951023931957, 2.186276035465284, 3.9269908169872414>'"
      ]
     },
     "execution_count": 119,
     "metadata": {},
     "output_type": "execute_result"
    }
   ],
   "source": [
    "format(Vector([-1, -1, -1, -1]), 'h')  # doctest:+ELLIPSIS"
   ]
  },
  {
   "cell_type": "code",
   "execution_count": 120,
   "id": "23ed41ef",
   "metadata": {},
   "outputs": [
    {
     "data": {
      "text/plain": [
       "'<4.000e+00, 1.047e+00, 9.553e-01, 7.854e-01>'"
      ]
     },
     "execution_count": 120,
     "metadata": {},
     "output_type": "execute_result"
    }
   ],
   "source": [
    "format(Vector([2, 2, 2, 2]), '.3eh')"
   ]
  },
  {
   "cell_type": "code",
   "execution_count": 121,
   "id": "a03fe9cb",
   "metadata": {},
   "outputs": [
    {
     "data": {
      "text/plain": [
       "'<1.00000, 1.57080, 0.00000, 0.00000>'"
      ]
     },
     "execution_count": 121,
     "metadata": {},
     "output_type": "execute_result"
    }
   ],
   "source": [
    "format(Vector([0, 1, 0, 0]), '0.5fh')"
   ]
  },
  {
   "cell_type": "code",
   "execution_count": 30,
   "id": "d505c470",
   "metadata": {},
   "outputs": [],
   "source": [
    "import sys"
   ]
  },
  {
   "cell_type": "code",
   "execution_count": 31,
   "id": "733f6f5a",
   "metadata": {},
   "outputs": [
    {
     "name": "stderr",
     "output_type": "stream",
     "text": [
      "e=ZeroDivisionError('division by zero')\n",
      "e=ZeroDivisionError('division by zero')\n",
      "e=ZeroDivisionError('division by zero')\n",
      "e=ZeroDivisionError('division by zero')\n",
      "e=ZeroDivisionError('division by zero')\n",
      "e=ZeroDivisionError('division by zero')\n",
      "e=ZeroDivisionError('division by zero')\n"
     ]
    },
    {
     "name": "stdout",
     "output_type": "stream",
     "text": [
      "2min 44s ± 21.7 s per loop (mean ± std. dev. of 7 runs, 1 loop each)\n"
     ]
    },
    {
     "name": "stderr",
     "output_type": "stream",
     "text": [
      "e=ZeroDivisionError('division by zero')\n"
     ]
    }
   ],
   "source": [
    "%%timeit\n",
    "\n",
    "i: int = 1_000_000_000\n",
    "t: float = 0\n",
    "while i>=0:\n",
    "    try:\n",
    "        t += 1/i\n",
    "    except ZeroDivisionError as e:\n",
    "        print(f\"{e=}\", file=sys.stderr)\n",
    "    i -=1\n"
   ]
  },
  {
   "cell_type": "code",
   "execution_count": 33,
   "id": "618803bc",
   "metadata": {},
   "outputs": [
    {
     "ename": "NameError",
     "evalue": "name 't' is not defined",
     "output_type": "error",
     "traceback": [
      "\u001b[0;31m---------------------------------------------------------------------------\u001b[0m",
      "\u001b[0;31mNameError\u001b[0m                                 Traceback (most recent call last)",
      "Cell \u001b[0;32mIn[33], line 1\u001b[0m\n\u001b[0;32m----> 1\u001b[0m \u001b[38;5;28mprint\u001b[39m(\u001b[38;5;124mf\u001b[39m\u001b[38;5;124m\"\u001b[39m\u001b[38;5;124mTotal: \u001b[39m\u001b[38;5;132;01m{\u001b[39;00m\u001b[43mt\u001b[49m\u001b[38;5;132;01m}\u001b[39;00m\u001b[38;5;124m (with \u001b[39m\u001b[38;5;132;01m{\u001b[39;00mi\u001b[38;5;132;01m=}\u001b[39;00m\u001b[38;5;124m)\u001b[39m\u001b[38;5;124m\"\u001b[39m)\n",
      "\u001b[0;31mNameError\u001b[0m: name 't' is not defined"
     ]
    }
   ],
   "source": [
    "print(f\"Total: {t} (with {i=})\")"
   ]
  },
  {
   "cell_type": "code",
   "execution_count": 34,
   "id": "eddbb53d",
   "metadata": {},
   "outputs": [
    {
     "name": "stderr",
     "output_type": "stream",
     "text": [
      "Division by zero!\n",
      "Division by zero!\n",
      "Division by zero!\n",
      "Division by zero!\n",
      "Division by zero!\n",
      "Division by zero!\n",
      "Division by zero!\n"
     ]
    },
    {
     "name": "stdout",
     "output_type": "stream",
     "text": [
      "3min 5s ± 37.5 s per loop (mean ± std. dev. of 7 runs, 1 loop each)\n"
     ]
    },
    {
     "name": "stderr",
     "output_type": "stream",
     "text": [
      "Division by zero!\n"
     ]
    }
   ],
   "source": [
    "%%timeit\n",
    "i: int = 1_000_000_000\n",
    "t: float = 0\n",
    "while i>=0:\n",
    "    if i!=0:\n",
    "        t += 1/i\n",
    "    else:\n",
    "        print(f\"Division by zero!\", file=sys.stderr)\n",
    "    i -=1\n"
   ]
  },
  {
   "cell_type": "code",
   "execution_count": 35,
   "id": "a709d600",
   "metadata": {},
   "outputs": [
    {
     "ename": "NameError",
     "evalue": "name 't' is not defined",
     "output_type": "error",
     "traceback": [
      "\u001b[0;31m---------------------------------------------------------------------------\u001b[0m",
      "\u001b[0;31mNameError\u001b[0m                                 Traceback (most recent call last)",
      "Cell \u001b[0;32mIn[35], line 1\u001b[0m\n\u001b[0;32m----> 1\u001b[0m \u001b[38;5;28mprint\u001b[39m(\u001b[38;5;124mf\u001b[39m\u001b[38;5;124m\"\u001b[39m\u001b[38;5;124mTotal: \u001b[39m\u001b[38;5;132;01m{\u001b[39;00m\u001b[43mt\u001b[49m\u001b[38;5;132;01m}\u001b[39;00m\u001b[38;5;124m (with \u001b[39m\u001b[38;5;132;01m{\u001b[39;00mi\u001b[38;5;132;01m=}\u001b[39;00m\u001b[38;5;124m)\u001b[39m\u001b[38;5;124m\"\u001b[39m)\n",
      "\u001b[0;31mNameError\u001b[0m: name 't' is not defined"
     ]
    }
   ],
   "source": [
    "print(f\"Total: {t} (with {i=})\")"
   ]
  },
  {
   "cell_type": "code",
   "execution_count": 36,
   "id": "4e8cff5b",
   "metadata": {},
   "outputs": [
    {
     "name": "stdout",
     "output_type": "stream",
     "text": [
      "Total: 14.392726722865772 (with i=-1)\n"
     ]
    },
    {
     "name": "stderr",
     "output_type": "stream",
     "text": [
      "e=ZeroDivisionError('division by zero')\n"
     ]
    }
   ],
   "source": [
    "i: int = 1_000_000\n",
    "t: float = 0\n",
    "while i>=0:\n",
    "    try:\n",
    "        t += 1/i\n",
    "    except ZeroDivisionError as e:\n",
    "        print(f\"{e=}\", file=sys.stderr)\n",
    "    i -=1\n",
    "print(f\"Total: {t} (with {i=})\")"
   ]
  },
  {
   "cell_type": "code",
   "execution_count": null,
   "id": "3c3e8f82",
   "metadata": {},
   "outputs": [],
   "source": [
    "import time\n",
    "\n",
    "start_time = time.perf_counter()\n",
    "block: int = 3\n",
    "\n",
    "for _ in range(block):\n",
    "    i: int = 1_000_000_000\n",
    "    t: float = 0\n",
    "    while i>=0:\n",
    "        if i!=0:\n",
    "            t += 1/i\n",
    "        else:\n",
    "            print(f\"Division by zero!\", file=sys.stderr)\n",
    "        i -=1\n",
    "end_time = time.perf_counter()\n",
    "print(f\"Total: {t} (with {i=})\")\n",
    "\n",
    "print(f\"IF/ELSE Time taken (time.time()): {end_time-start_time:.2f}s\")\n",
    "\n",
    "start_time = time.perf_counter()\n",
    "block: int = 3\n",
    "\n",
    "for _ in range(block):\n",
    "    i: int = 1_000_000\n",
    "    t: float = 0\n",
    "    while i>=0:\n",
    "        try:\n",
    "            t += 1/i\n",
    "        except ZeroDivisionError as e:\n",
    "            print(f\"{e=}\", file=sys.stderr)\n",
    "        i -=1\n",
    "end_time = time.perf_counter()\n",
    "print(f\"Total: {t} (with {i=})\")\n",
    "\n",
    "print(f\"TRY/EXCEPT Time taken (time.time()): {end_time-start_time:.2f}s\")\n"
   ]
  },
  {
   "cell_type": "code",
   "execution_count": 38,
   "id": "ab1495b7",
   "metadata": {},
   "outputs": [
    {
     "name": "stdout",
     "output_type": "stream",
     "text": [
      "Loop pass 0/3:\n",
      "IF/ELSE Time taken (time.time()): 206.06s\n",
      "Total: 21.30048150234615 (with i=1)\n",
      "Loop pass 1/3:\n",
      "IF/ELSE Time taken (time.time()): 226.18s\n",
      "Total: 21.30048150234615 (with i=1)\n",
      "Loop pass 2/3:\n",
      "IF/ELSE Time taken (time.time()): 255.12s\n",
      "Total: 21.30048150234615 (with i=1)\n",
      "Loop pass 0/3:\n",
      "TRY/EXCEPT Time taken (time.time()): 196.07s\n",
      "Total: 21.30048150234615 (with i=1)\n",
      "Loop pass 1/3:\n",
      "TRY/EXCEPT Time taken (time.time()): 183.71s\n",
      "Total: 21.30048150234615 (with i=1)\n",
      "Loop pass 2/3:\n",
      "TRY/EXCEPT Time taken (time.time()): 184.40s\n",
      "Total: 21.30048150234615 (with i=1)\n"
     ]
    }
   ],
   "source": [
    "block: int = 3\n",
    "for _ in range(block):\n",
    "    t: float = 0\n",
    "    start_time = time.perf_counter()\n",
    "    print(f\"Loop pass {_}/{block}:\")\n",
    "    for i in range(1_000_000_000,0,-1):\n",
    "        if i!=0:\n",
    "            t += 1/i\n",
    "        else:\n",
    "            print(f\"Division by zero!\", file=sys.stderr)\n",
    "    end_time = time.perf_counter()\n",
    "    print(f\"IF/ELSE Time taken (time.time()): {end_time-start_time:.2f}s\")\n",
    "    print(f\"Total: {t} (with {i=})\")\n",
    "\n",
    "for _ in range(block):\n",
    "    t: float = 0\n",
    "    start_time = time.perf_counter()\n",
    "    print(f\"Loop pass {_}/{block}:\")\n",
    "    for i in range(1_000_000_000,0,-1):\n",
    "        try:\n",
    "            t += 1/i\n",
    "        except Exception as e:\n",
    "            print(f\"{e=}\")\n",
    "    end_time = time.perf_counter()\n",
    "    print(f\"TRY/EXCEPT Time taken (time.time()): {end_time-start_time:.2f}s\")\n",
    "    print(f\"Total: {t} (with {i=})\")"
   ]
  }
 ],
 "metadata": {
  "kernelspec": {
   "display_name": "Python 3 (ipykernel)",
   "language": "python",
   "name": "python3"
  }
 },
 "nbformat": 4,
 "nbformat_minor": 5
}
