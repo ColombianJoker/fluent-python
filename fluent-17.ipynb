{
 "cells": [
  {
   "cell_type": "markdown",
   "id": "0fe387de",
   "metadata": {},
   "source": [
    "## 17. Iterators, Generators, and Classic Coroutines"
   ]
  },
  {
   "cell_type": "code",
   "execution_count": 1,
   "id": "82f8b1b2",
   "metadata": {},
   "outputs": [],
   "source": [
    "import re\n",
    "import reprlib"
   ]
  },
  {
   "cell_type": "code",
   "execution_count": 2,
   "id": "7d4394ea",
   "metadata": {},
   "outputs": [],
   "source": [
    "RE_WORD = re.compile(r'\\w+')\n",
    "\n",
    "class Sentence:\n",
    "\n",
    "    def __init__(self, text):\n",
    "        self.text = text\n",
    "        self.words = RE_WORD.findall(text)\n",
    "\n",
    "    def __getitem__(self, index):\n",
    "        return self.words[index]\n",
    "    \n",
    "    def __len__(self):\n",
    "        return len(self.words)\n",
    "    \n",
    "    def __repr__(self):\n",
    "        return 'Sentence(%s)' % reprlib.repr(self.text)"
   ]
  },
  {
   "cell_type": "code",
   "execution_count": 3,
   "id": "0278a1ff",
   "metadata": {},
   "outputs": [
    {
     "data": {
      "text/plain": [
       "Sentence('\"The time ha... Walrus said,')"
      ]
     },
     "execution_count": 3,
     "metadata": {},
     "output_type": "execute_result"
    }
   ],
   "source": [
    "s = Sentence('\"The time has come,\" the Walrus said,')\n",
    "s"
   ]
  },
  {
   "cell_type": "code",
   "execution_count": 4,
   "id": "a9152c87",
   "metadata": {},
   "outputs": [
    {
     "name": "stdout",
     "output_type": "stream",
     "text": [
      "The\n",
      "time\n",
      "has\n",
      "come\n",
      "the\n",
      "Walrus\n",
      "said\n"
     ]
    }
   ],
   "source": [
    "for word in s:\n",
    "    print(word)"
   ]
  },
  {
   "cell_type": "code",
   "execution_count": 5,
   "id": "302bb04b",
   "metadata": {},
   "outputs": [
    {
     "data": {
      "text/plain": [
       "['The', 'time', 'has', 'come', 'the', 'Walrus', 'said']"
      ]
     },
     "execution_count": 5,
     "metadata": {},
     "output_type": "execute_result"
    }
   ],
   "source": [
    "list(s)"
   ]
  },
  {
   "cell_type": "code",
   "execution_count": 6,
   "id": "6f054125",
   "metadata": {},
   "outputs": [
    {
     "data": {
      "text/plain": [
       "'The'"
      ]
     },
     "execution_count": 6,
     "metadata": {},
     "output_type": "execute_result"
    }
   ],
   "source": [
    "s[0]"
   ]
  },
  {
   "cell_type": "code",
   "execution_count": 7,
   "id": "d04eb88e",
   "metadata": {},
   "outputs": [
    {
     "data": {
      "text/plain": [
       "'Walrus'"
      ]
     },
     "execution_count": 7,
     "metadata": {},
     "output_type": "execute_result"
    }
   ],
   "source": [
    "s[5]"
   ]
  },
  {
   "cell_type": "code",
   "execution_count": 8,
   "id": "f5318a52",
   "metadata": {},
   "outputs": [
    {
     "data": {
      "text/plain": [
       "'said'"
      ]
     },
     "execution_count": 8,
     "metadata": {},
     "output_type": "execute_result"
    }
   ],
   "source": [
    "s[-1]"
   ]
  },
  {
   "cell_type": "markdown",
   "id": "86fc8fff",
   "metadata": {},
   "source": [
    "## Why Sequences Are Iterable: The `iter` function\n",
    "\n",
    "Whenever Python needs to iterate over an object x, it automatically calls `iter(x)`.\n",
    "\n",
    "The `iter` built-in function:\n",
    "\n",
    "1. Checks whether the object implements `__iter__`, and calls that to obtain an iterator.\n",
    "2. If `__iter__` is not implemented, but `__getitem__` is, then `iter()` creates an iterator that tries to fetch items by index, starting from `0` (zero).\n",
    "3. If that fails, Python raises `TypeError`, usually saying `'C' object is not iterable`, where `C` is the class of the target object."
   ]
  },
  {
   "cell_type": "code",
   "execution_count": 10,
   "id": "6e8c7331",
   "metadata": {},
   "outputs": [
    {
     "data": {
      "text/plain": [
       "<iterator at 0x7fb6f8181db0>"
      ]
     },
     "execution_count": 10,
     "metadata": {},
     "output_type": "execute_result"
    }
   ],
   "source": [
    "class Spam:\n",
    "    def __getitem__(self, i):\n",
    "        print('->', i)\n",
    "        raise IndexError()\n",
    "    \n",
    "spam_can = Spam()\n",
    "iter(spam_can)"
   ]
  },
  {
   "cell_type": "code",
   "execution_count": 11,
   "id": "9c684205",
   "metadata": {},
   "outputs": [
    {
     "name": "stdout",
     "output_type": "stream",
     "text": [
      "-> 0\n"
     ]
    },
    {
     "data": {
      "text/plain": [
       "[]"
      ]
     },
     "execution_count": 11,
     "metadata": {},
     "output_type": "execute_result"
    }
   ],
   "source": [
    "list(spam_can)"
   ]
  },
  {
   "cell_type": "code",
   "execution_count": 12,
   "id": "662a6728",
   "metadata": {},
   "outputs": [
    {
     "data": {
      "text/plain": [
       "False"
      ]
     },
     "execution_count": 12,
     "metadata": {},
     "output_type": "execute_result"
    }
   ],
   "source": [
    "from collections import abc\n",
    "isinstance(spam_can, abc.Iterable)"
   ]
  },
  {
   "cell_type": "code",
   "execution_count": 13,
   "id": "1fa4305b",
   "metadata": {},
   "outputs": [
    {
     "data": {
      "text/plain": [
       "True"
      ]
     },
     "execution_count": 13,
     "metadata": {},
     "output_type": "execute_result"
    }
   ],
   "source": [
    "class GooseSpam:\n",
    "    def __iter__(self):\n",
    "        pass\n",
    "\n",
    "from collections import abc\n",
    "issubclass(GooseSpam, abc.Iterable)"
   ]
  },
  {
   "cell_type": "code",
   "execution_count": 14,
   "id": "50dab561",
   "metadata": {},
   "outputs": [
    {
     "data": {
      "text/plain": [
       "True"
      ]
     },
     "execution_count": 14,
     "metadata": {},
     "output_type": "execute_result"
    }
   ],
   "source": [
    "goose_spam_can = GooseSpam()\n",
    "isinstance(goose_spam_can, abc.Iterable)"
   ]
  },
  {
   "cell_type": "markdown",
   "id": "5715fa9b",
   "metadata": {},
   "source": [
    "### Using `iter` with a Callable\n",
    "\n",
    "We can call `iter()` with two arguments to create an iterator from a function or any callable object. In this usage, the first argument must be a callable to be invoked repeatedly (with no arguments) to produce values, and the second argument is a _sentinel_: a marker value which, when returned by the callable, causes the iterator to raise StopIteration instead of yielding the sentinel."
   ]
  },
  {
   "cell_type": "code",
   "execution_count": 28,
   "id": "38be516d",
   "metadata": {},
   "outputs": [],
   "source": [
    "from random import randint\n",
    "\n",
    "def d6():\n",
    "    return randint(1, 6)\n"
   ]
  },
  {
   "cell_type": "code",
   "execution_count": 29,
   "id": "afb814c0",
   "metadata": {},
   "outputs": [
    {
     "data": {
      "text/plain": [
       "<callable_iterator at 0x7fb6e28edd80>"
      ]
     },
     "execution_count": 29,
     "metadata": {},
     "output_type": "execute_result"
    }
   ],
   "source": [
    "d6_iter = iter(d6, 1)\n",
    "d6_iter"
   ]
  },
  {
   "cell_type": "code",
   "execution_count": 31,
   "id": "1495c923",
   "metadata": {},
   "outputs": [],
   "source": [
    "for roll in d6_iter:\n",
    "    print(roll)"
   ]
  },
  {
   "cell_type": "markdown",
   "id": "4391e8bc",
   "metadata": {},
   "source": [
    "## Iterables Versus Iterators\n",
    "\n",
    "_iterable_\n",
    "> Any object from which the `iter` built-in function can obtain an iterator. Objects implementing an `__iter__` method returning an iterator are iterable. Sequences are always iterable, as are objects implementing a `__getitem__` method that accepts 0-based indexes."
   ]
  },
  {
   "cell_type": "code",
   "execution_count": 32,
   "id": "65297d1f",
   "metadata": {},
   "outputs": [
    {
     "name": "stdout",
     "output_type": "stream",
     "text": [
      "A\n",
      "B\n",
      "C\n"
     ]
    }
   ],
   "source": [
    "s = 'ABC'\n",
    "for char in s:\n",
    "    print(char)"
   ]
  },
  {
   "cell_type": "markdown",
   "id": "6c7574d9",
   "metadata": {},
   "source": [
    "## Sentence Classes with `__iter__`\n",
    "\n",
    "The next variations of `Sentence` implement the standard iterable protocol, first by implementing the Iterator design pattern, and then with generator functions.\n"
   ]
  },
  {
   "cell_type": "markdown",
   "id": "f81ead8f",
   "metadata": {},
   "source": [
    "### Sentence Take #2: A Classic Iterator"
   ]
  },
  {
   "cell_type": "code",
   "execution_count": 33,
   "id": "c8e0f2bd",
   "metadata": {},
   "outputs": [],
   "source": [
    "import re\n",
    "import reprlib\n",
    "\n",
    "RE_WORD = re.compile(r'\\w+')\n",
    "\n",
    "class Sentence:\n",
    "\n",
    "    def __init__(self, text):\n",
    "        self.text = text\n",
    "        self.words = RE_WORD.findall(text)\n",
    "\n",
    "    def __repr__(self):\n",
    "        return f'Sentence({reprlib.repr(self.text)})'\n",
    "    \n",
    "    def __iter__(self):\n",
    "        return SentenceIterator(self.words)\n",
    "    \n",
    "class SentenceIterator:\n",
    "\n",
    "    def __init__(self, words):\n",
    "        self.words = words\n",
    "        self.index = 0\n",
    "\n",
    "    def __next__(self):\n",
    "        try:\n",
    "            word = self.words[self.index]\n",
    "        except IndexError:\n",
    "            raise StopIteration()\n",
    "        self.index +=1\n",
    "        return word\n",
    "    \n",
    "    def __iter__(self):\n",
    "        return self"
   ]
  },
  {
   "cell_type": "markdown",
   "id": "721efc54",
   "metadata": {},
   "source": [
    "### Sentence Take #3: A Generator Function"
   ]
  },
  {
   "cell_type": "code",
   "execution_count": 34,
   "id": "972c205c",
   "metadata": {},
   "outputs": [],
   "source": [
    "import re\n",
    "import reprlib\n",
    "\n",
    "RE_WORD = re.compile(r'\\w+')\n",
    "\n",
    "class Sentence:\n",
    "\n",
    "    def __init__(self, text):\n",
    "        self.text = text\n",
    "        self.words = RE_WORD.findall(text)\n",
    "\n",
    "    def __repr__(self):\n",
    "        return 'Sentence(%s)' % reprlib.repr(self.text)\n",
    "    \n",
    "    def __iter__(self):\n",
    "        for word in self.words:\n",
    "            yield word\n"
   ]
  },
  {
   "cell_type": "code",
   "execution_count": null,
   "id": "4d5812d6",
   "metadata": {},
   "outputs": [],
   "source": []
  }
 ],
 "metadata": {
  "kernelspec": {
   "display_name": "Python 3 (ipykernel)",
   "language": "python",
   "name": "python3"
  },
  "language_info": {
   "codemirror_mode": {
    "name": "ipython",
    "version": 3
   },
   "file_extension": ".py",
   "mimetype": "text/x-python",
   "name": "python",
   "nbconvert_exporter": "python",
   "pygments_lexer": "ipython3",
   "version": "3.11.6"
  }
 },
 "nbformat": 4,
 "nbformat_minor": 5
}
