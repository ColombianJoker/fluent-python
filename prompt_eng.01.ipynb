{
 "cells": [
  {
   "cell_type": "markdown",
   "id": "fd9e700c",
   "metadata": {},
   "source": [
    "# English as a New Programming Language"
   ]
  },
  {
   "cell_type": "code",
   "execution_count": 3,
   "id": "d3dbcf1b",
   "metadata": {},
   "outputs": [],
   "source": [
    "scores_names = [\n",
    "    \"Ethan (93)\", \"Olivia (67)\", \"Benjamin (42)\", \"Emma (94)\", \"Noah (76)\",\n",
    "    \"Sophia (89)\", \"Lucas (51)\", \"Mia (62)\", \"Alexander (80)\", \"Isabella (95)\",\n",
    "    \"Henry (34)\", \"Ava (71)\", \"James (87)\", \"Charlotte (58)\", \"Antonio (96)\",\n",
    "    \"Harper (78)\", \"Matthew (49)\", \"Amelia (92)\", \"Samuel (64)\", \"Evelyn (83)\",\n",
    "    \"Alicia (100)\", \"Abigail (88)\", \"David (39)\", \"Emily (70)\", \"Oliver (94)\",\n",
    "    \"Elizabeth (60)\", \"William (81)\", \"Sofia (68)\", \"Michael (77)\", \"Grace (93)\"\n",
    "]"
   ]
  },
  {
   "cell_type": "code",
   "execution_count": 5,
   "id": "a7d20a29",
   "metadata": {},
   "outputs": [],
   "source": [
    "sorted_scores_names = sorted(scores_names,\n",
    "       key=lambda x: int(x.split(\" \")[-1][1:-1]), \n",
    "       reverse=True)"
   ]
  },
  {
   "cell_type": "code",
   "execution_count": 6,
   "id": "b390b6e1",
   "metadata": {},
   "outputs": [],
   "source": [
    "formatted_scores_names = [f\"{item.split(' ')[0]} ({item.split(' ')[-1][1:-1]})\" \n",
    "                          for item in sorted_scores_names]"
   ]
  },
  {
   "cell_type": "code",
   "execution_count": 8,
   "id": "e8c6b2cf",
   "metadata": {},
   "outputs": [
    {
     "name": "stdout",
     "output_type": "stream",
     "text": [
      "Alicia (100), Antonio (96), Isabella (95), Emma (94), Oliver (94), Ethan (93), Grace (93), Amelia (92), Sophia (89), Abigail (88), James (87), Evelyn (83), William (81), Alexander (80), Harper (78), Michael (77), Noah (76), Ava (71), Emily (70), Sofia (68), Olivia (67), Samuel (64), Mia (62), Elizabeth (60), Charlotte (58), Lucas (51), Matthew (49), Benjamin (42), David (39), Henry (34)\n"
     ]
    }
   ],
   "source": [
    "print(*formatted_scores_names, sep = \", \")"
   ]
  }
 ],
 "metadata": {
  "kernelspec": {
   "display_name": "Python 3 (ipykernel)",
   "language": "python",
   "name": "python3"
  },
  "language_info": {
   "codemirror_mode": {
    "name": "ipython",
    "version": 3
   },
   "file_extension": ".py",
   "mimetype": "text/x-python",
   "name": "python",
   "nbconvert_exporter": "python",
   "pygments_lexer": "ipython3",
   "version": "3.11.6"
  }
 },
 "nbformat": 4,
 "nbformat_minor": 5
}
