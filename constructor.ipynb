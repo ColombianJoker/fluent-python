{
 "cells": [
  {
   "cell_type": "markdown",
   "id": "cba5999d",
   "metadata": {},
   "source": [
    "# Constructor: __new__() vs. __init__()"
   ]
  },
  {
   "cell_type": "code",
   "execution_count": 5,
   "id": "d5708727",
   "metadata": {},
   "outputs": [],
   "source": [
    "import sys"
   ]
  },
  {
   "cell_type": "code",
   "execution_count": 6,
   "id": "77499075",
   "metadata": {},
   "outputs": [],
   "source": [
    "class CanvasCoordinate():\n",
    "\n",
    "    def __init__(self, x, y):\n",
    "        print(f\"{self=}\", file=sys.stderr)\n",
    "        print(f\"{self.__dict__=}\", file=sys.stderr)\n",
    "        self.x = x\n",
    "        self.y = y\n",
    "        print(f\"{self.__dict__=}\", file=sys.stderr)\n",
    "\n",
    "    def __new__(cls, *arg, **kwargs):\n",
    "        print(f\"class name = {cls.__name__}\", file=sys.stderr)\n",
    "        new_obj = object.__new__(cls)\n",
    "        print(f\"id = {id(new_obj)}\", file=sys.stderr)\n",
    "        return new_obj"
   ]
  },
  {
   "cell_type": "code",
   "execution_count": 7,
   "id": "6f227660",
   "metadata": {},
   "outputs": [
    {
     "name": "stderr",
     "output_type": "stream",
     "text": [
      "class name = CanvasCoordinate\n",
      "id = 139718913170448\n",
      "self=<__main__.CanvasCoordinate object at 0x7f12d8301c10>\n",
      "self.__dict__={}\n",
      "self.__dict__={'x': 1, 'y': 2}\n"
     ]
    }
   ],
   "source": [
    "canvas = CanvasCoordinate(1, 2)"
   ]
  }
 ],
 "metadata": {
  "kernelspec": {
   "display_name": "Python 3 (ipykernel)",
   "language": "python",
   "name": "python3"
  },
  "language_info": {
   "codemirror_mode": {
    "name": "ipython",
    "version": 3
   },
   "file_extension": ".py",
   "mimetype": "text/x-python",
   "name": "python",
   "nbconvert_exporter": "python",
   "pygments_lexer": "ipython3",
   "version": "3.11.6"
  }
 },
 "nbformat": 4,
 "nbformat_minor": 5
}
