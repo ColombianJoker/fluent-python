{
 "cells": [
  {
   "cell_type": "markdown",
   "id": "edd88578",
   "metadata": {},
   "source": [
    "# 11. A Pythonic Object\n",
    "\n",
    "Thanks to the Python Data Model, your user-defined types can behave as naturally as the built-in types. And this can be accomplished without inheritance, in the spirit of _duck typing_: you just implement the methods needed for your objects to behave as expected."
   ]
  },
  {
   "cell_type": "markdown",
   "id": "833c9de1",
   "metadata": {},
   "source": [
    "## Object Representations\n",
    "\n",
    "Every object-oriented language has at least one standard way of getting a string repre‐ sentation from any object. Python has two:\n",
    "\n",
    "`repr()`\n",
    "    Return a string representing the object as the developer wants to see it. It’s what you get when the Python console or a debugger shows an object.\n",
    "\n",
    "`str()`\n",
    "    Return a string representing the object as the user wants to see it. It’s what you get when you `print()` an object."
   ]
  },
  {
   "cell_type": "markdown",
   "id": "5479a2af",
   "metadata": {},
   "source": [
    "## Vector Class Redux\n",
    "\n",
    "In order to demonstrate the many methods used to generate object representations, we’ll use a `Vector2d` class similar to the one we saw before."
   ]
  },
  {
   "cell_type": "code",
   "execution_count": 15,
   "id": "9f1c4400",
   "metadata": {},
   "outputs": [],
   "source": [
    "from array import array\n",
    "import math\n",
    "\n",
    "class Vector2D:\n",
    "    typecode = 'd'\n",
    "\n",
    "    def __init__(self, x, y):\n",
    "        self.x = float(x)\n",
    "        self.y = float(y)\n",
    "\n",
    "    def __iter__(self):\n",
    "        return (i for i in (self.x, self.y))\n",
    "    \n",
    "    def __repr__(self):\n",
    "        class_name = type(self).__name__\n",
    "        return '{}({!r}, {!r})'.format(class_name, *self)\n",
    "    \n",
    "    def __str__(self):\n",
    "        return str(tuple(self))\n",
    "    \n",
    "    def __bytes__(self):\n",
    "        return (\n",
    "            bytes( [ord(self.typecode)]) +\n",
    "            bytes( array(self.typecode, self))\n",
    "                )\n",
    "    \n",
    "    def __eq__(self, other):\n",
    "        return tuple(self) == tuple(other)\n",
    "    \n",
    "    def __abs__(self):\n",
    "        return math.hypot(self.x, self.y)\n",
    "    \n",
    "    def __bool__(self):\n",
    "        return bool(abs(self))\n",
    "    \n",
    "    @classmethod\n",
    "    def frombytes(cls, octets):\n",
    "        typecode = chr(octets[0])\n",
    "        memv = memoryview(octets[1:]).cast(typecode)\n",
    "        return cls(*memv)"
   ]
  },
  {
   "cell_type": "markdown",
   "id": "281aaa91",
   "metadata": {},
   "source": [
    "## classmethod Versus staticmethod\n",
    "\n",
    "The `classmethod` decorator is not mentioned in the Python tutorial, and neither is `staticmethod`. Anyone who has learned OO in Java may wonder why Python has both of these decorators and not just one of them."
   ]
  },
  {
   "cell_type": "markdown",
   "id": "8a5f5bf8",
   "metadata": {},
   "source": [
    "## Formatted Displays\n",
    "\n",
    "The f-strings, the `format()` built-in function, and the `str.format()` method delegate the actual formatting to each type by calling their `.__format__(format_spec)` method. The `format_spec` is a formatting specifier, which is either:\n",
    "\n",
    "+ The second argument in `format(my_obj, format_spec)` or\n",
    "+ Whatever appears after the colon in a replacement field delimited with `{}` inside an f-string or the `fmt` in `fmt.str.format()`"
   ]
  },
  {
   "cell_type": "code",
   "execution_count": 16,
   "id": "dd39ebcf",
   "metadata": {},
   "outputs": [
    {
     "data": {
      "text/plain": [
       "0.20746887966804978"
      ]
     },
     "execution_count": 16,
     "metadata": {},
     "output_type": "execute_result"
    }
   ],
   "source": [
    "brl = 1 / 4.82\n",
    "brl"
   ]
  },
  {
   "cell_type": "code",
   "execution_count": 17,
   "id": "d591c1a1",
   "metadata": {},
   "outputs": [
    {
     "data": {
      "text/plain": [
       "'0.2075'"
      ]
     },
     "execution_count": 17,
     "metadata": {},
     "output_type": "execute_result"
    }
   ],
   "source": [
    "format(brl, '0.4f')"
   ]
  },
  {
   "cell_type": "code",
   "execution_count": 18,
   "id": "025f8b18",
   "metadata": {},
   "outputs": [
    {
     "data": {
      "text/plain": [
       "'1 BRL = 0.21 USD'"
      ]
     },
     "execution_count": 18,
     "metadata": {},
     "output_type": "execute_result"
    }
   ],
   "source": [
    "'1 BRL = {rate:0.2f} USD'.format(rate=brl)"
   ]
  },
  {
   "cell_type": "code",
   "execution_count": 19,
   "id": "ade46214",
   "metadata": {},
   "outputs": [
    {
     "data": {
      "text/plain": [
       "'1 USD = 4.82 BRL'"
      ]
     },
     "execution_count": 19,
     "metadata": {},
     "output_type": "execute_result"
    }
   ],
   "source": [
    "f'1 USD = {1 / brl:0.2f} BRL'"
   ]
  },
  {
   "cell_type": "markdown",
   "id": "d989ace6",
   "metadata": {},
   "source": [
    "A few built-in types have their own presentation codes in the Format Specification Mini-Language. For example—among several other codes—the `int` type supports `b` and `x` for base 2 and base 16 output, respectively, while `float` implements `f` for a fixed-point display and `%` for a percentage display:"
   ]
  },
  {
   "cell_type": "code",
   "execution_count": 20,
   "id": "4e0db7de",
   "metadata": {},
   "outputs": [
    {
     "data": {
      "text/plain": [
       "'101010'"
      ]
     },
     "execution_count": 20,
     "metadata": {},
     "output_type": "execute_result"
    }
   ],
   "source": [
    "format(42, 'b')"
   ]
  },
  {
   "cell_type": "code",
   "execution_count": 21,
   "id": "7710fd1c",
   "metadata": {},
   "outputs": [
    {
     "data": {
      "text/plain": [
       "'66.7%'"
      ]
     },
     "execution_count": 21,
     "metadata": {},
     "output_type": "execute_result"
    }
   ],
   "source": [
    "format(2/3, '.1%')"
   ]
  },
  {
   "cell_type": "code",
   "execution_count": 22,
   "id": "04ba7a2f",
   "metadata": {},
   "outputs": [
    {
     "data": {
      "text/plain": [
       "'10:36:49'"
      ]
     },
     "execution_count": 22,
     "metadata": {},
     "output_type": "execute_result"
    }
   ],
   "source": [
    "from datetime import datetime\n",
    "now = datetime.now()\n",
    "format(now, '%H:%M:%S')"
   ]
  },
  {
   "cell_type": "code",
   "execution_count": 23,
   "id": "166ddd5b",
   "metadata": {},
   "outputs": [
    {
     "data": {
      "text/plain": [
       "\"It's now 10:36 AM\""
      ]
     },
     "execution_count": 23,
     "metadata": {},
     "output_type": "execute_result"
    }
   ],
   "source": [
    "\"It's now {:%I:%M %p}\".format(now)"
   ]
  },
  {
   "cell_type": "code",
   "execution_count": 24,
   "id": "60ab5247",
   "metadata": {},
   "outputs": [
    {
     "data": {
      "text/plain": [
       "'(3.0, 4.0)'"
      ]
     },
     "execution_count": 24,
     "metadata": {},
     "output_type": "execute_result"
    }
   ],
   "source": [
    "v1 = Vector2D(3, 4)\n",
    "format(v1)"
   ]
  },
  {
   "cell_type": "code",
   "execution_count": 26,
   "id": "a96e8eda",
   "metadata": {},
   "outputs": [
    {
     "name": "stdout",
     "output_type": "stream",
     "text": [
      "e=TypeError('unsupported format string passed to Vector2D.__format__')\n"
     ]
    }
   ],
   "source": [
    "try:\n",
    "    print(format(v1, '.3f'))\n",
    "except Exception as e: print(f\"{e=}\")"
   ]
  },
  {
   "cell_type": "code",
   "execution_count": 27,
   "id": "084475dd",
   "metadata": {},
   "outputs": [],
   "source": [
    "def __format__(self, fmt_spec=''):\n",
    "    components = (format(c, fmt_spec) for c in self)\n",
    "    return '({}, {})'.format(*components)\n",
    "\n",
    "Vector2D.__format__ = __format__"
   ]
  },
  {
   "cell_type": "code",
   "execution_count": 30,
   "id": "205f8b09",
   "metadata": {},
   "outputs": [
    {
     "data": {
      "text/plain": [
       "'(3.0, 4.0)'"
      ]
     },
     "execution_count": 30,
     "metadata": {},
     "output_type": "execute_result"
    }
   ],
   "source": [
    "v1 = Vector2D(3, 4)\n",
    "format(v1)"
   ]
  },
  {
   "cell_type": "code",
   "execution_count": 31,
   "id": "7fd9111f",
   "metadata": {},
   "outputs": [
    {
     "name": "stdout",
     "output_type": "stream",
     "text": [
      "(3.000, 4.000)\n"
     ]
    }
   ],
   "source": [
    "try:\n",
    "    print(format(v1, '.3f'))\n",
    "except Exception as e: print(f\"{e=}\")"
   ]
  },
  {
   "cell_type": "code",
   "execution_count": 33,
   "id": "2b618c8a",
   "metadata": {},
   "outputs": [],
   "source": [
    "def angle(self):\n",
    "    return math.atan2(self.y, self.x)\n",
    "\n",
    "Vector2D.angle = angle"
   ]
  },
  {
   "cell_type": "code",
   "execution_count": 38,
   "id": "92cedcd0",
   "metadata": {},
   "outputs": [],
   "source": [
    "def __format__(self, fmt_spec=''):\n",
    "    if fmt_spec.endswith('p'):\n",
    "        fmt_spec = fmt_spec[:-1]\n",
    "        coords = (abs(self), self.angle())\n",
    "        outer_fmt = '<{}, {}>'\n",
    "    else:\n",
    "        coords = self\n",
    "        outer_fmt = '({}, {})'\n",
    "    components = (format(c, fmt_spec) for c in coords)\n",
    "    return outer_fmt.format(*components)\n",
    "\n",
    "Vector2D.__format__ = __format__"
   ]
  },
  {
   "cell_type": "code",
   "execution_count": 39,
   "id": "cd800eb3",
   "metadata": {},
   "outputs": [
    {
     "data": {
      "text/plain": [
       "'<1.4142135623730951, 0.7853981633974483>'"
      ]
     },
     "execution_count": 39,
     "metadata": {},
     "output_type": "execute_result"
    }
   ],
   "source": [
    "format(Vector2D(1, 1), 'p')"
   ]
  },
  {
   "cell_type": "code",
   "execution_count": 41,
   "id": "820f72de",
   "metadata": {},
   "outputs": [
    {
     "data": {
      "text/plain": [
       "'<1.414e+00, 7.854e-01>'"
      ]
     },
     "execution_count": 41,
     "metadata": {},
     "output_type": "execute_result"
    }
   ],
   "source": [
    "format(Vector2D(1, 1), '.3ep')"
   ]
  },
  {
   "cell_type": "code",
   "execution_count": 42,
   "id": "24dda833",
   "metadata": {},
   "outputs": [
    {
     "data": {
      "text/plain": [
       "'<1.41421, 0.78540>'"
      ]
     },
     "execution_count": 42,
     "metadata": {},
     "output_type": "execute_result"
    }
   ],
   "source": [
    "format(Vector2D(1, 1), '0.5fp')"
   ]
  },
  {
   "cell_type": "markdown",
   "id": "39e25179",
   "metadata": {},
   "source": [
    "## A Hashable Vector2D\n",
    "\n",
    "As defined, so far our Vector2d instances are unhashable, so we can’t put them in a `set`:"
   ]
  },
  {
   "cell_type": "code",
   "execution_count": 43,
   "id": "79739bc9",
   "metadata": {},
   "outputs": [
    {
     "name": "stdout",
     "output_type": "stream",
     "text": [
      "e=TypeError(\"unhashable type: 'Vector2D'\")\n",
      "e=TypeError(\"unhashable type: 'Vector2D'\")\n"
     ]
    }
   ],
   "source": [
    "try:\n",
    "    v1 = Vector2D(3,4)\n",
    "    print(hash(v1))\n",
    "except Exception as e:\n",
    "    print(f\"{e=}\")\n",
    "\n",
    "try:\n",
    "    v1 = Vector2D(3,4)\n",
    "    print(set( [v1] ))\n",
    "except Exception as e:\n",
    "    print(f\"{e=}\")"
   ]
  },
  {
   "cell_type": "markdown",
   "id": "f5a74960",
   "metadata": {},
   "source": [
    "To make a Vector2D hashable, we must implement `__hash__` (`__eq__` is also required, and we already have it). We also need to make vector instances immutable, as we’ve seen before.\n",
    "\n",
    "Right now, anyone can do `v1.x = 7`, and there is nothing in the code to suggest that changing a `Vector2D` is forbidden."
   ]
  },
  {
   "cell_type": "code",
   "execution_count": 44,
   "id": "3fd26544",
   "metadata": {},
   "outputs": [],
   "source": [
    "class Vector2d:\n",
    "    typecode = 'd'\n",
    "\n",
    "    def __init__(self, x, y): \n",
    "        self.__x = float(x) \n",
    "        self.__y = float(y)\n",
    "\n",
    "    @property\n",
    "    def x(self):\n",
    "        return self.__x\n",
    "    \n",
    "    @property\n",
    "    def y(self):\n",
    "        return self.__y\n",
    "    \n",
    "    def __iter__(self):\n",
    "        return (i for i in (self.x, self.y))"
   ]
  },
  {
   "cell_type": "markdown",
   "id": "e360d918",
   "metadata": {},
   "source": [
    "Now that our vectors are reasonably safe from accidental mutation, we can imple‐ ment the `__hash__` method. It should return an int and ideally take into account the hashes of the object attributes that are also used in the `__eq__` method, because objects that compare equal should have the same hash. The `__hash__ `special method documentation suggests computing the hash of a tuple with the components, so that’s what we do in examples."
   ]
  },
  {
   "cell_type": "code",
   "execution_count": 45,
   "id": "e5460125",
   "metadata": {},
   "outputs": [],
   "source": [
    "def __hash__(self):\n",
    "    return hash((self.x, self.y))\n",
    "\n",
    "Vector2D.__hash__ = __hash__"
   ]
  },
  {
   "cell_type": "code",
   "execution_count": 46,
   "id": "76cd0fba",
   "metadata": {},
   "outputs": [
    {
     "name": "stdout",
     "output_type": "stream",
     "text": [
      "hash(v1)=1079245023883434373, hash(v2)=1994163070182233067\n"
     ]
    }
   ],
   "source": [
    "v1 = Vector2D(3, 4)\n",
    "v2 = Vector2D(3.1, 4.2)\n",
    "print(f\"{hash(v1)=}, {hash(v2)=}\")"
   ]
  },
  {
   "cell_type": "code",
   "execution_count": 47,
   "id": "da8c66b8",
   "metadata": {},
   "outputs": [
    {
     "name": "stdout",
     "output_type": "stream",
     "text": [
      "v1=Vector2D(3.0, 4.0), v2=Vector2D(3.1, 4.2)\n"
     ]
    }
   ],
   "source": [
    "print(f\"{v1=}, {v2=}\")"
   ]
  },
  {
   "cell_type": "markdown",
   "id": "f123ac7d",
   "metadata": {},
   "source": [
    "## Supporting Positional Pattern Matching"
   ]
  },
  {
   "cell_type": "markdown",
   "id": "d285487b",
   "metadata": {},
   "source": [
    "To make Vector2d work with positional patterns, we need to add a class attribute named `__match_args__` , listing the instance attributes in the order they will be used for positional pattern matching:\n",
    "\n",
    "```python\n",
    "class Vector2D:\n",
    "    __match_args__ = ('x', 'y')\n",
    "\n",
    "    # etc ...\n",
    "```\n"
   ]
  },
  {
   "cell_type": "markdown",
   "id": "9f249440",
   "metadata": {},
   "source": [
    "## Complete Listing of Vector2D, Version3"
   ]
  },
  {
   "cell_type": "code",
   "execution_count": 48,
   "id": "63892bb8",
   "metadata": {},
   "outputs": [],
   "source": [
    "\"\"\"\n",
    "A two-dimensional vector class\n",
    "    >>> v1 = Vector2d(3, 4)\n",
    "    >>> print(v1.x, v1.y)\n",
    "    3.0 4.0\n",
    "    >>> x, y = v1\n",
    "    >>> x, y\n",
    "    (3.0, 4.0)\n",
    "    >>> v1\n",
    "    Vector2d(3.0, 4.0)\n",
    "    >>> v1_clone = eval(repr(v1))\n",
    "    >>> v1 == v1_clone\n",
    "    True\n",
    "    >>> print(v1)\n",
    "    (3.0, 4.0)\n",
    "    >>> octets = bytes(v1)\n",
    "    >>> octets\n",
    "    b'd\\\\x00\\\\x00\\\\x00\\\\x00\\\\x00\\\\x00\\\\x08@\\\\x00\\\\x00\\\\x00\\\\x00\\\\x00\\\\x00\\\\x10@'\n",
    "    >>> abs(v1)\n",
    "    5.0\n",
    "    >>> bool(v1), bool(Vector2d(0, 0))\n",
    "    (True, False)\n",
    "\n",
    "Test of ``.frombytes()`` class method:\n",
    "    >>> v1_clone = Vector2d.frombytes(bytes(v1))\n",
    "    >>> v1_clone\n",
    "    Vector2d(3.0, 4.0)\n",
    "    >>> v1 == v1_clone\n",
    "    True\n",
    "\n",
    "Tests of ``format()`` with Cartesian coordinates:\n",
    "    >>> format(v1)\n",
    "    '(3.0, 4.0)'\n",
    "    >>> format(v1, '.2f')\n",
    "    '(3.00, 4.00)'\n",
    "    >>> format(v1, '.3e')\n",
    "    '(3.000e+00, 4.000e+00)'\n",
    "\n",
    "Tests of the ``angle`` method::\n",
    "    >>> Vector2d(0, 0).angle()\n",
    "    0.0\n",
    "    >>> Vector2d(1, 0).angle()\n",
    "    0.0\n",
    "    >>> epsilon = 10**-8\n",
    "    >>> abs(Vector2d(0, 1).angle() - math.pi/2) < epsilon\n",
    "    True\n",
    "    >>> abs(Vector2d(1, 1).angle() - math.pi/4) < epsilon\n",
    "    True\n",
    "\n",
    "Tests of ``format()`` with polar coordinates:\n",
    "    >>> format(Vector2d(1, 1), 'p')  # doctest:+ELLIPSIS\n",
    "    '<1.414213..., 0.785398...>'\n",
    "    >>> format(Vector2d(1, 1), '.3ep')\n",
    "    '<1.414e+00, 7.854e-01>'\n",
    "    >>> format(Vector2d(1, 1), '0.5fp')\n",
    "    '<1.41421, 0.78540>'\n",
    "\n",
    "Tests of `x` and `y` read-only properties:\n",
    "    >>> v1.x, v1.y\n",
    "    (3.0, 4.0)\n",
    "    >>> v1.x = 123\n",
    "    Traceback (most recent call last):\n",
    "      ...\n",
    "    AttributeError: can't set attribute 'x'\n",
    "\n",
    "Tests of hashing:\n",
    "    >>> v1 = Vector2d(3, 4)\n",
    "    >>> v2 = Vector2d(3.1, 4.2)\n",
    "    >>> len({v1, v2})\n",
    "    2\n",
    "\"\"\"\n",
    "\n",
    "from array import array\n",
    "import math\n",
    "\n",
    "class Vector2d:\n",
    "    __match_args__ = ('x', 'y')\n",
    "\n",
    "    typecode = 'd'\n",
    "\n",
    "    def __init__(self, x, y): \n",
    "        self.__x = float(x) \n",
    "        self.__y = float(y)\n",
    "\n",
    "    @property\n",
    "    def x(self):\n",
    "        return self.__x\n",
    "    \n",
    "    @property\n",
    "    def y(self):\n",
    "        return self.__y\n",
    "    \n",
    "    def __iter__(self):\n",
    "        return (i for i in (self.x, self.y))\n",
    "    \n",
    "    def __repr__(self):\n",
    "        class_name = type(self).__name__\n",
    "        return '{}({!r}, {!r})'.format(class_name, *self)\n",
    "    \n",
    "    def __str__(self):\n",
    "        return str(tuple(self))\n",
    "    \n",
    "    def __bytes__(self):\n",
    "        return (bytes([ord(self.typecode)]) +\n",
    "            bytes(array(self.typecode, self))) \n",
    "    \n",
    "    def __eq__(self, other):\n",
    "        return tuple(self) == tuple(other) \n",
    "\n",
    "    def __hash__(self):\n",
    "        return hash((self.x, self.y)) \n",
    "\n",
    "    def __abs__(self):\n",
    "        return math.hypot(self.x, self.y)\n",
    "    \n",
    "    def __bool__(self):\n",
    "        return bool(abs(self)) \n",
    "\n",
    "    def angle(self):\n",
    "        return math.atan2(self.y, self.x)\n",
    "    \n",
    "    def __format__(self, fmt_spec=''): \n",
    "        if fmt_spec.endswith('p'):\n",
    "            fmt_spec = fmt_spec[:-1]\n",
    "            coords = (abs(self), self.angle())\n",
    "            outer_fmt = '<{}, {}>'\n",
    "        else:\n",
    "            coords = self\n",
    "            outer_fmt = '({}, {})'\n",
    "        components = (format(c, fmt_spec) for c in coords) \n",
    "        return outer_fmt.format(*components)\n",
    "    \n",
    "    @classmethod\n",
    "    def frombytes(cls, octets):\n",
    "        typecode = chr(octets[0])\n",
    "        memv = memoryview(octets[1:]).cast(typecode) \n",
    "        return cls(*memv)"
   ]
  },
  {
   "cell_type": "code",
   "execution_count": 49,
   "id": "6d98045e",
   "metadata": {},
   "outputs": [
    {
     "name": "stdout",
     "output_type": "stream",
     "text": [
      "3.0 4.0\n"
     ]
    }
   ],
   "source": [
    "v1 = Vector2d(3, 4)\n",
    "print(v1.x, v1.y)"
   ]
  },
  {
   "cell_type": "code",
   "execution_count": 50,
   "id": "31c44749",
   "metadata": {},
   "outputs": [
    {
     "data": {
      "text/plain": [
       "(3.0, 4.0)"
      ]
     },
     "execution_count": 50,
     "metadata": {},
     "output_type": "execute_result"
    }
   ],
   "source": [
    "x, y = v1\n",
    "x, y"
   ]
  },
  {
   "cell_type": "code",
   "execution_count": 51,
   "id": "11d61630",
   "metadata": {},
   "outputs": [
    {
     "data": {
      "text/plain": [
       "Vector2d(3.0, 4.0)"
      ]
     },
     "execution_count": 51,
     "metadata": {},
     "output_type": "execute_result"
    }
   ],
   "source": [
    "v1"
   ]
  },
  {
   "cell_type": "code",
   "execution_count": 52,
   "id": "638ec702",
   "metadata": {},
   "outputs": [],
   "source": [
    "v1_clone = eval(repr(v1))"
   ]
  },
  {
   "cell_type": "code",
   "execution_count": 53,
   "id": "f6668e63",
   "metadata": {},
   "outputs": [
    {
     "data": {
      "text/plain": [
       "True"
      ]
     },
     "execution_count": 53,
     "metadata": {},
     "output_type": "execute_result"
    }
   ],
   "source": [
    "v1 == v1_clone"
   ]
  },
  {
   "cell_type": "code",
   "execution_count": 54,
   "id": "6d7ef99e",
   "metadata": {},
   "outputs": [
    {
     "name": "stdout",
     "output_type": "stream",
     "text": [
      "(3.0, 4.0)\n"
     ]
    }
   ],
   "source": [
    "print(v1)"
   ]
  },
  {
   "cell_type": "code",
   "execution_count": 56,
   "id": "5184cdfa",
   "metadata": {},
   "outputs": [
    {
     "data": {
      "text/plain": [
       "b'd\\x00\\x00\\x00\\x00\\x00\\x00\\x08@\\x00\\x00\\x00\\x00\\x00\\x00\\x10@'"
      ]
     },
     "execution_count": 56,
     "metadata": {},
     "output_type": "execute_result"
    }
   ],
   "source": [
    "octets = bytes(v1)\n",
    "octets"
   ]
  },
  {
   "cell_type": "code",
   "execution_count": 57,
   "id": "28f0da61",
   "metadata": {},
   "outputs": [
    {
     "data": {
      "text/plain": [
       "5.0"
      ]
     },
     "execution_count": 57,
     "metadata": {},
     "output_type": "execute_result"
    }
   ],
   "source": [
    "abs(v1)"
   ]
  },
  {
   "cell_type": "code",
   "execution_count": 58,
   "id": "d5181a28",
   "metadata": {},
   "outputs": [
    {
     "data": {
      "text/plain": [
       "(True, False)"
      ]
     },
     "execution_count": 58,
     "metadata": {},
     "output_type": "execute_result"
    }
   ],
   "source": [
    "bool(v1), bool(Vector2d(0, 0))"
   ]
  },
  {
   "cell_type": "code",
   "execution_count": 60,
   "id": "0f44d5df",
   "metadata": {},
   "outputs": [
    {
     "data": {
      "text/plain": [
       "Vector2d(3.0, 4.0)"
      ]
     },
     "execution_count": 60,
     "metadata": {},
     "output_type": "execute_result"
    }
   ],
   "source": [
    "v1_clone = Vector2d.frombytes(bytes(v1))\n",
    "v1_clone"
   ]
  },
  {
   "cell_type": "code",
   "execution_count": 61,
   "id": "03ff8589",
   "metadata": {},
   "outputs": [
    {
     "data": {
      "text/plain": [
       "True"
      ]
     },
     "execution_count": 61,
     "metadata": {},
     "output_type": "execute_result"
    }
   ],
   "source": [
    "v1 == v1_clone"
   ]
  },
  {
   "cell_type": "code",
   "execution_count": 62,
   "id": "a9857ab1",
   "metadata": {},
   "outputs": [
    {
     "data": {
      "text/plain": [
       "'(3.0, 4.0)'"
      ]
     },
     "execution_count": 62,
     "metadata": {},
     "output_type": "execute_result"
    }
   ],
   "source": [
    "format(v1)"
   ]
  },
  {
   "cell_type": "code",
   "execution_count": 63,
   "id": "98686fad",
   "metadata": {},
   "outputs": [
    {
     "data": {
      "text/plain": [
       "'(3.00, 4.00)'"
      ]
     },
     "execution_count": 63,
     "metadata": {},
     "output_type": "execute_result"
    }
   ],
   "source": [
    "format(v1, '.2f')"
   ]
  },
  {
   "cell_type": "code",
   "execution_count": 64,
   "id": "a1324629",
   "metadata": {},
   "outputs": [
    {
     "data": {
      "text/plain": [
       "'(3.000e+00, 4.000e+00)'"
      ]
     },
     "execution_count": 64,
     "metadata": {},
     "output_type": "execute_result"
    }
   ],
   "source": [
    "format(v1, '.3e')"
   ]
  },
  {
   "cell_type": "code",
   "execution_count": 65,
   "id": "f3ec16c6",
   "metadata": {},
   "outputs": [
    {
     "data": {
      "text/plain": [
       "0.0"
      ]
     },
     "execution_count": 65,
     "metadata": {},
     "output_type": "execute_result"
    }
   ],
   "source": [
    "Vector2d(0, 0).angle()"
   ]
  },
  {
   "cell_type": "code",
   "execution_count": 66,
   "id": "c2e442bc",
   "metadata": {},
   "outputs": [
    {
     "data": {
      "text/plain": [
       "0.0"
      ]
     },
     "execution_count": 66,
     "metadata": {},
     "output_type": "execute_result"
    }
   ],
   "source": [
    "Vector2d(1, 0).angle()"
   ]
  },
  {
   "cell_type": "code",
   "execution_count": 67,
   "id": "229c49b1",
   "metadata": {},
   "outputs": [
    {
     "data": {
      "text/plain": [
       "True"
      ]
     },
     "execution_count": 67,
     "metadata": {},
     "output_type": "execute_result"
    }
   ],
   "source": [
    "epsilon = 10**-8\n",
    "abs(Vector2d(0, 1).angle() - math.pi/2) < epsilon"
   ]
  },
  {
   "cell_type": "code",
   "execution_count": 68,
   "id": "8fcdc4cd",
   "metadata": {},
   "outputs": [
    {
     "data": {
      "text/plain": [
       "True"
      ]
     },
     "execution_count": 68,
     "metadata": {},
     "output_type": "execute_result"
    }
   ],
   "source": [
    "abs(Vector2d(1, 1).angle() - math.pi/4) < epsilon"
   ]
  },
  {
   "cell_type": "code",
   "execution_count": null,
   "id": "072faad3",
   "metadata": {},
   "outputs": [
    {
     "data": {
      "text/plain": [
       "'<1.4142135623730951, 0.7853981633974483>'"
      ]
     },
     "execution_count": 69,
     "metadata": {},
     "output_type": "execute_result"
    }
   ],
   "source": [
    "format(Vector2d(1, 1), 'p')"
   ]
  },
  {
   "cell_type": "code",
   "execution_count": 70,
   "id": "3f15833c",
   "metadata": {},
   "outputs": [
    {
     "data": {
      "text/plain": [
       "'<1.414e+00, 7.854e-01>'"
      ]
     },
     "execution_count": 70,
     "metadata": {},
     "output_type": "execute_result"
    }
   ],
   "source": [
    "format(Vector2d(1, 1), '.3ep')"
   ]
  },
  {
   "cell_type": "code",
   "execution_count": 71,
   "id": "2b347c5b",
   "metadata": {},
   "outputs": [
    {
     "data": {
      "text/plain": [
       "'<1.41421, 0.78540>'"
      ]
     },
     "execution_count": 71,
     "metadata": {},
     "output_type": "execute_result"
    }
   ],
   "source": [
    "format(Vector2d(1, 1), '0.5fp')"
   ]
  },
  {
   "cell_type": "code",
   "execution_count": 72,
   "id": "9bb0a372",
   "metadata": {},
   "outputs": [
    {
     "data": {
      "text/plain": [
       "(3.0, 4.0)"
      ]
     },
     "execution_count": 72,
     "metadata": {},
     "output_type": "execute_result"
    }
   ],
   "source": [
    "v1.x, v1.y"
   ]
  },
  {
   "cell_type": "code",
   "execution_count": 73,
   "id": "69b6b9c5",
   "metadata": {},
   "outputs": [
    {
     "name": "stdout",
     "output_type": "stream",
     "text": [
      "e=AttributeError(\"property 'x' of 'Vector2d' object has no setter\")\n"
     ]
    }
   ],
   "source": [
    "try:\n",
    "    v1.x = 123\n",
    "except Exception as e:\n",
    "    print(f\"{e=}\")"
   ]
  },
  {
   "cell_type": "code",
   "execution_count": 74,
   "id": "4051ebb0",
   "metadata": {},
   "outputs": [
    {
     "data": {
      "text/plain": [
       "2"
      ]
     },
     "execution_count": 74,
     "metadata": {},
     "output_type": "execute_result"
    }
   ],
   "source": [
    "v1 = Vector2d(3, 4)\n",
    "v2 = Vector2d(3.1, 4.2)\n",
    "len( {v1, v2} )"
   ]
  },
  {
   "cell_type": "markdown",
   "id": "393b1d42",
   "metadata": {},
   "source": [
    "## Private and \"Protected\" Attributes in Python\n",
    "\n",
    "In Python, there is no way to create private variables like there is with the `private` modifier in Java. What we have in Python is a simple mechanism to prevent acciden‐ tal overwriting of a “private” attribute in a subclass."
   ]
  },
  {
   "cell_type": "markdown",
   "id": "f1963383",
   "metadata": {},
   "source": [
    "If you name an instance attribute in the form `__mood` (two leading underscores and zero or at most one trailing underscore), Python stores the name in the instance `__dict__` prefixed with a leading underscore and the class name, so in the `Dog` class, `__mood` becomes `_Dog__mood`, and in `Beagle` it’s `_Beagle__mood`. This language feature goes by the lovely name of _name mangling_."
   ]
  },
  {
   "cell_type": "code",
   "execution_count": 75,
   "id": "71d777d0",
   "metadata": {},
   "outputs": [
    {
     "data": {
      "text/plain": [
       "{'_Vector2d__x': 3.0, '_Vector2d__y': 4.0}"
      ]
     },
     "execution_count": 75,
     "metadata": {},
     "output_type": "execute_result"
    }
   ],
   "source": [
    "v1 = Vector2d(3, 4)\n",
    "v1.__dict__"
   ]
  },
  {
   "cell_type": "code",
   "execution_count": 76,
   "id": "b717be19",
   "metadata": {},
   "outputs": [
    {
     "data": {
      "text/plain": [
       "3.0"
      ]
     },
     "execution_count": 76,
     "metadata": {},
     "output_type": "execute_result"
    }
   ],
   "source": [
    "v1._Vector2d__x"
   ]
  },
  {
   "cell_type": "markdown",
   "id": "43183806",
   "metadata": {},
   "source": [
    "## Saving Memory with __slots__\n",
    "\n",
    "By default, Python stores the attributes of each instance in a `dict` named `__dict__`."
   ]
  },
  {
   "cell_type": "code",
   "execution_count": 78,
   "id": "0d00ee29",
   "metadata": {},
   "outputs": [
    {
     "name": "stdout",
     "output_type": "stream",
     "text": [
      "e=AttributeError(\"'Pixel' object has no attribute '__dict__'\")\n"
     ]
    }
   ],
   "source": [
    "class Pixel:\n",
    "    __slots__ = ('x', 'y')\n",
    "\n",
    "p = Pixel()\n",
    "\n",
    "try:\n",
    "    print(f\"{p.__dict__=}\")\n",
    "except Exception as e:\n",
    "    print(f\"{e=}\")"
   ]
  },
  {
   "cell_type": "code",
   "execution_count": 79,
   "id": "dd12eace",
   "metadata": {},
   "outputs": [
    {
     "name": "stdout",
     "output_type": "stream",
     "text": [
      "e=AttributeError(\"'Pixel' object has no attribute 'color'\")\n"
     ]
    }
   ],
   "source": [
    "try:\n",
    "    p.x = 10\n",
    "    p.y = 20\n",
    "    p.color = 'red'\n",
    "except Exception as e:\n",
    "    print(f\"{e=}\")    "
   ]
  },
  {
   "cell_type": "code",
   "execution_count": 80,
   "id": "b2a8d5fc",
   "metadata": {},
   "outputs": [],
   "source": [
    "class OpenPixel(Pixel): # subclass of Pixel\n",
    "    pass"
   ]
  },
  {
   "cell_type": "code",
   "execution_count": 81,
   "id": "e4464330",
   "metadata": {},
   "outputs": [
    {
     "data": {
      "text/plain": [
       "{}"
      ]
     },
     "execution_count": 81,
     "metadata": {},
     "output_type": "execute_result"
    }
   ],
   "source": [
    "op = OpenPixel()\n",
    "op.__dict__"
   ]
  },
  {
   "cell_type": "code",
   "execution_count": 82,
   "id": "2a2371c4",
   "metadata": {},
   "outputs": [
    {
     "data": {
      "text/plain": [
       "{}"
      ]
     },
     "execution_count": 82,
     "metadata": {},
     "output_type": "execute_result"
    }
   ],
   "source": [
    "op.x = 8\n",
    "op.__dict__"
   ]
  },
  {
   "cell_type": "code",
   "execution_count": 83,
   "id": "4bb84594",
   "metadata": {},
   "outputs": [
    {
     "data": {
      "text/plain": [
       "8"
      ]
     },
     "execution_count": 83,
     "metadata": {},
     "output_type": "execute_result"
    }
   ],
   "source": [
    "op.x"
   ]
  },
  {
   "cell_type": "code",
   "execution_count": 84,
   "id": "d7b389d0",
   "metadata": {},
   "outputs": [
    {
     "data": {
      "text/plain": [
       "{'color': 'green'}"
      ]
     },
     "execution_count": 84,
     "metadata": {},
     "output_type": "execute_result"
    }
   ],
   "source": [
    "op.color = 'green'\n",
    "op.__dict__"
   ]
  },
  {
   "cell_type": "code",
   "execution_count": 85,
   "id": "8d844432",
   "metadata": {},
   "outputs": [
    {
     "name": "stdout",
     "output_type": "stream",
     "text": [
      "e=AttributeError(\"'ColorPixel' object has no attribute '__dict__'\")\n"
     ]
    }
   ],
   "source": [
    "class ColorPixel(Pixel):\n",
    "    __slots__ = ('color', )\n",
    "\n",
    "try:\n",
    "    cp = ColorPixel()\n",
    "    print(f\"{cp.__dict__=}\")\n",
    "except Exception as e:\n",
    "    print(f\"{e=}\")"
   ]
  },
  {
   "cell_type": "code",
   "execution_count": 87,
   "id": "353c65c8",
   "metadata": {},
   "outputs": [
    {
     "name": "stdout",
     "output_type": "stream",
     "text": [
      "e=AttributeError(\"'ColorPixel' object has no attribute 'flavor'\")\n"
     ]
    }
   ],
   "source": [
    "try:\n",
    "    cp.x = 2\n",
    "    cp.color = 'blue'\n",
    "    cp.flavor = 'banana'\n",
    "except Exception as e:\n",
    "    print(f\"{e=}\")"
   ]
  },
  {
   "cell_type": "markdown",
   "id": "220a4750",
   "metadata": {},
   "source": [
    "## Overriding Class Attributes\n",
    "\n",
    "The default `Vector2d.typecode` is `'d'`, meaning each vector component will be rep‐ resented as an 8-byte double precision float when exporting to `bytes`. If we set the typecode of a `Vector2d` instance to `'f'` prior to exporting, each component will be exported as a 4-byte single precision `float`."
   ]
  },
  {
   "cell_type": "code",
   "execution_count": 88,
   "id": "6531dc09",
   "metadata": {},
   "outputs": [
    {
     "name": "stdout",
     "output_type": "stream",
     "text": [
      "v1=Vector2d(1.1, 2.2)\n"
     ]
    }
   ],
   "source": [
    "v1 = Vector2d(1.1, 2.2)\n",
    "print(f\"{v1=}\")"
   ]
  },
  {
   "cell_type": "code",
   "execution_count": 89,
   "id": "c7fbdd22",
   "metadata": {},
   "outputs": [
    {
     "data": {
      "text/plain": [
       "b'd\\x9a\\x99\\x99\\x99\\x99\\x99\\xf1?\\x9a\\x99\\x99\\x99\\x99\\x99\\x01@'"
      ]
     },
     "execution_count": 89,
     "metadata": {},
     "output_type": "execute_result"
    }
   ],
   "source": [
    "dumpd = bytes(v1)\n",
    "dumpd"
   ]
  },
  {
   "cell_type": "code",
   "execution_count": 90,
   "id": "bd89b077",
   "metadata": {},
   "outputs": [
    {
     "data": {
      "text/plain": [
       "b'f\\xcd\\xcc\\x8c?\\xcd\\xcc\\x0c@'"
      ]
     },
     "execution_count": 90,
     "metadata": {},
     "output_type": "execute_result"
    }
   ],
   "source": [
    "v1.typecode = 'f'\n",
    "dumpf = bytes(v1)\n",
    "dumpf"
   ]
  },
  {
   "cell_type": "code",
   "execution_count": 91,
   "id": "a0d39c43",
   "metadata": {},
   "outputs": [
    {
     "data": {
      "text/plain": [
       "9"
      ]
     },
     "execution_count": 91,
     "metadata": {},
     "output_type": "execute_result"
    }
   ],
   "source": [
    "len(dumpf)"
   ]
  },
  {
   "cell_type": "code",
   "execution_count": 92,
   "id": "cebf7eae",
   "metadata": {},
   "outputs": [
    {
     "data": {
      "text/plain": [
       "'d'"
      ]
     },
     "execution_count": 92,
     "metadata": {},
     "output_type": "execute_result"
    }
   ],
   "source": [
    "Vector2d.typecode"
   ]
  },
  {
   "cell_type": "code",
   "execution_count": 93,
   "id": "2ee36f78",
   "metadata": {},
   "outputs": [
    {
     "data": {
      "text/plain": [
       "ShortVector2d(0.09090909090909091, 0.037037037037037035)"
      ]
     },
     "execution_count": 93,
     "metadata": {},
     "output_type": "execute_result"
    }
   ],
   "source": [
    "class ShortVector2d(Vector2d):\n",
    "    typecode = 'f'\n",
    "\n",
    "sv = ShortVector2d(1/11, 1/27)\n",
    "sv"
   ]
  },
  {
   "cell_type": "code",
   "execution_count": 94,
   "id": "694d536f",
   "metadata": {},
   "outputs": [
    {
     "data": {
      "text/plain": [
       "9"
      ]
     },
     "execution_count": 94,
     "metadata": {},
     "output_type": "execute_result"
    }
   ],
   "source": [
    "len(bytes(sv))"
   ]
  }
 ],
 "metadata": {
  "kernelspec": {
   "display_name": "Python 3 (ipykernel)",
   "language": "python",
   "name": "python3"
  }
 },
 "nbformat": 4,
 "nbformat_minor": 5
}
