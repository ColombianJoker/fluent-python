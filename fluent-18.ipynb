{
 "cells": [
  {
   "cell_type": "markdown",
   "id": "01b74a7e",
   "metadata": {},
   "source": [
    "# 18. `with`, `match`, and `else` Blocks"
   ]
  },
  {
   "cell_type": "markdown",
   "id": "8f6fab6c",
   "metadata": {},
   "source": [
    "## Context Managers and `with` Blocks\n",
    "\n",
    "Context manager objects exist to control a `with` statement, just like iterators exist to control a `for` statement.\n",
    "\n",
    "The `with` statement was designed to simplify some common uses of `try`/`finally`, which guarantees that some operation is performed after a block of code, even if the block is terminated by `return`, an exception, or a `sys.exit()` call. The code in the `finally` clause usually releases a critical resource or restores some previous state that was temporally changed."
   ]
  },
  {
   "cell_type": "code",
   "execution_count": 3,
   "id": "ecfa51a9",
   "metadata": {},
   "outputs": [
    {
     "data": {
      "text/plain": [
       "60"
      ]
     },
     "execution_count": 3,
     "metadata": {},
     "output_type": "execute_result"
    }
   ],
   "source": [
    "with open('totalsum.py') as fp:\n",
    "    src = fp.read(60)\n",
    "\n",
    "len(src)"
   ]
  },
  {
   "cell_type": "code",
   "execution_count": 4,
   "id": "4beb16d4",
   "metadata": {},
   "outputs": [
    {
     "data": {
      "text/plain": [
       "<_io.TextIOWrapper name='totalsum.py' mode='r' encoding='UTF-8'>"
      ]
     },
     "execution_count": 4,
     "metadata": {},
     "output_type": "execute_result"
    }
   ],
   "source": [
    "fp"
   ]
  },
  {
   "cell_type": "code",
   "execution_count": 5,
   "id": "1198f6e6",
   "metadata": {},
   "outputs": [
    {
     "data": {
      "text/plain": [
       "(True, 'UTF-8')"
      ]
     },
     "execution_count": 5,
     "metadata": {},
     "output_type": "execute_result"
    }
   ],
   "source": [
    "fp.closed, fp.encoding"
   ]
  },
  {
   "cell_type": "code",
   "execution_count": 7,
   "id": "65f8bfc1",
   "metadata": {},
   "outputs": [
    {
     "name": "stdout",
     "output_type": "stream",
     "text": [
      "e=ValueError('I/O operation on closed file.')\n"
     ]
    }
   ],
   "source": [
    "try:\n",
    "    print(f\"{fp.read(60)=}\")\n",
    "except Exception as e:\n",
    "    print(f\"{e=}\")"
   ]
  },
  {
   "cell_type": "code",
   "execution_count": 8,
   "id": "67404468",
   "metadata": {},
   "outputs": [],
   "source": [
    "import sys\n",
    "\n",
    "class LookingGlass:\n",
    "\n",
    "    def __enter__(self):\n",
    "        self.original_write = sys.stdout.write\n",
    "        sys.stdout.write = self.reverse_write\n",
    "        return 'JABBERWOCKY'\n",
    "    \n",
    "    def reverse_write(self, text):\n",
    "        self.original_write(text[::-1])\n",
    "\n",
    "    def __exit__(self, exc_type, exc_value, traceback):\n",
    "        sys.stdout.write = self.original_write\n",
    "        if exc_type is ZeroDivisionError:\n",
    "            print('Please DO NOT divide by zero!')\n",
    "            return True"
   ]
  },
  {
   "cell_type": "code",
   "execution_count": 9,
   "id": "f6f12bb0",
   "metadata": {},
   "outputs": [
    {
     "name": "stdout",
     "output_type": "stream",
     "text": [
      "pordwonS dna yttiK ,ecilA\n",
      "YKCOWREBBAJ\n"
     ]
    }
   ],
   "source": [
    "with LookingGlass() as what:\n",
    "    print('Alice, Kitty and Snowdrop')\n",
    "    print(what)"
   ]
  },
  {
   "cell_type": "code",
   "execution_count": 10,
   "id": "7eebf57f",
   "metadata": {},
   "outputs": [
    {
     "data": {
      "text/plain": [
       "'JABBERWOCKY'"
      ]
     },
     "execution_count": 10,
     "metadata": {},
     "output_type": "execute_result"
    }
   ],
   "source": [
    "what"
   ]
  },
  {
   "cell_type": "code",
   "execution_count": 11,
   "id": "342ee679",
   "metadata": {},
   "outputs": [
    {
     "name": "stdout",
     "output_type": "stream",
     "text": [
      "Back to normal.\n"
     ]
    }
   ],
   "source": [
    "print('Back to normal.')"
   ]
  },
  {
   "cell_type": "code",
   "execution_count": 12,
   "id": "20a88f35",
   "metadata": {},
   "outputs": [
    {
     "data": {
      "text/plain": [
       "<__main__.LookingGlass at 0x7fc9f865d150>"
      ]
     },
     "execution_count": 12,
     "metadata": {},
     "output_type": "execute_result"
    }
   ],
   "source": [
    "manager = LookingGlass()\n",
    "manager"
   ]
  },
  {
   "cell_type": "code",
   "execution_count": 13,
   "id": "8fc84159",
   "metadata": {},
   "outputs": [],
   "source": [
    "monster = manager.__enter__()"
   ]
  },
  {
   "cell_type": "code",
   "execution_count": 14,
   "id": "51e0c902",
   "metadata": {},
   "outputs": [
    {
     "data": {
      "text/plain": [
       "True"
      ]
     },
     "execution_count": 14,
     "metadata": {},
     "output_type": "execute_result"
    }
   ],
   "source": [
    "monster == 'JABBERWOCKY'"
   ]
  },
  {
   "cell_type": "code",
   "execution_count": 15,
   "id": "bcef31f4",
   "metadata": {},
   "outputs": [
    {
     "data": {
      "text/plain": [
       "<__main__.LookingGlass at 0x7fc9f865d150>"
      ]
     },
     "execution_count": 15,
     "metadata": {},
     "output_type": "execute_result"
    }
   ],
   "source": [
    "manager"
   ]
  },
  {
   "cell_type": "code",
   "execution_count": 16,
   "id": "338abbbc",
   "metadata": {},
   "outputs": [],
   "source": [
    "manager.__exit__(None, None, None)"
   ]
  },
  {
   "cell_type": "code",
   "execution_count": 17,
   "id": "75c4efbc",
   "metadata": {},
   "outputs": [
    {
     "data": {
      "text/plain": [
       "'JABBERWOCKY'"
      ]
     },
     "execution_count": 17,
     "metadata": {},
     "output_type": "execute_result"
    }
   ],
   "source": [
    "monster"
   ]
  },
  {
   "cell_type": "markdown",
   "id": "fff3fbc9",
   "metadata": {},
   "source": [
    "## The `contextlib` Utilities\n",
    "\n",
    "Before rolling your own context manager classess, take a look at `contextlib`.\n",
    "\n",
    "The `contextlib` module provides classes and a decorator that are more widely applicable than the decorators just mentioned:\n",
    "\n",
    "`@contextmanager`\n",
    "\n",
    "A decorator that lets you build a context manager from a simple generator function.\n",
    "\n",
    "`AbstractContextManager`\n",
    "\n",
    "An ABC that formalizes the context manager interface, and makes it a bit easier to create context manager classes by subclassing.\n",
    "\n",
    "`ContextDecorator`\n",
    "\n",
    "A base class for defining class-based context manager that can also be used as function decorators, running the entire function with a managed context.\n",
    "\n",
    "`ExitStack`\n",
    "\n",
    "A context manager that lets you enter a variable number of context managers. When the `with` block ends, `ExitStack` calls the stacked context managers' `__exit__` methods in LIFO order."
   ]
  },
  {
   "cell_type": "markdown",
   "id": "953c3b4b",
   "metadata": {},
   "source": [
    "### Using the `@contextmanager`\n",
    "\n",
    "The `@contextmanager` decorator is an elegant and practical tool that brings together three distinctive Python features: a function decorator, a generator, and the `with` statement."
   ]
  },
  {
   "cell_type": "code",
   "execution_count": 18,
   "id": "90846321",
   "metadata": {},
   "outputs": [],
   "source": [
    "import contextlib\n",
    "import sys\n",
    "\n",
    "@contextlib.contextmanager\n",
    "def looking_glass():\n",
    "    original_write = sys.stdout.write\n",
    "\n",
    "    def reverse_write(text):\n",
    "        original_write(text[::-1])\n",
    "\n",
    "    sys.stdout.write = reverse_write\n",
    "    yield 'JABBERWOCKY'\n",
    "    sys.stdout.write = original_write"
   ]
  },
  {
   "cell_type": "code",
   "execution_count": 19,
   "id": "c2a9465d",
   "metadata": {},
   "outputs": [
    {
     "name": "stdout",
     "output_type": "stream",
     "text": [
      "pordwonS dna yttiK ,ecilA\n",
      "YKCOWREBBAJ\n"
     ]
    }
   ],
   "source": [
    "with looking_glass() as what:\n",
    "    print('Alice, Kitty and Snowdrop')\n",
    "    print(what)"
   ]
  },
  {
   "cell_type": "code",
   "execution_count": 20,
   "id": "134fbd97",
   "metadata": {},
   "outputs": [
    {
     "data": {
      "text/plain": [
       "'JABBERWOCKY'"
      ]
     },
     "execution_count": 20,
     "metadata": {},
     "output_type": "execute_result"
    }
   ],
   "source": [
    "what"
   ]
  },
  {
   "cell_type": "code",
   "execution_count": 21,
   "id": "de260fd2",
   "metadata": {},
   "outputs": [
    {
     "name": "stdout",
     "output_type": "stream",
     "text": [
      "back to normal\n"
     ]
    }
   ],
   "source": [
    "print('back to normal')"
   ]
  },
  {
   "cell_type": "code",
   "execution_count": 22,
   "id": "d0af4416",
   "metadata": {},
   "outputs": [],
   "source": [
    "import contextlib\n",
    "import sys\n",
    "\n",
    "@contextlib.contextmanager\n",
    "def looking_glass():\n",
    "    original_write = sys.stdout.write\n",
    "\n",
    "    def reverse_write(text):\n",
    "        original_write(text[::-1])\n",
    "    \n",
    "    sys.stdout.write = reverse_write\n",
    "    msg = ''\n",
    "    try:\n",
    "        yield 'JABBERWOCKY'\n",
    "    except ZeroDivisionError:\n",
    "        msg = 'Please DO NOT divide by zero!'\n",
    "    finally:\n",
    "        sys.stdout.write = original_write\n",
    "        if msg:\n",
    "            print(msg)"
   ]
  },
  {
   "cell_type": "code",
   "execution_count": 23,
   "id": "df0dce08",
   "metadata": {},
   "outputs": [],
   "source": [
    "@looking_glass()\n",
    "def verse():\n",
    "    print('The time has come')"
   ]
  },
  {
   "cell_type": "code",
   "execution_count": 24,
   "id": "7b8345c7",
   "metadata": {},
   "outputs": [
    {
     "name": "stdout",
     "output_type": "stream",
     "text": [
      "emoc sah emit ehT\n"
     ]
    }
   ],
   "source": [
    "verse()"
   ]
  },
  {
   "cell_type": "code",
   "execution_count": 25,
   "id": "b55fde94",
   "metadata": {},
   "outputs": [
    {
     "name": "stdout",
     "output_type": "stream",
     "text": [
      "back to normal\n"
     ]
    }
   ],
   "source": [
    "print('back to normal')"
   ]
  },
  {
   "cell_type": "markdown",
   "id": "2b11753e",
   "metadata": {},
   "source": [
    "**Scheme** code example\n",
    "\n",
    "```scheme\n",
    "(define (mod m n)\n",
    "    (- m (* n (quotient m n ))))\n",
    "\n",
    "(define (gcd m n)\n",
    "    (if (= n 0)\n",
    "        m\n",
    "        (gcd n (mod m n))))\n",
    "\n",
    "(display (gcd 18 45))\n",
    "```"
   ]
  },
  {
   "cell_type": "markdown",
   "id": "388ce7dc",
   "metadata": {},
   "source": [
    "## Do This, Then That: `else` Blocks Beyond `if`\n",
    "\n",
    "This is no secret, but it is an underappreciated language feature: the `else` clause can be used not only in `if` statements but also in `for`, `while` and `try` statements.\n",
    "\n",
    "Here are the rules:\n",
    "\n",
    "`for`\n",
    "\n",
    "The `else` block will run only if and when the `for` loop runs to completion,\n",
    "\n",
    "`while` \n",
    "\n",
    "The `else` block will run only if and when the `while` loop exits because the condition become _falsy_.\n",
    "\n",
    "`try`\n",
    "\n",
    "The `else` block will run only if no exception is raised in the `try` block. The the official docs alse state: \"Exceptions in the `else` clause are not handled by the preceding `except` clauses.\""
   ]
  }
 ],
 "metadata": {
  "kernelspec": {
   "display_name": "Python 3 (ipykernel)",
   "language": "python",
   "name": "python3"
  }
 },
 "nbformat": 4,
 "nbformat_minor": 5
}
