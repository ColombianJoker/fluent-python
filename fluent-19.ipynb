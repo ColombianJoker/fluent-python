{
 "cells": [
  {
   "cell_type": "markdown",
   "id": "639d20a7",
   "metadata": {},
   "source": [
    "# 19. Concurrency Models in Python\n",
    "\n",
    "> Concurrency is about dealing lots of things at once."
   ]
  },
  {
   "cell_type": "markdown",
   "id": "5c524ac9",
   "metadata": {},
   "source": [
    "## Processes, Threads, and Python's Infamous GIL\n",
    "\n",
    "Here is how the concepts we just saw apply to Python programming, in 10 points:\n",
    "\n",
    "1. Each instance of the Python interpreter is a process. You can start additional Python processes using the _multiprocessing_ or _concurrent.futures_ libraries. Python’s _subprocess_ library is designed to launch processes to run external pro‐ grams, regardless of the languages used to write them.\n",
    "\n",
    "2. The Python interpreter uses a single thread to run the user’s program and the memory garbage collector. You can start additional Python threads using the _threading_ or _concurrent.futures_ libraries.\n",
    "\n",
    "3. Access to object reference counts and other internal interpreter state is con‐ trolled by a lock, the Global Interpreter Lock (GIL). Only one Python thread can hold the GIL at any time. This means that only one thread can execute Python code at any time, regardless of the number of CPU cores.\n",
    "\n",
    "4. To prevent a Python thread from holding the GIL indefinitely, Python’s bytecode interpreter pauses the current Python thread every 5ms by default,4 releasing the GIL. The thread can then try to reacquire the GIL, but if there are other threads waiting for it, the OS scheduler may pick one of them to proceed.\n",
    "\n",
    "5. When we write Python code, we have no control over the GIL. But a built-in function or an extension written in C—or any language that interfaces at the Python/C API level—can release the GIL while running time-consuming tasks.\n",
    "\n",
    "6. Every Python standard library function that makes a syscall releases the GIL. This includes all functions that perform disk I/O, network I/O, and `time.sleep()`. Many CPU-intensive functions in the NumPy/SciPy libraries, as well as the compressing/decompressing functions from the `zlib` and `bz2` modules, also release the GIL\n",
    "\n",
    "7. Extensions that integrate at the Python/C API level can also launch other non-Python threads that are not affected by the GIL. Such GIL-free threads generally cannot change Python objects, but they can read from and write to the memory underlying objects that support the buffer protocol, such as `bytearray`, `array.array`, and NumPy arrays.\n",
    "\n",
    "8. The effect of the GIL on network programming with Python threads is relatively small, because the I/O functions release the GIL, and reading or writing to the network always implies high latency—compared to reading and writing to memory. Consequently, each individual thread spends a lot of time waiting anyway, so their execution can be interleaved without major impact on the overall throughput. That’s why David Beazley says: “Python threads are great at doing nothing.”\n",
    "\n",
    "9. Contention over the GIL slows down compute-intensive Python threads. Sequential, single-threaded code is simpler and faster for such tasks.\n",
    "\n",
    "10. To run CPU-intensive Python code on multiple cores, you must use multiple Python processes."
   ]
  },
  {
   "cell_type": "markdown",
   "id": "d03bdb72",
   "metadata": {},
   "source": [
    "## A Concurrent Hello World\n",
    "\n",
    "During a discussion about threads and how to avoid the GIL, Python contributor Michele Simionato posted an example that is like a concurrent “Hello World”: the simplest program to show how Python can “walk and chew gum.”"
   ]
  },
  {
   "cell_type": "markdown",
   "id": "13ef6d0b",
   "metadata": {},
   "source": [
    "### Spinner with Threads\n",
    "\n",
    "The idea of the next few examples is simple: start a function that blocks for 3 seconds while animating characters in the terminal to let the user know that the program is “thinking” and not stalled.\n",
    "\n",
    "The script makes an animated spinner displaying each character in the string \"\\|/-\" in the same screen position. When the slow computation finishes, the line with the spinner is cleared and the result is shown: Answer: 42."
   ]
  },
  {
   "cell_type": "markdown",
   "id": "ea5b57a6",
   "metadata": {},
   "source": []
  }
 ],
 "metadata": {
  "kernelspec": {
   "display_name": "Python 3 (ipykernel)",
   "language": "python",
   "name": "python3"
  }
 },
 "nbformat": 4,
 "nbformat_minor": 5
}
