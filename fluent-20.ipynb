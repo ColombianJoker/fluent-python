{
 "cells": [
  {
   "cell_type": "markdown",
   "id": "35f11186",
   "metadata": {},
   "source": [
    "# 20. Concurrent Executors\n",
    "\n",
    "> The people bashing threads are typically system programmers which have in mind use cases that the typical application programmer will never encounter in her life. [...] In 99% of the use cases an application programmer is likely to run into, the simple pat‐ tern of spawning a bunch of independent threads and collecting the results in a queue is everything one needs to know.\n",
    ">> Michele Simionato, Python deep thinker\n"
   ]
  },
  {
   "cell_type": "markdown",
   "id": "ec4c181f",
   "metadata": {},
   "source": [
    "## Concurrent Web Downloads\n",
    "\n",
    "Concurrency is essential for efficient network I/O: instead of idly waiting for remote machines, the application should do something else until a response comes back."
   ]
  },
  {
   "cell_type": "markdown",
   "id": "f98cd4f9",
   "metadata": {},
   "source": [
    "### A Sequential Download Script"
   ]
  },
  {
   "cell_type": "code",
   "execution_count": 4,
   "id": "0ee2eb5b",
   "metadata": {},
   "outputs": [
    {
     "name": "stdout",
     "output_type": "stream",
     "text": [
      "BD BR CD CN DE EG ET FR ID IN IR JP MX NG PH PK RU TR US VN \n",
      "20 downloads in 10.86s\n"
     ]
    }
   ],
   "source": [
    "import time\n",
    "from pathlib import Path\n",
    "from typing import Callable\n",
    "\n",
    "import httpx\n",
    "\n",
    "POP20_CC = ('CN IN US ID BR PK NG BD RU JP MX PH VN ET EG DE IR TR CD FR').split()\n",
    "\n",
    "BASE_URL = 'https://www.fluentpython.com/data/flags'\n",
    "DEST_DIR = Path('downloaded')\n",
    "\n",
    "def save_flag(img: bytes, filename: str) -> None:\n",
    "    (DEST_DIR / filename).write_bytes(img)\n",
    "\n",
    "def get_flag(cc: str) -> bytes:\n",
    "    url = f'{BASE_URL}/{cc}/{cc}.gif'.lower()\n",
    "    resp = httpx.get(url, timeout=6.1, follow_redirects=True)\n",
    "    resp.raise_for_status()\n",
    "    return resp.content\n",
    "\n",
    "def download_many(cc_list: list[str]) -> int:\n",
    "    for cc in sorted(cc_list):\n",
    "        image = get_flag(cc)\n",
    "        save_flag(image, f'{cc}.gif')\n",
    "        print(cc, end=' ', flush=True)\n",
    "    return len(cc_list)\n",
    "\n",
    "def main(downloader: Callable[list[str], int]) -> None:\n",
    "    DEST_DIR.mkdir(exist_ok=True)\n",
    "    t0 = time.perf_counter()\n",
    "    count = downloader(POP20_CC)\n",
    "    elapsed = time.perf_counter() - t0\n",
    "    print(f'\\n{count} downloads in {elapsed:.2f}s')\n",
    "\n",
    "main(download_many)"
   ]
  },
  {
   "cell_type": "markdown",
   "id": "4188ba60",
   "metadata": {},
   "source": [
    "### Downloading with `concurrent.futures`\n",
    "\n",
    "The main features of the `concurrent.futures` package are the `ThreadPoolExecutor` and `ProcessPoolExecutor` classes, which implement an API to submit callables for execution in different threads or processes, respectively. The classes transparently manage a pool of worker threads or processes, and queues to distribute jobs and collect results. But the interface is very high-level, and we don’t need to know about any of those details for a simple use case like our flag downloads."
   ]
  },
  {
   "cell_type": "markdown",
   "id": "0b438ffa",
   "metadata": {},
   "source": [
    "```python\n",
    "from concurrent import futures\n",
    "\n",
    "from flags import save_flag, get_flag, main\n",
    "\n",
    "def download_one(cc: str):\n",
    "    image = get_flag(cc)\n",
    "    save_flag(image, f'{cc}.gif')\n",
    "    print(cc, end=' ', flush=True)\n",
    "    return cc\n",
    "\n",
    "def download_many(cc_list: list[str]) -> int:\n",
    "    with futures.ThreadPoolExecutor() as executor:\n",
    "        res = executor.map(download_one, sorted(cc_list))\n",
    "\n",
    "    return len(list(res))\n",
    "\n",
    "if __name__=='__main__':\n",
    "    main(download_many)\n",
    "```"
   ]
  },
  {
   "cell_type": "markdown",
   "id": "e33079f0",
   "metadata": {},
   "source": [
    "### Where Are the Futures?\n",
    "\n",
    "Futures are core components of `concurrent.futures` and of `asyncio`, but as users of these libraries we sometimes don’t see them. Example following depends on futures behind the scenes, but the code I wrote does not touch them directly. This section is an overview of futures, with an example that shows them in action.\n",
    "\n"
   ]
  }
 ],
 "metadata": {
  "kernelspec": {
   "display_name": "Python 3 (ipykernel)",
   "language": "python",
   "name": "python3"
  },
  "language_info": {
   "codemirror_mode": {
    "name": "ipython",
    "version": 3
   },
   "file_extension": ".py",
   "mimetype": "text/x-python",
   "name": "python",
   "nbconvert_exporter": "python",
   "pygments_lexer": "ipython3",
   "version": "3.11.6"
  }
 },
 "nbformat": 4,
 "nbformat_minor": 5
}
