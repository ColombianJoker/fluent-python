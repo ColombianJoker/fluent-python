{
 "cells": [
  {
   "cell_type": "markdown",
   "id": "105193ca",
   "metadata": {},
   "source": [
    "# 22. Dynamic Attributes and Properties"
   ]
  },
  {
   "cell_type": "markdown",
   "id": "0cd8087c",
   "metadata": {},
   "source": [
    "Data attributes and methods are collectively known as _attributes_ in Python. A method is an attribute that is _callable_. _Dynamic attributes_ present the same interface as data attributes—i.e., obj.attr—but are computed on demand. This follows Bertrand Meyer’s Uniform Access Principle:\n",
    "\n",
    "> All services offered by a module should be available through a uniform notation, which does not betray whether they are implemented through storage or through computation."
   ]
  },
  {
   "cell_type": "markdown",
   "id": "47e53b04",
   "metadata": {},
   "source": [
    "A user-defined class implementing `__getattr__` can implement a variation of dynamic attributes that I call —virtual attributes_: attributes that are not explicitly declared anywhere in the source code of the class, and are not present in the instance `__dict__`, but may be retrieved elsewhere or computed on the fly whenever a user tries to read a nonexistent attribute like `obj.no_such_attr`."
   ]
  },
  {
   "cell_type": "markdown",
   "id": "3d828937",
   "metadata": {},
   "source": [
    "## Data Wrangling with Dynamic Attributes"
   ]
  },
  {
   "cell_type": "markdown",
   "id": "752acce8",
   "metadata": {},
   "source": []
  }
 ],
 "metadata": {
  "kernelspec": {
   "display_name": "Python 3 (ipykernel)",
   "language": "python",
   "name": "python3"
  }
 },
 "nbformat": 4,
 "nbformat_minor": 5
}
