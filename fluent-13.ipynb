{
 "cells": [
  {
   "cell_type": "markdown",
   "id": "1043d4dd",
   "metadata": {},
   "source": [
    "# 13. Interfaces, Protocols and ABCs\n",
    "\n",
    "> Program to an interface, not an implementation\n",
    ">\n",
    "> Gamma, Helm, Johnson, Vlissides, First Principle of Object-Oriented Design"
   ]
  },
  {
   "cell_type": "markdown",
   "id": "df3b71b8",
   "metadata": {},
   "source": [
    "## Two Kinds of Protocols\n",
    "\n",
    "The word _protocol_ has different meanings in computer science depending on context. A network protocol such as HTTP specifies commands that a client can send to a server, such as `GET`, `PUT`, and `HEAD`.\n",
    "\n",
    "Implementing a full protocol may require several methods, but often it is OK to implement only part of it."
   ]
  },
  {
   "cell_type": "code",
   "execution_count": 2,
   "id": "aa9719ac",
   "metadata": {},
   "outputs": [],
   "source": [
    "class Vowels:\n",
    "    def __getitem__(self, i):\n",
    "        return 'AEIOU'[i]"
   ]
  },
  {
   "cell_type": "code",
   "execution_count": 4,
   "id": "850128dd",
   "metadata": {},
   "outputs": [
    {
     "data": {
      "text/plain": [
       "'A'"
      ]
     },
     "execution_count": 4,
     "metadata": {},
     "output_type": "execute_result"
    }
   ],
   "source": [
    "v = Vowels()\n",
    "v[0]"
   ]
  },
  {
   "cell_type": "code",
   "execution_count": 5,
   "id": "a6b57c6a",
   "metadata": {},
   "outputs": [
    {
     "data": {
      "text/plain": [
       "'E'"
      ]
     },
     "execution_count": 5,
     "metadata": {},
     "output_type": "execute_result"
    }
   ],
   "source": [
    "v[1]"
   ]
  },
  {
   "cell_type": "code",
   "execution_count": 6,
   "id": "a28eb3cd",
   "metadata": {},
   "outputs": [
    {
     "name": "stdout",
     "output_type": "stream",
     "text": [
      "A\n",
      "E\n",
      "I\n",
      "O\n",
      "U\n"
     ]
    }
   ],
   "source": [
    "for c in v: print(c)"
   ]
  },
  {
   "cell_type": "code",
   "execution_count": 7,
   "id": "46448688",
   "metadata": {},
   "outputs": [
    {
     "data": {
      "text/plain": [
       "True"
      ]
     },
     "execution_count": 7,
     "metadata": {},
     "output_type": "execute_result"
    }
   ],
   "source": [
    "'E' in v"
   ]
  },
  {
   "cell_type": "code",
   "execution_count": 8,
   "id": "253c6ea2",
   "metadata": {},
   "outputs": [
    {
     "data": {
      "text/plain": [
       "False"
      ]
     },
     "execution_count": 8,
     "metadata": {},
     "output_type": "execute_result"
    }
   ],
   "source": [
    "'Z' in v"
   ]
  },
  {
   "cell_type": "markdown",
   "id": "a8d2cd06",
   "metadata": {},
   "source": [
    "## Programming Ducks"
   ]
  },
  {
   "cell_type": "markdown",
   "id": "9dcd9ddf",
   "metadata": {},
   "source": [
    "### Python Digs Sequences\n",
    "\n",
    "The philosophy of the Python Data Model is to cooperate with essential dynamic protocols as much as possible. When it comes to sequences, Python tries hard to work with even the simplest implementations."
   ]
  },
  {
   "cell_type": "code",
   "execution_count": 9,
   "id": "850af418",
   "metadata": {},
   "outputs": [],
   "source": [
    "import collections\n",
    "\n",
    "Card = collections.namedtuple('Card', ['rank', 'suit'])\n",
    "\n",
    "class FrenchDeck:\n",
    "    ranks = [str(n) for n in range(2, 11)] + list('JQKA')\n",
    "    suits = 'spades diamonds clubs hearts'.split()\n",
    "\n",
    "    def __init__(self):\n",
    "        self._cards = [Card(rank,suit) for suit in self.suits\n",
    "                                                   for rank in self.ranks]\n",
    "        \n",
    "    def __len__(self):\n",
    "        return len(self._cards)\n",
    "    \n",
    "    def __getitem__(self, position):\n",
    "        return self._cards[position]"
   ]
  },
  {
   "cell_type": "markdown",
   "id": "c68daaf4",
   "metadata": {},
   "source": [
    "### Monkey Patching: Implementing a Protocol at Runtime\n",
    "\n",
    "Monkey patching is dynamically changing a module, class, or function at runtime, to add features or fix bugs. For example, the gevent networking library monkey patches parts of Python’s standard library to allow lightweight concurrency without threads or `async`/`await`."
   ]
  },
  {
   "cell_type": "code",
   "execution_count": 11,
   "id": "811f3fe0",
   "metadata": {},
   "outputs": [
    {
     "data": {
      "text/plain": [
       "[0, 3, 1, 6, 9, 8, 4, 2, 5, 7]"
      ]
     },
     "execution_count": 11,
     "metadata": {},
     "output_type": "execute_result"
    }
   ],
   "source": [
    "from random import shuffle\n",
    "l = list(range(10))\n",
    "shuffle(l)\n",
    "l"
   ]
  },
  {
   "cell_type": "markdown",
   "id": "23f8e9d0",
   "metadata": {},
   "source": [
    "However, if we try to shuffle a FrenchDeck instance, we get an exception, as in following example"
   ]
  },
  {
   "cell_type": "code",
   "execution_count": 13,
   "id": "8cd1b1e4",
   "metadata": {},
   "outputs": [
    {
     "ename": "TypeError",
     "evalue": "'FrenchDeck' object does not support item assignment",
     "output_type": "error",
     "traceback": [
      "\u001b[0;31m---------------------------------------------------------------------------\u001b[0m",
      "\u001b[0;31mTypeError\u001b[0m                                 Traceback (most recent call last)",
      "Cell \u001b[0;32mIn[13], line 5\u001b[0m\n\u001b[1;32m      2\u001b[0m \u001b[38;5;66;03m# from frenchdeck import FrenchDeck\u001b[39;00m\n\u001b[1;32m      4\u001b[0m deck \u001b[38;5;241m=\u001b[39m FrenchDeck()\n\u001b[0;32m----> 5\u001b[0m \u001b[43mshuffle\u001b[49m\u001b[43m(\u001b[49m\u001b[43mdeck\u001b[49m\u001b[43m)\u001b[49m\n",
      "File \u001b[0;32m/opt/conda/lib/python3.11/random.py:383\u001b[0m, in \u001b[0;36mRandom.shuffle\u001b[0;34m(self, x)\u001b[0m\n\u001b[1;32m    380\u001b[0m \u001b[38;5;28;01mfor\u001b[39;00m i \u001b[38;5;129;01min\u001b[39;00m \u001b[38;5;28mreversed\u001b[39m(\u001b[38;5;28mrange\u001b[39m(\u001b[38;5;241m1\u001b[39m, \u001b[38;5;28mlen\u001b[39m(x))):\n\u001b[1;32m    381\u001b[0m     \u001b[38;5;66;03m# pick an element in x[:i+1] with which to exchange x[i]\u001b[39;00m\n\u001b[1;32m    382\u001b[0m     j \u001b[38;5;241m=\u001b[39m randbelow(i \u001b[38;5;241m+\u001b[39m \u001b[38;5;241m1\u001b[39m)\n\u001b[0;32m--> 383\u001b[0m     \u001b[43mx\u001b[49m\u001b[43m[\u001b[49m\u001b[43mi\u001b[49m\u001b[43m]\u001b[49m, x[j] \u001b[38;5;241m=\u001b[39m x[j], x[i]\n",
      "\u001b[0;31mTypeError\u001b[0m: 'FrenchDeck' object does not support item assignment"
     ]
    }
   ],
   "source": [
    "from random import shuffle\n",
    "# from frenchdeck import FrenchDeck\n",
    "\n",
    "deck = FrenchDeck()\n",
    "shuffle(deck)"
   ]
  },
  {
   "cell_type": "markdown",
   "id": "1b6a5db3",
   "metadata": {},
   "source": [
    "The error message is clear: `'FrenchDeck' object does not support item assign ment`. The problem is that `shuffle` operates _in place_, by swapping items inside the collection, and `FrenchDeck` only implements the _immutable_ sequence protocol. Mutable sequences must also provide a `__setitem__` method."
   ]
  },
  {
   "cell_type": "code",
   "execution_count": 14,
   "id": "f88f2d15",
   "metadata": {},
   "outputs": [
    {
     "data": {
      "text/plain": [
       "[Card(rank='7', suit='spades'),\n",
       " Card(rank='J', suit='clubs'),\n",
       " Card(rank='K', suit='spades'),\n",
       " Card(rank='6', suit='spades'),\n",
       " Card(rank='2', suit='hearts')]"
      ]
     },
     "execution_count": 14,
     "metadata": {},
     "output_type": "execute_result"
    }
   ],
   "source": [
    "def set_card(deck, position, card):\n",
    "    deck._cards[position] = card\n",
    "\n",
    "FrenchDeck.__setitem__ = set_card\n",
    "shuffle(deck)\n",
    "deck[:5]"
   ]
  },
  {
   "cell_type": "markdown",
   "id": "662b0f67",
   "metadata": {},
   "source": [
    "The trick is that `set_card` knows that the deck object has an attribute named `_cards`, and _cards must be a mutable sequence. The `set_card` function is then attached to the `FrenchDeck` class as the `__setitem__` special method. This is an example of _monkey patching_: changing a class or module at runtime, without touching the source code. Monkey patching is powerful, but the code that does the actual patching is very tightly coupled with the program to be patched, often handling private and undocu‐ mented attributes."
   ]
  },
  {
   "cell_type": "markdown",
   "id": "ee6f4b4d",
   "metadata": {},
   "source": [
    "## Defensive Programming and \"Fail Fast\"\n",
    "\n",
    "Defensive programming is like defensive driving: a set of practices to enhance safety even when faced with careless programmers—or drivers.\n",
    "\n",
    "Many bugs cannot be caught except at runtime—even in mainstream statically typed languages. In a dynamically typed language, “fail fast” is excellent advice for safer and easier-to-maintain programs. Failing fast means raising runtime errors as soon as possible, for example, rejecting invalid arguments right a the beginning of a function body.\n",
    "\n",
    "If you are afraid to get an infinite generator—not a common issue—you can begin by calling `len()` on the argument. This would reject iterators, while safely dealing with tuples, arrays, and other existing or future classes that fully implement the `Sequence` interface. Calling `len()` is usually very cheap, and an invalid argument will raise an error immediately.\n",
    "\n",
    "On the other hand, if any iterable is acceptable, then call `iter(x)` as soon as possible to obtain an iterator. Again, if `x` is not iterable, this will fail fast with an easy-to-debug exception."
   ]
  },
  {
   "cell_type": "markdown",
   "id": "fd0014d7",
   "metadata": {},
   "source": [
    "## Goose Typing\n",
    "\n",
    "Python doesn’t have an `interface` keyword. We use abstract base classes (ABCs) to define interfaces for explicit type checking at runtime—also supported by static type checkers.\n",
    "\n",
    "To summarize, _goose typing_ entails:\n",
    "+ Subclassing from ABCs to make it explicit that you are implementing a previously defined interface.\n",
    "+ Runtime type checking using ABCs instead of concrete classes as the second argument for isinstance and issubclass."
   ]
  },
  {
   "cell_type": "markdown",
   "id": "1ac5f988",
   "metadata": {},
   "source": [
    "### Subclassing an ABC\n",
    "\n",
    "Following Martelli’s advice, we’ll leverage an existing ABC, `collections.MutableSequence`, before daring to invent our own."
   ]
  },
  {
   "cell_type": "code",
   "execution_count": 15,
   "id": "b68e81b2",
   "metadata": {},
   "outputs": [],
   "source": [
    "from collections import namedtuple, abc\n",
    "\n",
    "Card = namedtuple('Card', ['rank', 'suit'])\n",
    "\n",
    "class FrenchDeck2(abc.MutableSequence):\n",
    "    ranks = [str(n) for n in range(2, 11)] + list('JQKA') \n",
    "    suits = 'spades diamonds clubs hearts'.split()\n",
    "\n",
    "    def __init__(self):\n",
    "        self._cards = [Card(rank, suit) for suit in self.suits\n",
    "                                        for rank in self.ranks]\n",
    "    \n",
    "    def __len__(self):\n",
    "        return len(self._cards)\n",
    "\n",
    "    def __getitem__(self, position):\n",
    "        return self._cards[position]\n",
    "    \n",
    "    def __setitem__(self, position, value):\n",
    "        self._cards[position] = value\n",
    "\n",
    "    def __delitem__(self, position):\n",
    "        del self._cards[position]\n",
    "\n",
    "    def insert(self, position, value):\n",
    "        self._cards.insert(position, value)"
   ]
  },
  {
   "cell_type": "markdown",
   "id": "bd045daa",
   "metadata": {},
   "source": [
    "To write `FrenchDeck2` as a subclass of `MutableSequence`, I had to pay the price of implementing `__delitem__` and `insert`, which my examples did not require. In return, `FrenchDeck2` inherits five concrete methods from Sequence: `__contains__`, `__iter__`, `__reversed__`, `index`, and `count`. From `MutableSequence`, it gets another six methods: `append`, `reverse`, `extend`, `pop`, `remove`, and `__iadd__`—which supports the `+=` operator for in place concatenation."
   ]
  },
  {
   "cell_type": "markdown",
   "id": "efee9def",
   "metadata": {},
   "source": [
    "### ABCs in the Standard Library\n",
    "\n",
    "Since Python 2.6, the standard library provides several ABCs. Most are defined in the `collections.abc` module, but there are others. You can find ABCs in the `io` and `numbers` packages, for example. But the most widely used are in `collections.abc`."
   ]
  },
  {
   "cell_type": "code",
   "execution_count": 16,
   "id": "af452c9b",
   "metadata": {},
   "outputs": [],
   "source": [
    "import abc\n",
    "\n",
    "class Tombola(abc.ABC):\n",
    "\n",
    "    @abc.abstractmethod\n",
    "    def load(self, iterable):\n",
    "        \"\"\"Add items from an iterable.\"\"\"\n",
    "\n",
    "    @abc.abstractmethod\n",
    "    def pick(self):\n",
    "        \"\"\"Remove item at random, returning it.\n",
    "        This method should raise `LookupError` when the instance is empty.\n",
    "        \"\"\"\n",
    "\n",
    "    def loaded(self):\n",
    "        \"\"\"Return `True` if there's at least 1 item, `False` otherwise.\"\"\"\n",
    "        return bool(self.inspect())\n",
    "    \n",
    "    def inspect(self):\n",
    "        \"\"\"Return a sorted tuple with the items currently inside.\"\"\" \n",
    "        items = []\n",
    "        while True:\n",
    "            try: \n",
    "                items.append(self.pick())\n",
    "            except LookupError: \n",
    "                break\n",
    "        self.load(items) \n",
    "        return tuple(items)"
   ]
  },
  {
   "cell_type": "code",
   "execution_count": 17,
   "id": "114a75be",
   "metadata": {},
   "outputs": [
    {
     "data": {
      "text/plain": [
       "__main__.Fake"
      ]
     },
     "execution_count": 17,
     "metadata": {},
     "output_type": "execute_result"
    }
   ],
   "source": [
    "# from tombola import Tombola\n",
    "class Fake(Tombola):\n",
    "    def pick(self):\n",
    "        return 13\n",
    "    \n",
    "Fake"
   ]
  },
  {
   "cell_type": "code",
   "execution_count": 18,
   "id": "c3c3607f",
   "metadata": {},
   "outputs": [
    {
     "ename": "TypeError",
     "evalue": "Can't instantiate abstract class Fake with abstract method load",
     "output_type": "error",
     "traceback": [
      "\u001b[0;31m---------------------------------------------------------------------------\u001b[0m",
      "\u001b[0;31mTypeError\u001b[0m                                 Traceback (most recent call last)",
      "Cell \u001b[0;32mIn[18], line 1\u001b[0m\n\u001b[0;32m----> 1\u001b[0m f \u001b[38;5;241m=\u001b[39m \u001b[43mFake\u001b[49m\u001b[43m(\u001b[49m\u001b[43m)\u001b[49m\n",
      "\u001b[0;31mTypeError\u001b[0m: Can't instantiate abstract class Fake with abstract method load"
     ]
    }
   ],
   "source": [
    "f = Fake()"
   ]
  },
  {
   "cell_type": "markdown",
   "id": "436f4f07",
   "metadata": {},
   "source": [
    "## ABC Syntax Details\n",
    "\n",
    "The standard way to declare an ABC is to subclass `abc.ABC` or any other ABC."
   ]
  },
  {
   "cell_type": "markdown",
   "id": "11572322",
   "metadata": {},
   "source": [
    "### Subclassing an ABC\n",
    "\n",
    "Given the Tombola ABC, we’ll now develop two concrete subclasses that satisfy its interface."
   ]
  },
  {
   "cell_type": "code",
   "execution_count": 19,
   "id": "dbeeecd5",
   "metadata": {},
   "outputs": [],
   "source": [
    "import random\n",
    "\n",
    "class BingoCage(Tombola):\n",
    "\n",
    "    def __init__(self, items):\n",
    "        self._randomizer = random.SystemRandom()\n",
    "        self._items = []\n",
    "        self.load(items)\n",
    "\n",
    "    def load(self, items):\n",
    "        self._items.extend(items)\n",
    "        self._randomizer.shuffle(self._items)\n",
    "\n",
    "    def pick(self):\n",
    "        try:\n",
    "            return self._items.pop()\n",
    "        except IndexError:\n",
    "            raise LookupError('pick from empty BingoCage')\n",
    "        \n",
    "    def __call__(self):\n",
    "        self.pick()"
   ]
  },
  {
   "cell_type": "code",
   "execution_count": 21,
   "id": "817a24e1",
   "metadata": {},
   "outputs": [],
   "source": [
    "import random\n",
    "\n",
    "class LottoBlower(Tombola):\n",
    "\n",
    "    def __init__(self, iterable):\n",
    "        self._balls = list(iterable)\n",
    "    \n",
    "    def load(self, iterable):\n",
    "        self._balls.extend(iterable)\n",
    "\n",
    "    def pick(self):\n",
    "        try:\n",
    "            position = random.randrange(len(self._balls))\n",
    "        except ValueError:\n",
    "            raise LookupError('pick from empty LottoBlower')\n",
    "        return self._balls.pop(position)\n",
    "    \n",
    "    def loaded(self):\n",
    "        return bool(self._balls)\n",
    "    \n",
    "    def inspect(self):\n",
    "        return tuple(self._balls)"
   ]
  },
  {
   "cell_type": "markdown",
   "id": "14d8a3ab",
   "metadata": {},
   "source": [
    "### A Virtual Subclass of an ABC\n",
    "\n",
    "An essential characteristic of goose typing—and one reason why it deserves a waterfowl name—is the ability to register a class as a _virtual subclass_ of an ABC, even if it does not inherit from it. When doing so, we promise that the class faithfully implements the interface defined in the ABC—and Python will believe us without checking. If we lie, we’ll be caught by the usual runtime exceptions.\n",
    "\n",
    "\n",
    "This is done by calling a `register` class method on the ABC. The registered class then becomes a virtual subclass of the ABC, and will be recognized as such by `issubclass`, but it does not inherit any methods or attributes from the ABC."
   ]
  },
  {
   "cell_type": "code",
   "execution_count": 22,
   "id": "2221a41b",
   "metadata": {},
   "outputs": [],
   "source": [
    "from random import randrange\n",
    "# from tombola import Tombola\n",
    "\n",
    "@Tombola.register\n",
    "class TomboList(list):\n",
    "\n",
    "    def pick(self):\n",
    "        if self:\n",
    "            position = randrange(len(self))\n",
    "            return self.pop(position)\n",
    "        else:\n",
    "            raise LookupError('pop from empty TomboList')\n",
    "        \n",
    "    load = list.extend\n",
    "\n",
    "    def loaded(self):\n",
    "        return bool(self)\n",
    "    \n",
    "    def inspect(self):\n",
    "        return tuple(self)\n",
    "    \n",
    "# Tombola.register(TomboList)"
   ]
  },
  {
   "cell_type": "code",
   "execution_count": 23,
   "id": "37ff637d",
   "metadata": {},
   "outputs": [
    {
     "data": {
      "text/plain": [
       "True"
      ]
     },
     "execution_count": 23,
     "metadata": {},
     "output_type": "execute_result"
    }
   ],
   "source": [
    "issubclass(TomboList, Tombola)"
   ]
  },
  {
   "cell_type": "code",
   "execution_count": 24,
   "id": "b50224a0",
   "metadata": {},
   "outputs": [
    {
     "data": {
      "text/plain": [
       "True"
      ]
     },
     "execution_count": 24,
     "metadata": {},
     "output_type": "execute_result"
    }
   ],
   "source": [
    "t = TomboList(range(100))\n",
    "isinstance(t, Tombola)"
   ]
  },
  {
   "cell_type": "markdown",
   "id": "6a44b5c1",
   "metadata": {},
   "source": [
    "### Usage of register in Practice\n",
    "\n",
    "Subclassing an ABC or registering with an ABC are both explicit ways of making our classes pass `issubclass` checks—as well as `isinstance` checks, which also rely on `issubclass`. But some ABCs support structural typing as well. The next section explains."
   ]
  },
  {
   "cell_type": "markdown",
   "id": "28e1a0de",
   "metadata": {},
   "source": [
    "### Structural Typing with ABCs\n",
    "\n",
    "ABCs are mostly used with nominal typing. When a class `Sub` explicitly inherits from `AnABC`, or is registered with `AnABC`, the name of `AnABC` is linked to the `Sub` class—and that’s how at runtime, `issubclass(AnABC, Sub)` returns `True`.\n",
    "\n",
    "In contrast, structural typing is about looking at the structure of an object’s public interface to determine its type: an object is _consistent-with_ a type if it implements the methods defined in the type. Dynamic and static duck typing are two approaches to structural typing."
   ]
  },
  {
   "cell_type": "code",
   "execution_count": 25,
   "id": "88e447e4",
   "metadata": {},
   "outputs": [
    {
     "data": {
      "text/plain": [
       "True"
      ]
     },
     "execution_count": 25,
     "metadata": {},
     "output_type": "execute_result"
    }
   ],
   "source": [
    "class Struggle:\n",
    "    def __len__(self): return 23\n",
    "\n",
    "from collections import abc\n",
    "\n",
    "isinstance(Struggle(), abc.Sized)"
   ]
  },
  {
   "cell_type": "code",
   "execution_count": 26,
   "id": "6dc39088",
   "metadata": {},
   "outputs": [
    {
     "data": {
      "text/plain": [
       "True"
      ]
     },
     "execution_count": 26,
     "metadata": {},
     "output_type": "execute_result"
    }
   ],
   "source": [
    "issubclass(Struggle, abc.Sized)"
   ]
  },
  {
   "cell_type": "markdown",
   "id": "d7791177",
   "metadata": {},
   "source": [
    "## Static Protocols"
   ]
  },
  {
   "cell_type": "markdown",
   "id": "da219025",
   "metadata": {},
   "source": [
    "### The Typed double Function\n",
    "\n"
   ]
  },
  {
   "cell_type": "code",
   "execution_count": 28,
   "id": "92a621d8",
   "metadata": {},
   "outputs": [
    {
     "data": {
      "text/plain": [
       "False"
      ]
     },
     "execution_count": 28,
     "metadata": {},
     "output_type": "execute_result"
    }
   ],
   "source": [
    "from typing import SupportsComplex\n",
    "import numpy as np\n",
    "\n",
    "c64 = np.complex64(3+4j)\n",
    "isinstance(c64, complex)"
   ]
  },
  {
   "cell_type": "code",
   "execution_count": 29,
   "id": "70a6b846",
   "metadata": {},
   "outputs": [
    {
     "data": {
      "text/plain": [
       "True"
      ]
     },
     "execution_count": 29,
     "metadata": {},
     "output_type": "execute_result"
    }
   ],
   "source": [
    "isinstance(c64, SupportsComplex)"
   ]
  },
  {
   "cell_type": "code",
   "execution_count": 30,
   "id": "63c0ed59",
   "metadata": {},
   "outputs": [
    {
     "data": {
      "text/plain": [
       "(3+4j)"
      ]
     },
     "execution_count": 30,
     "metadata": {},
     "output_type": "execute_result"
    }
   ],
   "source": [
    "c = complex(c64)\n",
    "c"
   ]
  },
  {
   "cell_type": "code",
   "execution_count": 31,
   "id": "a3d73882",
   "metadata": {},
   "outputs": [
    {
     "data": {
      "text/plain": [
       "True"
      ]
     },
     "execution_count": 31,
     "metadata": {},
     "output_type": "execute_result"
    }
   ],
   "source": [
    "isinstance(c, SupportsComplex)"
   ]
  },
  {
   "cell_type": "code",
   "execution_count": 32,
   "id": "2a2ddfdf",
   "metadata": {},
   "outputs": [
    {
     "data": {
      "text/plain": [
       "(3+4j)"
      ]
     },
     "execution_count": 32,
     "metadata": {},
     "output_type": "execute_result"
    }
   ],
   "source": [
    "complex(c)"
   ]
  },
  {
   "cell_type": "code",
   "execution_count": 33,
   "id": "6cc03978",
   "metadata": {},
   "outputs": [
    {
     "data": {
      "text/plain": [
       "True"
      ]
     },
     "execution_count": 33,
     "metadata": {},
     "output_type": "execute_result"
    }
   ],
   "source": [
    "isinstance(c, (complex, SupportsComplex))"
   ]
  },
  {
   "cell_type": "code",
   "execution_count": 34,
   "id": "67954845",
   "metadata": {},
   "outputs": [
    {
     "data": {
      "text/plain": [
       "True"
      ]
     },
     "execution_count": 34,
     "metadata": {},
     "output_type": "execute_result"
    }
   ],
   "source": [
    "import numbers\n",
    "isinstance(c, numbers.Complex)"
   ]
  },
  {
   "cell_type": "code",
   "execution_count": 35,
   "id": "8e8c8414",
   "metadata": {},
   "outputs": [
    {
     "data": {
      "text/plain": [
       "True"
      ]
     },
     "execution_count": 35,
     "metadata": {},
     "output_type": "execute_result"
    }
   ],
   "source": [
    "isinstance(c64, numbers.Complex)"
   ]
  },
  {
   "cell_type": "markdown",
   "id": "bf5f4ad4",
   "metadata": {},
   "source": [
    "### Supporting a Static Protocol"
   ]
  },
  {
   "cell_type": "markdown",
   "id": "7cf77c00",
   "metadata": {},
   "source": []
  }
 ],
 "metadata": {
  "kernelspec": {
   "display_name": "Python 3 (ipykernel)",
   "language": "python",
   "name": "python3"
  }
 },
 "nbformat": 4,
 "nbformat_minor": 5
}
