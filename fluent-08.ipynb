{
 "cells": [
  {
   "cell_type": "markdown",
   "id": "b1771eb5",
   "metadata": {},
   "source": [
    "# 8. Type Hints in Functions"
   ]
  },
  {
   "cell_type": "markdown",
   "id": "6a7500a8",
   "metadata": {},
   "source": [
    "> It should also be emphasized that **Python will remain a dynamically typed language, and the authors have no desire to ever make type hints mandatory, even by convention.**\n",
    ">  Guido van Rossum"
   ]
  },
  {
   "cell_type": "markdown",
   "id": "d264c5ba",
   "metadata": {},
   "source": [
    "## Gradual Typing in Practice"
   ]
  },
  {
   "cell_type": "code",
   "execution_count": 42,
   "id": "a26abce6",
   "metadata": {},
   "outputs": [],
   "source": [
    "def show_count(count, word):\n",
    "    if count == 1:\n",
    "        return f'1 {word}'\n",
    "    count_str = str(count) if count else 'no'\n",
    "    return f'{count_str} {word}s'"
   ]
  },
  {
   "cell_type": "code",
   "execution_count": 43,
   "id": "416b06eb",
   "metadata": {},
   "outputs": [
    {
     "data": {
      "text/plain": [
       "'99 birds'"
      ]
     },
     "execution_count": 43,
     "metadata": {},
     "output_type": "execute_result"
    }
   ],
   "source": [
    "show_count(99, 'bird')"
   ]
  },
  {
   "cell_type": "code",
   "execution_count": 44,
   "id": "3a080ec3",
   "metadata": {},
   "outputs": [
    {
     "data": {
      "text/plain": [
       "'1 bird'"
      ]
     },
     "execution_count": 44,
     "metadata": {},
     "output_type": "execute_result"
    }
   ],
   "source": [
    "show_count(1, 'bird')"
   ]
  },
  {
   "cell_type": "code",
   "execution_count": 45,
   "id": "36f9fbeb",
   "metadata": {},
   "outputs": [
    {
     "data": {
      "text/plain": [
       "'no birds'"
      ]
     },
     "execution_count": 45,
     "metadata": {},
     "output_type": "execute_result"
    }
   ],
   "source": [
    "show_count(0, 'bird')"
   ]
  },
  {
   "cell_type": "code",
   "execution_count": 46,
   "id": "2551bdf0",
   "metadata": {},
   "outputs": [],
   "source": [
    "from pytest import mark"
   ]
  },
  {
   "cell_type": "code",
   "execution_count": 47,
   "id": "95e48b8b",
   "metadata": {},
   "outputs": [],
   "source": [
    "@mark.parametrize('qty, expected', [\n",
    "    (1, '1 part'),\n",
    "    (2, '2 parts'),\n",
    "])\n",
    "def test_show_count(qty, expected):\n",
    "    got = show_count(qty, 'part')\n",
    "    assert got == expected\n",
    "    \n",
    "def test_show_count_zero():\n",
    "    got = show_count(0, 'part')\n",
    "    assert got == 'no parts'"
   ]
  },
  {
   "cell_type": "code",
   "execution_count": 48,
   "id": "22ddeec2",
   "metadata": {},
   "outputs": [],
   "source": [
    "def show_count(count: int, word: str) -> str:\n",
    "    if count == 1:\n",
    "        return f'1 {word}'\n",
    "    count_str = str(count) if count else 'no'\n",
    "    return f'{count_str} {word}s'"
   ]
  },
  {
   "cell_type": "code",
   "execution_count": 49,
   "id": "c9551a6a",
   "metadata": {},
   "outputs": [],
   "source": [
    "@mark.parametrize('qty, expected', [\n",
    "    (1, '1 part'),\n",
    "    (2, '2 parts'),\n",
    "])\n",
    "def test_show_count(qty, expected):\n",
    "    got = show_count(qty, 'part')\n",
    "    assert got == expected\n",
    "    \n",
    "def test_show_count_zero():\n",
    "    got = show_count(0, 'part')\n",
    "    assert got == 'no parts'"
   ]
  },
  {
   "cell_type": "markdown",
   "id": "b8d739f2",
   "metadata": {},
   "source": [
    "### A Default Parameter Value"
   ]
  },
  {
   "cell_type": "code",
   "execution_count": 50,
   "id": "afa61cfa",
   "metadata": {},
   "outputs": [],
   "source": [
    "def test_irregular() -> None:\n",
    "    got = show_count(2, 'child', 'children')\n",
    "    assert got == '2 children'"
   ]
  },
  {
   "cell_type": "code",
   "execution_count": 51,
   "id": "6f32d3aa",
   "metadata": {},
   "outputs": [],
   "source": [
    "def show_count(count: int, singular: str, plural: str = '') -> str:\n",
    "    if count == 1:\n",
    "        return f'1 {singular}'\n",
    "    count_str = str(count) if count else 'no'\n",
    "    if not plural:\n",
    "        plural = singular + 's'\n",
    "    return f'{count_str} {plural}'"
   ]
  },
  {
   "cell_type": "markdown",
   "id": "068698ca",
   "metadata": {},
   "source": [
    "### Using **None** as a Default"
   ]
  },
  {
   "cell_type": "code",
   "execution_count": 52,
   "id": "b23842fb",
   "metadata": {},
   "outputs": [],
   "source": [
    "from typing import Optional\n",
    "\n",
    "def show_count(count: int, singular: str, plural: Optional[str] = None) -> str:\n",
    "    if count == 1:\n",
    "        return f'1 {singular}'\n",
    "    count_str = str(count) if count else 'no'\n",
    "    if not plural:\n",
    "        plural = singular + 's'\n",
    "    return f'{count_str} {plural}'"
   ]
  },
  {
   "cell_type": "markdown",
   "id": "d73060a4",
   "metadata": {},
   "source": [
    "## Types Are Defined by Supported Operations\n",
    "\n",
    "In practice, it’s more useful to consider the set of supported operations as the defin‐ ing characteristic of a type."
   ]
  },
  {
   "cell_type": "code",
   "execution_count": 53,
   "id": "274553ed",
   "metadata": {},
   "outputs": [],
   "source": [
    "class Bird:\n",
    "    pass\n",
    "\n",
    "class Duck(Bird):\n",
    "    def quack(self):\n",
    "        print('Quack!')\n",
    "        \n",
    "def alert(birdie):\n",
    "    birdie.quack()\n",
    "    \n",
    "def alert_duck(birdie: Duck) -> None:\n",
    "    birdie.quack()\n",
    "\n",
    "def alert_bird(birdie: Bird) -> None:\n",
    "    birdie.quack()"
   ]
  },
  {
   "cell_type": "code",
   "execution_count": 54,
   "id": "b9ae92b8",
   "metadata": {},
   "outputs": [
    {
     "name": "stdout",
     "output_type": "stream",
     "text": [
      "Quack!\n"
     ]
    }
   ],
   "source": [
    "daffy = Duck()\n",
    "alert(daffy)"
   ]
  },
  {
   "cell_type": "code",
   "execution_count": 55,
   "id": "87692ec8",
   "metadata": {},
   "outputs": [
    {
     "name": "stdout",
     "output_type": "stream",
     "text": [
      "Quack!\n"
     ]
    }
   ],
   "source": [
    "alert_duck(daffy)"
   ]
  },
  {
   "cell_type": "code",
   "execution_count": 56,
   "id": "a57453cd",
   "metadata": {},
   "outputs": [
    {
     "name": "stdout",
     "output_type": "stream",
     "text": [
      "Quack!\n"
     ]
    }
   ],
   "source": [
    "alert_bird(daffy)"
   ]
  },
  {
   "cell_type": "code",
   "execution_count": 57,
   "id": "4ddcbec2",
   "metadata": {},
   "outputs": [
    {
     "name": "stdout",
     "output_type": "stream",
     "text": [
      "e=AttributeError(\"'Bird' object has no attribute 'quack'\")\n"
     ]
    }
   ],
   "source": [
    "try:\n",
    "    woody = Bird()\n",
    "    alert(woody)\n",
    "    alert_duck(woody)\n",
    "    alert_bird(woody)\n",
    "except Exception as e:\n",
    "    print(f\"{e=}\")"
   ]
  },
  {
   "cell_type": "markdown",
   "id": "283203ee",
   "metadata": {},
   "source": [
    "## Types Usable in Annotations\n",
    "\n",
    "Pretty much any Python type can be used in type hints, but there are restrictions and recommendations. In addition, the typing module introduced special constructs with semantics that are sometimes surprising."
   ]
  },
  {
   "cell_type": "markdown",
   "id": "e08f7856",
   "metadata": {},
   "source": [
    "### The Any Type\n",
    "\n",
    "The keystone of any gradual type system is the `Any` type, also known as the _dynamic type_. When a type checker sees an untyped function like this:\n",
    "\n",
    "```python\n",
    "def double(x)\n",
    "    return x * 2\n",
    "````\n",
    "\n",
    "it assumes this:\n",
    "\n",
    "```python\n",
    "def double(x: Any) -> Any:\n",
    "    return x * 2\n",
    "```\n",
    "\n",
    "However, a type checker will reject this function:\n",
    "\n",
    "```python\n",
    "def double(x: object) -> object:\n",
    "    return x * 2\n",
    "```\n",
    "The problem is that object does not support the `__mul__` operation."
   ]
  },
  {
   "cell_type": "markdown",
   "id": "093896e4",
   "metadata": {},
   "source": []
  },
  {
   "cell_type": "markdown",
   "id": "7a774f42",
   "metadata": {},
   "source": [
    "### Simple Types and Classes\n",
    "\n",
    "Simple types like `int`, `float`, `str`, and `bytes` may be used directly in type hints. Concrete classes from the standard library, external packages, or user defined—`French Deck`, `Vector2d`, and `Duck`—may also be used in type hints."
   ]
  },
  {
   "cell_type": "markdown",
   "id": "e9b1bbe0",
   "metadata": {},
   "source": [
    "### Optional and Union Types"
   ]
  },
  {
   "cell_type": "markdown",
   "id": "45f642fc",
   "metadata": {},
   "source": [
    "### Generic Collections\n",
    "\n",
    "Most Python collections are heterogeneous. For example, you can put any mixture of different types in a `list`. However, in practice that’s not very useful: if you put objects in a collection, you are likely to want to operate on them later, and usually this means they must share at least one common method.\n",
    "\n",
    "```python\n",
    "def tokenize(text: str) -> list[str]:\n",
    "    return text.upper().split()"
   ]
  },
  {
   "cell_type": "code",
   "execution_count": 58,
   "id": "b3e8da59",
   "metadata": {},
   "outputs": [
    {
     "data": {
      "text/plain": [
       "[2, 4]"
      ]
     },
     "execution_count": 58,
     "metadata": {},
     "output_type": "execute_result"
    }
   ],
   "source": [
    "list1 = [ 1, 2, 2, 3, 4]\n",
    "list2 = [ 2, 2, 4, 5]\n",
    "list( set(list1) & set(list2) )"
   ]
  },
  {
   "cell_type": "markdown",
   "id": "ecc91d7d",
   "metadata": {},
   "source": [
    "### Tuple Types\n",
    "\n",
    "There are three ways to annotate tuple types:\n",
    "\n",
    "+ Tuples as records\n",
    "+ Tuples as records with named fields\n",
    "+ Tuples as immutables sequences"
   ]
  },
  {
   "cell_type": "markdown",
   "id": "59e3591f",
   "metadata": {},
   "source": [
    "#### Tuples as records\n",
    "\n",
    "If you're using a `tuple` as a record, use the `tuple` built-in and declare the types of the fields within `[]`.\n",
    "\n",
    "For example, the type hint would be `tuple[str, float, str]` to accept a tuple with city name, population, and country: `('Shanghai', 24.28, 'China')`."
   ]
  },
  {
   "cell_type": "markdown",
   "id": "4b453939",
   "metadata": {},
   "source": [
    "```python\n",
    "from geolib import geohash as gh # type: ignore\n",
    "\n",
    "PRECISION = 9\n",
    "\n",
    "def geohash(lat_lon: tuple[float, float]) -> str:\n",
    "    return g.encode(*lat_lon, PRECISION)\n",
    "```"
   ]
  },
  {
   "cell_type": "markdown",
   "id": "170db495",
   "metadata": {},
   "source": [
    "#### Tuples as records with named fields\n",
    "\n",
    "To annotate a tuple with many fields, or specific types of tuple your code uses in many places, I highly recommend using `typing.NamedTuple`.\n",
    "\n",
    "```python\n",
    "from typing import NamedTuple\n",
    "from geolib import geohash as gh # type: ignore\n",
    "\n",
    "PRECISION = 9\n",
    "\n",
    "class Coordinate(NamedTuple):\n",
    "    lat: float\n",
    "    lon: float\n",
    "\n",
    "def geohash(lat_lon: Coordinate) -> str:\n",
    "    return gh.encode(*lat_lon, precision)\n",
    "\n",
    "def diplay_ll(lat_lon: tuple[float, float]) -> str:\n",
    "    lat, lon = lat_lon\n",
    "    ns = 'N' if lat>=0 else 'S'\n",
    "    ew = 'E' if lon>=0 else 'W'\n",
    "    return f'{abs(lat):0.1f}°{ns}, {abs(lon):0.1f}°{ew}'\n",
    "```"
   ]
  },
  {
   "cell_type": "markdown",
   "id": "fc8c497f",
   "metadata": {},
   "source": [
    "#### Tuples as immutable sequences\n",
    "\n",
    "To annotate tuples of unspecified length that are used as immutable lists, you must specify a single type, followed by a comma and `...` (that’s Python’s ellipsis token, made of three periods, not Unicode `U+2026—HORIZONTAL ELLIPSIS`).\n",
    "\n",
    "For example, `tuple[int, ...]` is a tuple with `int` items.\n",
    "\n",
    "The ellipsis indicates that any number of elements >= 1 is acceptable. There is no way to specify fields of different types for tuples of arbitrary length.\n",
    "\n",
    "Here is a `columnize` function that transforms a sequence into a table of rows and cells in the form of a list of tuples with unspecified lengths. "
   ]
  },
  {
   "cell_type": "code",
   "execution_count": 59,
   "id": "43fa5940",
   "metadata": {},
   "outputs": [],
   "source": [
    "from collections.abc import Sequence\n",
    "\n",
    "def columnize(\n",
    "    sequence: Sequence[str], num_columns: int =0,\n",
    ") -> list[tuple[str, ...]]:\n",
    "    if num_columns == 0:\n",
    "        num_columns = round(len(sequence) ** 0.5)\n",
    "    num_rows, reminder = divmod(len(sequence), num_columns)\n",
    "    num_rows += bool(reminder)\n",
    "    return [tuple(sequence[i::num_rows]) for i in range(num_rows)]"
   ]
  },
  {
   "cell_type": "code",
   "execution_count": 60,
   "id": "f5c5b98c",
   "metadata": {},
   "outputs": [
    {
     "data": {
      "text/plain": [
       "[('drake', 'koala', 'yak'),\n",
       " ('fawn', 'lynx', 'zapus'),\n",
       " ('heron', 'tahr'),\n",
       " ('ibex', 'xerus')]"
      ]
     },
     "execution_count": 60,
     "metadata": {},
     "output_type": "execute_result"
    }
   ],
   "source": [
    "animals = 'drake fawn heron ibex koala lynx tahr xerus yak zapus'.split()\n",
    "table = columnize(animals)\n",
    "table"
   ]
  },
  {
   "cell_type": "code",
   "execution_count": 61,
   "id": "d74dc63c",
   "metadata": {},
   "outputs": [
    {
     "name": "stdout",
     "output_type": "stream",
     "text": [
      "drake     koala     yak       \n",
      "fawn      lynx      zapus     \n",
      "heron     tahr      \n",
      "ibex      xerus     \n"
     ]
    }
   ],
   "source": [
    "for row in table:\n",
    "    print(''.join(f'{word:<10}' for word in row))"
   ]
  },
  {
   "cell_type": "markdown",
   "id": "012ee39a",
   "metadata": {},
   "source": [
    "### Generic Mappings\n",
    "\n",
    "Generic mapping types are annotated as `MappingType[KeyType, ValueType]`. The built-in `dict` and the mapping types in collections and `collections.abc` accept that notation in Python ≥ 3.9. For earlier versions, you must use `typing.Dict` and other mapping types from the `typing` module."
   ]
  },
  {
   "cell_type": "code",
   "execution_count": 62,
   "id": "b9579a0f",
   "metadata": {},
   "outputs": [],
   "source": [
    "import sys\n",
    "import re\n",
    "import unicodedata\n",
    "from collections.abc import Iterator\n",
    "\n",
    "RE_WORD = re.compile(r'\\w+')\n",
    "STOP_CODE = sys.maxunicode + 1\n",
    "\n",
    "def tokenize(text: str) -> Iterator[str]:\n",
    "    \"\"\"return iterable of uppercased words\"\"\"\n",
    "    for match in RE_WORD.finditer(text):\n",
    "        yield match.group().upper()\n",
    "        \n",
    "def name_index(start: int = 32, end: int = STOP_CODE) -> dict[str, set[str]]:\n",
    "    index: dict[str, set[str]] = {}\n",
    "    for char in (chr(i) for i in range(start, end)):\n",
    "        if name := unicodedata.name(char, ''):\n",
    "            for word in tokenize(name):\n",
    "                index.setdefault(word, set()).add(char)\n",
    "    return index"
   ]
  },
  {
   "cell_type": "code",
   "execution_count": 63,
   "id": "3caa8343",
   "metadata": {},
   "outputs": [],
   "source": [
    "index = name_index(32, 65)"
   ]
  },
  {
   "cell_type": "code",
   "execution_count": 64,
   "id": "0434f32e",
   "metadata": {},
   "outputs": [
    {
     "data": {
      "text/plain": [
       "{'#', '$', '%', '+', '<', '=', '>'}"
      ]
     },
     "execution_count": 64,
     "metadata": {},
     "output_type": "execute_result"
    }
   ],
   "source": [
    "index['SIGN']"
   ]
  },
  {
   "cell_type": "code",
   "execution_count": 65,
   "id": "02d2884b",
   "metadata": {},
   "outputs": [
    {
     "data": {
      "text/plain": [
       "{'0', '1', '2', '3', '4', '5', '6', '7', '8', '9'}"
      ]
     },
     "execution_count": 65,
     "metadata": {},
     "output_type": "execute_result"
    }
   ],
   "source": [
    "index['DIGIT']"
   ]
  },
  {
   "cell_type": "code",
   "execution_count": 66,
   "id": "947eff01",
   "metadata": {},
   "outputs": [
    {
     "data": {
      "text/plain": [
       "{'8'}"
      ]
     },
     "execution_count": 66,
     "metadata": {},
     "output_type": "execute_result"
    }
   ],
   "source": [
    "index['DIGIT'] & index['EIGHT']"
   ]
  },
  {
   "cell_type": "markdown",
   "id": "4d8fd15e",
   "metadata": {},
   "source": [
    "### Abstract Base Classes\n",
    "\n",
    "> Be conservative in what you send, be liberal in what you accept.\n",
    "> Postel's law, a.k.a. the Robustness Principle\n",
    "\n",
    "Consider this function signature:\n",
    "\n",
    "```python\n",
    "from collections.abc import Mapping\n",
    "\n",
    "def name2hex(name: str, color_map: Mapping[str, int]) -> str:\n",
    "```\n",
    "\n",
    "Using abc.Mapping allows the caller to provide an instance of `dict`, `defaultdict`, `ChainMap`, a `UserDict` subclass, or any other type that is a subtype-of `Mapping`.\n",
    "\n",
    "In contrast, consider this signature:\n",
    "\n",
    "```python\n",
    "def name2hex(name: str, color_map: dict[str, int]) -> str:\n",
    "```\n",
    "\n",
    "Now `color_map` must be a `dict` or one of its subtypes, such as `defaultDict` or `OrderedDict`. In particular, a subclass of `collections.UserDict` would not pass the type check for `color_map`, despite being the recommended way to create user-defined mappings."
   ]
  },
  {
   "cell_type": "markdown",
   "id": "a3b5910c",
   "metadata": {},
   "source": [
    "### Iterable \n",
    "\n",
    "The `typing.List` documentation I just quoted recommends `Sequence` and `Iterable` for function parameter type hints.\n",
    "\n",
    "```python\n",
    "from collections.abc import Iterable\n",
    "\n",
    "FromTo = tuple[str, str]\n",
    "\n",
    "def zip_replace(text: str, changes: Iterable[FromTo]) -> str:\n",
    "    for from_, to in changes:\n",
    "        text = text.replace(from_, to)\n",
    "    return text\n",
    "```"
   ]
  },
  {
   "cell_type": "markdown",
   "id": "1682b2f2",
   "metadata": {},
   "source": [
    "### Parametrized Generics and TypeVar\n",
    "\n",
    "A parameterized generic is a generic type, written as `list[T]`, where `T` is a type variable that will be bound to a specific type with each usage. This allows a parameter type to be reflected on the result type."
   ]
  },
  {
   "cell_type": "code",
   "execution_count": 67,
   "id": "c0da4568",
   "metadata": {},
   "outputs": [],
   "source": [
    "from collections.abc import Sequence\n",
    "from random import shuffle\n",
    "from typing import TypeVar\n",
    "\n",
    "T = TypeVar('T')\n",
    "\n",
    "def sample(population: Sequence[T], size: int) -> list[T]:\n",
    "    if size<1:\n",
    "        raise ValueError('size must be >=1')\n",
    "    result = list(population)\n",
    "    shuffle(result)\n",
    "    return result[:size]"
   ]
  },
  {
   "cell_type": "code",
   "execution_count": 68,
   "id": "605cd910",
   "metadata": {},
   "outputs": [],
   "source": [
    "from collections import Counter\n",
    "from collections.abc import Iterable, Hashable\n",
    "from typing import TypeVar\n",
    "\n",
    "HashableT = TypeVar('HashableT', bound=Hashable)\n",
    "\n",
    "def mode(data: Iterable[HashableT]) -> HashableT:\n",
    "    pairs = Counter(data).most_common(1)\n",
    "    if len(pairs) == 0:\n",
    "        raise ValueError('no mode for empty data')\n",
    "    return pairs[0][0]"
   ]
  },
  {
   "cell_type": "markdown",
   "id": "1b16c110",
   "metadata": {},
   "source": [
    "#### The AnyStr predefined type variable\n",
    "\n",
    "The typing module includes a predefined `TypeVar` named `AnyStr`. It’s defined like this:\n",
    "\n",
    "```python\n",
    "AnyStr = TypeVar('AnyStr', bytes, str)\n",
    "```"
   ]
  },
  {
   "cell_type": "markdown",
   "id": "d6b73be7",
   "metadata": {},
   "source": [
    "### Static Protocols"
   ]
  },
  {
   "cell_type": "code",
   "execution_count": 73,
   "id": "19cd259f",
   "metadata": {},
   "outputs": [
    {
     "name": "stdout",
     "output_type": "stream",
     "text": [
      "l=[<object object at 0x7f4f7eaa2040>, <object object at 0x7f4f7eaa2260>, <object object at 0x7f4f7eaa23d0>, <object object at 0x7f4f7eaa20c0>]\n",
      "{e=}\n"
     ]
    }
   ],
   "source": [
    "try:\n",
    "    l = [object() for _ in range(4)]\n",
    "    print(f\"{l=}\")\n",
    "    sorted(l)\n",
    "except Exception as e:\n",
    "    print(\"{e=}\",)"
   ]
  },
  {
   "cell_type": "code",
   "execution_count": 74,
   "id": "7a0e047a",
   "metadata": {},
   "outputs": [],
   "source": [
    "class Spam:\n",
    "    def __init__(self, n): self.n = n\n",
    "    def __lt__(self, other): return self.n < other.n\n",
    "    def __repr__(self): return f\"Spam({self.n})\""
   ]
  },
  {
   "cell_type": "code",
   "execution_count": 75,
   "id": "70e62a56",
   "metadata": {},
   "outputs": [
    {
     "data": {
      "text/plain": [
       "[Spam(5), Spam(4), Spam(3), Spam(2), Spam(1)]"
      ]
     },
     "execution_count": 75,
     "metadata": {},
     "output_type": "execute_result"
    }
   ],
   "source": [
    "l = [ Spam(n) for n in range(5, 0, -1) ]\n",
    "l"
   ]
  },
  {
   "cell_type": "code",
   "execution_count": 76,
   "id": "7d72a295",
   "metadata": {},
   "outputs": [
    {
     "data": {
      "text/plain": [
       "[Spam(1), Spam(2), Spam(3), Spam(4), Spam(5)]"
      ]
     },
     "execution_count": 76,
     "metadata": {},
     "output_type": "execute_result"
    }
   ],
   "source": [
    "sorted(l)"
   ]
  },
  {
   "cell_type": "code",
   "execution_count": 77,
   "id": "bee6706d",
   "metadata": {},
   "outputs": [],
   "source": [
    "from typing import Protocol, Any\n",
    "\n",
    "class SupportsLessThan(Protocol):\n",
    "    def __init__(self, n): self.n = n\n",
    "    def __lt__(self, other: Any) -> bool: return self.n < other.n\n",
    "    def __repr__(self): return f\"Spam({self.n})\""
   ]
  },
  {
   "cell_type": "code",
   "execution_count": 78,
   "id": "401c2d9d",
   "metadata": {},
   "outputs": [],
   "source": [
    "from collections.abc import Iterable\n",
    "from typing import TypeVar\n",
    "\n",
    "LT = TypeVar('LT', bound=SupportsLessThan)"
   ]
  },
  {
   "cell_type": "code",
   "execution_count": 79,
   "id": "88b25c38",
   "metadata": {},
   "outputs": [],
   "source": [
    "def top(series: Iterable[LT], length: int) -> list[LT]:\n",
    "    ordered = sorted(series, reverse=True)\n",
    "    return ordered[:length]"
   ]
  },
  {
   "cell_type": "code",
   "execution_count": 80,
   "id": "e328c5f0",
   "metadata": {},
   "outputs": [],
   "source": [
    "def test_top_tuples() -> None:\n",
    "    fruit = 'mango pear apple kiwi banana'.split()\n",
    "    series: Iterator[tuple[int, str]] = (\n",
    "        (len(s), s) for s in fruit\n",
    "    )\n",
    "    length = 3\n",
    "    expected = [(6, 'banana'), (5, 'mango'), (5, 'apple')]\n",
    "    result = top(series, length)\n",
    "    if TYPE_CHECKING:\n",
    "        reveal_type(series)\n",
    "        reveal_type(expected)\n",
    "        reveal_type(result)\n",
    "    assert result == expected"
   ]
  },
  {
   "cell_type": "code",
   "execution_count": 81,
   "id": "e3bf9eed",
   "metadata": {},
   "outputs": [],
   "source": [
    "import pytest\n",
    "\n",
    "def test_top_objects_error() -> None:\n",
    "    series = [object() for _ in range(4)]\n",
    "    if TYPE_CHECKING:\n",
    "        reveal_type(series)\n",
    "    with pytest.raises(TypeError) as excinfo:\n",
    "        top(series, 3)\n",
    "    assert \"'<' not supported\" in str(excinfo.value)"
   ]
  },
  {
   "cell_type": "markdown",
   "id": "1b5caa16",
   "metadata": {},
   "source": [
    "### NoReturn\n",
    "\n",
    "This is a special type used only to annotate the return type of functions that never return. Usually, they exist to raise exceptions. There are dozens of such functions in the standard library."
   ]
  },
  {
   "cell_type": "markdown",
   "id": "d6634433",
   "metadata": {},
   "source": [
    "## Annotating Positional Only and Variadic Parameters\n",
    "\n",
    "```python\n",
    "\n",
    "from typing import Optional\n",
    "\n",
    "def tag(\n",
    "    name: str,\n",
    "    /,\n",
    "    *content: str,\n",
    "    class_: Optional[str] = None,\n",
    "    **attrs: str,\n",
    ") -> str:\n",
    "```\n",
    "\n",
    "The `/` notation for positional-only parameters is only available in Python ≥ 3.8. In Python 3.7 or earlier, that’s a syntax error. "
   ]
  },
  {
   "cell_type": "markdown",
   "id": "554a57f6",
   "metadata": {},
   "source": [
    "## Imperfect Typing and Strong Testing\n",
    "\n",
    "Maintainers of large corporate codebases report that many bugs are found by static type checkers and fixed more cheaply than if the bugs were discovered only after the code is running in production. However, it’s essential to note that automated testing was standard practice and widely adopted long before static typing was introduced in the companies that I know about."
   ]
  },
  {
   "cell_type": "markdown",
   "id": "c475ac2c",
   "metadata": {},
   "source": []
  }
 ],
 "metadata": {
  "kernelspec": {
   "display_name": "Python 3 (ipykernel)",
   "language": "python",
   "name": "python3"
  }
 },
 "nbformat": 4,
 "nbformat_minor": 5
}
