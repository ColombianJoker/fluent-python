{
 "cells": [
  {
   "cell_type": "markdown",
   "id": "38a2d4f8",
   "metadata": {},
   "source": [
    "# 9. Decorators and Closures\n",
    "\n",
    "> There’s been a number of complaints about the choice of the name “decorator” for this feature. The major one is that the name is not consistent with its use in the GoF book.1 The name decorator probably owes more to its use in the compiler area—a syntax tree is walked and annotated.\n",
    "> \n",
    "> PEP 318—Decorators for Functions and Methods"
   ]
  },
  {
   "cell_type": "markdown",
   "id": "b1f8cae1",
   "metadata": {},
   "source": [
    "## Decorators 101\n",
    "\n",
    "A decorator is a callable that takes another function as an argument (the decorated function).\n",
    "\n",
    "```python\n",
    "@decorate\n",
    "def target():\n",
    "    print(\"running target()\")\n",
    "```\n",
    "has the same effect as writing this:\n",
    "```python\n",
    "def target():\n",
    "    print(\"running target()\")\n",
    "\n",
    "target = decorate(target)\n",
    "```"
   ]
  },
  {
   "cell_type": "code",
   "execution_count": null,
   "id": "254bfa5a",
   "metadata": {},
   "outputs": [],
   "source": [
    "def deco(func):\n",
    "    def inner():\n",
    "        print('running inner()')\n",
    "    return inner\n",
    "\n",
    "@deco\n",
    "def target():\n",
    "    print('running target()')"
   ]
  },
  {
   "cell_type": "code",
   "execution_count": null,
   "id": "8a4fb4c5",
   "metadata": {},
   "outputs": [
    {
     "name": "stdout",
     "output_type": "stream",
     "text": [
      "running inner()\n"
     ]
    }
   ],
   "source": [
    "target()"
   ]
  },
  {
   "cell_type": "code",
   "execution_count": 3,
   "id": "20751248",
   "metadata": {},
   "outputs": [
    {
     "data": {
      "text/plain": [
       "<function __main__.deco.<locals>.inner()>"
      ]
     },
     "execution_count": 3,
     "metadata": {},
     "output_type": "execute_result"
    }
   ],
   "source": [
    "target"
   ]
  },
  {
   "cell_type": "markdown",
   "id": "4a116941",
   "metadata": {},
   "source": [
    "Strictly speaking, decorators are just syntactic sugar.\n",
    "\n",
    "Three essential facts make a good summary of decorators:\n",
    "\n",
    "+ A decorator is a function or another callable.\n",
    "+ A decorator may replace the decorated function with a different one.\n",
    "+ Decorators are executed immediately when a module is loaded.\n"
   ]
  },
  {
   "cell_type": "code",
   "execution_count": null,
   "id": "ba7e5c37",
   "metadata": {},
   "outputs": [
    {
     "name": "stdout",
     "output_type": "stream",
     "text": [
      "running register(<function f1 at 0x7fd8da7b5f80>)\n",
      "running register(<function f2 at 0x7fd8da7b60c0>)\n"
     ]
    }
   ],
   "source": [
    "registry = []\n",
    "\n",
    "def register(func):\n",
    "    print(f'running register({func})')\n",
    "    registry.append(func)\n",
    "    return func\n",
    "\n",
    "@register\n",
    "def f1():\n",
    "    print('running f1()')\n",
    "\n",
    "@register\n",
    "def f2():\n",
    "    print('running f2()')\n",
    "\n",
    "def f3():\n",
    "    print('running f3()')\n",
    "    \n",
    "def main():\n",
    "    print('running main()')\n",
    "    print('registry->', registry)\n",
    "    f1()\n",
    "    f2()\n",
    "    f3()\n"
   ]
  },
  {
   "cell_type": "code",
   "execution_count": 5,
   "id": "0c18f5ed",
   "metadata": {},
   "outputs": [
    {
     "name": "stdout",
     "output_type": "stream",
     "text": [
      "running main()\n",
      "registry-> [<function f1 at 0x7fd8da7b5f80>, <function f2 at 0x7fd8da7b60c0>]\n",
      "running f1()\n",
      "running f2()\n",
      "running f3()\n"
     ]
    }
   ],
   "source": [
    "main()"
   ]
  },
  {
   "cell_type": "code",
   "execution_count": 6,
   "id": "dabcc336",
   "metadata": {},
   "outputs": [
    {
     "data": {
      "text/plain": [
       "[<function __main__.f1()>, <function __main__.f2()>]"
      ]
     },
     "execution_count": 6,
     "metadata": {},
     "output_type": "execute_result"
    }
   ],
   "source": [
    "registry"
   ]
  },
  {
   "cell_type": "markdown",
   "id": "f740998b",
   "metadata": {},
   "source": [
    "## Registration Decorators\n",
    "\n",
    "Considering how decorators are commonly employed in real code the example is unusual in two ways:\n",
    "\n",
    "+ The decorator function is defined in the same module as the decorated functions. A real decorator is usually defined in one module and applied to functions in other modules.\n",
    "+ The `register` decorator returns the same function passed as an argument. In practice, most decorators define an inner function and return it."
   ]
  },
  {
   "cell_type": "markdown",
   "id": "8f824f68",
   "metadata": {},
   "source": [
    "## Variable Scope Rules"
   ]
  },
  {
   "cell_type": "code",
   "execution_count": 7,
   "id": "9fb09125",
   "metadata": {},
   "outputs": [
    {
     "name": "stdout",
     "output_type": "stream",
     "text": [
      "3\n",
      "e=NameError(\"name 'b' is not defined\")\n"
     ]
    }
   ],
   "source": [
    "def f1(a):\n",
    "    print(a)\n",
    "    print(b)\n",
    "\n",
    "try:\n",
    "    f1(3)\n",
    "except Exception as e:\n",
    "    print(f\"{e=}\")"
   ]
  },
  {
   "cell_type": "code",
   "execution_count": 8,
   "id": "de06c343",
   "metadata": {},
   "outputs": [
    {
     "name": "stdout",
     "output_type": "stream",
     "text": [
      "3\n",
      "6\n"
     ]
    }
   ],
   "source": [
    "b = 6\n",
    "f1(3)"
   ]
  },
  {
   "cell_type": "code",
   "execution_count": 9,
   "id": "08875794",
   "metadata": {},
   "outputs": [
    {
     "name": "stdout",
     "output_type": "stream",
     "text": [
      "3\n",
      "e=UnboundLocalError(\"cannot access local variable 'b' where it is not associated with a value\")\n"
     ]
    }
   ],
   "source": [
    "b = 6\n",
    "def f2(a):\n",
    "    print(a)\n",
    "    print(b)\n",
    "    b = 0\n",
    "\n",
    "try: f2(3)\n",
    "except Exception as e: print(f\"{e=}\")"
   ]
  },
  {
   "cell_type": "markdown",
   "id": "6c9abbe1",
   "metadata": {},
   "source": [
    "Note that the output starts with `3`, which proves that the `print(a)` statement was executed. But the second one, `print(b)`, never runs. When I first saw this I was surprised, thinking that `6` should be printed, because there is a global variable `b` and the assignment to the local b is made after `print(b)`.\n",
    "\n",
    "But the fact is, when Python compiles the body of the function, it decides that `b` is a local variable because it is assigned within the function. The generated bytecode reflects this decision and will try to fetch `b` from the local scope. Later, when the call `f2(3)` is made, the body of `f2` fetches and prints the value of the local variable `a`, but when trying to fetch the value of local variable `b`, it discovers that `b` is unbound."
   ]
  },
  {
   "cell_type": "code",
   "execution_count": 10,
   "id": "8f6055ab",
   "metadata": {},
   "outputs": [
    {
     "name": "stdout",
     "output_type": "stream",
     "text": [
      "3\n",
      "6\n"
     ]
    }
   ],
   "source": [
    "b = 6\n",
    "def f3(a):\n",
    "    global b\n",
    "    print(a)\n",
    "    print(b)\n",
    "    b = 9\n",
    "    \n",
    "f3(3)"
   ]
  },
  {
   "cell_type": "code",
   "execution_count": 11,
   "id": "f44cb42d",
   "metadata": {},
   "outputs": [
    {
     "data": {
      "text/plain": [
       "9"
      ]
     },
     "execution_count": 11,
     "metadata": {},
     "output_type": "execute_result"
    }
   ],
   "source": [
    "b"
   ]
  },
  {
   "cell_type": "markdown",
   "id": "0f4b1af6",
   "metadata": {},
   "source": [
    "## Closures\n",
    "\n",
    "In the blogosphere, closures are sometimes confused with anonymous functions. Many confuse them because of the parallel history of those features: defining functions inside functions is not so common or convenient, until you have anonymous functions. And closures only matter when you have nested functions. So a lot of people learn both concepts at the same time."
   ]
  },
  {
   "cell_type": "code",
   "execution_count": 12,
   "id": "9a9f1322",
   "metadata": {},
   "outputs": [],
   "source": [
    "class Averager():\n",
    "    \n",
    "    def __init__(self):\n",
    "        self.series = []\n",
    "        \n",
    "    def __call__(self, new_value):\n",
    "        self.series.append(new_value)\n",
    "        total = sum(self.series)\n",
    "        return total/len(self.series)\n"
   ]
  },
  {
   "cell_type": "code",
   "execution_count": 13,
   "id": "58124815",
   "metadata": {},
   "outputs": [
    {
     "data": {
      "text/plain": [
       "10.0"
      ]
     },
     "execution_count": 13,
     "metadata": {},
     "output_type": "execute_result"
    }
   ],
   "source": [
    "avg = Averager()\n",
    "avg(10)"
   ]
  },
  {
   "cell_type": "code",
   "execution_count": 14,
   "id": "0cad8c6d",
   "metadata": {},
   "outputs": [
    {
     "data": {
      "text/plain": [
       "10.5"
      ]
     },
     "execution_count": 14,
     "metadata": {},
     "output_type": "execute_result"
    }
   ],
   "source": [
    "avg(11)"
   ]
  },
  {
   "cell_type": "code",
   "execution_count": 15,
   "id": "19e1c2cc",
   "metadata": {},
   "outputs": [
    {
     "data": {
      "text/plain": [
       "11.0"
      ]
     },
     "execution_count": 15,
     "metadata": {},
     "output_type": "execute_result"
    }
   ],
   "source": [
    "avg(12)"
   ]
  },
  {
   "cell_type": "code",
   "execution_count": 16,
   "id": "df6cdf6a",
   "metadata": {},
   "outputs": [],
   "source": [
    "def make_averager():\n",
    "    series = []\n",
    "    \n",
    "    def averager(new_value):\n",
    "        series.append(new_value)\n",
    "        total = sum(series)\n",
    "        return total / len(series)\n",
    "    \n",
    "    return averager"
   ]
  },
  {
   "cell_type": "code",
   "execution_count": 17,
   "id": "c083ef2a",
   "metadata": {},
   "outputs": [
    {
     "data": {
      "text/plain": [
       "10.0"
      ]
     },
     "execution_count": 17,
     "metadata": {},
     "output_type": "execute_result"
    }
   ],
   "source": [
    "avg = make_averager()\n",
    "avg(10)"
   ]
  },
  {
   "cell_type": "code",
   "execution_count": 18,
   "id": "ecfb71f1",
   "metadata": {},
   "outputs": [
    {
     "data": {
      "text/plain": [
       "10.5"
      ]
     },
     "execution_count": 18,
     "metadata": {},
     "output_type": "execute_result"
    }
   ],
   "source": [
    "avg(11)"
   ]
  },
  {
   "cell_type": "code",
   "execution_count": 19,
   "id": "944c0d6f",
   "metadata": {},
   "outputs": [
    {
     "data": {
      "text/plain": [
       "12.0"
      ]
     },
     "execution_count": 19,
     "metadata": {},
     "output_type": "execute_result"
    }
   ],
   "source": [
    "avg(15)"
   ]
  },
  {
   "cell_type": "code",
   "execution_count": 20,
   "id": "2a627d9d",
   "metadata": {},
   "outputs": [
    {
     "data": {
      "text/plain": [
       "('new_value', 'total')"
      ]
     },
     "execution_count": 20,
     "metadata": {},
     "output_type": "execute_result"
    }
   ],
   "source": [
    "avg.__code__.co_varnames"
   ]
  },
  {
   "cell_type": "code",
   "execution_count": 21,
   "id": "81860d67",
   "metadata": {},
   "outputs": [
    {
     "data": {
      "text/plain": [
       "('series',)"
      ]
     },
     "execution_count": 21,
     "metadata": {},
     "output_type": "execute_result"
    }
   ],
   "source": [
    "avg.__code__.co_freevars"
   ]
  },
  {
   "cell_type": "code",
   "execution_count": 22,
   "id": "4d94042e",
   "metadata": {},
   "outputs": [
    {
     "data": {
      "text/plain": [
       "(<cell at 0x7fd8da7d5f60: list object at 0x7fd8da611e00>,)"
      ]
     },
     "execution_count": 22,
     "metadata": {},
     "output_type": "execute_result"
    }
   ],
   "source": [
    "avg.__closure__"
   ]
  },
  {
   "cell_type": "code",
   "execution_count": 23,
   "id": "824120b7",
   "metadata": {},
   "outputs": [
    {
     "data": {
      "text/plain": [
       "[10, 11, 15]"
      ]
     },
     "execution_count": 23,
     "metadata": {},
     "output_type": "execute_result"
    }
   ],
   "source": [
    "avg.__closure__[0].cell_contents"
   ]
  },
  {
   "cell_type": "markdown",
   "id": "8949b7df",
   "metadata": {},
   "source": [
    "## The **nonlocal** Declaration\n",
    "\n",
    "Our previous implementation of `make_averager` was not efficient. We stored all the values in the historical `series` and computed their `sum` every time `averager` was called. A better implementation would only store the total and the number of items so far, and compute the mean from these two numbers."
   ]
  },
  {
   "cell_type": "code",
   "execution_count": 24,
   "id": "c63954e2",
   "metadata": {},
   "outputs": [],
   "source": [
    "def make_averager():\n",
    "    count = 0\n",
    "    total = 0\n",
    "    \n",
    "    def averager(new_value):\n",
    "        count += 1\n",
    "        total += new_value\n",
    "        return total / count\n",
    "    \n",
    "    return averager"
   ]
  },
  {
   "cell_type": "code",
   "execution_count": 25,
   "id": "f28a1a95",
   "metadata": {},
   "outputs": [
    {
     "name": "stdout",
     "output_type": "stream",
     "text": [
      "e=UnboundLocalError(\"cannot access local variable 'count' where it is not associated with a value\")\n"
     ]
    }
   ],
   "source": [
    "try:\n",
    "    avg = make_averager()\n",
    "    avg(10)\n",
    "except Exception as e: print(f\"{e=}\")"
   ]
  },
  {
   "cell_type": "code",
   "execution_count": 26,
   "id": "4518c902",
   "metadata": {},
   "outputs": [],
   "source": [
    "def make_averager():\n",
    "    count = 0\n",
    "    total = 0\n",
    "    \n",
    "    def averager(new_value):\n",
    "        nonlocal count, total\n",
    "        count += 1\n",
    "        total += new_value\n",
    "        return total / count\n",
    "    \n",
    "    return averager"
   ]
  },
  {
   "cell_type": "code",
   "execution_count": 27,
   "id": "12373140",
   "metadata": {},
   "outputs": [
    {
     "name": "stdout",
     "output_type": "stream",
     "text": [
      "avg(10)=10.0\n"
     ]
    }
   ],
   "source": [
    "try:\n",
    "    avg = make_averager()\n",
    "    print(f\"{avg(10)=}\")\n",
    "except Exception as e: print(f\"{e=}\")"
   ]
  },
  {
   "cell_type": "markdown",
   "id": "e99dfb84",
   "metadata": {},
   "source": [
    "## Implementing a Simple Decorator\n",
    "\n",
    "The example is a decorator that clocks every invocation of the decorated function and displays the elapsed time, the arguments passed, and the result of the call."
   ]
  },
  {
   "cell_type": "code",
   "execution_count": 28,
   "id": "b174868f",
   "metadata": {},
   "outputs": [],
   "source": [
    "import time\n",
    "\n",
    "def clock(func):\n",
    "    def clocked(*args):\n",
    "        t0 = time.perf_counter()\n",
    "        result = func(*args)\n",
    "        elapsed = time.perf_counter() - t0\n",
    "        name = func.__name__\n",
    "        arg_str = ', '.join(repr(arg) for arg in args)\n",
    "        print(f'[{elapsed:0.8f}s] {name}({arg_str}) -> {result!r}')\n",
    "        return result\n",
    "    \n",
    "    return clocked"
   ]
  },
  {
   "cell_type": "code",
   "execution_count": 29,
   "id": "3d2c5722",
   "metadata": {},
   "outputs": [],
   "source": [
    "@clock\n",
    "def snooze(seconds):\n",
    "    time.sleep(seconds)\n",
    "    \n",
    "@clock\n",
    "def factorial(n):\n",
    "    return 1 if n<2 else n*factorial(n-1)"
   ]
  },
  {
   "cell_type": "code",
   "execution_count": 30,
   "id": "87226aec",
   "metadata": {},
   "outputs": [
    {
     "name": "stdout",
     "output_type": "stream",
     "text": [
      "**************************************** Calling snooze(.123)\n",
      "[0.12306752s] snooze(0.123) -> None\n",
      "**************************************** Calling factorial(6)\n",
      "[0.00000561s] factorial(1) -> 1\n",
      "[0.00002214s] factorial(2) -> 2\n",
      "[0.00003442s] factorial(3) -> 6\n",
      "[0.00004622s] factorial(4) -> 24\n",
      "[0.00005744s] factorial(5) -> 120\n",
      "[0.00006293s] factorial(6) -> 720\n",
      "6! = 720\n"
     ]
    }
   ],
   "source": [
    "print('*' * 40, 'Calling snooze(.123)')\n",
    "snooze(.123)\n",
    "print('*' * 40, 'Calling factorial(6)')\n",
    "print('6! =', factorial(6))"
   ]
  },
  {
   "cell_type": "code",
   "execution_count": 31,
   "id": "fdc54f3e",
   "metadata": {},
   "outputs": [
    {
     "data": {
      "text/plain": [
       "'clocked'"
      ]
     },
     "execution_count": 31,
     "metadata": {},
     "output_type": "execute_result"
    }
   ],
   "source": [
    "factorial.__name__"
   ]
  },
  {
   "cell_type": "markdown",
   "id": "8a592411",
   "metadata": {},
   "source": [
    "The `clock` decorator implemented in Example has a few shortcomings: it does not support keyword arguments, and it masks the `__name__` and `__doc__` of the decorated function. Next example uses the `functools.wraps` decorator to copy the relevant attributes from `func` to `clocked`. Also, in this new version, keyword arguments are correctly handled."
   ]
  },
  {
   "cell_type": "code",
   "execution_count": 32,
   "id": "5ff2c94e",
   "metadata": {},
   "outputs": [],
   "source": [
    "import time\n",
    "import functools\n",
    "\n",
    "def clock(func):\n",
    "    @functools.wraps(func)\n",
    "    def clocked(*args, **kwargs):\n",
    "        t0 = time.perf_counter()\n",
    "        result = func(*args, **kwargs)\n",
    "        elapsed = time.perf_counter() - t0\n",
    "        name = func.__name__\n",
    "        arg_lst = [repr(arg) for arg in args]\n",
    "        arg_lst.extend(f'{k}={v!r}' for k, v in kwargs.items())\n",
    "        arg_str = ', '.join(arg_lst)\n",
    "        print(f'[{elapsed:0.8f}s] {name}({arg_str}) -> {result!r}')\n",
    "        return result\n",
    "    \n",
    "    return clocked"
   ]
  },
  {
   "cell_type": "code",
   "execution_count": 33,
   "id": "0a608105",
   "metadata": {},
   "outputs": [
    {
     "name": "stdout",
     "output_type": "stream",
     "text": [
      "**************************************** Calling snooze(.123)\n",
      "[0.12324049s] snooze(0.123) -> None\n",
      "**************************************** Calling factorial(6)\n",
      "[0.00000043s] factorial(1) -> 1\n",
      "[0.00000957s] factorial(2) -> 2\n",
      "[0.00001897s] factorial(3) -> 6\n",
      "[0.00002431s] factorial(4) -> 24\n",
      "[0.00003047s] factorial(5) -> 120\n",
      "[0.00003641s] factorial(6) -> 720\n",
      "6! = 720\n"
     ]
    }
   ],
   "source": [
    "print('*' * 40, 'Calling snooze(.123)')\n",
    "snooze(.123)\n",
    "print('*' * 40, 'Calling factorial(6)')\n",
    "print('6! =', factorial(6))"
   ]
  },
  {
   "cell_type": "markdown",
   "id": "ae9aec24",
   "metadata": {},
   "source": [
    "## Decorators in the Standard Library\n",
    "\n",
    "Python has three built-in functions that are designed to decorate methods: `property`, `classmethod`, and `staticmethod`. "
   ]
  },
  {
   "cell_type": "markdown",
   "id": "a3e12b45",
   "metadata": {},
   "source": [
    "### Memoization with `functools.cache`"
   ]
  },
  {
   "cell_type": "markdown",
   "id": "8df35015",
   "metadata": {},
   "source": [
    "The `functools.cache` decorator implements memoization: an optimization technique that works by saving the results of previous invocations of an expensive function, avoiding repeat computations on previously used arguments."
   ]
  },
  {
   "cell_type": "code",
   "execution_count": 34,
   "id": "b0f87f12",
   "metadata": {},
   "outputs": [],
   "source": [
    "@clock\n",
    "def fibonacci(n):\n",
    "    if n<2:\n",
    "        return n\n",
    "    return fibonacci(n-2) + fibonacci(n-1)"
   ]
  },
  {
   "cell_type": "code",
   "execution_count": 35,
   "id": "99ea5e53",
   "metadata": {},
   "outputs": [
    {
     "name": "stdout",
     "output_type": "stream",
     "text": [
      "[0.00000031s] fibonacci(0) -> 0\n",
      "[0.00000041s] fibonacci(1) -> 1\n",
      "[0.00003516s] fibonacci(2) -> 1\n",
      "[0.00000025s] fibonacci(1) -> 1\n",
      "[0.00000041s] fibonacci(0) -> 0\n",
      "[0.00000033s] fibonacci(1) -> 1\n",
      "[0.00001583s] fibonacci(2) -> 1\n",
      "[0.00002903s] fibonacci(3) -> 2\n",
      "[0.00007600s] fibonacci(4) -> 3\n",
      "[0.00000018s] fibonacci(1) -> 1\n",
      "[0.00000014s] fibonacci(0) -> 0\n",
      "[0.00000021s] fibonacci(1) -> 1\n",
      "[0.00000985s] fibonacci(2) -> 1\n",
      "[0.00001968s] fibonacci(3) -> 2\n",
      "[0.00000018s] fibonacci(0) -> 0\n",
      "[0.00000023s] fibonacci(1) -> 1\n",
      "[0.00000971s] fibonacci(2) -> 1\n",
      "[0.00000015s] fibonacci(1) -> 1\n",
      "[0.00000015s] fibonacci(0) -> 0\n",
      "[0.00000018s] fibonacci(1) -> 1\n",
      "[0.00000909s] fibonacci(2) -> 1\n",
      "[0.00001857s] fibonacci(3) -> 2\n",
      "[0.00003806s] fibonacci(4) -> 3\n",
      "[0.00006686s] fibonacci(5) -> 5\n",
      "[0.00015381s] fibonacci(6) -> 8\n",
      "fibonacci(6)=8\n"
     ]
    }
   ],
   "source": [
    "print(f\"{fibonacci(6)=}\")"
   ]
  },
  {
   "cell_type": "code",
   "execution_count": 36,
   "id": "1e1bed8a",
   "metadata": {},
   "outputs": [],
   "source": [
    "import functools\n",
    "\n",
    "@functools.cache\n",
    "@clock\n",
    "def fibonacci(n):\n",
    "    if n<2:\n",
    "        return n\n",
    "    return fibonacci(n-2) + fibonacci(n-1)"
   ]
  },
  {
   "cell_type": "code",
   "execution_count": 37,
   "id": "fda7ef0f",
   "metadata": {},
   "outputs": [
    {
     "name": "stdout",
     "output_type": "stream",
     "text": [
      "[0.00000027s] fibonacci(0) -> 0\n",
      "[0.00000035s] fibonacci(1) -> 1\n",
      "[0.00003648s] fibonacci(2) -> 1\n",
      "[0.00000061s] fibonacci(3) -> 2\n",
      "[0.00004930s] fibonacci(4) -> 3\n",
      "[0.00000061s] fibonacci(5) -> 5\n",
      "[0.00006212s] fibonacci(6) -> 8\n",
      "fibonacci(6)=8\n"
     ]
    }
   ],
   "source": [
    "print(f\"{fibonacci(6)=}\")"
   ]
  },
  {
   "cell_type": "markdown",
   "id": "92c795d7",
   "metadata": {},
   "source": [
    "### Using `lru_cache`\n",
    "\n",
    "The `functools.cache` decorator is actually a simple wrapper around the older `functools.lru_cache` function, which is more flexible and compatible with Python 3.8 and earlier versions.\n",
    "\n",
    "The main advantage of `@lru_cache` is that its memory usage is bounded by the `maxsize` parameter, which has a rather conservative default value of `128`—which means the cache will hold at most 128 entries at any time."
   ]
  },
  {
   "cell_type": "markdown",
   "id": "f6f585af",
   "metadata": {},
   "source": [
    "Since Python 3.8, `lru_cache` can be applied in two ways. This is how to use it in the simplest way:\n",
    " \n",
    "```python\n",
    "@lru_cache\n",
    "def costly_function(a, b):\n",
    "    ...\n",
    "```\n",
    "The other way—available since Python 3.2—is to invoke it as a function, with `()`:\n",
    "```python\n",
    "@lru_cache()\n",
    "def costly_function(a, b):\n",
    "    ...\n",
    "```\n",
    "\n",
    "In both cases, the default parameters would be used.\n",
    "\n",
    "`maxsize=128` Sets the maximum number of entries to be stored. \n",
    " \n",
    "`typed=False` Determines whether the results of different argument types are stored separately."
   ]
  },
  {
   "cell_type": "markdown",
   "id": "38c363fa",
   "metadata": {},
   "source": [
    "### Single Dispatch Generic Functions\n",
    "\n",
    "Because we don’t have Java-style method overloading in Python, we can’t simply create variations of htmlize with different signatures for each data type we want to han‐ dle differently. A possible solution in Python would be to turn htmlize into a dispatch function, with a chain of `if/elif/...` or `match/case/...` calling specialized functions like `htmlize_str`, `htmlize_int`, etc. This is not extensible by users of our module, and is unwieldy: over time, the htmlize dispatcher would become too big, and the coupling between it and the specialized functions would be very tight."
   ]
  },
  {
   "cell_type": "markdown",
   "id": "2b03852d",
   "metadata": {},
   "source": [
    "## Parametrized Decorators\n",
    "\n",
    "When parsing a decorator in source code, Python takes the decorated function and passes it as the first argument to the decorator function. So how do you make a deco‐ rator accept other arguments? The answer is: make a decorator factory that takes those arguments and returns a decorator, which is then applied to the function to be decorated. Confusing? Sure. "
   ]
  },
  {
   "cell_type": "code",
   "execution_count": 38,
   "id": "2663c58a",
   "metadata": {},
   "outputs": [],
   "source": [
    "registry = set()\n",
    "\n",
    "def register(active=True):\n",
    "    def decorate(func):\n",
    "        print('running register'\n",
    "              f'(active={active})->decorate({func})'\n",
    "              )\n",
    "        if active:\n",
    "            registry.add(func)\n",
    "        else:\n",
    "            registry.discard(func)\n",
    "        \n",
    "        return func\n",
    "    return decorate\n"
   ]
  },
  {
   "cell_type": "code",
   "execution_count": 39,
   "id": "8564af07",
   "metadata": {},
   "outputs": [
    {
     "name": "stdout",
     "output_type": "stream",
     "text": [
      "running register(active=False)->decorate(<function f1 at 0x7fd8da7b6c00>)\n",
      "running register(active=True)->decorate(<function f2 at 0x7fd8da7b6700>)\n"
     ]
    }
   ],
   "source": [
    "@register(active=False)\n",
    "def f1():\n",
    "    print('running f1()')\n",
    "    \n",
    "@register()\n",
    "def f2():\n",
    "    print('running f2()')\n",
    "    \n",
    "def f3():\n",
    "    print('running f3()')"
   ]
  },
  {
   "cell_type": "code",
   "execution_count": 40,
   "id": "3016faa2",
   "metadata": {},
   "outputs": [
    {
     "data": {
      "text/plain": [
       "{<function __main__.f2()>}"
      ]
     },
     "execution_count": 40,
     "metadata": {},
     "output_type": "execute_result"
    }
   ],
   "source": [
    "registry"
   ]
  },
  {
   "cell_type": "code",
   "execution_count": 41,
   "id": "c06ad10a",
   "metadata": {},
   "outputs": [
    {
     "name": "stdout",
     "output_type": "stream",
     "text": [
      "running register(active=True)->decorate(<function f3 at 0x7fd8da7b6660>)\n"
     ]
    },
    {
     "data": {
      "text/plain": [
       "<function __main__.f3()>"
      ]
     },
     "execution_count": 41,
     "metadata": {},
     "output_type": "execute_result"
    }
   ],
   "source": [
    "register()(f3)"
   ]
  },
  {
   "cell_type": "code",
   "execution_count": 42,
   "id": "55266322",
   "metadata": {},
   "outputs": [
    {
     "data": {
      "text/plain": [
       "{<function __main__.f2()>, <function __main__.f3()>}"
      ]
     },
     "execution_count": 42,
     "metadata": {},
     "output_type": "execute_result"
    }
   ],
   "source": [
    "registry"
   ]
  },
  {
   "cell_type": "code",
   "execution_count": 43,
   "id": "8aa0ef9f",
   "metadata": {},
   "outputs": [
    {
     "name": "stdout",
     "output_type": "stream",
     "text": [
      "running register(active=False)->decorate(<function f2 at 0x7fd8da7b6700>)\n"
     ]
    },
    {
     "data": {
      "text/plain": [
       "<function __main__.f2()>"
      ]
     },
     "execution_count": 43,
     "metadata": {},
     "output_type": "execute_result"
    }
   ],
   "source": [
    "register(active=False)(f2)"
   ]
  },
  {
   "cell_type": "code",
   "execution_count": 44,
   "id": "c1fc83b2",
   "metadata": {},
   "outputs": [
    {
     "data": {
      "text/plain": [
       "{<function __main__.f3()>}"
      ]
     },
     "execution_count": 44,
     "metadata": {},
     "output_type": "execute_result"
    }
   ],
   "source": [
    "registry"
   ]
  },
  {
   "cell_type": "markdown",
   "id": "66b2bce3",
   "metadata": {},
   "source": [
    "## The Parametrized Clock Decorator"
   ]
  },
  {
   "cell_type": "code",
   "execution_count": 45,
   "id": "5cdb1191",
   "metadata": {},
   "outputs": [],
   "source": [
    "DEFAULT_FMT = '[{elapsed:0.8f}s] {name}({args}) -> {result}'\n",
    "\n",
    "def clock(fmt=DEFAULT_FMT):\n",
    "    def decorate(func):\n",
    "        def clocked(*_args):\n",
    "            t0 = time.perf_counter()\n",
    "            _result = func(*_args)\n",
    "            elapsed = time.perf_counter() - t0\n",
    "            name = func.__name__\n",
    "            args = ', '.join(repr(arg) for arg in _args)\n",
    "            result = repr(_result)\n",
    "            print(fmt.format(**locals()))\n",
    "            return _result\n",
    "        return clocked\n",
    "    return decorate"
   ]
  },
  {
   "cell_type": "code",
   "execution_count": 46,
   "id": "782c3a91",
   "metadata": {},
   "outputs": [
    {
     "name": "stdout",
     "output_type": "stream",
     "text": [
      "[0.12326960s] snooze(0.123) -> None\n",
      "[0.12323237s] snooze(0.123) -> None\n",
      "[0.12309761s] snooze(0.123) -> None\n"
     ]
    }
   ],
   "source": [
    "@clock()\n",
    "def snooze(seconds):\n",
    "    time.sleep(seconds)\n",
    "    \n",
    "for i in range(3):\n",
    "    snooze(.123)"
   ]
  },
  {
   "cell_type": "code",
   "execution_count": 47,
   "id": "725a31e5",
   "metadata": {},
   "outputs": [
    {
     "name": "stdout",
     "output_type": "stream",
     "text": [
      "snooze: 0.1233012571465224s\n",
      "snooze: 0.12323595490306616s\n",
      "snooze: 0.12309592799283564s\n"
     ]
    }
   ],
   "source": [
    "@clock('{name}: {elapsed}s')\n",
    "def snooze(seconds):\n",
    "    time.sleep(seconds)\n",
    "\n",
    "for i in range(3):\n",
    "    snooze(.123)"
   ]
  },
  {
   "cell_type": "code",
   "execution_count": 48,
   "id": "4f20ba8b",
   "metadata": {},
   "outputs": [
    {
     "name": "stdout",
     "output_type": "stream",
     "text": [
      "snooze(0.123) dt=0.123s\n",
      "snooze(0.123) dt=0.123s\n",
      "snooze(0.123) dt=0.123s\n"
     ]
    }
   ],
   "source": [
    "@clock('{name}({args}) dt={elapsed:0.3f}s')\n",
    "def snooze(seconds):\n",
    "    time.sleep(seconds)\n",
    "\n",
    "for i in range(3):\n",
    "    snooze(.123)"
   ]
  },
  {
   "cell_type": "markdown",
   "id": "b539bb6f",
   "metadata": {},
   "source": [
    "### A Class-Based Clock Decorator\n",
    "\n",
    "As a final example, a new example lists the implementation of a parameterized clock decorator implemented as a class with `__call__`.\n"
   ]
  },
  {
   "cell_type": "code",
   "execution_count": 49,
   "id": "6803c8b2",
   "metadata": {},
   "outputs": [],
   "source": [
    "DEFAULT_FMT = '[{elapsed:0.8f}s] {name}({args}) -> {result}'\n",
    "\n",
    "class clock:\n",
    "    \n",
    "    def __init__(self, fmt=DEFAULT_FMT):\n",
    "        self.fmt = fmt\n",
    "    \n",
    "    def __call__(self, func):\n",
    "        def clocked(*_args):\n",
    "            t0 = time.perf_counter()\n",
    "            _result = func(*_args)\n",
    "            elapsed = time.perf_counter() - t0\n",
    "            name = func.__name__\n",
    "            args = ', '.join(repr(arg) for arg in _args)\n",
    "            result = repr(_result)\n",
    "            print(self.fmt.format(**locals()))\n",
    "            return _result\n",
    "        return clocked"
   ]
  },
  {
   "cell_type": "code",
   "execution_count": 50,
   "id": "b205a2f6",
   "metadata": {},
   "outputs": [],
   "source": [
    "@clock\n",
    "def snooze(seconds):\n",
    "    time.sleep(seconds)\n",
    "\n",
    "for i in range(3):\n",
    "    snooze(.123)"
   ]
  }
 ],
 "metadata": {
  "kernelspec": {
   "display_name": "Python 3 (ipykernel)",
   "language": "python",
   "name": "python3"
  },
  "language_info": {
   "codemirror_mode": {
    "name": "ipython",
    "version": 3
   },
   "file_extension": ".py",
   "mimetype": "text/x-python",
   "name": "python",
   "nbconvert_exporter": "python",
   "pygments_lexer": "ipython3",
   "version": "3.11.6"
  }
 },
 "nbformat": 4,
 "nbformat_minor": 5
}
