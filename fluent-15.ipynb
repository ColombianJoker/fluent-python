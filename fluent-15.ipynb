{
 "cells": [
  {
   "cell_type": "markdown",
   "id": "25446931",
   "metadata": {},
   "source": [
    "# 15. More About Type Hints\n",
    "\n",
    "> I learned a painful lesson that for small programs, dynamic typing is great. For large programs you need a more disciplined approach. And it helps if the language gives you that discipline rather than telling you \"Well, you can do whatever you want\".\n",
    ">\n",
    ">> Guido Van Rossum"
   ]
  },
  {
   "cell_type": "markdown",
   "id": "8e5a4db9",
   "metadata": {},
   "source": [
    "## Overloaded Signatures\n",
    "\n",
    "Python functions may accept different combinations of arguments. The `@typing.overload` decorator allows annotating those different combiations. This is particularly important when the return type of the function depends on the type of two or more parameters.\n",
    "\n",
    "As mentioned before, the two leading undersecores in a parameter like `__iterable` are a PEP 484 convention for positional-only arguments that is enforced by Mypy. It meas you can call `sum(my_list)`, but not `sum(__iterable = my_list)`."
   ]
  },
  {
   "cell_type": "code",
   "execution_count": 1,
   "id": "611525e2",
   "metadata": {},
   "outputs": [],
   "source": [
    "import functools\n",
    "import operator\n",
    "from collections.abc import Iterable\n",
    "from typing import overload, Union, TypeVar\n",
    "\n",
    "T = TypeVar('T')\n",
    "S = TypeVar('S')\n",
    "\n",
    "@overload\n",
    "def sum(it: Iterable[T]) -> Union[T, int]: ...\n",
    "@overload\n",
    "def sum(it: Iterable[T], /, star: S) -> Union[T, S]: ...\n",
    "def sum(it, /, start=0):\n",
    "    return functools.reduce(operator.add, it, start)"
   ]
  },
  {
   "cell_type": "markdown",
   "id": "91e1708d",
   "metadata": {},
   "source": [
    "## Max Overload\n",
    "\n",
    "It is difficult to add type hints to functions that leverage the powerful dynamic features of Python."
   ]
  },
  {
   "cell_type": "code",
   "execution_count": 2,
   "id": "0e890fd4",
   "metadata": {},
   "outputs": [
    {
     "name": "stdout",
     "output_type": "stream",
     "text": [
      "max(1, 2, -3, key=abs)=-3\n"
     ]
    }
   ],
   "source": [
    "print(f\"{max(1, 2, -3, key=abs)=}\")"
   ]
  },
  {
   "cell_type": "code",
   "execution_count": 3,
   "id": "75ab41ad",
   "metadata": {},
   "outputs": [
    {
     "name": "stdout",
     "output_type": "stream",
     "text": [
      "max( ['Go', 'Python', 'Rust'] )='Rust'\n"
     ]
    }
   ],
   "source": [
    "print(f\"{max( ['Go', 'Python', 'Rust'] )=}\")"
   ]
  },
  {
   "cell_type": "code",
   "execution_count": 4,
   "id": "3a6bc7b5",
   "metadata": {},
   "outputs": [
    {
     "name": "stdout",
     "output_type": "stream",
     "text": [
      "max( [1, 2, -3], default=0)=2\n"
     ]
    }
   ],
   "source": [
    "print(f\"{max( [1, 2, -3], default=0)=}\")"
   ]
  },
  {
   "cell_type": "code",
   "execution_count": 6,
   "id": "fc80fe17",
   "metadata": {},
   "outputs": [
    {
     "name": "stdout",
     "output_type": "stream",
     "text": [
      "max( [], default=None)=None\n"
     ]
    }
   ],
   "source": [
    "print(f\"{max( [], default=None)=}\")"
   ]
  },
  {
   "cell_type": "code",
   "execution_count": 7,
   "id": "633e57ad",
   "metadata": {},
   "outputs": [
    {
     "name": "stdout",
     "output_type": "stream",
     "text": [
      "max( [1, 2, -3], key=abs, default=None)=-3\n"
     ]
    }
   ],
   "source": [
    "print(f\"{max( [1, 2, -3], key=abs, default=None)=}\")"
   ]
  },
  {
   "cell_type": "code",
   "execution_count": 8,
   "id": "a7213e80",
   "metadata": {},
   "outputs": [
    {
     "name": "stdout",
     "output_type": "stream",
     "text": [
      "max( [], key=abs, default=None)=None\n"
     ]
    }
   ],
   "source": [
    "print(f\"{max( [], key=abs, default=None)=}\")"
   ]
  },
  {
   "cell_type": "markdown",
   "id": "4ecc7175",
   "metadata": {},
   "source": [
    "### Takeaways from Overloading max\n",
    "\n",
    "Type hints allow Mypy to flag a call like `max([None, None])` with this error message:\n",
    "\n",
    "```text\n",
    "mymax_demo.py:109: error: Value of type variable \"_LT\" of \"max\" cannot be \"None\"\n",
    "```\n",
    "\n",
    "On the other hand, having to write so many lines to support the type checker may discourage people from writing convenient and flexible functions like `max`."
   ]
  },
  {
   "cell_type": "markdown",
   "id": "8d1697c8",
   "metadata": {},
   "source": [
    "## TypedDict\n",
    "\n",
    "Python dictionaries are sometimes used as records, with the keys used as field names and field values of different types.\n",
    "\n",
    "```python\n",
    "from typing import TypedDict\n",
    "\n",
    "class BookDict(TypedDict):\n",
    "    isbn: str\n",
    "    title: str\n",
    "    authors: list[str]\n",
    "    pagecount: int\n",
    "```\n",
    "\n",
    "At first glance, `typing.TypedDict` may seem like a data class builder, similar to `typing.NamedTuple`.\n",
    "\n",
    "The syntactic similarity is misleading. `TypedDict` is very different. It exists only for the benefit of type checkers, and has no runtime effect."
   ]
  },
  {
   "cell_type": "code",
   "execution_count": 9,
   "id": "2e0a52b4",
   "metadata": {},
   "outputs": [
    {
     "data": {
      "text/plain": [
       "{'title': 'Programming Pearls',\n",
       " 'authors': 'Jon Bentley',\n",
       " 'isbn': '0201657880',\n",
       " 'pagecount': 256}"
      ]
     },
     "execution_count": 9,
     "metadata": {},
     "output_type": "execute_result"
    }
   ],
   "source": [
    "from typing import TypedDict\n",
    "\n",
    "class BookDict(TypedDict):\n",
    "    isbn: str\n",
    "    title: str\n",
    "    authors: list[str]\n",
    "    pagecount: int\n",
    "\n",
    "pp = BookDict(title='Programming Pearls',\n",
    "              authors='Jon Bentley',\n",
    "              isbn='0201657880',\n",
    "              pagecount=256,)\n",
    "pp"
   ]
  },
  {
   "cell_type": "code",
   "execution_count": 10,
   "id": "bb9c24b9",
   "metadata": {},
   "outputs": [
    {
     "data": {
      "text/plain": [
       "dict"
      ]
     },
     "execution_count": 10,
     "metadata": {},
     "output_type": "execute_result"
    }
   ],
   "source": [
    "type(pp)"
   ]
  },
  {
   "cell_type": "code",
   "execution_count": 12,
   "id": "7ac98929",
   "metadata": {},
   "outputs": [
    {
     "name": "stderr",
     "output_type": "stream",
     "text": [
      "e=AttributeError(\"'dict' object has no attribute 'title'\")\n"
     ]
    }
   ],
   "source": [
    "import sys\n",
    "\n",
    "try:\n",
    "    print(f\"{pp.title=}\")\n",
    "except Exception as e: print(f\"{e=}\", file=sys.stderr)"
   ]
  },
  {
   "cell_type": "code",
   "execution_count": 13,
   "id": "41e61d15",
   "metadata": {},
   "outputs": [
    {
     "data": {
      "text/plain": [
       "'Programming Pearls'"
      ]
     },
     "execution_count": 13,
     "metadata": {},
     "output_type": "execute_result"
    }
   ],
   "source": [
    "pp['title']"
   ]
  },
  {
   "cell_type": "code",
   "execution_count": 14,
   "id": "8e40ed94",
   "metadata": {},
   "outputs": [
    {
     "data": {
      "text/plain": [
       "{'isbn': str, 'title': str, 'authors': list[str], 'pagecount': int}"
      ]
     },
     "execution_count": 14,
     "metadata": {},
     "output_type": "execute_result"
    }
   ],
   "source": [
    "BookDict.__annotations__"
   ]
  },
  {
   "cell_type": "code",
   "execution_count": 15,
   "id": "245e344b",
   "metadata": {},
   "outputs": [],
   "source": [
    "from typing import TYPE_CHECKING\n",
    "\n",
    "def demo() -> None:\n",
    "    book = BookDict(\n",
    "        isbn = '0134757599',\n",
    "        title = 'Refactoring, 2e',\n",
    "        authors = ['Martin Fowler', 'Kent Beck', ],\n",
    "        pagecount = 478,\n",
    "    )\n",
    "    authors = book['authors']\n",
    "    if TYPE_CHECKING:\n",
    "        reveal_type(authors)\n",
    "    authors = 'Bob'\n",
    "    book['weight'] = 4.2\n",
    "    del book['title']\n",
    "\n",
    "demo()"
   ]
  },
  {
   "cell_type": "markdown",
   "id": "6707ffb6",
   "metadata": {},
   "source": [
    "## Type Casting\n",
    "\n",
    "No type system is perfect, and neither are the static type checkers, the type hints in the _typeshed_ project, or the type hints in the third-party packages that have them.\n",
    "\n",
    "The `typing.cast()` special function provides one way to handle type checking malfunctions or incorrect type hints in code we can’t fix. \n",
    "\n",
    "At runtime, `typing.cast` does absolutely nothing. This is its implementation:\n",
    "\n",
    "```python\n",
    "\n",
    "def cast(typ, val):\n",
    "    \"\"\"Cast a value to a type.\n",
    "    This returns the value unchanged. To the type checker this\n",
    "    signals that the return value has the designated type, but at \n",
    "    runtime we intentionally don't check anything (we want this \n",
    "    to be as fast as possible).\n",
    "    \"\"\"\n",
    "    return val\n",
    "```\n",
    "\n",
    "PEP 484 requires type checkers to “blindly believe” the type stated in the `cast`."
   ]
  },
  {
   "cell_type": "markdown",
   "id": "e7efc3ee",
   "metadata": {},
   "source": [
    "## Reading Type Hints at Runtime\n",
    "\n",
    "At import time, Python reads the type hints in functions, classes, and modules, and stores them in attributes named `__annotations__`. For instance, consider the `clip` function:\n",
    "\n",
    "```python\n",
    "def clip(text: str, max_len: int = 80) -> str:\n",
    "```\n",
    "\n",
    "The type hints are stored as a dict in the `__annotations__` attribute of the function:\n",
    "\n",
    "```python\n",
    ">>> from clip_annot import clip\n",
    ">>> clip.__annotations__\n",
    "{'text': <class 'str'>, 'max_len': <class 'int'>, 'return': <class 'str'>}\n",
    "```\n",
    "\n",
    "The `'return'` key maps to the return type hint after the `->` symbol."
   ]
  },
  {
   "cell_type": "markdown",
   "id": "abdf5eac",
   "metadata": {},
   "source": [
    "### Problems with Annotations at Runtime\n",
    "\n",
    "The increased use of type hints raised two problems:\n",
    "+ Importing modules uses more CPU and memory when many type hints are used.\n",
    "+ Referring to types not yet defined requires using strings instead of actual types.\n",
    "\n",
    "Both issues are relevant. The first is because of what we just saw: annotations are evaluated by the interpreter at import time and stored in the `__annotations__` attribute. Let’s focus now on the second issue."
   ]
  },
  {
   "cell_type": "markdown",
   "id": "98f144df",
   "metadata": {},
   "source": [
    "## Implementing a Generic Class\n",
    "\n",
    "Before, we defined the `Tombola` ABC: an interface for classes that work like a bingo cage. Also before, The `LottoBlower` class is a concrete implementation."
   ]
  },
  {
   "cell_type": "markdown",
   "id": "011e06f4",
   "metadata": {},
   "source": [
    "```python\n",
    "from generic_lotto import LottoBlower\n",
    "\n",
    "machine = LottoBlower[int]( range(1, 11) )\n",
    "\n",
    "first = machine.pick()\n",
    "remain = machine.inspect()\n",
    "```"
   ]
  },
  {
   "cell_type": "code",
   "execution_count": null,
   "id": "818b98f2",
   "metadata": {},
   "outputs": [],
   "source": [
    "import random\n",
    "from collections.abc import Iterable\n",
    "from typing import TypeVar, Generic\n",
    "\n",
    "from tombola import Tombola\n",
    "\n",
    "T = TypeVar('T')\n",
    "\n",
    "class LottoBlower(Tombola, Generic[T]):\n",
    "\n",
    "    def __init__(self, items: Iterable[T]) -> None:\n",
    "        self._balls = list[T](items)\n",
    "\n",
    "    def load(self, items: Iterable[T]) -> None:\n",
    "        self._balls.extend(items)\n",
    "\n",
    "    def pick(self) -> T:\n",
    "        try:\n",
    "            position = random.randrange(len(self._balls))\n",
    "        except ValueError:\n",
    "            raise LookupError('pick from empty LottoBlower')\n",
    "        return self._balls.pop(position)\n",
    "    \n",
    "    def loaded(self) -> bool:\n",
    "        return bool(self._balls)\n",
    "    \n",
    "    def inspect(self) -> tuple[T, ...]:\n",
    "        return tuple(self._balls)"
   ]
  },
  {
   "cell_type": "markdown",
   "id": "8ac23823",
   "metadata": {},
   "source": [
    "### Basic Jargon for Generic Types\n",
    "\n",
    "Here are a few definitions that I found useful when studying generics:\n",
    "\n",
    "_Generic type_\n",
    "\n",
    "    A type declared with one or more type variables.\n",
    "    Examples: `LottoBlower[T]`, `abc.Mapping[KT, VT]`\n",
    "\n",
    "_Formal type parameter_\n",
    "\n",
    "    The type variables that appear in a generic type declaration.\n",
    "    Example: `KT` and `VT` in the previous example `abc.Mapping[KT, VT]`"
   ]
  },
  {
   "cell_type": "markdown",
   "id": "b229b78d",
   "metadata": {},
   "source": []
  }
 ],
 "metadata": {
  "kernelspec": {
   "display_name": "Python 3 (ipykernel)",
   "language": "python",
   "name": "python3"
  }
 },
 "nbformat": 4,
 "nbformat_minor": 5
}
