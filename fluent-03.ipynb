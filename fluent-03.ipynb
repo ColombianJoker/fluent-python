{
 "cells": [
  {
   "cell_type": "markdown",
   "id": "f1d61195",
   "metadata": {},
   "source": [
    "# Dictionaries and Sets"
   ]
  },
  {
   "cell_type": "markdown",
   "id": "422e5214",
   "metadata": {},
   "source": [
    "## Modern dict Syntax"
   ]
  },
  {
   "cell_type": "markdown",
   "id": "c1e4cda4",
   "metadata": {},
   "source": [
    "### dict Comprehensions"
   ]
  },
  {
   "cell_type": "code",
   "execution_count": 1,
   "id": "f0c83747",
   "metadata": {},
   "outputs": [
    {
     "data": {
      "text/plain": [
       "{'Bangladesh': 880,\n",
       " 'Brazil': 55,\n",
       " 'Colombia': 57,\n",
       " 'China': 86,\n",
       " 'India': 91,\n",
       " 'Indonesia': 62,\n",
       " 'Japan': 81,\n",
       " 'Nigeria': 234,\n",
       " 'Pakistan': 92,\n",
       " 'Russia': 7,\n",
       " 'United States': 1}"
      ]
     },
     "execution_count": 1,
     "metadata": {},
     "output_type": "execute_result"
    }
   ],
   "source": [
    "dial_codes = [\n",
    "    (880, 'Bangladesh'),\n",
    "    (55, 'Brazil'),\n",
    "    (57, 'Colombia'),\n",
    "    (86, 'China'),\n",
    "    (91, 'India'),\n",
    "    (62, 'Indonesia'),\n",
    "    (81, 'Japan'),\n",
    "    (234, 'Nigeria'),\n",
    "    (92, 'Pakistan'),\n",
    "    (7, 'Russia'),\n",
    "    (1, 'United States'),\n",
    "]\n",
    "\n",
    "country_dial = {country: code for code, country in dial_codes}\n",
    "country_dial"
   ]
  },
  {
   "cell_type": "code",
   "execution_count": 2,
   "id": "0ef5b24e",
   "metadata": {},
   "outputs": [
    {
     "data": {
      "text/plain": [
       "{55: 'BRAZIL',\n",
       " 57: 'COLOMBIA',\n",
       " 62: 'INDONESIA',\n",
       " 7: 'RUSSIA',\n",
       " 1: 'UNITED STATES'}"
      ]
     },
     "execution_count": 2,
     "metadata": {},
     "output_type": "execute_result"
    }
   ],
   "source": [
    "{code: country.upper()\n",
    " for country, code in sorted(country_dial.items())\n",
    "    if code<70\n",
    " }"
   ]
  },
  {
   "cell_type": "markdown",
   "id": "d80d67d5",
   "metadata": {},
   "source": [
    "### Unpacking Mappings"
   ]
  },
  {
   "cell_type": "code",
   "execution_count": 3,
   "id": "74e42d70",
   "metadata": {},
   "outputs": [],
   "source": [
    "def dump(**kwargs):\n",
    "    return kwargs"
   ]
  },
  {
   "cell_type": "code",
   "execution_count": 4,
   "id": "880f71d2",
   "metadata": {},
   "outputs": [
    {
     "data": {
      "text/plain": [
       "{'x': 1, 'y': 2, 'z': 3}"
      ]
     },
     "execution_count": 4,
     "metadata": {},
     "output_type": "execute_result"
    }
   ],
   "source": [
    "dump( **{'x':1}, y=2, **{'z':3} )"
   ]
  },
  {
   "cell_type": "code",
   "execution_count": 5,
   "id": "124380bd",
   "metadata": {},
   "outputs": [
    {
     "data": {
      "text/plain": [
       "{'a': 0, 'x': 4, 'y': 2, 'z': 3}"
      ]
     },
     "execution_count": 5,
     "metadata": {},
     "output_type": "execute_result"
    }
   ],
   "source": [
    "{'a': 0, **{'x': 1}, 'y': 2, **{'z': 3, 'x': 4}}"
   ]
  },
  {
   "cell_type": "markdown",
   "id": "06f0b717",
   "metadata": {},
   "source": [
    "### Merging Mappings with |"
   ]
  },
  {
   "cell_type": "code",
   "execution_count": 6,
   "id": "8a2d916b",
   "metadata": {},
   "outputs": [
    {
     "data": {
      "text/plain": [
       "{'a': 2, 'b': 4, 'c': 6}"
      ]
     },
     "execution_count": 6,
     "metadata": {},
     "output_type": "execute_result"
    }
   ],
   "source": [
    "d1 = {'a': 1, 'b': 3}\n",
    "d2 = {'a': 2, 'b': 4, 'c': 6}\n",
    "d1 | d2 # union"
   ]
  },
  {
   "cell_type": "code",
   "execution_count": 7,
   "id": "ad18d00b",
   "metadata": {},
   "outputs": [
    {
     "data": {
      "text/plain": [
       "{'a': 1, 'b': 3}"
      ]
     },
     "execution_count": 7,
     "metadata": {},
     "output_type": "execute_result"
    }
   ],
   "source": [
    "d1"
   ]
  },
  {
   "cell_type": "code",
   "execution_count": 8,
   "id": "638a32bc",
   "metadata": {},
   "outputs": [
    {
     "data": {
      "text/plain": [
       "{'a': 2, 'b': 4, 'c': 6}"
      ]
     },
     "execution_count": 8,
     "metadata": {},
     "output_type": "execute_result"
    }
   ],
   "source": [
    "d1 |= d2 # d1 <- d1∪d2\n",
    "d1"
   ]
  },
  {
   "cell_type": "markdown",
   "id": "cc1fb02d",
   "metadata": {},
   "source": [
    "## Pattern Matching with Mappings"
   ]
  },
  {
   "cell_type": "code",
   "execution_count": 9,
   "id": "8a40330c",
   "metadata": {},
   "outputs": [],
   "source": [
    "def get_creators(record: dict) -> list:\n",
    "    match record:\n",
    "        case {'type':'book', 'api':2, 'authors':[*names]}:\n",
    "            return names\n",
    "        case {'type':'book', 'api':1, 'author':name}:\n",
    "            return [name]\n",
    "        case {'type':'book'}:\n",
    "            raise ValueError(f\"Invalid 'book' record: {record!r}\")\n",
    "        case {'type':'movie', 'director':name}:\n",
    "            return [name]\n",
    "        case _:\n",
    "            raise ValueError(f'Invalid record: {record!r}')"
   ]
  },
  {
   "cell_type": "code",
   "execution_count": 10,
   "id": "8f405b3d",
   "metadata": {},
   "outputs": [
    {
     "data": {
      "text/plain": [
       "['Douglas Hofstadter']"
      ]
     },
     "execution_count": 10,
     "metadata": {},
     "output_type": "execute_result"
    }
   ],
   "source": [
    "b1 = dict(api=1, author='Douglas Hofstadter', type='book', title='Gödel, Escher, Bach')\n",
    "get_creators( b1 )"
   ]
  },
  {
   "cell_type": "code",
   "execution_count": 11,
   "id": "a9c52f5b",
   "metadata": {},
   "outputs": [
    {
     "data": {
      "text/plain": [
       "['Martelli', 'Ravenscroft', 'Holden']"
      ]
     },
     "execution_count": 11,
     "metadata": {},
     "output_type": "execute_result"
    }
   ],
   "source": [
    "from collections import OrderedDict\n",
    "b2 = OrderedDict(api=2, type='book',\n",
    "                 title='Python in a Nutshell',\n",
    "                 authors='Martelli Ravenscroft Holden'.split(),\n",
    "                 )\n",
    "get_creators(b2)"
   ]
  },
  {
   "cell_type": "code",
   "execution_count": 12,
   "id": "73afd80e",
   "metadata": {},
   "outputs": [
    {
     "name": "stdout",
     "output_type": "stream",
     "text": [
      "e=ValueError(\"Invalid 'book' record: {'type': 'book', 'pages': 770}\")\n"
     ]
    }
   ],
   "source": [
    "try:\n",
    "    get_creators({'type': 'book', 'pages': 770})\n",
    "except Exception as e:\n",
    "    print(f\"{e=}\")"
   ]
  },
  {
   "cell_type": "code",
   "execution_count": 13,
   "id": "4f8f04eb",
   "metadata": {},
   "outputs": [
    {
     "name": "stdout",
     "output_type": "stream",
     "text": [
      "e=ValueError(\"Invalid record: 'Spam, spam, spam'\")\n"
     ]
    }
   ],
   "source": [
    "try:\n",
    "    get_creators('Spam, spam, spam')\n",
    "except Exception as e:\n",
    "    print(f\"{e=}\")"
   ]
  },
  {
   "cell_type": "code",
   "execution_count": 14,
   "id": "40b8eebe",
   "metadata": {},
   "outputs": [
    {
     "name": "stdout",
     "output_type": "stream",
     "text": [
      "Ice cream details: {'flavor': 'vanilla', 'cost': 199}\n"
     ]
    }
   ],
   "source": [
    "food = dict(category='ice cream', flavor='vanilla', cost=199)\n",
    "match food:\n",
    "    case {'category': 'ice cream', **details}:\n",
    "        print(f'Ice cream details: {details}')"
   ]
  },
  {
   "cell_type": "markdown",
   "id": "0222112e",
   "metadata": {},
   "source": [
    "## Standard API of Mapping Types"
   ]
  },
  {
   "cell_type": "code",
   "execution_count": 15,
   "id": "b973aa72",
   "metadata": {},
   "outputs": [],
   "source": [
    "from collections import abc"
   ]
  },
  {
   "cell_type": "code",
   "execution_count": 16,
   "id": "a0d9032c",
   "metadata": {},
   "outputs": [
    {
     "data": {
      "text/plain": [
       "True"
      ]
     },
     "execution_count": 16,
     "metadata": {},
     "output_type": "execute_result"
    }
   ],
   "source": [
    "my_dict = {}\n",
    "isinstance(my_dict, abc.Mapping)"
   ]
  },
  {
   "cell_type": "code",
   "execution_count": 17,
   "id": "20f15919",
   "metadata": {},
   "outputs": [
    {
     "data": {
      "text/plain": [
       "True"
      ]
     },
     "execution_count": 17,
     "metadata": {},
     "output_type": "execute_result"
    }
   ],
   "source": [
    "isinstance(my_dict, abc.MutableMapping)"
   ]
  },
  {
   "cell_type": "code",
   "execution_count": 18,
   "id": "df16943e",
   "metadata": {},
   "outputs": [
    {
     "name": "stdout",
     "output_type": "stream",
     "text": [
      "-3907003130834322577\n"
     ]
    }
   ],
   "source": [
    "try:\n",
    "    tt = (1, 2, (30, 40))\n",
    "    print(hash(tt))\n",
    "except Exception as e:\n",
    "    print(f\"{e=}\")"
   ]
  },
  {
   "cell_type": "code",
   "execution_count": 19,
   "id": "d29542e0",
   "metadata": {},
   "outputs": [
    {
     "name": "stdout",
     "output_type": "stream",
     "text": [
      "-3907003130834322577\n"
     ]
    }
   ],
   "source": [
    "try:\n",
    "    tl = (1, 2, [30, 40])\n",
    "    print(hash(tt))\n",
    "except Exception as e:\n",
    "    print(f\"{e=}\")"
   ]
  },
  {
   "cell_type": "code",
   "execution_count": 20,
   "id": "18ab4f03",
   "metadata": {},
   "outputs": [
    {
     "name": "stdout",
     "output_type": "stream",
     "text": [
      "5149391500123939311\n"
     ]
    }
   ],
   "source": [
    "try:\n",
    "    tfz = (1, 2, frozenset([30, 40]))\n",
    "    print(hash(tfz))\n",
    "except Exception as e:\n",
    "    print(f\"{e=}\")"
   ]
  },
  {
   "cell_type": "markdown",
   "id": "eae47623",
   "metadata": {},
   "source": [
    "### Overview of Commong Mapping Methods\n",
    "\n",
    "The way `d.update(m)` handles its first argument `m` is a prime example of _duck typing_: it first checks whether `m` has a keys method and, if it does, assumes it is a mapping. Otherwise, `update()` falls back to iterating over `m`, assuming its items are `(key, value)` pairs. The constructor for most Python mappings uses the logic of `update()` internally, which means they can be initialized from other mappings or from any iterable object producing `(key, value)` pairs.\n",
    "\n",
    "A subtle mapping method is `setdefault()`. It avoids redundant key lookups when we need to update the value of an item in place. The next section shows how to use it."
   ]
  },
  {
   "cell_type": "markdown",
   "id": "b890bafe",
   "metadata": {},
   "source": [
    "### Inserting or Updating Mutable Values"
   ]
  },
  {
   "cell_type": "markdown",
   "id": "ed390b69",
   "metadata": {},
   "source": [
    "## Automatic Handling of Missing Keys"
   ]
  },
  {
   "cell_type": "markdown",
   "id": "9ff172cf",
   "metadata": {},
   "source": [
    "### `defaultdict`: Another Take on Missing Keys"
   ]
  },
  {
   "cell_type": "code",
   "execution_count": 27,
   "id": "02b767e5",
   "metadata": {},
   "outputs": [
    {
     "name": "stderr",
     "output_type": "stream",
     "text": [
      "sys.argv=['/opt/conda/lib/python3.11/site-packages/ipykernel_launcher.py', '-f', '/home/jovyan/.local/share/jupyter/runtime/kernel-d2609c84-8179-44d2-8f72-f78d560ad2ac.json']\n"
     ]
    }
   ],
   "source": [
    "\"\"\"Build and index mapping word->list of occurrences\"\"\"\n",
    "import collections\n",
    "import re\n",
    "import sys\n",
    "\n",
    "WORD_RE = re.compile(r'\\w+')\n",
    "\n",
    "index = collections.defaultdict(list)\n",
    "print(f\"{sys.argv=}\", file=sys.stderr)\n",
    "\n",
    "# if len(sys.argv)>1:\n",
    "#   with open(sys.argv[1], encoding='utf-8') as fp:\n",
    "#       for line_no, line in enumerate(fp, 1):\n",
    "#           for match in WORD_RE.finditer(line):\n",
    "#               word = match.group()\n",
    "#               column_no = match.start+1\n",
    "#               location = (line_no, column_no)\n",
    "#               index[word].append(location)\n",
    "            \n",
    "#   # display in alphabetical order\n",
    "#   for word in sorted(index, key=str.upper):\n",
    "#       print(word, index[word])\n",
    "# else:\n",
    "#   print(f\"No arguments given, exiting...\", file=sys.stderr)"
   ]
  },
  {
   "cell_type": "markdown",
   "id": "97a0d167",
   "metadata": {},
   "source": [
    "### The `___missing___` Method"
   ]
  },
  {
   "cell_type": "code",
   "execution_count": 28,
   "id": "aff04bb4",
   "metadata": {},
   "outputs": [],
   "source": [
    "class StrKeyDict0(dict):\n",
    "    def __missing__(self, key):\n",
    "        if isinstance(key, str):\n",
    "            raise KeyError(key)\n",
    "        return self[str(key)]\n",
    "    \n",
    "    def get(self, key, default=None):\n",
    "        try:\n",
    "            return self[key]\n",
    "        except KeyError:\n",
    "            return default\n",
    "        \n",
    "    def __contains__(self, key):\n",
    "        return key in self.keys() or str(key) in self.keys()"
   ]
  },
  {
   "cell_type": "code",
   "execution_count": 29,
   "id": "872d4fd7",
   "metadata": {},
   "outputs": [
    {
     "data": {
      "text/plain": [
       "{'2': 'two', '4': 'four'}"
      ]
     },
     "execution_count": 29,
     "metadata": {},
     "output_type": "execute_result"
    }
   ],
   "source": [
    "d = StrKeyDict0( [('2', 'two'), ('4', 'four')] )\n",
    "d"
   ]
  },
  {
   "cell_type": "code",
   "execution_count": 37,
   "id": "c9a88220",
   "metadata": {},
   "outputs": [
    {
     "name": "stdout",
     "output_type": "stream",
     "text": [
      "d['2']='two'\n"
     ]
    }
   ],
   "source": [
    "try:\n",
    "    print(f\"{d['2']=}\")\n",
    "except KeyError as e:\n",
    "    print(f\"{e=}\")"
   ]
  },
  {
   "cell_type": "code",
   "execution_count": 35,
   "id": "3a4febc4",
   "metadata": {},
   "outputs": [
    {
     "name": "stdout",
     "output_type": "stream",
     "text": [
      "d[4]='four'\n"
     ]
    }
   ],
   "source": [
    "try:\n",
    "    print(f\"{d[4]=}\")\n",
    "except KeyError as e:\n",
    "    print(f\"{e=}\")"
   ]
  },
  {
   "cell_type": "code",
   "execution_count": 36,
   "id": "4798e56a",
   "metadata": {},
   "outputs": [
    {
     "name": "stdout",
     "output_type": "stream",
     "text": [
      "e=KeyError('1')\n"
     ]
    }
   ],
   "source": [
    "try:\n",
    "    print(f\"{d[1]=}\")\n",
    "except KeyError as e:\n",
    "    print(f\"{e=}\")"
   ]
  },
  {
   "cell_type": "code",
   "execution_count": 38,
   "id": "a07588ef",
   "metadata": {},
   "outputs": [
    {
     "name": "stdout",
     "output_type": "stream",
     "text": [
      "d.get('2')='two'\n"
     ]
    }
   ],
   "source": [
    "try:\n",
    "    print(f\"{d.get('2')=}\")\n",
    "except KeyError as e:\n",
    "    print(f\"{e=}\")"
   ]
  },
  {
   "cell_type": "code",
   "execution_count": 39,
   "id": "4198aabc",
   "metadata": {},
   "outputs": [
    {
     "name": "stdout",
     "output_type": "stream",
     "text": [
      "d.get(4)='four'\n"
     ]
    }
   ],
   "source": [
    "try:\n",
    "    print(f\"{d.get(4)=}\")\n",
    "except KeyError as e:\n",
    "    print(f\"{e=}\")"
   ]
  },
  {
   "cell_type": "code",
   "execution_count": 40,
   "id": "778f33c9",
   "metadata": {},
   "outputs": [
    {
     "name": "stdout",
     "output_type": "stream",
     "text": [
      "d.get(1, 'N/A')='N/A'\n"
     ]
    }
   ],
   "source": [
    "try:\n",
    "    print(f\"{d.get(1, 'N/A')=}\")\n",
    "except KeyError as e:\n",
    "    print(f\"{e=}\")"
   ]
  },
  {
   "cell_type": "code",
   "execution_count": 41,
   "id": "eca03406",
   "metadata": {},
   "outputs": [
    {
     "data": {
      "text/plain": [
       "True"
      ]
     },
     "execution_count": 41,
     "metadata": {},
     "output_type": "execute_result"
    }
   ],
   "source": [
    "2 in d"
   ]
  },
  {
   "cell_type": "code",
   "execution_count": 42,
   "id": "3ce51c9b",
   "metadata": {},
   "outputs": [
    {
     "data": {
      "text/plain": [
       "False"
      ]
     },
     "execution_count": 42,
     "metadata": {},
     "output_type": "execute_result"
    }
   ],
   "source": [
    "1 in d"
   ]
  },
  {
   "cell_type": "code",
   "execution_count": 43,
   "id": "3bc268d6",
   "metadata": {},
   "outputs": [
    {
     "data": {
      "text/plain": [
       "True"
      ]
     },
     "execution_count": 43,
     "metadata": {},
     "output_type": "execute_result"
    }
   ],
   "source": [
    "'4' in d"
   ]
  },
  {
   "cell_type": "markdown",
   "id": "478b2d7b",
   "metadata": {},
   "source": [
    "## Variations of dict"
   ]
  },
  {
   "cell_type": "markdown",
   "id": "b75f3e78",
   "metadata": {},
   "source": [
    "### collections.OrderedDict\n",
    "\n",
    "Now that the built-in dict also keeps the keys ordered since Python 3.6, the most common reason to use `OrderedDict` is writing code that is backward compatible with earlier Python versions. "
   ]
  },
  {
   "cell_type": "markdown",
   "id": "44384fe2",
   "metadata": {},
   "source": [
    "### collections.ChainMap\n",
    "\n",
    "A `ChainMap` instance holds a list of mappings that can be searched as one. The lookup is performed on each input mapping in the order it appears in the constructor call, and succeeds as soon as the key is found in one of those mappings. "
   ]
  },
  {
   "cell_type": "code",
   "execution_count": 44,
   "id": "86761471",
   "metadata": {},
   "outputs": [
    {
     "data": {
      "text/plain": [
       "1"
      ]
     },
     "execution_count": 44,
     "metadata": {},
     "output_type": "execute_result"
    }
   ],
   "source": [
    "d1 = dict(a=1, b=3)\n",
    "d2 = dict(a=2, b=4, c=6)\n",
    "\n",
    "from collections import ChainMap\n",
    "chain = ChainMap(d1, d2)\n",
    "chain['a']"
   ]
  },
  {
   "cell_type": "code",
   "execution_count": 45,
   "id": "5532a107",
   "metadata": {},
   "outputs": [
    {
     "data": {
      "text/plain": [
       "6"
      ]
     },
     "execution_count": 45,
     "metadata": {},
     "output_type": "execute_result"
    }
   ],
   "source": [
    "chain['c']"
   ]
  },
  {
   "cell_type": "markdown",
   "id": "4d253bfa",
   "metadata": {},
   "source": [
    "The `ChainMap` instance does not copy the input mappings, but holds references to them. Updates or insertions to a ChainMap only affect the first input mapping."
   ]
  },
  {
   "cell_type": "code",
   "execution_count": 46,
   "id": "b1d8df6d",
   "metadata": {},
   "outputs": [
    {
     "data": {
      "text/plain": [
       "{'a': 1, 'b': 3, 'c': -1}"
      ]
     },
     "execution_count": 46,
     "metadata": {},
     "output_type": "execute_result"
    }
   ],
   "source": [
    "chain['c'] = -1\n",
    "d1"
   ]
  },
  {
   "cell_type": "code",
   "execution_count": 47,
   "id": "77e5e90e",
   "metadata": {},
   "outputs": [
    {
     "data": {
      "text/plain": [
       "{'a': 2, 'b': 4, 'c': 6}"
      ]
     },
     "execution_count": 47,
     "metadata": {},
     "output_type": "execute_result"
    }
   ],
   "source": [
    "d2"
   ]
  },
  {
   "cell_type": "markdown",
   "id": "0ea83f91",
   "metadata": {},
   "source": [
    "### collections.Counter\n",
    "\n",
    "A mapping that holds an integer count for each key. Updating an existing key adds to its count. This can be used to count instances of hashable objects or as a multiset (dis‐ cussed later in this section). `Counter` implements the `+` and `- `operators to combine tallies, and other useful methods such as `most_common([n])`, which returns an ordered list of tuples with the n most common items and their counts"
   ]
  },
  {
   "cell_type": "code",
   "execution_count": 48,
   "id": "2a3fe9e6",
   "metadata": {},
   "outputs": [
    {
     "data": {
      "text/plain": [
       "Counter({'a': 5, 'b': 2, 'r': 2, 'c': 1, 'd': 1})"
      ]
     },
     "execution_count": 48,
     "metadata": {},
     "output_type": "execute_result"
    }
   ],
   "source": [
    "ct = collections.Counter('abracadabra')\n",
    "ct"
   ]
  },
  {
   "cell_type": "code",
   "execution_count": 49,
   "id": "1c290ef0",
   "metadata": {},
   "outputs": [
    {
     "data": {
      "text/plain": [
       "Counter({'a': 10, 'z': 3, 'b': 2, 'r': 2, 'c': 1, 'd': 1})"
      ]
     },
     "execution_count": 49,
     "metadata": {},
     "output_type": "execute_result"
    }
   ],
   "source": [
    "ct.update('aaaaazzz')\n",
    "ct"
   ]
  },
  {
   "cell_type": "code",
   "execution_count": 50,
   "id": "5056eb12",
   "metadata": {},
   "outputs": [
    {
     "data": {
      "text/plain": [
       "[('a', 10), ('z', 3), ('b', 2)]"
      ]
     },
     "execution_count": 50,
     "metadata": {},
     "output_type": "execute_result"
    }
   ],
   "source": [
    "ct.most_common(3)"
   ]
  },
  {
   "cell_type": "markdown",
   "id": "7286d01f",
   "metadata": {},
   "source": [
    "### shelve.Shelf\n",
    "\n",
    "The `shelve` module in the standard library provides persistent storage for a mapping of string keys to Python objects serialized in the `pickle` binary format. The curious name of shelve makes sense when you realize that pickle jars are stored on shelves."
   ]
  },
  {
   "cell_type": "markdown",
   "id": "6c79c82c",
   "metadata": {},
   "source": [
    "### Subclassing UserDict instead of dict\n",
    "\n",
    "It’s better to create a new mapping type by extending `collections.UserDict` rather than dict. We realize that when we try to extend our `StrKeyDict0` from the example before to make sure that any keys added to the mapping are stored as `str`."
   ]
  },
  {
   "cell_type": "code",
   "execution_count": 52,
   "id": "c463a72a",
   "metadata": {},
   "outputs": [],
   "source": [
    "import collections\n",
    "\n",
    "class StrKeyDict(collections.UserDict):\n",
    "    \n",
    "    def __missing__(self, key):\n",
    "        if isinstance(key, str):\n",
    "            raise KeyError(key)\n",
    "        return self[str(key)]\n",
    "    \n",
    "    def __contains__(self, key):\n",
    "        return str(key) in self.data\n",
    "    \n",
    "    def __setitem__(self, key, item):\n",
    "        self.data[str(key)] = item"
   ]
  },
  {
   "cell_type": "markdown",
   "id": "dbbf1467",
   "metadata": {},
   "source": [
    "## Immutable Mappings\n",
    "\n",
    "The mapping types provided by the standard library are all mutable, but you may need to prevent users from changing a mapping by accident."
   ]
  },
  {
   "cell_type": "code",
   "execution_count": 59,
   "id": "144f0f43",
   "metadata": {},
   "outputs": [
    {
     "data": {
      "text/plain": [
       "mappingproxy({1: 'A'})"
      ]
     },
     "execution_count": 59,
     "metadata": {},
     "output_type": "execute_result"
    }
   ],
   "source": [
    "from types import MappingProxyType\n",
    "\n",
    "d = {1:'A'}\n",
    "d_proxy = MappingProxyType(d)\n",
    "d_proxy"
   ]
  },
  {
   "cell_type": "code",
   "execution_count": 60,
   "id": "f8fd4bf2",
   "metadata": {},
   "outputs": [
    {
     "name": "stdout",
     "output_type": "stream",
     "text": [
      "d_proxy[1]='A'\n"
     ]
    }
   ],
   "source": [
    "try:\n",
    "    print(f\"{d_proxy[1]=}\")\n",
    "except TypeError as e:\n",
    "    print(f\"{e=}\")"
   ]
  },
  {
   "cell_type": "code",
   "execution_count": 61,
   "id": "d03d1cdc",
   "metadata": {},
   "outputs": [
    {
     "name": "stdout",
     "output_type": "stream",
     "text": [
      "e=TypeError(\"'mappingproxy' object does not support item assignment\")\n"
     ]
    }
   ],
   "source": [
    "try:\n",
    "    d_proxy[2] = 'x'\n",
    "    print(f\"{d_proxy[2]=}\")\n",
    "except TypeError as e:\n",
    "    print(f\"{e=}\")"
   ]
  },
  {
   "cell_type": "code",
   "execution_count": 62,
   "id": "39c081f9",
   "metadata": {},
   "outputs": [
    {
     "name": "stdout",
     "output_type": "stream",
     "text": [
      "d_proxy=mappingproxy({1: 'A', 2: 'B'})\n"
     ]
    }
   ],
   "source": [
    "try:\n",
    "    d[2] = 'B'\n",
    "    print(f\"{d_proxy=}\")\n",
    "except TypeError as e:\n",
    "    print(f\"{e=}\")"
   ]
  },
  {
   "cell_type": "code",
   "execution_count": 63,
   "id": "0611060b",
   "metadata": {},
   "outputs": [
    {
     "name": "stdout",
     "output_type": "stream",
     "text": [
      "d_proxy[2]='B'\n"
     ]
    }
   ],
   "source": [
    "try:\n",
    "    print(f\"{d_proxy[2]=}\")\n",
    "except TypeError as e:\n",
    "    print(f\"{e=}\")"
   ]
  },
  {
   "cell_type": "markdown",
   "id": "9d891fc8",
   "metadata": {},
   "source": [
    "## Dictionary Views\n",
    "\n",
    "The dict instance methods `.keys()`, `.values()`, and `.items()` return instances of classes called `dict_keys`, `dict_values`, and `dict_items`, respectively. These dictionary views are read-only projections of the internal data structures used in the `dict` implementation. They avoid the memory overhead of the equivalent Python 2 methods that returned lists duplicating data already in the target `dict`, and they also replace the old methods that returned iterators."
   ]
  },
  {
   "cell_type": "code",
   "execution_count": 64,
   "id": "e549eec0",
   "metadata": {},
   "outputs": [
    {
     "data": {
      "text/plain": [
       "dict_values([10, 20, 30])"
      ]
     },
     "execution_count": 64,
     "metadata": {},
     "output_type": "execute_result"
    }
   ],
   "source": [
    "d = dict(a=10, b=20, c=30)\n",
    "values = d.values()\n",
    "values"
   ]
  },
  {
   "cell_type": "code",
   "execution_count": 65,
   "id": "36207b18",
   "metadata": {},
   "outputs": [
    {
     "data": {
      "text/plain": [
       "3"
      ]
     },
     "execution_count": 65,
     "metadata": {},
     "output_type": "execute_result"
    }
   ],
   "source": [
    "len(values)"
   ]
  },
  {
   "cell_type": "code",
   "execution_count": 66,
   "id": "14315137",
   "metadata": {},
   "outputs": [
    {
     "data": {
      "text/plain": [
       "[10, 20, 30]"
      ]
     },
     "execution_count": 66,
     "metadata": {},
     "output_type": "execute_result"
    }
   ],
   "source": [
    "list(values)"
   ]
  },
  {
   "cell_type": "code",
   "execution_count": 67,
   "id": "184d58ae",
   "metadata": {},
   "outputs": [
    {
     "data": {
      "text/plain": [
       "<dict_reversevalueiterator at 0x7f3f19bd44a0>"
      ]
     },
     "execution_count": 67,
     "metadata": {},
     "output_type": "execute_result"
    }
   ],
   "source": [
    "reversed(values)"
   ]
  },
  {
   "cell_type": "code",
   "execution_count": 69,
   "id": "c52e2cdc",
   "metadata": {},
   "outputs": [
    {
     "name": "stdout",
     "output_type": "stream",
     "text": [
      "e=TypeError(\"'dict_values' object is not subscriptable\")\n"
     ]
    }
   ],
   "source": [
    "try:\n",
    "    values[0]\n",
    "except Exception as e:\n",
    "    print(f\"{e=}\")"
   ]
  },
  {
   "cell_type": "code",
   "execution_count": 70,
   "id": "036b8ccb",
   "metadata": {},
   "outputs": [
    {
     "data": {
      "text/plain": [
       "{'a': 10, 'b': 20, 'c': 30, 'z': 99}"
      ]
     },
     "execution_count": 70,
     "metadata": {},
     "output_type": "execute_result"
    }
   ],
   "source": [
    "d['z'] = 99\n",
    "d"
   ]
  },
  {
   "cell_type": "code",
   "execution_count": 71,
   "id": "c40470a4",
   "metadata": {},
   "outputs": [
    {
     "data": {
      "text/plain": [
       "dict_values([10, 20, 30, 99])"
      ]
     },
     "execution_count": 71,
     "metadata": {},
     "output_type": "execute_result"
    }
   ],
   "source": [
    "values"
   ]
  },
  {
   "cell_type": "code",
   "execution_count": 73,
   "id": "23ebf12e",
   "metadata": {},
   "outputs": [
    {
     "name": "stdout",
     "output_type": "stream",
     "text": [
      "e=TypeError(\"cannot create 'dict_values' instances\")\n"
     ]
    }
   ],
   "source": [
    "try:\n",
    "    values_class = type( {}.values() )\n",
    "    v = values_class()\n",
    "except Exception as e:\n",
    "    print(f\"{e=}\")"
   ]
  },
  {
   "cell_type": "markdown",
   "id": "06a68857",
   "metadata": {},
   "source": [
    "## Set Theory\n",
    "\n",
    "A set is a collection of unique objects. A basic use case is removing duplication"
   ]
  },
  {
   "cell_type": "code",
   "execution_count": 74,
   "id": "705da4c5",
   "metadata": {},
   "outputs": [
    {
     "data": {
      "text/plain": [
       "{'bacon', 'eggs', 'spam'}"
      ]
     },
     "execution_count": 74,
     "metadata": {},
     "output_type": "execute_result"
    }
   ],
   "source": [
    "l = ['spam', 'spam', 'eggs', 'spam', 'bacon', 'eggs']\n",
    "set(l)"
   ]
  },
  {
   "cell_type": "code",
   "execution_count": 75,
   "id": "9d34bdb2",
   "metadata": {},
   "outputs": [
    {
     "data": {
      "text/plain": [
       "['spam', 'bacon', 'eggs']"
      ]
     },
     "execution_count": 75,
     "metadata": {},
     "output_type": "execute_result"
    }
   ],
   "source": [
    "list(set(l))"
   ]
  },
  {
   "cell_type": "code",
   "execution_count": 76,
   "id": "d804dea9",
   "metadata": {},
   "outputs": [
    {
     "data": {
      "text/plain": [
       "dict_keys(['spam', 'eggs', 'bacon'])"
      ]
     },
     "execution_count": 76,
     "metadata": {},
     "output_type": "execute_result"
    }
   ],
   "source": [
    "dict.fromkeys(l).keys()"
   ]
  },
  {
   "cell_type": "code",
   "execution_count": 77,
   "id": "fc692bbe",
   "metadata": {},
   "outputs": [
    {
     "data": {
      "text/plain": [
       "['spam', 'eggs', 'bacon']"
      ]
     },
     "execution_count": 77,
     "metadata": {},
     "output_type": "execute_result"
    }
   ],
   "source": [
    "list( dict.fromkeys(l).keys() )"
   ]
  },
  {
   "cell_type": "markdown",
   "id": "d23c28ba",
   "metadata": {},
   "source": [
    "Set elements must be hashable. The `set` type is not hashable, so you can’t build a `set` with nested `set` instances. But `frozenset` is hashable, so you can have frozenset elements inside a `set`."
   ]
  },
  {
   "cell_type": "markdown",
   "id": "509e8b9b",
   "metadata": {},
   "source": [
    "### Set Literals\n",
    "\n",
    "The syntax of `set` literals —`{1}`, `{1, 2}`, etc— looks exactly like the math notation, with one important exception: there's no literal notation for the empty `set`, so we must remember to write `set()`."
   ]
  },
  {
   "cell_type": "code",
   "execution_count": 78,
   "id": "ce068ef1",
   "metadata": {},
   "outputs": [
    {
     "data": {
      "text/plain": [
       "set"
      ]
     },
     "execution_count": 78,
     "metadata": {},
     "output_type": "execute_result"
    }
   ],
   "source": [
    "s = {1}\n",
    "type(s)"
   ]
  },
  {
   "cell_type": "code",
   "execution_count": 79,
   "id": "29ef6727",
   "metadata": {},
   "outputs": [
    {
     "data": {
      "text/plain": [
       "{1}"
      ]
     },
     "execution_count": 79,
     "metadata": {},
     "output_type": "execute_result"
    }
   ],
   "source": [
    "s"
   ]
  },
  {
   "cell_type": "code",
   "execution_count": 80,
   "id": "971bf5f6",
   "metadata": {},
   "outputs": [
    {
     "data": {
      "text/plain": [
       "1"
      ]
     },
     "execution_count": 80,
     "metadata": {},
     "output_type": "execute_result"
    }
   ],
   "source": [
    "s.pop()"
   ]
  },
  {
   "cell_type": "code",
   "execution_count": 81,
   "id": "50d3677a",
   "metadata": {},
   "outputs": [
    {
     "data": {
      "text/plain": [
       "set()"
      ]
     },
     "execution_count": 81,
     "metadata": {},
     "output_type": "execute_result"
    }
   ],
   "source": [
    "s"
   ]
  },
  {
   "cell_type": "code",
   "execution_count": 82,
   "id": "b1bacf2b",
   "metadata": {},
   "outputs": [
    {
     "data": {
      "text/plain": [
       "frozenset({0, 1, 2, 3, 4, 5, 6, 7, 8, 9})"
      ]
     },
     "execution_count": 82,
     "metadata": {},
     "output_type": "execute_result"
    }
   ],
   "source": [
    "frozenset( range(10) )"
   ]
  },
  {
   "cell_type": "markdown",
   "id": "d0939783",
   "metadata": {},
   "source": [
    "### Set Comprehensions"
   ]
  },
  {
   "cell_type": "code",
   "execution_count": 83,
   "id": "ae05c9a3",
   "metadata": {},
   "outputs": [
    {
     "data": {
      "text/plain": [
       "{'#',\n",
       " '$',\n",
       " '%',\n",
       " '+',\n",
       " '<',\n",
       " '=',\n",
       " '>',\n",
       " '¢',\n",
       " '£',\n",
       " '¤',\n",
       " '¥',\n",
       " '§',\n",
       " '©',\n",
       " '¬',\n",
       " '®',\n",
       " '°',\n",
       " '±',\n",
       " 'µ',\n",
       " '¶',\n",
       " '×',\n",
       " '÷'}"
      ]
     },
     "execution_count": 83,
     "metadata": {},
     "output_type": "execute_result"
    }
   ],
   "source": [
    "from unicodedata import name\n",
    "\n",
    "{chr(i) for i in range(32, 256) if 'SIGN' in name(chr(i), '')}"
   ]
  },
  {
   "cell_type": "markdown",
   "id": "63a2929c",
   "metadata": {},
   "source": [
    "### Practical Consequences of How Sets Work\n",
    "\n",
    "The `set` and `frozenset` types are both implemented with a hash table"
   ]
  },
  {
   "cell_type": "code",
   "execution_count": 86,
   "id": "79fe126d",
   "metadata": {},
   "outputs": [
    {
     "name": "stdout",
     "output_type": "stream",
     "text": [
      "s1={0, 1, 2, 3, 4, 5, 6, 7, 8, 9}\n",
      "len(s1)=10\n"
     ]
    }
   ],
   "source": [
    "s1 = {i for i in range(0,10)}\n",
    "print(f\"{s1=}\\n{len(s1)=}\")"
   ]
  },
  {
   "cell_type": "code",
   "execution_count": 87,
   "id": "1f2d28c5",
   "metadata": {},
   "outputs": [
    {
     "name": "stdout",
     "output_type": "stream",
     "text": [
      "s2={5, 6, 7, 8, 9, 10, 11, 12, 13, 14}\n",
      "len(s2)=10\n"
     ]
    }
   ],
   "source": [
    "s2 = {j for j in range(5,15)}\n",
    "print(f\"{s2=}\\n{len(s2)=}\")"
   ]
  },
  {
   "cell_type": "code",
   "execution_count": 88,
   "id": "26490e39",
   "metadata": {},
   "outputs": [
    {
     "name": "stdout",
     "output_type": "stream",
     "text": [
      "s1^s2={0, 1, 2, 3, 4, 10, 11, 12, 13, 14}\n",
      "len(s1^s2)=10\n"
     ]
    }
   ],
   "source": [
    "print(f\"{s1^s2=}\\n{len(s1^s2)=}\")"
   ]
  },
  {
   "cell_type": "code",
   "execution_count": 89,
   "id": "c6ea135d",
   "metadata": {},
   "outputs": [
    {
     "name": "stdout",
     "output_type": "stream",
     "text": [
      "s1.pop()=0\n"
     ]
    }
   ],
   "source": [
    "print(f\"{s1.pop()=}\")"
   ]
  },
  {
   "cell_type": "code",
   "execution_count": 90,
   "id": "5b46c50c",
   "metadata": {},
   "outputs": [
    {
     "name": "stdout",
     "output_type": "stream",
     "text": [
      "s1={1, 2, 3, 4, 5, 6, 7, 8, 9}\n",
      "len(s1)=9\n"
     ]
    }
   ],
   "source": [
    "print(f\"{s1=}\\n{len(s1)=}\")"
   ]
  },
  {
   "cell_type": "code",
   "execution_count": 91,
   "id": "c6ac34f3",
   "metadata": {},
   "outputs": [
    {
     "data": {
      "text/plain": [
       "{'b', 'd'}"
      ]
     },
     "execution_count": 91,
     "metadata": {},
     "output_type": "execute_result"
    }
   ],
   "source": [
    "d1 = dict(a=1, b=2, c=3, d=4)\n",
    "d2 = dict(b=20, d=40, e=50)\n",
    "d1.keys() & d2.keys()"
   ]
  },
  {
   "cell_type": "code",
   "execution_count": 92,
   "id": "719519ce",
   "metadata": {},
   "outputs": [
    {
     "data": {
      "text/plain": [
       "{'a'}"
      ]
     },
     "execution_count": 92,
     "metadata": {},
     "output_type": "execute_result"
    }
   ],
   "source": [
    "s = {'a', 'e', 'i'}\n",
    "d1.keys() & s"
   ]
  },
  {
   "cell_type": "code",
   "execution_count": 93,
   "id": "5389df26",
   "metadata": {},
   "outputs": [
    {
     "data": {
      "text/plain": [
       "{'a', 'b', 'c', 'd', 'e', 'i'}"
      ]
     },
     "execution_count": 93,
     "metadata": {},
     "output_type": "execute_result"
    }
   ],
   "source": [
    "d1.keys() | s"
   ]
  },
  {
   "cell_type": "code",
   "execution_count": null,
   "id": "7716e6d6",
   "metadata": {},
   "outputs": [],
   "source": []
  }
 ],
 "metadata": {
  "kernelspec": {
   "display_name": "Python 3 (ipykernel)",
   "language": "python",
   "name": "python3"
  },
  "language_info": {
   "codemirror_mode": {
    "name": "ipython",
    "version": 3
   },
   "file_extension": ".py",
   "mimetype": "text/x-python",
   "name": "python",
   "nbconvert_exporter": "python",
   "pygments_lexer": "ipython3",
   "version": "3.11.6"
  }
 },
 "nbformat": 4,
 "nbformat_minor": 5
}
