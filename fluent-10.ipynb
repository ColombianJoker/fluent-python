{
 "cells": [
  {
   "cell_type": "markdown",
   "id": "8915f8f4",
   "metadata": {},
   "source": [
    "# 10. Design Patterns with First-Class Functions"
   ]
  },
  {
   "cell_type": "code",
   "execution_count": 30,
   "id": "56027a1e",
   "metadata": {},
   "outputs": [],
   "source": [
    "from abc import ABC, abstractmethod \n",
    "from collections.abc import Sequence \n",
    "from decimal import Decimal\n",
    "from typing import NamedTuple, Optional"
   ]
  },
  {
   "cell_type": "code",
   "execution_count": 31,
   "id": "6fcdbaaa",
   "metadata": {},
   "outputs": [],
   "source": [
    "from dis import disco\n",
    "\n",
    "\n",
    "class Customer(NamedTuple):\n",
    "    name: str\n",
    "    fidelity: int\n",
    "\n",
    "class LineItem(NamedTuple):\n",
    "    product: str\n",
    "    quantity: int\n",
    "    price: Decimal\n",
    "\n",
    "    def total(self) -> Decimal:\n",
    "        return self.price * self.quantity\n",
    "\n",
    "class Order(NamedTuple): # the Context\n",
    "    customer: Customer\n",
    "    cart: Sequence[LineItem]\n",
    "    promotion: Optional['Promotion'] = None\n",
    "\n",
    "    def total(self) -> Decimal:\n",
    "        totals = (item.total() for item in self.cart)\n",
    "        return sum(totals, start=Decimal(0))\n",
    "    \n",
    "    def due(self) -> Decimal:\n",
    "        if self.promotion is None:\n",
    "            discount = Decimal(0)\n",
    "        else:\n",
    "            discount = self.promotion.discount(self)\n",
    "        return self.total() - discount\n",
    "    \n",
    "    def __repr__(self):\n",
    "        return f'<Order total: {self.total():.2f} due: {self.due():.2f}>'\n",
    "    \n",
    "class Promotion(ABC): # the Strategy: an abstract base class\n",
    "    @abstractmethod\n",
    "    def discount(self, order: Order) -> Decimal:\n",
    "        \"\"\"Return discount as a positive dollar amount\"\"\"\n",
    "\n",
    "class FidelityPromo(Promotion): # first concrete strategy\n",
    "    \"\"\"5% discount for customer with 1000 o more fidelity points\"\"\"\n",
    "\n",
    "    def discount(self, order: Order) -> Decimal:\n",
    "        rate = Decimal('0.05')\n",
    "        if order.customer.fidelity >= 1000:\n",
    "            return order.total() * rate\n",
    "        return Decimal(0)\n",
    "\n",
    "class BulkItemPromo(Promotion): # second concrete stategy\n",
    "    \"\"\"10% discount for each LineItem with 20 or more units\"\"\"\n",
    "\n",
    "    def discount(self, order: Order) -> Decimal:\n",
    "        discount = Decimal(0)\n",
    "        for item in order.cart:\n",
    "            if item.quantity >= 20:\n",
    "                discount += item.total() * Decimal('0.10')\n",
    "        return discount\n",
    "    \n",
    "class LargeOrderPromo(Promotion): # third concrete strategy\n",
    "    \"\"\"7% discount for orders with 10 or more distinc items\"\"\"\n",
    "\n",
    "    def discount(self, order: Order) -> Decimal:\n",
    "        distinct_items = {item.product for item in order.cart}\n",
    "        if len(distinct_items) >= 10:\n",
    "            return order.total() * Decimal('0.07')\n",
    "        return Decimal(0)"
   ]
  },
  {
   "cell_type": "code",
   "execution_count": 32,
   "id": "eb3d8fa6",
   "metadata": {},
   "outputs": [],
   "source": [
    "joe = Customer('John Doe', 0)\n",
    "ann = Customer('Ann Smith', 1100)"
   ]
  },
  {
   "cell_type": "code",
   "execution_count": 33,
   "id": "c035e871",
   "metadata": {},
   "outputs": [],
   "source": [
    "cart = (\n",
    "    LineItem('banana', 4, Decimal('0.5')),\n",
    "    LineItem('apple', 10, Decimal('1.5')),\n",
    "    LineItem('watermelon', 5, Decimal(5))\n",
    "        )"
   ]
  },
  {
   "cell_type": "code",
   "execution_count": 34,
   "id": "35b6eda7",
   "metadata": {},
   "outputs": [
    {
     "data": {
      "text/plain": [
       "<Order total: 42.00 due: 42.00>"
      ]
     },
     "execution_count": 34,
     "metadata": {},
     "output_type": "execute_result"
    }
   ],
   "source": [
    "Order(joe, cart, FidelityPromo())"
   ]
  },
  {
   "cell_type": "code",
   "execution_count": 35,
   "id": "8487a03b",
   "metadata": {},
   "outputs": [
    {
     "data": {
      "text/plain": [
       "<Order total: 42.00 due: 39.90>"
      ]
     },
     "execution_count": 35,
     "metadata": {},
     "output_type": "execute_result"
    }
   ],
   "source": [
    "Order(ann, cart, FidelityPromo())"
   ]
  },
  {
   "cell_type": "code",
   "execution_count": 36,
   "id": "b930fd67",
   "metadata": {},
   "outputs": [],
   "source": [
    "banana_cart = (\n",
    "    LineItem('banana', 30, Decimal('0.50')),\n",
    "    LineItem('apple', 10, Decimal('1.5'))\n",
    ")"
   ]
  },
  {
   "cell_type": "code",
   "execution_count": 37,
   "id": "de5c90dc",
   "metadata": {},
   "outputs": [
    {
     "data": {
      "text/plain": [
       "<Order total: 30.00 due: 28.50>"
      ]
     },
     "execution_count": 37,
     "metadata": {},
     "output_type": "execute_result"
    }
   ],
   "source": [
    "Order(joe, banana_cart, BulkItemPromo())"
   ]
  },
  {
   "cell_type": "code",
   "execution_count": 38,
   "id": "fcc6d313",
   "metadata": {},
   "outputs": [
    {
     "data": {
      "text/plain": [
       "<Order total: 10.00 due: 9.30>"
      ]
     },
     "execution_count": 38,
     "metadata": {},
     "output_type": "execute_result"
    }
   ],
   "source": [
    "long_cart = tuple(LineItem(str(sku), 1, Decimal(1))\n",
    "                  for sku in range(10)\n",
    "                  )\n",
    "Order(joe, long_cart, LargeOrderPromo())"
   ]
  },
  {
   "cell_type": "code",
   "execution_count": 39,
   "id": "73ff2e48",
   "metadata": {},
   "outputs": [
    {
     "data": {
      "text/plain": [
       "<Order total: 42.00 due: 42.00>"
      ]
     },
     "execution_count": 39,
     "metadata": {},
     "output_type": "execute_result"
    }
   ],
   "source": [
    "Order(joe, cart, LargeOrderPromo())"
   ]
  },
  {
   "cell_type": "markdown",
   "id": "1f20518b",
   "metadata": {},
   "source": [
    "## Function-Oriented Strategy\n",
    "\n",
    "Each concrete strategy in example before is a class with a single method, `discount`. Furthermore, the strategy instances have no state (no instance attributes). You could say they look a lot like plain functions, and you would be right. Refactoring in example next, replacing the concrete strategies with simple functions and removing the `Promo` abstract class. Only small adjustments are needed in the `Order` class."
   ]
  },
  {
   "cell_type": "code",
   "execution_count": 40,
   "id": "734ec5dd",
   "metadata": {},
   "outputs": [],
   "source": [
    "from collections.abc import Sequence\n",
    "from dataclasses import dataclass\n",
    "from decimal import Decimal\n",
    "from typing import Optional, Callable, NamedTuple"
   ]
  },
  {
   "cell_type": "code",
   "execution_count": 43,
   "id": "5f971d9c",
   "metadata": {},
   "outputs": [],
   "source": [
    "class Customer(NamedTuple):\n",
    "    name: str\n",
    "    fidelity: int\n",
    "\n",
    "class LineItem(NamedTuple): \n",
    "    product: str\n",
    "    quantity: int\n",
    "    price: Decimal\n",
    "\n",
    "    def total(self):\n",
    "        return self.price * self.quantity\n",
    "\n",
    "@dataclass(frozen=True) \n",
    "class Order: # the Context\n",
    "    customer: Customer\n",
    "    cart: Sequence[LineItem]\n",
    "    promotion: Optional[Callable[['Order'], Decimal]] = None\n",
    "\n",
    "    def total(self) -> Decimal:\n",
    "        totals = (item.total() for item in self.cart)\n",
    "        return sum(totals, start=Decimal(0))\n",
    "    \n",
    "    def due(self) -> Decimal:\n",
    "        if self.promotion is None:\n",
    "            discount = Decimal(0)\n",
    "        else:\n",
    "            discount = self.promotion(self)\n",
    "        return self.total() - discount\n",
    "\n",
    "    def __repr__(self):\n",
    "        return f'<Order total: {self.total():.2f} due: {self.due():.2f}>'\n",
    "    \n",
    "def fidelity_promo(order: Order) -> Decimal:\n",
    "    \"\"\"5% discount for customers with 1000 or more fidelity points\"\"\" \n",
    "    if order.customer.fidelity >= 1000:\n",
    "        return order.total() * Decimal('0.05')\n",
    "    return Decimal(0)\n",
    "\n",
    "def bulk_item_promo(order: Order) -> Decimal:\n",
    "    \"\"\"10% discount for each LineItem with 20 or more units\"\"\"\n",
    "    discount = Decimal(0)\n",
    "    for item in order.cart:\n",
    "        if item.quantity >= 20:\n",
    "            discount += item.total() * Decimal('0.10')\n",
    "    return discount\n",
    "\n",
    "def large_order_promo(order: Order) -> Decimal:\n",
    "    \"\"\"7% discount for orders with 10 or more distinct items\"\"\" \n",
    "    distinct_items = {item.product for item in order.cart}\n",
    "    if len(distinct_items) >= 10:\n",
    "        return order.total() * Decimal('0.07') \n",
    "    return Decimal(0)\n"
   ]
  },
  {
   "cell_type": "code",
   "execution_count": 45,
   "id": "427d19e1",
   "metadata": {},
   "outputs": [],
   "source": [
    "joe = Customer('John Doe', 0)\n",
    "ann = Customer('Ann Smith', 1100)\n",
    "cart = [\n",
    "    LineItem('banana', 4, Decimal('0.50')),\n",
    "    LineItem('apple', 10, Decimal('1.5')),\n",
    "    LineItem('watermelon', 5, Decimal(5)),\n",
    "]\n"
   ]
  },
  {
   "cell_type": "code",
   "execution_count": 46,
   "id": "d96ed3ab",
   "metadata": {},
   "outputs": [
    {
     "data": {
      "text/plain": [
       "<Order total: 42.00 due: 42.00>"
      ]
     },
     "execution_count": 46,
     "metadata": {},
     "output_type": "execute_result"
    }
   ],
   "source": [
    "Order(joe, cart, fidelity_promo)"
   ]
  },
  {
   "cell_type": "code",
   "execution_count": 48,
   "id": "eda0fe89",
   "metadata": {},
   "outputs": [
    {
     "data": {
      "text/plain": [
       "<Order total: 42.00 due: 39.90>"
      ]
     },
     "execution_count": 48,
     "metadata": {},
     "output_type": "execute_result"
    }
   ],
   "source": [
    "Order(ann, cart, fidelity_promo)"
   ]
  },
  {
   "cell_type": "code",
   "execution_count": 49,
   "id": "d844e209",
   "metadata": {},
   "outputs": [],
   "source": [
    "banana_cart = [\n",
    "    LineItem('banana', 30, Decimal('0.50')),\n",
    "    LineItem('apple', 10, Decimal('1.5')),\n",
    "]"
   ]
  },
  {
   "cell_type": "code",
   "execution_count": 50,
   "id": "5ae23f08",
   "metadata": {},
   "outputs": [
    {
     "data": {
      "text/plain": [
       "<Order total: 30.00 due: 28.50>"
      ]
     },
     "execution_count": 50,
     "metadata": {},
     "output_type": "execute_result"
    }
   ],
   "source": [
    "Order(joe, banana_cart, bulk_item_promo)"
   ]
  },
  {
   "cell_type": "code",
   "execution_count": 51,
   "id": "43f72451",
   "metadata": {},
   "outputs": [],
   "source": [
    "long_cart = [\n",
    "    LineItem(str(item_code), 1, Decimal(1))\n",
    "    for item_code in range(10)\n",
    "]"
   ]
  },
  {
   "cell_type": "code",
   "execution_count": 52,
   "id": "74f8d379",
   "metadata": {},
   "outputs": [
    {
     "data": {
      "text/plain": [
       "<Order total: 10.00 due: 9.30>"
      ]
     },
     "execution_count": 52,
     "metadata": {},
     "output_type": "execute_result"
    }
   ],
   "source": [
    "Order(joe, long_cart, large_order_promo)"
   ]
  },
  {
   "cell_type": "markdown",
   "id": "18ab4116",
   "metadata": {},
   "source": [
    "## Finding Strategies in a Module"
   ]
  },
  {
   "cell_type": "code",
   "execution_count": 53,
   "id": "4b76aea4",
   "metadata": {},
   "outputs": [],
   "source": [
    "from decimal import Decimal\n",
    "# from strategy import Order\n",
    "\n",
    "promos = [ promo for name, promo in globals().items()\n",
    "          if name.endswith('_promo') and name!='best_promo'\n",
    "          ]\n",
    "\n",
    "def best_promo(order: Order) -> Decimal:\n",
    "    \"\"\"Compute the best discount available\"\"\"\n",
    "    return max(promo(order) for promo in promos)\n"
   ]
  },
  {
   "cell_type": "markdown",
   "id": "b9cebd6f",
   "metadata": {},
   "source": [
    "## Decorator-Enhanced Strategy Patter"
   ]
  },
  {
   "cell_type": "code",
   "execution_count": 54,
   "id": "c29b0aff",
   "metadata": {},
   "outputs": [],
   "source": [
    "Promotion = Callable[[Order], Decimal]\n",
    "promos: list[Promotion] = []\n",
    "\n",
    "def promotion(promo: Promotion) -> Promotion: \n",
    "    promos.append(promo)\n",
    "    return promo\n",
    "\n",
    "def best_promo(order: Order) -> Decimal: \n",
    "    \"\"\"Compute the best discount available\"\"\" \n",
    "    return max(promo(order) for promo in promos)\n",
    "\n",
    "@promotion\n",
    "def fidelity(order: Order) -> Decimal:\n",
    "    \"\"\"5% discount for customers with 1000 or more fidelity points\"\"\" \n",
    "    if order.customer.fidelity >= 1000:\n",
    "        return order.total() * Decimal('0.05') \n",
    "    return Decimal(0)\n",
    "\n",
    "@promotion\n",
    "def bulk_item(order: Order) -> Decimal:\n",
    "    \"\"\"10% discount for each LineItem with 20 or more units\"\"\" \n",
    "    discount = Decimal(0)\n",
    "    for item in order.cart:\n",
    "        if item.quantity >= 20:\n",
    "            discount += item.total() * Decimal('0.1')\n",
    "    return discount\n",
    "\n",
    "@promotion\n",
    "def large_order(order: Order) -> Decimal:\n",
    "    \"\"\"7% discount for orders with 10 or more distinct items\"\"\" \n",
    "    distinct_items = {item.product for item in order.cart}\n",
    "    if len(distinct_items) >= 10:\n",
    "        return order.total() * Decimal('0.07') \n",
    "    return Decimal(0)"
   ]
  }
 ],
 "metadata": {
  "kernelspec": {
   "display_name": "Python 3 (ipykernel)",
   "language": "python",
   "name": "python3"
  },
  "language_info": {
   "codemirror_mode": {
    "name": "ipython",
    "version": 3
   },
   "file_extension": ".py",
   "mimetype": "text/x-python",
   "name": "python",
   "nbconvert_exporter": "python",
   "pygments_lexer": "ipython3",
   "version": "3.11.6"
  }
 },
 "nbformat": 4,
 "nbformat_minor": 5
}
